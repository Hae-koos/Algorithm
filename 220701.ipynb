{
 "cells": [
  {
   "cell_type": "code",
   "execution_count": 1,
   "metadata": {},
   "outputs": [],
   "source": [
    "import numpy as np\n",
    "import pandas as pd\n",
    "import random\n",
    "import time"
   ]
  },
  {
   "cell_type": "markdown",
   "metadata": {},
   "source": [
    "### Abstract"
   ]
  },
  {
   "cell_type": "markdown",
   "metadata": {},
   "source": [
    "##### 선택 정렬과 라이브러리 수행 시간 비교\n"
   ]
  },
  {
   "cell_type": "code",
   "execution_count": 10,
   "metadata": {},
   "outputs": [
    {
     "name": "stdout",
     "output_type": "stream",
     "text": [
      "[33, 83, 52, 6, 78, 38, 9, 72, 1, 97]\n",
      "[33, 83, 52, 6, 78, 38, 9, 72, 1, 97]\n",
      "i = 0 Change min_index = 2\n",
      "[33, 83, 52, 6, 78, 38, 9, 72, 1, 97]\n",
      "i = 0 Change min_index = 3\n",
      "[33, 83, 52, 6, 78, 38, 9, 72, 1, 97]\n",
      "[33, 83, 52, 6, 78, 38, 9, 72, 1, 97]\n",
      "[33, 83, 52, 6, 78, 38, 9, 72, 1, 97]\n",
      "[33, 83, 52, 6, 78, 38, 9, 72, 1, 97]\n",
      "[33, 83, 52, 6, 78, 38, 9, 72, 1, 97]\n",
      "i = 0 Change min_index = 8\n",
      "[33, 83, 52, 6, 78, 38, 9, 72, 1, 97]\n",
      "CHANGE [1, 83, 52, 6, 78, 38, 9, 72, 33, 97]\n",
      "[1, 83, 52, 6, 78, 38, 9, 72, 33, 97]\n",
      "i = 1 Change min_index = 2\n",
      "[1, 83, 52, 6, 78, 38, 9, 72, 33, 97]\n",
      "i = 1 Change min_index = 3\n",
      "[1, 83, 52, 6, 78, 38, 9, 72, 33, 97]\n",
      "[1, 83, 52, 6, 78, 38, 9, 72, 33, 97]\n",
      "[1, 83, 52, 6, 78, 38, 9, 72, 33, 97]\n",
      "[1, 83, 52, 6, 78, 38, 9, 72, 33, 97]\n",
      "[1, 83, 52, 6, 78, 38, 9, 72, 33, 97]\n",
      "[1, 83, 52, 6, 78, 38, 9, 72, 33, 97]\n",
      "CHANGE [1, 6, 52, 83, 78, 38, 9, 72, 33, 97]\n",
      "[1, 6, 52, 83, 78, 38, 9, 72, 33, 97]\n",
      "[1, 6, 52, 83, 78, 38, 9, 72, 33, 97]\n",
      "[1, 6, 52, 83, 78, 38, 9, 72, 33, 97]\n",
      "[1, 6, 52, 83, 78, 38, 9, 72, 33, 97]\n",
      "[1, 6, 52, 83, 78, 38, 9, 72, 33, 97]\n",
      "[1, 6, 52, 83, 78, 38, 9, 72, 33, 97]\n",
      "[1, 6, 52, 83, 78, 38, 9, 72, 33, 97]\n",
      "CHANGE [1, 52, 6, 83, 78, 38, 9, 72, 33, 97]\n",
      "[1, 52, 6, 83, 78, 38, 9, 72, 33, 97]\n",
      "[1, 52, 6, 83, 78, 38, 9, 72, 33, 97]\n",
      "i = 3 Change min_index = 5\n",
      "[1, 52, 6, 83, 78, 38, 9, 72, 33, 97]\n",
      "i = 3 Change min_index = 6\n",
      "[1, 52, 6, 83, 78, 38, 9, 72, 33, 97]\n",
      "[1, 52, 6, 83, 78, 38, 9, 72, 33, 97]\n",
      "[1, 52, 6, 83, 78, 38, 9, 72, 33, 97]\n",
      "CHANGE [1, 52, 6, 9, 78, 38, 83, 72, 33, 97]\n",
      "[1, 52, 6, 9, 78, 38, 83, 72, 33, 97]\n",
      "i = 4 Change min_index = 5\n",
      "[1, 52, 6, 9, 78, 38, 83, 72, 33, 97]\n",
      "[1, 52, 6, 9, 78, 38, 83, 72, 33, 97]\n",
      "[1, 52, 6, 9, 78, 38, 83, 72, 33, 97]\n",
      "i = 4 Change min_index = 8\n",
      "[1, 52, 6, 9, 78, 38, 83, 72, 33, 97]\n",
      "CHANGE [1, 52, 6, 9, 33, 38, 83, 72, 78, 97]\n",
      "[1, 52, 6, 9, 33, 38, 83, 72, 78, 97]\n",
      "[1, 52, 6, 9, 33, 38, 83, 72, 78, 97]\n",
      "[1, 52, 6, 9, 33, 38, 83, 72, 78, 97]\n",
      "[1, 52, 6, 9, 33, 38, 83, 72, 78, 97]\n",
      "CHANGE [1, 38, 6, 9, 33, 52, 83, 72, 78, 97]\n",
      "[1, 38, 6, 9, 33, 52, 83, 72, 78, 97]\n",
      "[1, 38, 6, 9, 33, 52, 83, 72, 78, 97]\n",
      "[1, 38, 6, 9, 33, 52, 83, 72, 78, 97]\n",
      "CHANGE [1, 83, 6, 9, 33, 52, 38, 72, 78, 97]\n",
      "[1, 83, 6, 9, 33, 52, 38, 72, 78, 97]\n",
      "i = 7 Change min_index = 8\n",
      "[1, 83, 6, 9, 33, 52, 38, 72, 78, 97]\n",
      "CHANGE [1, 83, 6, 9, 33, 52, 38, 78, 72, 97]\n",
      "[1, 83, 6, 9, 33, 52, 38, 78, 72, 97]\n",
      "CHANGE [1, 72, 6, 9, 33, 52, 38, 78, 83, 97]\n",
      "CHANGE [1, 97, 6, 9, 33, 52, 38, 78, 83, 72]\n",
      "선택 정렬 성능 측정: 0.00043964385986328125\n",
      "선택 정렬 성능 측정: 0.0008518695831298828\n"
     ]
    }
   ],
   "source": [
    "array = []\n",
    "for _ in range(10):\n",
    "    array.append(random.randint(1,100))\n",
    "\n",
    "start = time.time()\n",
    "\n",
    "for i in range(len(array)):\n",
    "    min_index = 1\n",
    "    for j in range(i+1, len(array)):\n",
    "        print(array)\n",
    "        if array[min_index] > array[j]:\n",
    "            min_index = j\n",
    "            print(\"i = {} Change min_index = {}\".format(i,min_index))\n",
    "    array[i], array[min_index] = array[min_index], array[i]\n",
    "    print(\"CHANGE\", array)\n",
    "\n",
    "end = time.time()\n",
    "print(\"선택 정렬 성능 측정:\", end - start)\n",
    "\n",
    "############################################################\n",
    "\n",
    "array = []\n",
    "for _ in range(10000):\n",
    "    array.append(random.randint(1,100))\n",
    "\n",
    "start = time.time()\n",
    "\n",
    "array.sort()\n",
    "\n",
    "end = time.time()\n",
    "print(\"선택 정렬 성능 측정:\", end - start)"
   ]
  },
  {
   "cell_type": "markdown",
   "metadata": {},
   "source": [
    "선택정렬, 삽입정렬 : 최악의 경우 O(N^2)  \n",
    "병합정렬 : 최악의 경우에도 O(NlogN)  \n",
    "계수정렬 : 경우에 따라서 O(N+K), 그 경우에 사용하는 것이 좋다"
   ]
  },
  {
   "cell_type": "markdown",
   "metadata": {},
   "source": [
    "### Greedy\n"
   ]
  },
  {
   "cell_type": "markdown",
   "metadata": {},
   "source": [
    "정렬 : 정렬 라이브러리  \n",
    "최단경로 : 플로이드 워셜 & 다익스트라 등 "
   ]
  },
  {
   "cell_type": "markdown",
   "metadata": {},
   "source": [
    "그리디 알고리즘은 기준에 따라 좋은 것을 선택하는 알고리즘  \n",
    "큰 순서대로 or 작은 순서대로 등 정렬 알고리즘과 함께 출제되는 경향"
   ]
  },
  {
   "cell_type": "markdown",
   "metadata": {},
   "source": [
    "##### 거스름돈"
   ]
  },
  {
   "cell_type": "markdown",
   "metadata": {},
   "source": [
    "- 화폐의 종류가 K개라고 할 때 시간복잡도 O(K)"
   ]
  },
  {
   "cell_type": "code",
   "execution_count": 11,
   "metadata": {},
   "outputs": [
    {
     "name": "stdout",
     "output_type": "stream",
     "text": [
      "6\n"
     ]
    }
   ],
   "source": [
    "N = int(input())\n",
    "coins = [500, 100, 50, 10]\n",
    "count = 0\n",
    "\n",
    "for c in coins:\n",
    "    count += N // c\n",
    "    N = N % c\n",
    "\n",
    "print(count)"
   ]
  },
  {
   "cell_type": "markdown",
   "metadata": {},
   "source": [
    "##### 큰 수의 법칙"
   ]
  },
  {
   "cell_type": "markdown",
   "metadata": {},
   "source": [
    "- N M K : N개의 배열에서 M개를 뽑는데 최대 K번 반복하여 더한 최댓값을 구하자."
   ]
  },
  {
   "cell_type": "code",
   "execution_count": 16,
   "metadata": {},
   "outputs": [
    {
     "name": "stdout",
     "output_type": "stream",
     "text": [
      "[2, 4, 4, 5, 6]\n",
      "46\n"
     ]
    }
   ],
   "source": [
    "N, M, K = map(int, input().split())\n",
    "data = list(map(int, input().split()))\n",
    "\n",
    "data = sorted(data)\n",
    "print(data)\n",
    "max1 = data[-1]\n",
    "max2 = data[-2]\n",
    "\n",
    "result = 0\n",
    "while True:\n",
    "    if M == 0 :\n",
    "        break\n",
    "    for _ in range(K):\n",
    "        if M == 0:\n",
    "            break\n",
    "        result += max1\n",
    "        M -= 1\n",
    "    result += max2\n",
    "    M -= 1\n",
    "\n",
    "print(result)\n"
   ]
  },
  {
   "cell_type": "code",
   "execution_count": 19,
   "metadata": {},
   "outputs": [
    {
     "name": "stdout",
     "output_type": "stream",
     "text": [
      "[2, 4, 4, 5, 6]\n",
      "46\n"
     ]
    }
   ],
   "source": [
    "N, M, K = map(int, input().split())\n",
    "data = list(map(int, input().split()))\n",
    "\n",
    "data = sorted(data)\n",
    "print(data)\n",
    "max1 = data[-1]\n",
    "max2 = data[-2]\n",
    "\n",
    "result = 0\n",
    "\n",
    "reps = M // (K+1)\n",
    "result += (max1*K + max2) * reps\n",
    "\n",
    "rest = M % (K+1)\n",
    "result += max1 * rest\n",
    "\n",
    "print(result)"
   ]
  },
  {
   "cell_type": "markdown",
   "metadata": {},
   "source": [
    "##### 숫자 카드 게임"
   ]
  },
  {
   "cell_type": "markdown",
   "metadata": {},
   "source": [
    "- N x M 행렬에서 결국 가장 큰 수를 뽑을텐데 행을 고르면 그 행에서 가장 작은 값만 고를 수 있음\n",
    "- 이를 전체적으로 고려하여 최종적으로 좋은 값\n",
    "3 3  \n",
    "3 1 2  \n",
    "4 1 4  \n",
    "2 2 2  \n",
    "- 위 상황이라면 마지막 행의 2가 나오겠지"
   ]
  },
  {
   "cell_type": "code",
   "execution_count": 22,
   "metadata": {},
   "outputs": [
    {
     "name": "stdout",
     "output_type": "stream",
     "text": [
      "3\n"
     ]
    }
   ],
   "source": [
    "N, M = map(int, input().split())\n",
    "\n",
    "result = []\n",
    "for i in range(N):\n",
    "    data = list(map(int, input().split()))\n",
    "    result.append(min(data))\n",
    "\n",
    "print(max(result))"
   ]
  },
  {
   "cell_type": "markdown",
   "metadata": {},
   "source": [
    "##### 1이 될 때까지"
   ]
  },
  {
   "cell_type": "markdown",
   "metadata": {},
   "source": [
    "- 어떠한 수가 1이 될 때까지 다음의 두 과정 중 하나를 반복적으로 선택하여 수행한다.\n",
    "1. N에서 1을 뺀다.\n",
    "2. N을 K로 나눈다. (나누어 떨어질 때만 가능)\n",
    "- N과 K가 주어질 때 N이 1이 될 때까지 최소 횟수 구하기"
   ]
  },
  {
   "cell_type": "code",
   "execution_count": 28,
   "metadata": {},
   "outputs": [],
   "source": [
    "def minus(x):\n",
    "    return x-1\n",
    "def divide(x, n):\n",
    "    return x // n\n",
    "\n",
    "N, K = map(int, input().split())\n",
    "\n",
    "result = 0\n",
    "while True:\n",
    "    if N == 1:\n",
    "        break\n",
    "    if N % K == 0:\n",
    "        result += 1\n",
    "        N = divide(N,K)\n",
    "    else:\n",
    "        N = minus(N)\n",
    "        result += 1\n",
    "\n",
    "print(result)\n"
   ]
  },
  {
   "cell_type": "markdown",
   "metadata": {},
   "source": [
    "##### 모험가 길드"
   ]
  },
  {
   "cell_type": "markdown",
   "metadata": {},
   "source": [
    "- 인원과 각 인원의 공포도가 주어진다.\n",
    "- 공포도가 x인 인원은 적어도 x명이 모여야 모험을 떠날 수 있다.\n",
    "- 모험을 떠날 수 있는 최대 그룹 수를 구하자."
   ]
  },
  {
   "cell_type": "code",
   "execution_count": 15,
   "metadata": {},
   "outputs": [
    {
     "name": "stdout",
     "output_type": "stream",
     "text": [
      "2\n"
     ]
    }
   ],
   "source": [
    "n = int(input())\n",
    "l = list(map(int, input().split()))\n",
    "\n",
    "l.sort()\n",
    "result = 0\n",
    "count = 0\n",
    "\n",
    "for x in l:\n",
    "    count += 1\n",
    "    if x <= count:\n",
    "        result += 1\n",
    "        count = 0\n",
    "\n",
    "print(result)\n"
   ]
  },
  {
   "cell_type": "markdown",
   "metadata": {},
   "source": [
    "##### 곱하기 혹은 더하기"
   ]
  },
  {
   "cell_type": "markdown",
   "metadata": {},
   "source": [
    "- 최대 20자리 수의 정수 하나가 주어진다.\n",
    "- 각 자리 수를 더하거나 곱해서 나오는 값을 최대로 만들어라\n",
    "- **무조건 곱하는 게 정도가 아니라는 점.. 생각을 좀 해라**"
   ]
  },
  {
   "cell_type": "code",
   "execution_count": 25,
   "metadata": {},
   "outputs": [
    {
     "name": "stdout",
     "output_type": "stream",
     "text": [
      "210\n"
     ]
    }
   ],
   "source": [
    "n = str(int(input()))\n",
    "result = 1\n",
    "for x in n:\n",
    "    if x == '0':\n",
    "        continue\n",
    "    result = result*int(x)\n",
    "print(result)"
   ]
  }
 ],
 "metadata": {
  "kernelspec": {
   "display_name": "Python 3.8.13 ('algorithm')",
   "language": "python",
   "name": "python3"
  },
  "language_info": {
   "codemirror_mode": {
    "name": "ipython",
    "version": 3
   },
   "file_extension": ".py",
   "mimetype": "text/x-python",
   "name": "python",
   "nbconvert_exporter": "python",
   "pygments_lexer": "ipython3",
   "version": "3.8.13"
  },
  "orig_nbformat": 4,
  "vscode": {
   "interpreter": {
    "hash": "ee431ac274e33366c10c3ac30cd4fb33ff3ed0dd6a8cc3f05073bd47291a9c12"
   }
  }
 },
 "nbformat": 4,
 "nbformat_minor": 2
}
