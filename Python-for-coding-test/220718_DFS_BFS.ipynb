{
 "cells": [
  {
   "cell_type": "code",
   "execution_count": 1,
   "metadata": {},
   "outputs": [],
   "source": [
    "import numpy as np\n",
    "import pandas as pd\n",
    "import random\n",
    "import time"
   ]
  },
  {
   "cell_type": "markdown",
   "metadata": {},
   "source": [
    "### DFS / BFS"
   ]
  },
  {
   "cell_type": "code",
   "execution_count": 1,
   "metadata": {},
   "outputs": [
    {
     "name": "stdout",
     "output_type": "stream",
     "text": [
      "Iterative 120\n",
      "Recursive 120\n"
     ]
    }
   ],
   "source": [
    "def factorial_iterative(n):\n",
    "    result = 1\n",
    "    for i in range(1, n+1):\n",
    "        result *= i\n",
    "    return result\n",
    "\n",
    "# 재귀\n",
    "def factorial_recursive(n):\n",
    "    if n <= 1:\n",
    "        return 1\n",
    "    return n * factorial_recursive(n-1)\n",
    "\n",
    "print('Iterative {}'.format(factorial_iterative(5)))\n",
    "print('Recursive {}'.format(factorial_recursive(5)))"
   ]
  },
  {
   "cell_type": "code",
   "execution_count": 2,
   "metadata": {},
   "outputs": [
    {
     "name": "stdout",
     "output_type": "stream",
     "text": [
      "[[], [2, 3, 8], [1, 7], [1, 4, 5], [3, 5], [3, 4], [7], [2, 6, 8], [1, 7]]\n",
      "\n",
      "1 2 7 6 8 3 4 5 "
     ]
    }
   ],
   "source": [
    "def dfs(graph, v, visited):\n",
    "    # 현재 노드를 방문 처리\n",
    "    visited[v] = True\n",
    "    print(v, end=' ')\n",
    "    # 현재 노드와 연결된 다른 노드를 재귀적으로 방문\n",
    "    for i in graph[v]:\n",
    "        if not visited[i]:\n",
    "            dfs(graph, i, visited)\n",
    "\n",
    "graph = [\n",
    "    [],\n",
    "    [2,3,8],\n",
    "    [1,7],\n",
    "    [1,4,5],\n",
    "    [3,5],\n",
    "    [3,4],\n",
    "    [7],\n",
    "    [2,6,8],\n",
    "    [1,7]\n",
    "]\n",
    "\n",
    "visited = [False] * (len(graph))\n",
    "\n",
    "print(graph)\n",
    "print()\n",
    "dfs(graph, 1, visited)"
   ]
  },
  {
   "cell_type": "code",
   "execution_count": 3,
   "metadata": {},
   "outputs": [
    {
     "name": "stdout",
     "output_type": "stream",
     "text": [
      "[[], [2, 3, 8], [1, 7], [1, 4, 5], [3, 5], [3, 4], [7], [2, 6, 8], [1, 7]]\n",
      "\n",
      "1 2 3 8 7 4 5 6 "
     ]
    }
   ],
   "source": [
    "from collections import deque\n",
    "\n",
    "def bfs(graph, start, visited):\n",
    "    # Queue 구현을 위해 deque 라이브러리 활용\n",
    "    queue = deque([start])\n",
    "    # 현재 노드를 방문 처리\n",
    "    visited[start] = True\n",
    "    # 큐가 빌 때까지 반복\n",
    "    while queue:\n",
    "        # 큐에서 하나의 원소를 뽑아 출력\n",
    "        v = queue.popleft()\n",
    "        print(v, end = ' ')\n",
    "        # 해당 원소와 연결된, 아직 방문하지 않은 모든 원소들을 큐에 삽입\n",
    "        for i in graph[v]:\n",
    "            if not visited[i]:\n",
    "                queue.append(i)\n",
    "                visited[i] = True\n",
    "\n",
    "graph = [\n",
    "    [],\n",
    "    [2,3,8],\n",
    "    [1,7],\n",
    "    [1,4,5],\n",
    "    [3,5],\n",
    "    [3,4],\n",
    "    [7],\n",
    "    [2,6,8],\n",
    "    [1,7]\n",
    "]\n",
    "\n",
    "visited = [False] * (len(graph))\n",
    "\n",
    "print(graph)\n",
    "print()\n",
    "bfs(graph, 1, visited)"
   ]
  },
  {
   "cell_type": "markdown",
   "metadata": {},
   "source": [
    "- 음료수 얼려 먹기\n",
    "    - 얼음 틀 (N x M)\n",
    "    - 구멍이 뚫린 부분 0, 칸막이 존재 부분 1\n",
    "    - 얼음 틀의 모양이 주어졌을 때 생성되는 아이스크림 총 개수"
   ]
  },
  {
   "cell_type": "markdown",
   "metadata": {},
   "source": [
    "- 이 문제는 DFS로 해결할 수 있다. \n",
    "1. 특정 지점의 상, 하, 좌, 우를 살펴본 뒤에 주변 지점 중에서 값이 0이면서 방문하지 않은 지점이 있다면 방문한다\n",
    "2. 방문한 지점에서 다시 상, 하, 좌, 우를 살펴보면서 방문을 다시 진행한다"
   ]
  },
  {
   "cell_type": "code",
   "execution_count": null,
   "metadata": {},
   "outputs": [],
   "source": [
    "n, m = map(int, input().split())\n",
    "\n",
    "graph = []\n",
    "for i in range(n):\n",
    "    graph.append(list(map(int, input())))\n",
    "\n",
    "def dfs(x, y):\n",
    "    # 주어진 범위를 벗어나는 즉시 종료\n",
    "    if x <= -1 or x >= n or y <= -1 or y >= m:\n",
    "        return False\n",
    "    if graph[x][y] == 0:\n",
    "        graph[x][y] = 1\n",
    "        dfs(x-1, y)\n",
    "        dfs(x+1, y)\n",
    "        dfs(x, y-1)\n",
    "        dfs(x, y+1)\n",
    "        return True\n",
    "    return False\n",
    "\n",
    "result = 0\n",
    "for i in range(n):\n",
    "    for j in range(m):\n",
    "        if dfs(i, j) == True:\n",
    "            result += 1\n",
    "\n",
    "print(result)"
   ]
  },
  {
   "cell_type": "markdown",
   "metadata": {},
   "source": [
    "- 미로 탈출\n",
    "    - 미로 (N x M)\n",
    "    - 시작 위치는 (1, 1), 미로 출구는 (N, M) / 4 ≤ N, M ≤ 200\n",
    "    - 괴물이 있는 부분은 0으로, 괴물이 없는 부분은 1로 표시되며, 탈출하기 위해 움직여야 하는 최소 칸"
   ]
  },
  {
   "cell_type": "code",
   "execution_count": null,
   "metadata": {},
   "outputs": [],
   "source": [
    "n, m = map(int, input().split())\n",
    "\n",
    "graph = []\n",
    "for i in range(n):\n",
    "    graph.append(list(map(int, input())))\n",
    "\n",
    "from collections import deque\n",
    "\n",
    "# 이동할 네 방향 상, 하, 좌, 우\n",
    "dx = [-1, 1, 0, 0]\n",
    "dy = [0, 0, -1, 1]\n",
    "\n",
    "def bfs(x, y):\n",
    "    queue = deque()\n",
    "    queue.append((x, y))\n",
    "    # 큐가 빌 때가지 반복\n",
    "    while queue:\n",
    "        x, y = queue.popleft()\n",
    "        # 현재 위치에서 네 방향으로의 위치 확인\n",
    "        for i in range(4):\n",
    "            nx = x + dx[i]\n",
    "            ny = y + dy[i]\n",
    "            # 공간을 벗어나면 무시\n",
    "            if nx < 0 or ny < 0 or nx >= n or ny >= m:\n",
    "                continue\n",
    "            if graph[nx][ny] == 0:\n",
    "                continue\n",
    "            if graph[nx][ny] == 1:\n",
    "                graph[nx][ny] = graph[x][y] + 1\n",
    "                queue.append((nx, ny))\n",
    "    return graph[n-1][m-1]\n",
    "\n",
    "print(bfs(0,0))       "
   ]
  },
  {
   "cell_type": "markdown",
   "metadata": {},
   "source": [
    "- 점프왕 쩰리 (Small)\n",
    "- 백준 16173"
   ]
  },
  {
   "cell_type": "markdown",
   "metadata": {},
   "source": [
    "‘쩰리’는 점프하는 것을 좋아하는 젤리다.  \n",
    "단순히 점프하는 것에 지루함을 느낀 ‘쩰리’는 새로운 점프 게임을 해보고 싶어 한다.  \n",
    "새로운 점프 게임의 조건은 다음과 같다.  \n",
    "\n",
    "1. ‘쩰리’는 가로와 세로의 칸 수가 같은 정사각형의 구역 내부에서만 움직일 수 있다.  \n",
    "2. ‘쩰리’가 정사각형 구역의 외부로 나가는 경우엔 바닥으로 떨어져 즉시 게임에서 패배하게 된다.  \n",
    "3. ‘쩰리’의 출발점은 항상 정사각형의 가장 왼쪽, 가장 위의 칸이다. 다른 출발점에서는 출발하지 않는다.  \n",
    "4. ‘쩰리’가 이동 가능한 방향은 오른쪽과 아래 뿐이다. 위쪽과 왼쪽으로는 이동할 수 없다.  \n",
    "5. ‘쩰리’가 가장 오른쪽, 가장 아래 칸에 도달하는 순간, 그 즉시 ‘쩰리’의 승리로 게임은 종료된다.  \n",
    "6. ‘쩰리’가 한 번에 이동할 수 있는 칸의 수는, 현재 밟고 있는 칸에 쓰여 있는 수 만큼이다.  \n",
    "칸에 쓰여 있는 수 초과나 그 미만으로 이동할 수 없다."
   ]
  },
  {
   "cell_type": "markdown",
   "metadata": {},
   "source": [
    "입력의 첫 번째 줄에는 게임 구역의 크기 N (2 ≤ N ≤ 3)이 주어진다.\n",
    "\n",
    "입력의 두 번째 줄부터 마지막 줄까지 게임판의 구역(맵)이 주어진다.\n",
    "\n",
    "게임판의 승리 지점(오른쪽 맨 아래 칸)에는 -1이 쓰여있고, 나머지 칸에는 0 이상 100 이하의 정수가 쓰여있다."
   ]
  },
  {
   "cell_type": "code",
   "execution_count": 20,
   "metadata": {},
   "outputs": [
    {
     "name": "stdout",
     "output_type": "stream",
     "text": [
      "Hing\n"
     ]
    }
   ],
   "source": [
    "from collections import deque\n",
    "\n",
    "n = int(input())\n",
    "check = [[False] * n for _ in range(n)]\n",
    "graph = []\n",
    "for i in range(n):\n",
    "    graph.append(list(map(int, input().split())))\n",
    "\n",
    "def bfs():\n",
    "    queue = deque()\n",
    "    queue.append((0,0))\n",
    "    check[0][0] = True\n",
    "    while queue:\n",
    "        x, y = queue.popleft()\n",
    "        move = graph[x][y]\n",
    "        if x == n-1 and y == n-1:\n",
    "            print('HaruHaru')\n",
    "            return\n",
    "        for dx, dy in (1,0), (0,1):\n",
    "            nx, ny = x + dx*move, y + dy*move\n",
    "            if 0 <= nx < n and 0 <= ny < n and check[nx][ny] == False:\n",
    "                queue.append((nx, ny))\n",
    "                check[nx][ny] = True\n",
    "    print('Hing')\n",
    "\n",
    "bfs()\n"
   ]
  },
  {
   "cell_type": "markdown",
   "metadata": {},
   "source": [
    "- The Game of Death\n",
    "- BOJ 11558"
   ]
  },
  {
   "cell_type": "markdown",
   "metadata": {},
   "source": [
    "1. 플레이어는 각자 한 명씩 지목을 한다(자신도 가능).\n",
    "2. 처음 시작하는 사람은 임의의 자연수 K를 말한다.\n",
    "3. 시작한 사람부터 지목한 사람을 차례대로 따라가다가 K번째 지목당한 사람이 걸리게 된다."
   ]
  },
  {
   "cell_type": "markdown",
   "metadata": {},
   "source": [
    "- 첫 줄에는 테스트 케이스의 숫자 T가 주어지며, 이어서 T번에 걸쳐 테스트 케이스들이 주어진다.\n",
    "- 매 테스트 케이스의 첫 줄에는 플레이어의 숫자 N(1 ≤ N ≤ 10,000)이 주어진다.\n",
    "- 이어서 N줄에 걸쳐 각 플레이어가 지명한 사람의 숫자 Ai(1 ≤ Ai ≤ N, 1 ≤ i ≤ N)이 주어진다.\n",
    "- 희현이는 1번, 주경이는 N번이다,"
   ]
  },
  {
   "cell_type": "markdown",
   "metadata": {},
   "source": [
    "매 테스트 케이스마다 한 줄에 걸쳐 희현이가 주경이를 걸리게 하고 싶을 때 불러야 하는 최소 숫자 K를 출력한다.\n",
    "\n",
    "만약 어떤 숫자를 말해도 주경이가 걸리지 않는다면 0을 출력해야 한다."
   ]
  },
  {
   "cell_type": "markdown",
   "metadata": {},
   "source": [
    "매우 깔끔하다.."
   ]
  },
  {
   "cell_type": "code",
   "execution_count": 37,
   "metadata": {},
   "outputs": [
    {
     "name": "stdout",
     "output_type": "stream",
     "text": [
      "[[], [], [], [], [], [], [], []]\n",
      "[[], [2], [], [], [], [], [], []]\n",
      "[[], [2], [3], [], [], [], [], []]\n",
      "[[], [2], [3], [4], [], [], [], []]\n",
      "[[], [2], [3], [4], [5], [], [], []]\n",
      "[[], [2], [3], [4], [5], [6], [], []]\n",
      "[[], [2], [3], [4], [5], [6], [7], []]\n",
      "[[], [2], [3], [4], [5], [6], [7], [1]]\n",
      "2\n",
      "[0, 0, 1, 0, 0, 0, 0, 0]\n",
      "3\n",
      "[0, 0, 1, 2, 0, 0, 0, 0]\n",
      "4\n",
      "[0, 0, 1, 2, 3, 0, 0, 0]\n",
      "5\n",
      "[0, 0, 1, 2, 3, 4, 0, 0]\n",
      "6\n",
      "[0, 0, 1, 2, 3, 4, 5, 0]\n",
      "7\n",
      "[0, 0, 1, 2, 3, 4, 5, 6]\n",
      "1\n",
      "[0, 7, 1, 2, 3, 4, 5, 6]\n",
      "2\n",
      "6\n"
     ]
    }
   ],
   "source": [
    "def dfs(node):\n",
    "    for n in graph[node]:\n",
    "        print(n)\n",
    "        if check[n] == 0:\n",
    "            check[n] = check[node]+1\n",
    "            print(check)\n",
    "            dfs(n)\n",
    "            \n",
    "for _ in range(int(input())):\n",
    "    N = int(input())\n",
    "    graph = [[] for _ in range(N+1)]\n",
    "    print(graph)\n",
    "    for i in range(1, N+1):\n",
    "        v = int(input())\n",
    "        graph[i].append(v)\n",
    "        print(graph)\n",
    "        \n",
    "    check = [0]*(N+1)\n",
    "    dfs(1)\n",
    "    print(check[N] if check[N] > 0 else 0)"
   ]
  }
 ],
 "metadata": {
  "kernelspec": {
   "display_name": "Python 3.8.13 ('algorithm')",
   "language": "python",
   "name": "python3"
  },
  "language_info": {
   "codemirror_mode": {
    "name": "ipython",
    "version": 3
   },
   "file_extension": ".py",
   "mimetype": "text/x-python",
   "name": "python",
   "nbconvert_exporter": "python",
   "pygments_lexer": "ipython3",
   "version": "3.8.13"
  },
  "orig_nbformat": 4,
  "vscode": {
   "interpreter": {
    "hash": "ee431ac274e33366c10c3ac30cd4fb33ff3ed0dd6a8cc3f05073bd47291a9c12"
   }
  }
 },
 "nbformat": 4,
 "nbformat_minor": 2
}
