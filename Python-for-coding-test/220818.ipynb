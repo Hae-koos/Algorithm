{
 "cells": [
  {
   "cell_type": "markdown",
   "metadata": {},
   "source": [
    "Today 2022.08.18\n",
    "\n",
    "\n",
    "## Title 트리의 부모 찾기\n",
    "\n",
    "\n",
    "BOJ # 11725\n",
    "\n",
    "\n",
    "LV # Silver 2\n",
    "\n",
    "\n",
    "Tag # Graph Search"
   ]
  },
  {
   "cell_type": "markdown",
   "metadata": {},
   "source": [
    "루트 없는 트리가 주어진다. 트리의 루트를 1이라고 정했을 때, 각 노드의 부모를 구하는 프로그램을 작성하라"
   ]
  },
  {
   "cell_type": "code",
   "execution_count": 2,
   "metadata": {},
   "outputs": [
    {
     "name": "stdout",
     "output_type": "stream",
     "text": [
      "[]\n",
      "[6, 4]\n",
      "[4]\n",
      "[6, 5]\n",
      "[1, 2, 7]\n",
      "[3]\n",
      "[1, 3]\n",
      "[4]\n"
     ]
    }
   ],
   "source": [
    "N = int(input()) # 노드의 개수 7\n",
    "graph = [[] for _ in range(N+1)]\n",
    "for _ in range(N-1):\n",
    "    a, b = map(int, input().split())\n",
    "    graph[a].append(b)\n",
    "    graph[b].append(a)\n",
    "for x in graph:\n",
    "    print(x)"
   ]
  },
  {
   "cell_type": "code",
   "execution_count": 8,
   "metadata": {},
   "outputs": [
    {
     "data": {
      "text/plain": [
       "[False, True, False, False, False, False, False, False]"
      ]
     },
     "execution_count": 8,
     "metadata": {},
     "output_type": "execute_result"
    }
   ],
   "source": [
    "visited = [False] * (N+1)\n",
    "visited[1] = True\n",
    "visited"
   ]
  },
  {
   "cell_type": "code",
   "execution_count": 9,
   "metadata": {},
   "outputs": [],
   "source": [
    "from collections import deque\n",
    "S = []\n",
    "def bfs(x):\n",
    "    global S\n",
    "    q = deque([x])\n",
    "    while q:\n",
    "        print(q, S, visited)\n",
    "        x = q.popleft()\n",
    "        for i in graph[x]:\n",
    "            if visited[i] == False:\n",
    "                visited[i] = True\n",
    "                q.append(i)\n",
    "            else:\n",
    "                S.append((i, x))\n",
    "bfs(1)\n",
    "S.sort(key=lambda x : x[1])\n",
    "for x in S:\n",
    "    print(x[0])"
   ]
  },
  {
   "cell_type": "code",
   "execution_count": 10,
   "metadata": {},
   "outputs": [
    {
     "name": "stdout",
     "output_type": "stream",
     "text": [
      "deque([1]) [] [False, True, False, False, False, False, False, False]\n",
      "deque([6, 4]) [] [False, True, False, False, True, False, True, False]\n",
      "deque([4, 3]) [(1, 6)] [False, True, False, True, True, False, True, False]\n",
      "deque([3, 2, 7]) [(1, 6), (1, 4)] [False, True, True, True, True, False, True, True]\n",
      "deque([2, 7, 5]) [(1, 6), (1, 4), (6, 3)] [False, True, True, True, True, True, True, True]\n",
      "deque([7, 5]) [(1, 6), (1, 4), (6, 3), (4, 2)] [False, True, True, True, True, True, True, True]\n",
      "deque([5]) [(1, 6), (1, 4), (6, 3), (4, 2), (4, 7)] [False, True, True, True, True, True, True, True]\n"
     ]
    }
   ],
   "source": [
    "bfs(1)"
   ]
  },
  {
   "cell_type": "code",
   "execution_count": 13,
   "metadata": {},
   "outputs": [
    {
     "name": "stdout",
     "output_type": "stream",
     "text": [
      "4\n",
      "6\n",
      "1\n",
      "3\n",
      "1\n",
      "4\n"
     ]
    }
   ],
   "source": [
    "S.sort(key=lambda x : x[1])\n",
    "for x in S:\n",
    "    print(x[0])"
   ]
  },
  {
   "cell_type": "code",
   "execution_count": 14,
   "metadata": {},
   "outputs": [
    {
     "data": {
      "text/plain": [
       "[(4, 2), (6, 3), (1, 4), (3, 5), (1, 6), (4, 7)]"
      ]
     },
     "execution_count": 14,
     "metadata": {},
     "output_type": "execute_result"
    }
   ],
   "source": [
    "S"
   ]
  },
  {
   "cell_type": "code",
   "execution_count": null,
   "metadata": {},
   "outputs": [],
   "source": [
    "N = int(input()) # 노드의 개수 7\n",
    "graph = [[] for _ in range(N+1)]\n",
    "for _ in range(N-1):\n",
    "    a, b = map(int, input().split())\n",
    "    graph[a].append(b)\n",
    "    graph[b].append(a)\n",
    "visited = [False] * (N+1)\n",
    "visited[1] = True\n",
    "from collections import deque\n",
    "S = []\n",
    "def bfs(x):\n",
    "    global S\n",
    "    q = deque([x])\n",
    "    while q:\n",
    "        x = q.popleft()\n",
    "        for i in graph[x]:\n",
    "            if visited[i] == False:\n",
    "                visited[i] = True\n",
    "                q.append(i)\n",
    "            else:\n",
    "                S.append((i, x))\n",
    "bfs(1)\n",
    "S.sort(key=lambda x : x[1])\n",
    "for x in S:\n",
    "    print(x[0])"
   ]
  },
  {
   "cell_type": "markdown",
   "metadata": {},
   "source": [
    "Today 2022.08.18\n",
    "\n",
    "\n",
    "## Title 세수정렬\n",
    "\n",
    "\n",
    "BOJ # 2752\n",
    "\n",
    "\n",
    "LV # Bronze 4\n",
    "\n",
    "\n",
    "Tag # Sorting"
   ]
  },
  {
   "cell_type": "markdown",
   "metadata": {},
   "source": [
    "숫자 세 개를 생각하고 이를 오름차순으로 정렬한다 "
   ]
  },
  {
   "cell_type": "code",
   "execution_count": 15,
   "metadata": {},
   "outputs": [
    {
     "name": "stdout",
     "output_type": "stream",
     "text": [
      "1 2 3 "
     ]
    }
   ],
   "source": [
    "for x in sorted(list(map(int, input().split()))):\n",
    "    print(x, end=' ')"
   ]
  },
  {
   "cell_type": "markdown",
   "metadata": {},
   "source": [
    "Today 2022.08.18\n",
    "\n",
    "\n",
    "## Title 예산\n",
    "\n",
    "\n",
    "BOJ # 2512\n",
    "\n",
    "\n",
    "LV # Silver 3\n",
    "\n",
    "\n",
    "Tag # Binary Search"
   ]
  },
  {
   "cell_type": "markdown",
   "metadata": {},
   "source": [
    "정해진 총액 이하에서 가능한 한 최대의 총 예산을 다음과 같은 방법으로 배정한다.  \n",
    "- 모든 요청이 배정될 수 있는 경우에는 요청한 금액을 그대로 배정한다.\n",
    "- 모든 요청이 배정될 수 없는 경우에는 특정한 정수 상한액을 계산하여 그 이상인 예산 요청에는 모두 상한액을 배정한다 \n",
    "\n",
    "EXAMPLE\n",
    "\n",
    "전체 예산 485 / 요청 예산 120 110 140 150  \n",
    "상한액을 127로 잡으면 120 110 127 127 을 배정하여 그 합이 484로 가능한 최대가 된다"
   ]
  },
  {
   "cell_type": "code",
   "execution_count": 6,
   "metadata": {},
   "outputs": [
    {
     "data": {
      "text/plain": [
       "[120, 110, 140, 150]"
      ]
     },
     "execution_count": 6,
     "metadata": {},
     "output_type": "execute_result"
    }
   ],
   "source": [
    "N = int(input()) # 지방의 수\n",
    "M = list(map(int, input().split())) # 요청한 예싼\n",
    "B = int(input()) # 총 예산\n",
    "\n",
    "M"
   ]
  },
  {
   "cell_type": "code",
   "execution_count": 7,
   "metadata": {},
   "outputs": [
    {
     "name": "stdout",
     "output_type": "stream",
     "text": [
      "127\n",
      "484\n"
     ]
    }
   ],
   "source": [
    "def check_sum(x):\n",
    "    res = 0\n",
    "    for k in M:\n",
    "        if k < x:\n",
    "            res += k\n",
    "        else:\n",
    "            res += x\n",
    "    return res\n",
    "\n",
    "if sum(M) <= B:\n",
    "    print(max(M))\n",
    "else:   \n",
    "    start, end = 1, B\n",
    "    while start < end:\n",
    "        mid = (start+end) // 2\n",
    "        if check_sum(mid) > B:\n",
    "            end = mid - 1\n",
    "        elif check_sum(mid) <= B:\n",
    "            start = mid + 1\n",
    "    print(mid+1)\n",
    "    print(check_sum(mid++1))"
   ]
  },
  {
   "cell_type": "code",
   "execution_count": 1,
   "metadata": {},
   "outputs": [
    {
     "data": {
      "text/plain": [
       "[70, 80, 30, 40, 100]"
      ]
     },
     "execution_count": 1,
     "metadata": {},
     "output_type": "execute_result"
    }
   ],
   "source": [
    "N = int(input()) # 지방의 수\n",
    "M = list(map(int, input().split())) # 요청한 예싼\n",
    "B = int(input()) # 총 예산\n",
    "\n",
    "M"
   ]
  },
  {
   "cell_type": "code",
   "execution_count": 3,
   "metadata": {},
   "outputs": [
    {
     "name": "stdout",
     "output_type": "stream",
     "text": [
      "100\n"
     ]
    }
   ],
   "source": [
    "def check_sum(x):\n",
    "    res = 0\n",
    "    for k in M:\n",
    "        if k < x:\n",
    "            res += k\n",
    "        else:\n",
    "            res += x\n",
    "    return res\n",
    "\n",
    "if sum(M) <= B:\n",
    "    print(max(M))\n",
    "else:   \n",
    "    start, end = 1, B\n",
    "    while start < end:\n",
    "        mid = (start+end) // 2\n",
    "        if check_sum(mid) > B:\n",
    "            end = mid - 1\n",
    "        elif check_sum(mid) <= B:\n",
    "            start = mid + 1\n",
    "    print(mid+1)\n",
    "    print(check_sum(mid++1))"
   ]
  },
  {
   "cell_type": "code",
   "execution_count": 42,
   "metadata": {},
   "outputs": [
    {
     "name": "stdout",
     "output_type": "stream",
     "text": [
      "127\n"
     ]
    }
   ],
   "source": [
    "N = int(input()) # 지방의 수\n",
    "M = list(map(int, input().split())) # 요청한 예싼\n",
    "B = int(input()) # 총 예산\n",
    "\n",
    "def check_sum(x):\n",
    "    res = 0\n",
    "    for k in M:\n",
    "        if k < x:\n",
    "            res += k\n",
    "        else:\n",
    "            res += x\n",
    "    return res\n",
    "\n",
    "if sum(M) <= B:\n",
    "    print(max(M))\n",
    "else:   \n",
    "    start, end = 0, max(M)\n",
    "    while start <= end:\n",
    "        mid = (start+end) // 2\n",
    "        # print(start, end, check_sum(mid))\n",
    "        if check_sum(mid) <= B:\n",
    "            ans = mid\n",
    "            start = mid + 1\n",
    "        else:\n",
    "            end = mid - 1\n",
    "    print(ans) "
   ]
  },
  {
   "cell_type": "code",
   "execution_count": null,
   "metadata": {},
   "outputs": [],
   "source": []
  }
 ],
 "metadata": {
  "kernelspec": {
   "display_name": "Python 3.8.13 ('AUTOVC')",
   "language": "python",
   "name": "python3"
  },
  "language_info": {
   "codemirror_mode": {
    "name": "ipython",
    "version": 3
   },
   "file_extension": ".py",
   "mimetype": "text/x-python",
   "name": "python",
   "nbconvert_exporter": "python",
   "pygments_lexer": "ipython3",
   "version": "3.8.13"
  },
  "orig_nbformat": 4,
  "vscode": {
   "interpreter": {
    "hash": "83701494a915308841c98d90e1627ab32994947d5b938ec1dfda5c4da74c3582"
   }
  }
 },
 "nbformat": 4,
 "nbformat_minor": 2
}
