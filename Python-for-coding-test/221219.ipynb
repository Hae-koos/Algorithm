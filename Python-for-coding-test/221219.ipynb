{
 "cells": [
  {
   "attachments": {},
   "cell_type": "markdown",
   "metadata": {},
   "source": [
    "Today 2022.12.19\n",
    "\n",
    "\n",
    "## Title Doubles\n",
    "\n",
    "\n",
    "BOJ # 4641\n",
    "\n",
    "\n",
    "LV # Bronze 1\n",
    "\n",
    "\n",
    "Tag # Implementation"
   ]
  },
  {
   "attachments": {},
   "cell_type": "markdown",
   "metadata": {},
   "source": [
    "2~15개의 서로 다른 자연수로 이루어진 리스트가 있을 때, 이들 중 리스트 안에 자신의 정확히 2배인 수가 있는 수의 개수를 구하여라.\n",
    "\n",
    "예를 들어, 리스트가 \"1 4 3 2 9 7 18 22\"라면 2가 1의 2배, 4가 2의 2배, 18이 9의 2배이므로 답은 3이다."
   ]
  },
  {
   "cell_type": "code",
   "execution_count": 1,
   "metadata": {},
   "outputs": [
    {
     "name": "stdout",
     "output_type": "stream",
     "text": [
      "3\n",
      "2\n",
      "0\n"
     ]
    }
   ],
   "source": [
    "while True:\n",
    "    l = list(map(int, input().split()))\n",
    "    if sum(l) == -1:\n",
    "        break\n",
    "    count = 0\n",
    "    for x in l:\n",
    "        if x == 0:\n",
    "            break\n",
    "        for y in l:\n",
    "            if y*2 == x:\n",
    "                count += 1\n",
    "    print(count)"
   ]
  },
  {
   "attachments": {},
   "cell_type": "markdown",
   "metadata": {},
   "source": [
    "Today 2022.12.19\n",
    "\n",
    "\n",
    "## Title 여우 사인\n",
    "\n",
    "\n",
    "BOJ # 14709\n",
    "\n",
    "\n",
    "LV # Silver 5\n",
    "\n",
    "\n",
    "Tag # Implementation"
   ]
  },
  {
   "attachments": {},
   "cell_type": "markdown",
   "metadata": {},
   "source": [
    "첫 번째 줄에 서로 닿아 있는 손가락 쌍의 개수 N(1 ≤ N ≤ 10)이 주어진다.\n",
    "\n",
    "두 번째 줄부터 N개의 줄에 걸쳐 서로 닿아 있는 두 손가락을 의미하는 1 이상 5 이하의 숫자 두 개가 공백으로 구분되어 주어진다. 1은 엄지손가락, 2는 검지, 3은 중지, 4는 약지, 5는 새끼손가락을 의미한다.\n",
    "\n",
    "입력 순서가 다른 것을 포함하여 같은 쌍이 여러 번 주어지거나 한 손가락만으로 이루어진 쌍이 주어지는 경우는 없다."
   ]
  },
  {
   "cell_type": "code",
   "execution_count": 20,
   "metadata": {},
   "outputs": [
    {
     "data": {
      "text/plain": [
       "[[False, False, False, False, False, False],\n",
       " [False, False, False, True, True, True],\n",
       " [False, False, False, False, False, False],\n",
       " [False, True, False, False, True, False],\n",
       " [False, True, False, True, False, True],\n",
       " [False, True, False, False, True, False]]"
      ]
     },
     "execution_count": 20,
     "metadata": {},
     "output_type": "execute_result"
    }
   ],
   "source": [
    "N = int(input())\n",
    "g = [[False] * 6 for _ in range(6)]\n",
    "for _ in range(N):\n",
    "    a, b = map(int, input().split())\n",
    "    g[a][b] = True\n",
    "    g[b][a] = True\n",
    "g"
   ]
  },
  {
   "cell_type": "code",
   "execution_count": 21,
   "metadata": {},
   "outputs": [
    {
     "name": "stdout",
     "output_type": "stream",
     "text": [
      "Woof-meow-tweet-squeek\n"
     ]
    }
   ],
   "source": [
    "C = [[1,3],[3,1],[1,4],[4,1],[3,4],[4,3]]\n",
    "ans =  ''\n",
    "for x in C:\n",
    "    if g[x[0]][x[1]] != True:\n",
    "        ans = 'Woof-meow-tweet-squeek'\n",
    "        break\n",
    "    else:\n",
    "        g[x[0]][x[1]] = False\n",
    "\n",
    "if ans == 'Woof-meow-tweet-squeek' or max(max(g)) == True:\n",
    "    print('Woof-meow-tweet-squeek')\n",
    "else:\n",
    "    print('Wa-pa-pa-pa-pa-pa-pow!')"
   ]
  }
 ],
 "metadata": {
  "kernelspec": {
   "display_name": "AUTOVC",
   "language": "python",
   "name": "python3"
  },
  "language_info": {
   "codemirror_mode": {
    "name": "ipython",
    "version": 3
   },
   "file_extension": ".py",
   "mimetype": "text/x-python",
   "name": "python",
   "nbconvert_exporter": "python",
   "pygments_lexer": "ipython3",
   "version": "3.8.13"
  },
  "orig_nbformat": 4,
  "vscode": {
   "interpreter": {
    "hash": "83701494a915308841c98d90e1627ab32994947d5b938ec1dfda5c4da74c3582"
   }
  }
 },
 "nbformat": 4,
 "nbformat_minor": 2
}
