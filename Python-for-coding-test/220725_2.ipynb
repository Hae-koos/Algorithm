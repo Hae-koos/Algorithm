{
 "cells": [
  {
   "cell_type": "code",
   "execution_count": 1,
   "metadata": {},
   "outputs": [],
   "source": [
    "import numpy as np\n",
    "import pandas as pd\n",
    "import random\n",
    "import time"
   ]
  },
  {
   "cell_type": "markdown",
   "metadata": {},
   "source": [
    "##### ATM (Greedy Algorithm)"
   ]
  },
  {
   "cell_type": "markdown",
   "metadata": {},
   "source": [
    "백준 11399"
   ]
  },
  {
   "cell_type": "markdown",
   "metadata": {},
   "source": [
    "- ATM 앞에 N명의 사람들이 줄을 서있다.\n",
    "- 사람들이 줄을 서는 순서에 따라 돈을 인출하는데 필요한 시간의 합이 달라진다.\n",
    "- [3, 1, 4, 3, 2] 순서로 서면  3+4+8+11+13 = 39분\n",
    "- [1, 2, 3, 3, 4] 순서로 서면  1+3+6+9+13 = 32분"
   ]
  },
  {
   "cell_type": "markdown",
   "metadata": {},
   "source": [
    "줄을 서 있는 사람의 수 N과 각 사람이 돈을 인출하는데 걸리는 시간이 주어질 때 최소 시간의 합 구하는 프로그램 작성하라"
   ]
  },
  {
   "cell_type": "code",
   "execution_count": 13,
   "metadata": {},
   "outputs": [
    {
     "name": "stdout",
     "output_type": "stream",
     "text": [
      "32\n"
     ]
    }
   ],
   "source": [
    "N = int(input())\n",
    "\n",
    "T = list(map(int, input().split()))\n",
    "T = sorted(T)\n",
    "\n",
    "ans = []\n",
    "s = 0\n",
    "\n",
    "for x in T:\n",
    "    s = s + x\n",
    "    ans.append(s)\n",
    "\n",
    "print(sum(ans))"
   ]
  },
  {
   "cell_type": "markdown",
   "metadata": {},
   "source": [
    "##### 단지번호붙이기 (Graph Search)"
   ]
  },
  {
   "cell_type": "markdown",
   "metadata": {},
   "source": [
    "백준 2667"
   ]
  },
  {
   "cell_type": "markdown",
   "metadata": {},
   "source": [
    "- 정사각형 모양의 지도가 있고, 1은 집이 있는 곳을, 0은 집이 없는 곳을 뜻한다.\n",
    "- 이 지도로 집의 모임인 단지를 정의하고, 단지에 번호를 붙이려 한다.\n",
    "- 지도를 입력하여 단지수를 출력하고, 각 단지에 속하는 집의 수를 오름차순으로 정렬하여 출력하는 프로그램 작성하라"
   ]
  },
  {
   "cell_type": "markdown",
   "metadata": {},
   "source": [
    "첫 번째 줄에는 지도의 크기 N(정사각형이므로 가로와 세로의 크기는 같으며 5≤N≤25)이 입력되고, 그 다음 N줄에는 각각 N개의 자료(0혹은 1)가 입력된다."
   ]
  },
  {
   "cell_type": "code",
   "execution_count": 40,
   "metadata": {},
   "outputs": [
    {
     "data": {
      "text/plain": [
       "[[1, 1, 1, 0, 0, 1, 1],\n",
       " [1, 1, 1, 0, 0, 1, 1],\n",
       " [1, 1, 1, 0, 0, 1, 1],\n",
       " [0, 0, 0, 0, 0, 1, 1],\n",
       " [0, 0, 0, 0, 0, 0, 0],\n",
       " [0, 1, 1, 1, 1, 0, 0],\n",
       " [0, 1, 1, 1, 0, 0, 0]]"
      ]
     },
     "execution_count": 40,
     "metadata": {},
     "output_type": "execute_result"
    }
   ],
   "source": [
    "M = int(input())\n",
    "graph = [[] * M for _ in range(M)]\n",
    "\n",
    "for i in range(M):\n",
    "    graph[i] = list(map(int, list(input())))\n",
    "\n",
    "graph"
   ]
  },
  {
   "cell_type": "code",
   "execution_count": 45,
   "metadata": {},
   "outputs": [],
   "source": [
    "graph = [[1, 1, 1, 0, 0, 1, 1],\n",
    " [1, 1, 1, 0, 0, 1, 1],\n",
    " [1, 1, 1, 0, 0, 1, 1],\n",
    " [0, 0, 0, 0, 0, 1, 1],\n",
    " [0, 0, 0, 0, 0, 0, 0],\n",
    " [0, 1, 1, 1, 1, 0, 0],\n",
    " [0, 1, 1, 1, 0, 0, 0]]"
   ]
  },
  {
   "cell_type": "code",
   "execution_count": 46,
   "metadata": {},
   "outputs": [
    {
     "name": "stdout",
     "output_type": "stream",
     "text": [
      "2\n",
      "deque([(1, 0)])\n",
      "3\n",
      "deque([(1, 0), (0, 1)])\n",
      "4\n",
      "deque([(0, 1), (2, 0)])\n",
      "5\n",
      "deque([(0, 1), (2, 0), (1, 1)])\n",
      "6\n",
      "deque([(2, 0), (1, 1), (0, 2)])\n",
      "7\n",
      "deque([(1, 1), (0, 2), (2, 1)])\n",
      "8\n",
      "deque([(0, 2), (2, 1), (1, 2)])\n",
      "9\n",
      "deque([(1, 2), (2, 2)])\n",
      "2\n",
      "deque([(1, 5)])\n",
      "3\n",
      "deque([(1, 5), (0, 6)])\n",
      "4\n",
      "deque([(0, 6), (2, 5)])\n",
      "5\n",
      "deque([(0, 6), (2, 5), (1, 6)])\n",
      "6\n",
      "deque([(1, 6), (3, 5)])\n",
      "7\n",
      "deque([(1, 6), (3, 5), (2, 6)])\n",
      "8\n",
      "deque([(2, 6), (3, 6)])\n",
      "2\n",
      "deque([(6, 1)])\n",
      "3\n",
      "deque([(6, 1), (5, 2)])\n",
      "4\n",
      "deque([(5, 2), (6, 2)])\n",
      "5\n",
      "deque([(6, 2), (5, 3)])\n",
      "6\n",
      "deque([(5, 3), (6, 3)])\n",
      "7\n",
      "deque([(6, 3), (5, 4)])\n",
      "3\n",
      "7\n",
      "8\n",
      "9\n"
     ]
    }
   ],
   "source": [
    "from collections import deque\n",
    "\n",
    "nums = []\n",
    "def bfs(x, y):\n",
    "    dx = [1, -1, 0, 0]\n",
    "    dy = [0, 0, -1, 1]\n",
    "    q = deque([(x, y)])\n",
    "    count = 1\n",
    "    while q:\n",
    "        x, y = q.popleft()\n",
    "        graph[x][y] = 0\n",
    "        for i in range(4):\n",
    "            nx = x + dx[i]\n",
    "            ny = y + dy[i]\n",
    "            \n",
    "            if nx < 0 or nx >= M or ny < 0 or ny >= M:\n",
    "                continue\n",
    "\n",
    "            if graph[nx][ny] == 1:\n",
    "                count += 1\n",
    "                graph[nx][ny] = 0\n",
    "                q.append((nx, ny))\n",
    "                print(count)\n",
    "                print(q)  \n",
    "    nums.append(count)\n",
    "    return\n",
    "\n",
    "M = int(input())\n",
    "graph = [[] * M for _ in range(M)]\n",
    "\n",
    "for i in range(M):\n",
    "    graph[i] = list(map(int, list(input())))\n",
    "\n",
    "result = 0\n",
    "\n",
    "for x in range(M):\n",
    "    for y in range(M):\n",
    "        if graph[x][y] == 1:\n",
    "            result = result + 1\n",
    "            bfs(x, y)\n",
    "\n",
    "print(result)\n",
    "for x in sorted(nums):\n",
    "    print(x)"
   ]
  },
  {
   "cell_type": "markdown",
   "metadata": {},
   "source": [
    "##### 더하기 사이클 (Implementation)"
   ]
  },
  {
   "cell_type": "markdown",
   "metadata": {},
   "source": [
    "백준 1110"
   ]
  },
  {
   "cell_type": "markdown",
   "metadata": {},
   "source": [
    "- 0보다 크거나 같고, 99보다 작거나 같은 정수가 주어질 때 다음과 같은 연산을 할 수 있다. \n",
    "1. 주어진 수가 10보다 작다면 앞에 0을 붙여 두 자리 수로 만들고, 각 자리의 숫자를 더한다.\n",
    "2. 주어진 수의 가장 오른쪽 자리 수와 앞에서 구한 합의 가장 오른쪽 자리 수를 이어 붙이면 새로운 수를 만들 수 있다. "
   ]
  },
  {
   "cell_type": "markdown",
   "metadata": {},
   "source": [
    "EXAMPLE\n",
    "\n",
    "26부터 시작한다. 2+6 = 8이다. \n",
    "\n",
    "새로운 수는 68이다. 6+8 = 14이다. \n",
    "\n",
    "새로운 수는 84이다. 8+4 = 12이다. 새로운 수는 42이다. \n",
    "\n",
    "4+2 = 6이다. 새로운 수는 26이다.\n",
    "\n",
    "위의 예는 4번만에 원래 수로 돌아올 수 있다. 따라서 26의 사이클의 길이는 4이다."
   ]
  },
  {
   "cell_type": "markdown",
   "metadata": {},
   "source": [
    "N이 주어졌을 때, N의 사이클의 길이를 구하는 프로그램을 작성하시오."
   ]
  },
  {
   "cell_type": "code",
   "execution_count": 71,
   "metadata": {},
   "outputs": [
    {
     "name": "stdout",
     "output_type": "stream",
     "text": [
      "12\n"
     ]
    }
   ],
   "source": [
    "N = [x for x in input()]\n",
    "\n",
    "if len(N) < 2:\n",
    "    N.append('0')\n",
    "    N = sorted(N)\n",
    "\n",
    "count = 1\n",
    "new_N = [N[1]]\n",
    "v = str(int(N[0]) + int(N[1]))\n",
    "new_N.append(v[-1])\n",
    "\n",
    "while new_N != N:\n",
    "    count += 1\n",
    "    v = str(int(new_N[0]) + int(new_N[1]))\n",
    "    if len(new_N) < 2:\n",
    "        new_N.append('0')\n",
    "        new_N = sorted(new_N)\n",
    "    new_N = list(new_N[1])\n",
    "    new_N.append(v[-1])\n",
    "\n",
    "print(count)"
   ]
  },
  {
   "cell_type": "markdown",
   "metadata": {},
   "source": [
    "##### 토마토 (Graph Search)"
   ]
  },
  {
   "cell_type": "markdown",
   "metadata": {},
   "source": [
    "백준 7576"
   ]
  },
  {
   "cell_type": "markdown",
   "metadata": {},
   "source": [
    "- 보관 후 하루가 지나면 익은 토마토들의 인접한 곳에 있는 익지 않은 토마토들이 익은 토마토의 영향을 받아 익게 된다\n",
    "- 철수는 창고에 보관된 토마토들이 며칠이 지나면 다 익게 되는지, 그 최소 일수를 알고 싶어 한다.\n",
    "- 토마토 창고에 보관하는 격자모양의 상자들의 크기와 익은 토마토, 익지 않은 토마토 정보가 주어질 때 며칠이 지나면 모두 익는지 알아내라\n",
    "- 상자의 일부 칸에는 토마토가 들어있지 않을 수 있다."
   ]
  },
  {
   "cell_type": "markdown",
   "metadata": {},
   "source": [
    "- 첫 줄에는 상자의 크기를 나타내는 두 정수 M,N이 주어진다. M은 상자의 가로 칸의 수, N은 상자의 세로 칸의 수를 나타낸다. 단, 2 ≤ M,N ≤ 1,000 이다. \n",
    "- 둘째 줄부터는 하나의 상자에 저장된 토마토들의 정보가 주어진다. 즉, 둘째 줄부터 N개의 줄에는 상자에 담긴 토마토의 정보가 주어진다. \n",
    "- 하나의 줄에는 상자 가로줄에 들어있는 토마토의 상태가 M개의 정수로 주어진다. \n",
    "- 정수 1은 익은 토마토, 정수 0은 익지 않은 토마토, 정수 -1은 토마토가 들어있지 않은 칸을 나타낸다.\n",
    "\n",
    "토마토가 하나 이상 있는 경우만 입력으로 주어진다."
   ]
  },
  {
   "cell_type": "code",
   "execution_count": 6,
   "metadata": {},
   "outputs": [
    {
     "name": "stdout",
     "output_type": "stream",
     "text": [
      "[[1, -1, 0, 0, 0, 0], [0, -1, 0, 0, 0, 0], [0, 0, 0, 0, -1, 0], [0, 0, 0, 0, -1, 1]]\n",
      "9\n"
     ]
    }
   ],
   "source": [
    "M, N = map(int, input().split())\n",
    "\n",
    "graph = [[]*M for _ in range(N)]\n",
    "\n",
    "check_t = 0\n",
    "\n",
    "for i in range(N):\n",
    "    graph[i] = list(map(int, input().split()))\n",
    "    if 0 not in graph[i]:\n",
    "        check_t += 1\n",
    "\n",
    "if check_t == N:\n",
    "    print(0)\n",
    "    exit()\n",
    "\n",
    "print(graph)\n",
    "\n",
    "from collections import deque\n",
    "\n",
    "day = []\n",
    "def bfs(x, y):\n",
    "    global count\n",
    "    q = deque([(x, y, 0)])\n",
    "    dx = [-1, 1, 0, 0]\n",
    "    dy = [0, 0, -1, 1]\n",
    "    while q:\n",
    "        x, y, d = q.popleft()\n",
    "    \n",
    "        for i in range(4):\n",
    "            nx = x + dx[i]\n",
    "            ny = y + dy[i]\n",
    "\n",
    "            if nx < 0 or nx >= N or ny < 0 or ny >= M:\n",
    "                continue\n",
    "\n",
    "            if graph[nx][ny] == -1:\n",
    "                continue\n",
    "\n",
    "            if graph[nx][ny] == 0:\n",
    "                graph[nx][ny] = 1\n",
    "                q.append((nx, ny, d+1))\n",
    "                day.append(d+1)\n",
    "    \n",
    "    return\n",
    "\n",
    "for x in range(N):\n",
    "    for y in range(M):\n",
    "        if graph[x][y] == 1:\n",
    "            bfs(x, y)\n",
    "flag = True\n",
    "for i in range(N):\n",
    "    for j in range(M):\n",
    "        if graph[i][j] == 0:\n",
    "            flag = False\n",
    "\n",
    "if flag == True:\n",
    "    print(max(day))\n",
    "else:\n",
    "    print(-1)"
   ]
  },
  {
   "cell_type": "markdown",
   "metadata": {},
   "source": [
    "#############################################################################\n",
    "\n",
    "bfs를 한 지점에서만 시작하면 안된다. 동시다발 가능 / 그냥 이전칸에 숫자 더하는 게 곧 카운트라는 것\n",
    "\n",
    "#############################################################################"
   ]
  },
  {
   "cell_type": "code",
   "execution_count": 20,
   "metadata": {},
   "outputs": [
    {
     "name": "stdout",
     "output_type": "stream",
     "text": [
      "[1, -1, 0, 0, 0, 0]\n",
      "[2, -1, 0, 0, 0, 0]\n",
      "[0, 0, 0, 0, -1, 0]\n",
      "[0, 0, 0, 0, -1, 1]\n",
      "\n",
      "[1, -1, 0, 0, 0, 0]\n",
      "[2, -1, 0, 0, 0, 0]\n",
      "[0, 0, 0, 0, -1, 2]\n",
      "[0, 0, 0, 0, -1, 1]\n",
      "\n",
      "[1, -1, 0, 0, 0, 0]\n",
      "[2, -1, 0, 0, 0, 0]\n",
      "[3, 0, 0, 0, -1, 2]\n",
      "[0, 0, 0, 0, -1, 1]\n",
      "\n",
      "[1, -1, 0, 0, 0, 0]\n",
      "[2, -1, 0, 0, 0, 3]\n",
      "[3, 0, 0, 0, -1, 2]\n",
      "[0, 0, 0, 0, -1, 1]\n",
      "\n",
      "[1, -1, 0, 0, 0, 0]\n",
      "[2, -1, 0, 0, 0, 3]\n",
      "[3, 4, 0, 0, -1, 2]\n",
      "[4, 0, 0, 0, -1, 1]\n",
      "\n",
      "[1, -1, 0, 0, 0, 4]\n",
      "[2, -1, 0, 0, 4, 3]\n",
      "[3, 4, 0, 0, -1, 2]\n",
      "[4, 0, 0, 0, -1, 1]\n",
      "\n",
      "[1, -1, 0, 0, 0, 4]\n",
      "[2, -1, 0, 0, 4, 3]\n",
      "[3, 4, 0, 0, -1, 2]\n",
      "[4, 5, 0, 0, -1, 1]\n",
      "\n",
      "[1, -1, 0, 0, 0, 4]\n",
      "[2, -1, 0, 0, 4, 3]\n",
      "[3, 4, 5, 0, -1, 2]\n",
      "[4, 5, 0, 0, -1, 1]\n",
      "\n",
      "[1, -1, 0, 0, 5, 4]\n",
      "[2, -1, 0, 0, 4, 3]\n",
      "[3, 4, 5, 0, -1, 2]\n",
      "[4, 5, 0, 0, -1, 1]\n",
      "\n",
      "[1, -1, 0, 0, 5, 4]\n",
      "[2, -1, 0, 5, 4, 3]\n",
      "[3, 4, 5, 0, -1, 2]\n",
      "[4, 5, 0, 0, -1, 1]\n",
      "\n",
      "[1, -1, 0, 0, 5, 4]\n",
      "[2, -1, 0, 5, 4, 3]\n",
      "[3, 4, 5, 0, -1, 2]\n",
      "[4, 5, 6, 0, -1, 1]\n",
      "\n",
      "[1, -1, 0, 0, 5, 4]\n",
      "[2, -1, 6, 5, 4, 3]\n",
      "[3, 4, 5, 6, -1, 2]\n",
      "[4, 5, 6, 0, -1, 1]\n",
      "\n",
      "[1, -1, 0, 6, 5, 4]\n",
      "[2, -1, 6, 5, 4, 3]\n",
      "[3, 4, 5, 6, -1, 2]\n",
      "[4, 5, 6, 0, -1, 1]\n",
      "\n",
      "[1, -1, 0, 6, 5, 4]\n",
      "[2, -1, 6, 5, 4, 3]\n",
      "[3, 4, 5, 6, -1, 2]\n",
      "[4, 5, 6, 0, -1, 1]\n",
      "\n",
      "[1, -1, 0, 6, 5, 4]\n",
      "[2, -1, 6, 5, 4, 3]\n",
      "[3, 4, 5, 6, -1, 2]\n",
      "[4, 5, 6, 7, -1, 1]\n",
      "\n",
      "[1, -1, 7, 6, 5, 4]\n",
      "[2, -1, 6, 5, 4, 3]\n",
      "[3, 4, 5, 6, -1, 2]\n",
      "[4, 5, 6, 7, -1, 1]\n",
      "\n",
      "[1, -1, 7, 6, 5, 4]\n",
      "[2, -1, 6, 5, 4, 3]\n",
      "[3, 4, 5, 6, -1, 2]\n",
      "[4, 5, 6, 7, -1, 1]\n",
      "\n",
      "[1, -1, 7, 6, 5, 4]\n",
      "[2, -1, 6, 5, 4, 3]\n",
      "[3, 4, 5, 6, -1, 2]\n",
      "[4, 5, 6, 7, -1, 1]\n",
      "\n",
      "[1, -1, 7, 6, 5, 4]\n",
      "[2, -1, 6, 5, 4, 3]\n",
      "[3, 4, 5, 6, -1, 2]\n",
      "[4, 5, 6, 7, -1, 1]\n",
      "\n",
      "[1, -1, 7, 6, 5, 4]\n",
      "[2, -1, 6, 5, 4, 3]\n",
      "[3, 4, 5, 6, -1, 2]\n",
      "[4, 5, 6, 7, -1, 1]\n",
      "\n"
     ]
    }
   ],
   "source": [
    "from collections import deque\n",
    "\n",
    "m, n = map(int, input().split())\n",
    "\n",
    "# import copy\n",
    "# matrix = copy.deepcopy(graph)\n",
    "matrix = [list(map(int, input().split())) for _ in range(n)]\n",
    "\n",
    "queue = deque([])\n",
    "dx, dy = [-1, 1, 0, 0], [0, 0, -1, 1]\n",
    "res = 0\n",
    "\n",
    "for i in range(n):\n",
    "    for j in range(m):\n",
    "        if matrix[i][j] == 1:\n",
    "            queue.append([i, j])\n",
    "\n",
    "\n",
    "def bfs():\n",
    "    while queue:\n",
    "        x, y = queue.popleft()\n",
    "        for i in range(4):\n",
    "            nx, ny = dx[i] + x, dy[i] + y\n",
    "            if 0 <= nx < n and 0 <= ny < m and matrix[nx][ny] == 0:\n",
    "                matrix[nx][ny] = matrix[x][y] + 1\n",
    "                queue.append([nx, ny])\n",
    "        # for x in matrix:\n",
    "        #     print(x)\n",
    "        # print()    \n",
    "\n",
    "bfs()\n",
    "for i in matrix:\n",
    "    for j in i:\n",
    "        # 다 찾아봤는데 토마토를 익히지 못했다면 -1 출력\n",
    "        if j == 0:\n",
    "            print(-1)\n",
    "            exit(0)\n",
    "    # 다 익혔다면 최댓값이 정답\n",
    "    res = max(res, max(i))\n",
    "# 처음 시작을 1로 표현했으니 1을 빼준다.\n",
    "print(res - 1)"
   ]
  },
  {
   "cell_type": "code",
   "execution_count": null,
   "metadata": {},
   "outputs": [],
   "source": []
  },
  {
   "cell_type": "code",
   "execution_count": null,
   "metadata": {},
   "outputs": [],
   "source": []
  }
 ],
 "metadata": {
  "kernelspec": {
   "display_name": "Python 3.8.13 ('220602')",
   "language": "python",
   "name": "python3"
  },
  "language_info": {
   "codemirror_mode": {
    "name": "ipython",
    "version": 3
   },
   "file_extension": ".py",
   "mimetype": "text/x-python",
   "name": "python",
   "nbconvert_exporter": "python",
   "pygments_lexer": "ipython3",
   "version": "3.8.13"
  },
  "orig_nbformat": 4,
  "vscode": {
   "interpreter": {
    "hash": "c338ad7255a2897c16c9ce6a2d417a70b7b950e3cde57c3d9f59d0eb8b97ca54"
   }
  }
 },
 "nbformat": 4,
 "nbformat_minor": 2
}
