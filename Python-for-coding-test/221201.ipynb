{
 "cells": [
  {
   "cell_type": "markdown",
   "metadata": {},
   "source": [
    "Today 2022.12.01\n",
    "\n",
    "\n",
    "## Title 알람 시계\n",
    "\n",
    "\n",
    "BOJ # 2884\n",
    "\n",
    "\n",
    "LV # Bronze 3"
   ]
  },
  {
   "cell_type": "code",
   "execution_count": 6,
   "metadata": {},
   "outputs": [
    {
     "name": "stdout",
     "output_type": "stream",
     "text": [
      "22 55\n"
     ]
    }
   ],
   "source": [
    "H, M = map(int, input().split())\n",
    "t = 45\n",
    "ans = ''\n",
    "if M == t:\n",
    "    ans = ans + str(H) + ' 0'\n",
    "elif M > t:\n",
    "    ans = ans + str(H) + ' ' + str(M-t)\n",
    "else:\n",
    "    t = t - M\n",
    "    new_M = 60 - t\n",
    "    if H == 0:\n",
    "        H = 23\n",
    "    else:\n",
    "        H = H - 1\n",
    "    ans = ans + str(H) + ' ' + str(new_M)\n",
    "print(ans)"
   ]
  },
  {
   "cell_type": "markdown",
   "metadata": {},
   "source": [
    "Today 2022.12.01\n",
    "\n",
    "\n",
    "## Title 크로아티아 알파벳\n",
    "\n",
    "\n",
    "BOJ # 2941\n",
    "\n",
    "\n",
    "LV # Silver 5\n",
    "\n",
    "\n",
    "Tag # Implementation"
   ]
  },
  {
   "cell_type": "markdown",
   "metadata": {},
   "source": [
    "예를 들어, ljes=njakb 은 크로아티아 알파벳 6개(lj, e, š, nj, a, k)로 이루어져 있다. \n",
    "\n",
    "단어가 주어졌을 때, 몇 개의 크로아티아 알파벳으로 이루어져 있는지 출력한다.\n",
    "\n",
    "dž는 무조건 하나의 알파벳으로 쓰이고, d와 ž가 분리된 것으로 보지 않는다. lj와 nj도 마찬가지이다.\n",
    "\n",
    " 위 목록에 없는 알파벳은 한 글자씩 센다."
   ]
  },
  {
   "cell_type": "code",
   "execution_count": null,
   "metadata": {},
   "outputs": [
    {
     "name": "stdout",
     "output_type": "stream",
     "text": [
      "['l', 'j', 's', '=', 'n', 'j', 'k']\n"
     ]
    }
   ],
   "source": [
    "s = list(input())\n",
    "dic = ['c','=','-','d','z','l','j','n','s']\n",
    "count = 0\n",
    "for x in s:\n",
    "    if x not in dic:\n",
    "        count += 1\n",
    "        s.remove(x)\n",
    "print(s)"
   ]
  },
  {
   "cell_type": "markdown",
   "metadata": {},
   "source": [
    "뻘짓"
   ]
  },
  {
   "cell_type": "code",
   "execution_count": 19,
   "metadata": {},
   "outputs": [
    {
     "name": "stdout",
     "output_type": "stream",
     "text": [
      "6\n"
     ]
    }
   ],
   "source": [
    "a = ['c=', 'c-', 'dz=', 'd-', 'lj', 'nj', 's=', 'z=']\n",
    "b = input()\n",
    "for i in a:\n",
    "    b = b.replace(i, 'a')\n",
    "print(len(b))"
   ]
  }
 ],
 "metadata": {
  "kernelspec": {
   "display_name": "Python 3.8.13 ('AUTOVC': conda)",
   "language": "python",
   "name": "python3"
  },
  "language_info": {
   "codemirror_mode": {
    "name": "ipython",
    "version": 3
   },
   "file_extension": ".py",
   "mimetype": "text/x-python",
   "name": "python",
   "nbconvert_exporter": "python",
   "pygments_lexer": "ipython3",
   "version": "3.8.13"
  },
  "orig_nbformat": 4,
  "vscode": {
   "interpreter": {
    "hash": "83701494a915308841c98d90e1627ab32994947d5b938ec1dfda5c4da74c3582"
   }
  }
 },
 "nbformat": 4,
 "nbformat_minor": 2
}
