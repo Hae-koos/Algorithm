{
 "cells": [
  {
   "attachments": {},
   "cell_type": "markdown",
   "metadata": {},
   "source": [
    "Today 2023.01.03\n",
    "\n",
    "\n",
    "## Title 계단 오르기\n",
    "\n",
    "\n",
    "BOJ # 2579\n",
    "\n",
    "\n",
    "LV # Silver 3\n",
    "\n",
    "\n",
    "Tag # "
   ]
  },
  {
   "attachments": {},
   "cell_type": "markdown",
   "metadata": {},
   "source": [
    "계단 오르기 게임은 계단 아래 시작점부터 계단 꼭대기에 위치한 도착점까지 가는 게임이다. <그림 1>과 같이 각각의 계단에는 일정한 점수가 쓰여 있는데 계단을 밟으면 그 계단에 쓰여 있는 점수를 얻게 된다.\n",
    "\n",
    "계단 오르는 데는 다음과 같은 규칙이 있다.\n",
    "\n",
    "1. 계단은 한 번에 한 계단씩 또는 두 계단씩 오를 수 있다. 즉, 한 계단을 밟으면서 이어서 다음 계단이나, 다음 다음 계단으로 오를 수 있다.\n",
    "2. 연속된 세 개의 계단을 모두 밟아서는 안 된다. 단, 시작점은 계단에 포함되지 않는다.\n",
    "3. 마지막 도착 계단은 반드시 밟아야 한다.\n",
    "\n",
    "따라서 첫 번째 계단을 밟고 이어 두 번째 계단이나, 세 번째 계단으로 오를 수 있다. 하지만, 첫 번째 계단을 밟고 이어 네 번째 계단으로 올라가거나, 첫 번째, 두 번째, 세 번째 계단을 연속해서 모두 밟을 수는 없다.\n",
    "\n",
    "각 계단에 쓰여 있는 점수가 주어질 때 이 게임에서 얻을 수 있는 총 점수의 최댓값을 구하는 프로그램을 작성하시오."
   ]
  },
  {
   "cell_type": "code",
   "execution_count": 7,
   "metadata": {},
   "outputs": [
    {
     "name": "stdout",
     "output_type": "stream",
     "text": [
      "[10, 20, 15, 25, 10, 20]\n"
     ]
    }
   ],
   "source": [
    "N = int(input())\n",
    "l = []\n",
    "for _ in range(N):\n",
    "    l.append(int(input()))\n",
    "print(l)"
   ]
  },
  {
   "cell_type": "code",
   "execution_count": 8,
   "metadata": {},
   "outputs": [
    {
     "name": "stdout",
     "output_type": "stream",
     "text": [
      "75\n"
     ]
    }
   ],
   "source": [
    "S = []\n",
    "S.append(l[0])\n",
    "S.append(max(l[0] + l[1], l[1]))\n",
    "S.append(max(l[0] + l[2], l[1] + l[2]))\n",
    "\n",
    "for i in range(3, N):\n",
    "    S.append(max(S[i-2] + l[i], S[i-3] + l[i] + l[i-1]))\n",
    "\n",
    "print(S[-1])"
   ]
  },
  {
   "cell_type": "code",
   "execution_count": null,
   "metadata": {},
   "outputs": [],
   "source": [
    "n = int(input())\n",
    "s = [0 for i in range(301)]\n",
    "dp = [0 for i in range(301)]\n",
    "for i in range(n):\n",
    "    s[i] = int(input())\n",
    "dp[0] = s[0]\n",
    "dp[1] = s[0] + s[1]\n",
    "dp[2] = max(s[1] + s[2], s[0] + s[2])\n",
    "for i in range(3, n):\n",
    "    dp[i] = max(dp[i - 3] + s[i - 1] + s[i], dp[i - 2] + s[i])\n",
    "print(dp[n - 1])"
   ]
  },
  {
   "attachments": {},
   "cell_type": "markdown",
   "metadata": {},
   "source": [
    "s로 점수 리스트를 받아주고, dp리스트는 점수의 합을 저장하는 리스트이다.\n",
    "\n",
    "\n",
    "dp리스트의 첫번째에는 당연히 s리스트 첫번째 점수가 들어가고,\n",
    " \n",
    "\n",
    "dp[1]에는 s[0] + s[1] 즉, 첫번째 점수와 두번째 점수를 합한 값을 넣어준다.\n",
    "\n",
    " \n",
    "dp[2]에는 첫번째 계단을 밟고 두 계단을 올랐을때 합과 두번째계단을 밟고 한 계단을 올랐을때 합중 큰 값을 넣어준다.\n",
    "\n",
    " \n",
    "마지막 계단은 꼭 밟아야 하므로\n",
    "\n",
    "1. 마지막 계단의 전 계단을 밟은 경우와\n",
    "2. 마지막 계단의 전 계단을 밟지 않은 경우가 있다.\n",
    "\n",
    "그러므로 dp[i]에는 dp[i - 3] + s[i] + s[i - 1]와 dp[i - 2] + s[i] 이 들어갈 수 있다.\n",
    "\n",
    "이 두값중에서 큰 값을 넣어준다."
   ]
  }
 ],
 "metadata": {
  "kernelspec": {
   "display_name": "AUTOVC",
   "language": "python",
   "name": "python3"
  },
  "language_info": {
   "codemirror_mode": {
    "name": "ipython",
    "version": 3
   },
   "file_extension": ".py",
   "mimetype": "text/x-python",
   "name": "python",
   "nbconvert_exporter": "python",
   "pygments_lexer": "ipython3",
   "version": "3.8.13"
  },
  "orig_nbformat": 4,
  "vscode": {
   "interpreter": {
    "hash": "83701494a915308841c98d90e1627ab32994947d5b938ec1dfda5c4da74c3582"
   }
  }
 },
 "nbformat": 4,
 "nbformat_minor": 2
}
