{
 "cells": [
  {
   "cell_type": "code",
   "execution_count": 1,
   "metadata": {},
   "outputs": [],
   "source": [
    "import numpy as np\n",
    "import pandas as pd\n",
    "import random\n",
    "import time"
   ]
  },
  {
   "cell_type": "markdown",
   "metadata": {},
   "source": [
    "##### 한동이는 공부가 하기 싫어!"
   ]
  },
  {
   "cell_type": "markdown",
   "metadata": {},
   "source": [
    "백준 3182"
   ]
  },
  {
   "cell_type": "markdown",
   "metadata": {},
   "source": [
    "- 당신의 목표는 한동이가 한 사람에게만 시험문제를 물어볼 수 있다고 할 때, \n",
    "- 최대한 많은 선배들을 만날 수 있게 하기 위해서 누구에게 시험문제를 물어 볼 것인지를 알려주는 것이다. -> DFS의 Depth를 가장 깊게 ?"
   ]
  },
  {
   "cell_type": "markdown",
   "metadata": {},
   "source": [
    "- 입력의 첫 줄에는 정수 N이 주어진다. N은 2이상 1000 이하의 자연수이다. 선배들은 1부터 N까지 번호지어져 있다\n",
    "- 다음 N줄에 하나의 숫자가 주어진다. \n",
    "- 첫 번째 줄은 첫 번째 선배의 대답이고 두 번째 줄은 두 번째 선배의 대답이다. 이렇게 N번째 선배의 대답까지 입력이 주어진다."
   ]
  },
  {
   "cell_type": "markdown",
   "metadata": {},
   "source": [
    "- 첫째 줄에 한동이가 물어봐야 할 선배의 번호를 출력한다. 하나 이상의 정답이 있다면 번호가 작은 선배를 출력한다. "
   ]
  },
  {
   "cell_type": "markdown",
   "metadata": {},
   "source": [
    "왜 이리 그래프 탐색 문제에 익숙해지지를 못할까.."
   ]
  },
  {
   "cell_type": "code",
   "execution_count": 56,
   "metadata": {},
   "outputs": [
    {
     "name": "stdout",
     "output_type": "stream",
     "text": [
      "now v 1 count 1\n",
      "now v 2 count 2\n",
      "now v 3 count 3\n",
      "now v 4 count 4\n",
      "1 4\n",
      "now v 2 count 1\n",
      "now v 3 count 2\n",
      "now v 4 count 3\n",
      "2 4\n",
      "now v 3 count 1\n",
      "now v 4 count 2\n",
      "3 4\n",
      "now v 4 count 1\n",
      "now v 3 count 2\n",
      "4 4\n",
      "now v 5 count 1\n",
      "now v 1 count 2\n",
      "now v 2 count 3\n",
      "now v 3 count 4\n",
      "now v 4 count 5\n",
      "5 5\n",
      "now v 6 count 1\n",
      "now v 1 count 2\n",
      "now v 2 count 3\n",
      "now v 3 count 4\n",
      "now v 4 count 5\n",
      "6 5\n",
      "\n",
      "정답은 5\n"
     ]
    }
   ],
   "source": [
    "N = int(input())\n",
    "# 첫 번째 인덱스는 생략하고\n",
    "ans = [0]\n",
    "for _ in range(N):\n",
    "    ans.append(int(input()))\n",
    "\n",
    "def dfs(ans, v, visited):\n",
    "    global count\n",
    "    if not visited[v]:\n",
    "        visited[v] = True\n",
    "        count += 1\n",
    "        print('now v {} count {}'.format(v, count))\n",
    "        dfs(ans, ans[v], visited)\n",
    "        return count\n",
    "    return count\n",
    "\n",
    "result = 0\n",
    "ekq = []\n",
    "for i in range(1, N+1):\n",
    "    visited = [False] * (N+1)\n",
    "    count = 0\n",
    "    result = max(result, dfs(ans, i, visited))\n",
    "    ekq.append([i, result])\n",
    "    print(i, result)\n",
    "\n",
    "print()\n",
    "print('정답은 {}'.format(max(ekq, key = lambda x:x[1])[0]))"
   ]
  },
  {
   "cell_type": "code",
   "execution_count": 61,
   "metadata": {},
   "outputs": [
    {
     "name": "stdout",
     "output_type": "stream",
     "text": [
      "5\n"
     ]
    }
   ],
   "source": [
    "N = int(input())\n",
    "# 첫 번째 인덱스는 생략하고\n",
    "ans = [0]\n",
    "for _ in range(N):\n",
    "    ans.append(int(input()))\n",
    "\n",
    "def dfs(v, count):\n",
    "    visited[v] = True\n",
    "    count += 1\n",
    "    if ans[ans[v]] != 0 and visited[ans[v]] == False:\n",
    "        count = dfs(ans[v], count)\n",
    "    return count\n",
    "\n",
    "# 누구를 먼저 만나야 할까\n",
    "who = 0\n",
    "max_count = 0\n",
    "\n",
    "for i in range(1, N+1):\n",
    "    visited = [False for _ in range(N+1)]\n",
    "    result = dfs(i,0)\n",
    "\n",
    "    if result > max_count:\n",
    "        who = i\n",
    "        max_count = result\n",
    "    \n",
    "    elif result == max_count:\n",
    "        if who > i:\n",
    "            who = i\n",
    "    \n",
    "print(who)"
   ]
  },
  {
   "cell_type": "markdown",
   "metadata": {},
   "source": [
    "##### 미로탐색"
   ]
  },
  {
   "cell_type": "markdown",
   "metadata": {},
   "source": [
    "백준 2178"
   ]
  },
  {
   "cell_type": "code",
   "execution_count": 14,
   "metadata": {},
   "outputs": [
    {
     "data": {
      "text/plain": [
       "[[1, 0, 1, 1, 1, 1],\n",
       " [1, 0, 1, 0, 1, 0],\n",
       " [1, 0, 1, 0, 1, 1],\n",
       " [1, 1, 1, 0, 1, 1]]"
      ]
     },
     "execution_count": 14,
     "metadata": {},
     "output_type": "execute_result"
    }
   ],
   "source": [
    "N, M = map(int, input().split())\n",
    "graph = []\n",
    "for _ in range(N):\n",
    "    graph.append(list(map(int, list(input()))))\n",
    "graph"
   ]
  },
  {
   "cell_type": "code",
   "execution_count": 15,
   "metadata": {},
   "outputs": [],
   "source": [
    "import copy\n",
    "c = copy.deepcopy(graph)"
   ]
  },
  {
   "cell_type": "code",
   "execution_count": 52,
   "metadata": {},
   "outputs": [
    {
     "data": {
      "text/plain": [
       "[[1, 0, 1, 1, 1, 1],\n",
       " [1, 0, 1, 0, 1, 0],\n",
       " [1, 0, 1, 0, 1, 1],\n",
       " [1, 1, 1, 0, 1, 1]]"
      ]
     },
     "execution_count": 52,
     "metadata": {},
     "output_type": "execute_result"
    }
   ],
   "source": [
    "graph = copy.deepcopy(c)\n",
    "graph"
   ]
  },
  {
   "cell_type": "code",
   "execution_count": 57,
   "metadata": {},
   "outputs": [
    {
     "name": "stdout",
     "output_type": "stream",
     "text": [
      "deque([(1, 0)])\n",
      "deque([(1, 0), (0, 1)])\n",
      "deque([(0, 1), (2, 0)])\n",
      "deque([(0, 1), (2, 0), (1, 1)])\n",
      "deque([(0, 1), (2, 0), (1, 1), (0, 0)])\n",
      "deque([(1, 1), (0, 0), (3, 0)])\n",
      "deque([(1, 1), (0, 0), (3, 0), (2, 1)])\n",
      "deque([(2, 1), (3, 1)])\n",
      "deque([(3, 1), (2, 2)])\n",
      "deque([(2, 2), (3, 2)])\n",
      "deque([(3, 2), (2, 3)])\n",
      "deque([(2, 3), (3, 3)])\n",
      "deque([(3, 3), (2, 4)])\n",
      "deque([(3, 3), (2, 4), (1, 3)])\n",
      "deque([(1, 3), (2, 5)])\n",
      "deque([(1, 3), (2, 5), (1, 4)])\n",
      "deque([(2, 5), (1, 4), (0, 3)])\n",
      "deque([(1, 4), (0, 3), (3, 5)])\n",
      "deque([(0, 3), (3, 5), (0, 4)])\n",
      "9\n"
     ]
    }
   ],
   "source": [
    "N, M = map(int, input().split())\n",
    "graph = []\n",
    "for _ in range(N):\n",
    "    graph.append(list(map(int, list(input()))))\n",
    "\n",
    "from collections import deque\n",
    "\n",
    "dx = [1, 0, -1, 0]\n",
    "dy = [0, 1, 0, -1]\n",
    "\n",
    "def bfs(x, y):\n",
    "    q = deque([(x,y)])\n",
    "    while q:\n",
    "        x, y = q.popleft()\n",
    "\n",
    "        for i in range(4):\n",
    "            nx = x + dx[i]\n",
    "            ny = y + dy[i]\n",
    "\n",
    "            if 0 <= nx < N and 0 <= ny < M:\n",
    "                if graph[nx][ny] == 1:\n",
    "                    graph[nx][ny] = graph[x][y] + 1\n",
    "                    q.append((nx, ny))\n",
    "                    #print(q)\n",
    "\n",
    "    return graph[N-1][M-1]\n",
    "result = bfs(0,0)\n",
    "print(result)"
   ]
  }
 ],
 "metadata": {
  "kernelspec": {
   "display_name": "Python 3.8.13 ('220602')",
   "language": "python",
   "name": "python3"
  },
  "language_info": {
   "codemirror_mode": {
    "name": "ipython",
    "version": 3
   },
   "file_extension": ".py",
   "mimetype": "text/x-python",
   "name": "python",
   "nbconvert_exporter": "python",
   "pygments_lexer": "ipython3",
   "version": "3.8.13"
  },
  "orig_nbformat": 4,
  "vscode": {
   "interpreter": {
    "hash": "c338ad7255a2897c16c9ce6a2d417a70b7b950e3cde57c3d9f59d0eb8b97ca54"
   }
  }
 },
 "nbformat": 4,
 "nbformat_minor": 2
}
