{
 "cells": [
  {
   "cell_type": "code",
   "execution_count": 1,
   "metadata": {},
   "outputs": [],
   "source": [
    "import numpy as np\n",
    "import pandas as pd\n",
    "import random\n",
    "import time"
   ]
  },
  {
   "cell_type": "markdown",
   "metadata": {},
   "source": [
    "##### 문자열 뒤집기"
   ]
  },
  {
   "cell_type": "markdown",
   "metadata": {},
   "source": [
    "- 1,000,000보다 작은 길이의 1과 0으로 이루어진 문자열 입력\n",
    "- 연속된 문자열을 한번에 뒤집는 행동을 몇 번 해서 모두 같은 문자열로 만들 수 있을까\n",
    "- 0001100 이라면 11을 00으로 뒤집으면 되니 1번이 정답\n",
    "- 모두 0으로 바꾸는 경우 vs 모두 1로 바꾸는 경우에서 Minimum ‼️"
   ]
  },
  {
   "cell_type": "code",
   "execution_count": 1,
   "metadata": {},
   "outputs": [],
   "source": [
    "s1 = '0001100'\n",
    "s2 = '1001100'\n",
    "s3 = '0001101'"
   ]
  },
  {
   "cell_type": "code",
   "execution_count": 18,
   "metadata": {},
   "outputs": [
    {
     "name": "stdout",
     "output_type": "stream",
     "text": [
      "1\n",
      "2\n"
     ]
    }
   ],
   "source": [
    "s = input()\n",
    "count0 = 0\n",
    "count1 = 0\n",
    "\n",
    "if s[0] == '0':\n",
    "    count1 += 1\n",
    "else:\n",
    "    count0 += 1\n",
    "\n",
    "for i in range(len(s)-1):\n",
    "    if s[i] != s[i+1]:\n",
    "        if s[i] == '0':\n",
    "            count0 += 1\n",
    "        else:\n",
    "            count1 += 1\n",
    "\n",
    "\n",
    "print(min(count0, count1))"
   ]
  },
  {
   "cell_type": "markdown",
   "metadata": {},
   "source": [
    "##### 만들 수 없는 금액"
   ]
  },
  {
   "cell_type": "markdown",
   "metadata": {},
   "source": [
    "- N개의 동전으로 만들 수 없는 양의 정수 금액 중 최솟값을 구하는 프로그램 작성\n",
    "- N = 5                                             \n",
    "3 2 1 1 9 원 짜리 동전일 때             \n",
    "8원은 못만드니 답이 8                     \n",
    "- N = 3  \n",
    "3 5 7  \n",
    "1원 못만드니 답이 1"
   ]
  },
  {
   "cell_type": "code",
   "execution_count": 13,
   "metadata": {},
   "outputs": [
    {
     "name": "stdout",
     "output_type": "stream",
     "text": [
      "[1, 2, 3, 4, 5, 6]\n",
      "N개의 동전으로 만들 수 없는 양의 정수 금액 중 최솟값은 6\n"
     ]
    }
   ],
   "source": [
    "# My Soluton\n",
    "from itertools import combinations\n",
    "\n",
    "N = int(input())\n",
    "l = list(map(int, input().split()))\n",
    "\n",
    "lr= []\n",
    "for i in range(len(l)):\n",
    "    lr = lr + list(map(sum, combinations(l,int(i)+1)))\n",
    "lr.sort()\n",
    "lr = list(set(lr))\n",
    "print(lr)\n",
    "for i in range(len(lr)):\n",
    "    if lr[i] != i+1:\n",
    "        break\n",
    "print(\"N개의 동전으로 만들 수 없는 양의 정수 금액 중 최솟값은 {}\".format(min(lr[-1]+1, i+1)))"
   ]
  },
  {
   "cell_type": "code",
   "execution_count": 4,
   "metadata": {},
   "outputs": [
    {
     "name": "stdout",
     "output_type": "stream",
     "text": [
      "29\n"
     ]
    }
   ],
   "source": [
    "# Soluton\n",
    "N = int(input())\n",
    "l = list(map(int, input().split()))\n",
    "l.sort()\n",
    "\n",
    "target = 1\n",
    "for x in l:\n",
    "    if target < x:\n",
    "        break\n",
    "    target += x\n",
    "print(target)"
   ]
  },
  {
   "cell_type": "markdown",
   "metadata": {},
   "source": [
    "##### 볼링공 고르기"
   ]
  },
  {
   "cell_type": "markdown",
   "metadata": {},
   "source": [
    "둘이 서로 다른 무게의 볼링공을 고르는 경우의 수 구하기"
   ]
  },
  {
   "cell_type": "markdown",
   "metadata": {},
   "source": [
    "테스트케이스 1) 5 3 / 1 3 2 3 2 -> 8  \n",
    "\n",
    "테스트케이스 2) 8 5 / 1 5 4 3 2 4 5 2 -> 25\n"
   ]
  },
  {
   "cell_type": "code",
   "execution_count": null,
   "metadata": {},
   "outputs": [
    {
     "name": "stdout",
     "output_type": "stream",
     "text": [
      "25\n"
     ]
    }
   ],
   "source": [
    "# My Solution\n",
    "from itertools import combinations\n",
    "\n",
    "N, M = map(int, input().split())\n",
    "B = list(map(int, input().split()))\n",
    "\n",
    "count = 0\n",
    "\n",
    "l = list(combinations(B,2))\n",
    "for x in l:\n",
    "    if x[0] != x[1]:\n",
    "        count+=1\n",
    "print(count)\n"
   ]
  },
  {
   "cell_type": "code",
   "execution_count": 9,
   "metadata": {},
   "outputs": [
    {
     "name": "stdout",
     "output_type": "stream",
     "text": [
      "25\n"
     ]
    }
   ],
   "source": [
    "# Solution\n",
    "N, M = map(int, input().split())\n",
    "B = list(map(int, input().split()))\n",
    "\n",
    "W = [0] * 11 # 1부터 10까지 무게를 담는다.\n",
    "\n",
    "for x in B:\n",
    "    W[x] += 1\n",
    "\n",
    "result = 0\n",
    "for i in range(1, M + 1):\n",
    "    N -= W[i]\n",
    "    result += N * W[i]\n",
    "print(result)"
   ]
  }
 ],
 "metadata": {
  "kernelspec": {
   "display_name": "Python 3.8.13 ('algorithm')",
   "language": "python",
   "name": "python3"
  },
  "language_info": {
   "codemirror_mode": {
    "name": "ipython",
    "version": 3
   },
   "file_extension": ".py",
   "mimetype": "text/x-python",
   "name": "python",
   "nbconvert_exporter": "python",
   "pygments_lexer": "ipython3",
   "version": "3.8.13"
  },
  "orig_nbformat": 4,
  "vscode": {
   "interpreter": {
    "hash": "ee431ac274e33366c10c3ac30cd4fb33ff3ed0dd6a8cc3f05073bd47291a9c12"
   }
  }
 },
 "nbformat": 4,
 "nbformat_minor": 2
}
