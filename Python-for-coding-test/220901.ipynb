{
 "cells": [
  {
   "cell_type": "markdown",
   "metadata": {},
   "source": [
    "### 팩토리얼 0의 개수"
   ]
  },
  {
   "cell_type": "code",
   "execution_count": 13,
   "metadata": {},
   "outputs": [
    {
     "name": "stdout",
     "output_type": "stream",
     "text": [
      "7\n"
     ]
    }
   ],
   "source": [
    "N = int(input())\n",
    "import math\n",
    "n = math.factorial(N)\n",
    "s = str(n)\n",
    "count = 0\n",
    "for i in range(len(s)):\n",
    "    if s[-i-1] != '0':\n",
    "        break\n",
    "    if s[-i-1] == '0':\n",
    "        count+=1\n",
    "print(count)"
   ]
  },
  {
   "cell_type": "code",
   "execution_count": 10,
   "metadata": {},
   "outputs": [
    {
     "data": {
      "text/plain": [
       "'265252859812191058636308480000000'"
      ]
     },
     "execution_count": 10,
     "metadata": {},
     "output_type": "execute_result"
    }
   ],
   "source": [
    "s"
   ]
  },
  {
   "cell_type": "markdown",
   "metadata": {},
   "source": [
    "### AC"
   ]
  },
  {
   "cell_type": "code",
   "execution_count": 44,
   "metadata": {},
   "outputs": [
    {
     "name": "stdout",
     "output_type": "stream",
     "text": [
      "[]\n",
      "ERROR\n",
      "[]\n"
     ]
    }
   ],
   "source": [
    "T = int(input())\n",
    "for _ in range(T):\n",
    "    C = list(input())\n",
    "    L = int(input())\n",
    "    l = list(input())\n",
    "    new_l = []\n",
    "    for x in l:\n",
    "        if x.isdigit() == True:\n",
    "            new_l.append(x)\n",
    "    for c in C:\n",
    "        if c == 'R':\n",
    "            new_l.reverse()\n",
    "        elif c == 'D':\n",
    "            if len(new_l) == 0:\n",
    "                print('ERROR')\n",
    "                break\n",
    "            else:\n",
    "                del new_l[0]\n",
    "    \n",
    "    \n",
    "    if len(new_l) > 0:\n",
    "        ans = ['[']\n",
    "        for x in new_l:\n",
    "            ans.append(x)\n",
    "            if x == new_l[-1]:\n",
    "                break\n",
    "            ans.append(',')\n",
    "        ans.append(']')\n",
    "    \n",
    "    try:\n",
    "        for y in ans:\n",
    "            print(y, end='')\n",
    "        print()\n",
    "    except:\n",
    "        pass\n",
    "    "
   ]
  },
  {
   "cell_type": "code",
   "execution_count": 49,
   "metadata": {},
   "outputs": [
    {
     "name": "stdout",
     "output_type": "stream",
     "text": [
      "[2,1]\n",
      "ERROR\n",
      "[1,2,3,5,8]\n",
      "ERROR\n"
     ]
    }
   ],
   "source": [
    "T = int(input())\n",
    "for _ in range(T):\n",
    "    C = list(input())\n",
    "    L = int(input())\n",
    "    l = list(input())\n",
    "    if C.count('D') > L:\n",
    "        print('error')\n",
    "        continue\n",
    "    else:\n",
    "        new_l = []\n",
    "        for x in l:\n",
    "            if x.isdigit() == True:\n",
    "                new_l.append(x)\n",
    "        for c in C:\n",
    "            if c == 'R':\n",
    "                new_l.reverse()\n",
    "            elif c == 'D':\n",
    "                del new_l[0]\n",
    "    \n",
    "    if len(new_l) > 0:\n",
    "        ans = ['[']\n",
    "        for x in new_l:\n",
    "            ans.append(x)\n",
    "            if x == new_l[-1]:\n",
    "                break\n",
    "            ans.append(',')\n",
    "        ans.append(']')\n",
    "    \n",
    "    try:\n",
    "        for y in ans:\n",
    "            print(y, end='')\n",
    "        print()\n",
    "    except:\n",
    "        pass"
   ]
  },
  {
   "cell_type": "markdown",
   "metadata": {},
   "source": [
    "시간초과\n",
    "\n",
    "'R' 들어왔다고 진짜로 reverse 때리면 시간초과가 난다고 한다.  \n",
    "'R'이 나왔을 경우에는 카운트를 해주고  \n",
    "'D'가 나왔을 때 'R'이 짝수면 popleft, 홀수면 pop을 해주는 형태로 해결하고,  \n",
    "마지막 카운트가 홀수면 배열을 reverse 하여 출력한다."
   ]
  },
  {
   "cell_type": "code",
   "execution_count": null,
   "metadata": {},
   "outputs": [],
   "source": [
    "from collections import deque\n",
    "\n",
    "n = int(input())\n",
    "for i in range(n):\n",
    "    a = input().strip()\n",
    "    m = int(input())\n",
    "    flag = 1\n",
    "    arr = input().strip()\n",
    "    dq = deque(arr[1:-1].split(','))\n",
    "    if m == 0:\n",
    "        dq = deque()\n",
    "    R = 0\n",
    "    for i in range(len(a)):\n",
    "        if a[i] == 'R':\n",
    "            R += 1\n",
    "        elif a[i] == 'D':\n",
    "            if len(dq) == 0:\n",
    "                print('error')\n",
    "                flag = 0\n",
    "                break\n",
    "            else:\n",
    "                if R % 2 == 0:\n",
    "                    dq.popleft()\n",
    "                else:\n",
    "                    dq.pop()\n",
    "    if flag == 0:\n",
    "        continue\n",
    "    else:\n",
    "        if R % 2 == 0:\n",
    "            print('[' + \",\".join(dq) + ']')\n",
    "        else:\n",
    "            dq.reverse()\n",
    "            print('[' + \",\".join(dq) + ']')\n",
    "                    "
   ]
  },
  {
   "cell_type": "code",
   "execution_count": null,
   "metadata": {},
   "outputs": [],
   "source": []
  },
  {
   "cell_type": "code",
   "execution_count": null,
   "metadata": {},
   "outputs": [],
   "source": []
  },
  {
   "cell_type": "code",
   "execution_count": null,
   "metadata": {},
   "outputs": [],
   "source": []
  },
  {
   "cell_type": "code",
   "execution_count": null,
   "metadata": {},
   "outputs": [],
   "source": []
  },
  {
   "cell_type": "code",
   "execution_count": null,
   "metadata": {},
   "outputs": [],
   "source": []
  },
  {
   "cell_type": "code",
   "execution_count": null,
   "metadata": {},
   "outputs": [],
   "source": []
  }
 ],
 "metadata": {
  "kernelspec": {
   "display_name": "Python 3.8.13 ('AUTOVC': conda)",
   "language": "python",
   "name": "python3"
  },
  "language_info": {
   "codemirror_mode": {
    "name": "ipython",
    "version": 3
   },
   "file_extension": ".py",
   "mimetype": "text/x-python",
   "name": "python",
   "nbconvert_exporter": "python",
   "pygments_lexer": "ipython3",
   "version": "3.8.13"
  },
  "orig_nbformat": 4,
  "vscode": {
   "interpreter": {
    "hash": "83701494a915308841c98d90e1627ab32994947d5b938ec1dfda5c4da74c3582"
   }
  }
 },
 "nbformat": 4,
 "nbformat_minor": 2
}
