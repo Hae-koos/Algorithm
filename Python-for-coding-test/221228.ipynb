{
 "cells": [
  {
   "attachments": {},
   "cell_type": "markdown",
   "metadata": {},
   "source": [
    "Today 2022.12.28\n",
    "\n",
    "\n",
    "## Title 연속합\n",
    "\n",
    "\n",
    "BOJ # 1912\n",
    "\n",
    "\n",
    "LV # Sivler 2\n",
    "\n",
    "\n",
    "Tag # Dynamic Programming"
   ]
  },
  {
   "attachments": {},
   "cell_type": "markdown",
   "metadata": {},
   "source": [
    "n개의 정수로 이루어진 임의의 수열이 주어진다. 우리는 이 중 연속된 몇 개의 수를 선택해서 구할 수 있는 합 중 가장 큰 합을 구하려고 한다. 단, 수는 한 개 이상 선택해야 한다.\n",
    "\n",
    "예를 들어서 10, -4, 3, 1, 5, 6, -35, 12, 21, -1 이라는 수열이 주어졌다고 하자. 여기서 정답은 12+21인 33이 정답이 된다."
   ]
  },
  {
   "cell_type": "code",
   "execution_count": 3,
   "metadata": {},
   "outputs": [
    {
     "name": "stdout",
     "output_type": "stream",
     "text": [
      "[10, -4, 3, 1, 5, 6, -35, 12, 21, -1]\n",
      "[10, 6, 9, 10, 15, 21, -14, 12, 33, 32]\n",
      "33\n"
     ]
    }
   ],
   "source": [
    "N = int(input())\n",
    "l = list(map(int, input().split()))\n",
    "\n",
    "print(l)\n",
    "\n",
    "for i in range(1, N):\n",
    "    l[i] = max(l[i], l[i-1] + l[i])\n",
    "\n",
    "print(l)\n",
    "print(max(l))"
   ]
  },
  {
   "attachments": {},
   "cell_type": "markdown",
   "metadata": {},
   "source": [
    "Today 2022.12.28\n",
    "\n",
    "\n",
    "## Title RGB 거리\n",
    "\n",
    "\n",
    "BOJ # 1149\n",
    "\n",
    "\n",
    "LV # Sivler 1\n",
    "\n",
    "\n",
    "Tag # Dynamic Programming"
   ]
  },
  {
   "attachments": {},
   "cell_type": "markdown",
   "metadata": {},
   "source": [
    "RGB거리에는 집이 N개 있다. 거리는 선분으로 나타낼 수 있고, 1번 집부터 N번 집이 순서대로 있다.\n",
    "\n",
    "집은 빨강, 초록, 파랑 중 하나의 색으로 칠해야 한다. 각각의 집을 빨강, 초록, 파랑으로 칠하는 비용이 주어졌을 때, 아래 규칙을 만족하면서 모든 집을 칠하는 비용의 최솟값을 구해보자.\n",
    "\n",
    "- 1번 집의 색은 2번 집의 색과 같지 않아야 한다.\n",
    "- N번 집의 색은 N-1번 집의 색과 같지 않아야 한다.\n",
    "- i(2 ≤ i ≤ N-1)번 집의 색은 i-1번, i+1번 집의 색과 같지 않아야 한다."
   ]
  },
  {
   "cell_type": "code",
   "execution_count": 11,
   "metadata": {},
   "outputs": [
    {
     "name": "stdout",
     "output_type": "stream",
     "text": [
      "96\n"
     ]
    }
   ],
   "source": [
    "N = int(input())\n",
    "g = []\n",
    "\n",
    "for _ in range(N):\n",
    "    g.append(list(map(int, input().split())))\n",
    "\n",
    "for i in range(1, N):\n",
    "    g[i][0] = min(g[i-1][1], g[i-1][2]) + g[i][0]\n",
    "    g[i][1] = min(g[i-1][0], g[i-1][2]) + g[i][1]\n",
    "    g[i][2] = min(g[i-1][0], g[i-1][1]) + g[i][2]\n",
    "\n",
    "print(min(g[N-1]))"
   ]
  },
  {
   "cell_type": "code",
   "execution_count": 8,
   "metadata": {},
   "outputs": [
    {
     "name": "stdout",
     "output_type": "stream",
     "text": [
      "[[1, 100, 100], [200, 2, 101], [100, 100, 1]]\n",
      "[[1, 100, 100], [200, 2, 101], [102, 201, 3]]\n"
     ]
    },
    {
     "data": {
      "text/plain": [
       "[[1, 100, 100], [200, 2, 101], [102, 201, 3]]"
      ]
     },
     "execution_count": 8,
     "metadata": {},
     "output_type": "execute_result"
    }
   ],
   "source": [
    "for i in range(1, N):\n",
    "    g[i][0] = min(g[i-1][1], g[i-1][2]) + g[i][0]\n",
    "    g[i][1] = min(g[i-1][0], g[i-1][2]) + g[i][1]\n",
    "    g[i][2] = min(g[i-1][0], g[i-1][1]) + g[i][2]\n",
    "    print(g)\n",
    "g"
   ]
  },
  {
   "cell_type": "code",
   "execution_count": 9,
   "metadata": {},
   "outputs": [
    {
     "name": "stdout",
     "output_type": "stream",
     "text": [
      "3\n"
     ]
    }
   ],
   "source": [
    "print(min(g[N-1]))"
   ]
  },
  {
   "cell_type": "code",
   "execution_count": null,
   "metadata": {},
   "outputs": [],
   "source": []
  }
 ],
 "metadata": {
  "kernelspec": {
   "display_name": "AUTOVC",
   "language": "python",
   "name": "python3"
  },
  "language_info": {
   "codemirror_mode": {
    "name": "ipython",
    "version": 3
   },
   "file_extension": ".py",
   "mimetype": "text/x-python",
   "name": "python",
   "nbconvert_exporter": "python",
   "pygments_lexer": "ipython3",
   "version": "3.8.13"
  },
  "orig_nbformat": 4,
  "vscode": {
   "interpreter": {
    "hash": "83701494a915308841c98d90e1627ab32994947d5b938ec1dfda5c4da74c3582"
   }
  }
 },
 "nbformat": 4,
 "nbformat_minor": 2
}
