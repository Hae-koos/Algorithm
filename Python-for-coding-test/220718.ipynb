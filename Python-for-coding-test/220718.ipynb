{
 "cells": [
  {
   "cell_type": "code",
   "execution_count": 1,
   "metadata": {},
   "outputs": [],
   "source": [
    "import numpy as np\n",
    "import pandas as pd\n",
    "import random\n",
    "import time"
   ]
  },
  {
   "cell_type": "markdown",
   "metadata": {},
   "source": [
    "##### 욱제는 도박쟁이야 !!"
   ]
  },
  {
   "cell_type": "markdown",
   "metadata": {},
   "source": [
    "백준 14655"
   ]
  },
  {
   "cell_type": "markdown",
   "metadata": {},
   "source": [
    "- 동전 뒤집기 동전의 양면에는 절댓값이 같고 부호가 다른 정수가 한 면에 하나씩 쓰여 있다.\n",
    "- 한 플레이어 당 두 번의 라운드가 주어진다. \n",
    "- 모든 라운드는 같은 동전으로 진행되며, 딜러는 각 라운드마다 N개의 동전을 임의로 섞고 이를 일렬로 배열한다.\n",
    "- 첫 번째 라운드에서는 동전에 표시된 값들의 합이 '최대'가 되도록 뒤집어야 하고\n",
    "- 두 번째 라운드에서는 동전에 표시된 값들의 합이 '최소'가 되도록 뒤집어야 한다\n",
    "- (첫 번째 라운드 동전 값의 합) - (두 번째 라운드 동전 값의 합)이 해당 플레이어가 게임에서 획득한 점수이고, 이 점수가 최대가 되는 플레이어가 바로 게임의 승자가 된다.\n",
    "- 욱제는 엄지, 검지, 중지를 이용해서 항상 연속한 3개의 동전을 뒤집는 최고의 동전 뒤집러이다.\n",
    "- 욱제는 연속한 3개의 동전을 뒤집지 않으면 이길 수 없다고 생각하기 때문에 실패하는 경우 없이 항상 연속한 3개의 동전만 뒤집는다.\n",
    "- 동전 배열의 양 끝에서 벗어나서 양 끝의 동전만 뒤집거나 양 끝의 두 개 동전만 뒤집는 것도 가능하다. 동전을 뒤집는 횟수에 제한은 없다."
   ]
  },
  {
   "cell_type": "markdown",
   "metadata": {},
   "source": [
    "- 첫째 줄에 동전의 수 N이 주어진다. (1 ≤ N ≤ 10,000)\n",
    "- 둘째 줄에 욱제의 첫 번째 라운드의 N개 동전의 배열이 주어진다.\n",
    "- 셋째 줄에 욱제의 두 번째 라운드의 N개 동전의 배열이 주어진다. \n",
    "- 동전에 적히는 수는 절댓값 10,000 이하의 정수이다."
   ]
  },
  {
   "cell_type": "markdown",
   "metadata": {},
   "source": [
    "EXAMPLE\n",
    "\n",
    "6  \n",
    "5 -2 -7 -8 9 1  \n",
    "-9 1 8 -7 5 2  \n",
    "\n",
    "-------> 64"
   ]
  },
  {
   "cell_type": "markdown",
   "metadata": {},
   "source": [
    "HINT\n",
    "\n",
    "첫 번째 라운드에서 –2, -7, -8을 뒤집으면 동전 값의 합을 최대로 만들 수 있다.  \n",
    "\n",
    "두 번째 라운드에서 1, 8, -7을 뒤집고 7, 5, 2를 뒤집으면 동전 값의 합을 최소로 만들 수 있다.\n"
   ]
  },
  {
   "cell_type": "code",
   "execution_count": 21,
   "metadata": {},
   "outputs": [
    {
     "name": "stdout",
     "output_type": "stream",
     "text": [
      "64\n"
     ]
    }
   ],
   "source": [
    "N = int(input())\n",
    "coins_1 = list(map(int, input().split()))\n",
    "coins_2 = list(map(int, input().split()))\n",
    "\n",
    "coins = list(map(abs, coins_1))\n",
    "print(sum(coins) * 2)"
   ]
  },
  {
   "cell_type": "markdown",
   "metadata": {},
   "source": [
    "##### 한조서열정리하고옴 ㅋㅋ"
   ]
  },
  {
   "cell_type": "markdown",
   "metadata": {},
   "source": [
    "백준 14659"
   ]
  },
  {
   "cell_type": "markdown",
   "metadata": {},
   "source": [
    "- 금강 산맥에는 총 N개의 봉우리가 있고, 모든 봉우리마다 한 명의 활잡이가 서서 월식이 시작되기만을 기다리고 있다\n",
    "- 용들은 자신보다 낮은 봉우리에 서있는 적들만 처치할 수 있게 되었다\n",
    "- 용들은 처음 출발한 봉우리보다 높은 봉우리를 만나면 그대로 공격을 포기하고 금강산자락에 드러누워 낮잠을 청한다고 한다\n",
    "- 최고의 활잡이가 최대 몇 명의 적을 처치할 수 있는지 알아보자"
   ]
  },
  {
   "cell_type": "markdown",
   "metadata": {},
   "source": [
    "- 첫째 줄에 봉우리의 수 겸 활잡이의 수 N이 주어진다. (1 ≤ N ≤ 30,000)\n",
    "- 둘째 줄에 N개 봉우리의 높이가 왼쪽 봉우리부터 순서대로 주어진다. (1 ≤ 높이 ≤ 100,000) 각각 봉우리의 높이는 중복 없이 유일하다."
   ]
  },
  {
   "cell_type": "markdown",
   "metadata": {},
   "source": [
    "- 높이 10 봉우리에 있는 활잡이가 높이 2, 5, 7 봉우리에 있는 활잡이들을 처치할 수 있다.\n",
    "\n",
    "EXAMPLE\n",
    "\n",
    "7  \n",
    "6 4 10 2 5 7 11  \n",
    "\n",
    "-------> 3"
   ]
  },
  {
   "cell_type": "markdown",
   "metadata": {},
   "source": [
    "메모리 초과"
   ]
  },
  {
   "cell_type": "code",
   "execution_count": null,
   "metadata": {},
   "outputs": [],
   "source": [
    "N = int(input())\n",
    "height = list(map(int, input().split()))\n",
    "\n",
    "total_count = []\n",
    "for i in range(len(height)): # 7번\n",
    "    count = 0\n",
    "    for j in range(i, len(height)): # (1,6), (2,6), ... , ()\n",
    "        if height[i] > height[j]:\n",
    "            count += 1\n",
    "        total_count.append(count)\n",
    "print(max(total_count))"
   ]
  },
  {
   "cell_type": "markdown",
   "metadata": {},
   "source": [
    "시간 초과 \n",
    "\n",
    "$O(n^2)$ 으로는 해결 안됨"
   ]
  },
  {
   "cell_type": "code",
   "execution_count": 29,
   "metadata": {},
   "outputs": [
    {
     "name": "stdout",
     "output_type": "stream",
     "text": [
      "3\n"
     ]
    }
   ],
   "source": [
    "N = int(input())\n",
    "height = list(map(int, input().split()))\n",
    "\n",
    "total_count = []\n",
    "for i in range(len(height)):\n",
    "    count = 0\n",
    "    check = height[i:len(height)]\n",
    "    for x in check:\n",
    "        if x <= height[i]:\n",
    "            count += 1\n",
    "        else:\n",
    "            break\n",
    "    total_count.append(count-1)\n",
    "\n",
    "print(max(total_count))\n",
    "        "
   ]
  },
  {
   "cell_type": "code",
   "execution_count": 46,
   "metadata": {},
   "outputs": [
    {
     "data": {
      "text/plain": [
       "[6, 4, 10, 2, 5, 7, 11]"
      ]
     },
     "execution_count": 46,
     "metadata": {},
     "output_type": "execute_result"
    }
   ],
   "source": [
    "height"
   ]
  },
  {
   "cell_type": "code",
   "execution_count": 48,
   "metadata": {},
   "outputs": [
    {
     "name": "stdout",
     "output_type": "stream",
     "text": [
      "3\n"
     ]
    }
   ],
   "source": [
    "N = int(input())\n",
    "height = list(map(int, input().split()))\n",
    "\n",
    "highest = 0\n",
    "cnt = 0\n",
    "result = 0\n",
    "\n",
    "for x in height:\n",
    "    if x > highest:\n",
    "        highest = x\n",
    "        cnt = 0\n",
    "    else:\n",
    "        cnt += 1\n",
    "    result = max(result, cnt)\n",
    "print(result)"
   ]
  },
  {
   "cell_type": "markdown",
   "metadata": {},
   "source": [
    "### 2중 반복문을 사용하지 않고, 최댓값을 비교하여 갱신하는 알고리즘으로 대체할 수 있다."
   ]
  }
 ],
 "metadata": {
  "kernelspec": {
   "display_name": "Python 3.8.13 ('algorithm')",
   "language": "python",
   "name": "python3"
  },
  "language_info": {
   "codemirror_mode": {
    "name": "ipython",
    "version": 3
   },
   "file_extension": ".py",
   "mimetype": "text/x-python",
   "name": "python",
   "nbconvert_exporter": "python",
   "pygments_lexer": "ipython3",
   "version": "3.8.13"
  },
  "orig_nbformat": 4,
  "vscode": {
   "interpreter": {
    "hash": "ee431ac274e33366c10c3ac30cd4fb33ff3ed0dd6a8cc3f05073bd47291a9c12"
   }
  }
 },
 "nbformat": 4,
 "nbformat_minor": 2
}
