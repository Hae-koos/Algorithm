{
 "cells": [
  {
   "cell_type": "markdown",
   "metadata": {},
   "source": [
    "Today 2022.11.23\n",
    "\n",
    "\n",
    "## Title 올바른 괄호\n",
    "\n",
    "\n",
    "LV # 2\n",
    "\n",
    "\n",
    "Tag # 스택 / 큐 "
   ]
  },
  {
   "cell_type": "markdown",
   "metadata": {},
   "source": [
    "괄호가 바르게 짝지어졌다는 것은 '(' 문자로 열렸으면 반드시 짝지어서 ')' 문자로 닫혀야 한다는 뜻입니다. 예를 들어\n",
    "\n",
    "\"()()\" 또는 \"(())()\" 는 올바른 괄호입니다.  \n",
    "\")()(\" 또는 \"(()(\" 는 올바르지 않은 괄호입니다.  \n",
    "'(' 또는 ')' 로만 이루어진 문자열 s가 주어졌을 때, 문자열 s가 올바른 괄호이면 true를 return 하고,  \n",
    "올바르지 않은 괄호이면 false를 return 하는 solution 함수를 완성해 주세요.\n",
    "\n",
    "제한사항\n",
    "문자열 s의 길이 : 100,000 이하의 자연수  \n",
    "문자열 s는 '(' 또는 ')' 로만 이루어져 있습니다."
   ]
  },
  {
   "cell_type": "code",
   "execution_count": 1,
   "metadata": {},
   "outputs": [],
   "source": [
    "from collections import deque\n",
    "def solution(s):\n",
    "    check = [0] * 2\n",
    "    q = deque()\n",
    "    for i in range(len(s)):\n",
    "        q.append(s[i])\n",
    "    while q:\n",
    "        now = q.popleft()\n",
    "        if now == '(':\n",
    "            check[0] += 1\n",
    "        elif now == ')':\n",
    "            check[1] += 1\n",
    "        if check[0] < check[1]:\n",
    "            return False\n",
    "    if check[0] == check[1]:\n",
    "        return True\n",
    "    else:\n",
    "        return False"
   ]
  },
  {
   "cell_type": "code",
   "execution_count": 2,
   "metadata": {},
   "outputs": [
    {
     "name": "stdout",
     "output_type": "stream",
     "text": [
      "True\n",
      "True\n",
      "False\n",
      "False\n"
     ]
    }
   ],
   "source": [
    "print(solution(\"()()\"))\n",
    "print(solution(\"(())()\"))\n",
    "print(solution(\")()(\"))\n",
    "print(solution(\"(()(\"))"
   ]
  },
  {
   "cell_type": "markdown",
   "metadata": {},
   "source": [
    "Today 2022.11.23\n",
    "\n",
    "\n",
    "## Title JadenCase 문자열 만들기\n",
    "\n",
    "\n",
    "LV # 2\n",
    "\n",
    "\n",
    "Tag # Implementation "
   ]
  },
  {
   "cell_type": "markdown",
   "metadata": {},
   "source": [
    "JadenCase란 모든 단어의 첫 문자가 대문자이고, 그 외의 알파벳은 소문자인 문자열입니다.  \n",
    "단, 첫 문자가 알파벳이 아닐 때에는 이어지는 알파벳은 소문자로 쓰면 됩니다. (첫 번째 입출력 예 참고)  \n",
    "문자열 s가 주어졌을 때, s를 JadenCase로 바꾼 문자열을 리턴하는 함수, solution을 완성해주세요."
   ]
  },
  {
   "cell_type": "code",
   "execution_count": 3,
   "metadata": {},
   "outputs": [],
   "source": [
    "def solution(s):\n",
    "    answer = ''\n",
    "    if s[0].isalpha() == True:\n",
    "        answer += s[0].upper()\n",
    "    else:\n",
    "        answer += s[0]\n",
    "    s = s[1:]\n",
    "    flag = False\n",
    "    for x in s:\n",
    "        if flag == True and x.isalpha() == True:\n",
    "            answer += x.upper()\n",
    "            flag = False\n",
    "        elif flag == True and x.isalpha() == False and x != ' ':\n",
    "            answer += x\n",
    "            flag = False\n",
    "        elif x == ' ' :\n",
    "            answer += x\n",
    "            flag = True\n",
    "        else:\n",
    "            if x.isalpha() == True:\n",
    "                answer += x.lower()       \n",
    "            else:\n",
    "                answer += x\n",
    "    return answer"
   ]
  },
  {
   "cell_type": "code",
   "execution_count": 5,
   "metadata": {},
   "outputs": [
    {
     "name": "stdout",
     "output_type": "stream",
     "text": [
      "3people Unfollowed Me\n",
      "For The Last Week\n"
     ]
    }
   ],
   "source": [
    "print(solution(\"3people unFollowed me\"))\n",
    "print(solution(\"for the last week\"))"
   ]
  }
 ],
 "metadata": {
  "kernelspec": {
   "display_name": "Python 3.8.13 ('AUTOVC')",
   "language": "python",
   "name": "python3"
  },
  "language_info": {
   "codemirror_mode": {
    "name": "ipython",
    "version": 3
   },
   "file_extension": ".py",
   "mimetype": "text/x-python",
   "name": "python",
   "nbconvert_exporter": "python",
   "pygments_lexer": "ipython3",
   "version": "3.8.13"
  },
  "orig_nbformat": 4,
  "vscode": {
   "interpreter": {
    "hash": "83701494a915308841c98d90e1627ab32994947d5b938ec1dfda5c4da74c3582"
   }
  }
 },
 "nbformat": 4,
 "nbformat_minor": 2
}
