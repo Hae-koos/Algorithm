{
 "cells": [
  {
   "cell_type": "markdown",
   "metadata": {},
   "source": [
    "### Binary Search\n",
    "\n",
    "- 탐색\n",
    "    - 순차탐색\n",
    "        - 리스트 안에 있는 특정한 데이터를 찾기 위해 앞에서부터 데이터를 하나씩 \n",
    "        차례대로 확인하는 방법\n",
    "        - 데이터 정렬 여부와 상관없이 가장 앞에 있는 원소부터 하나씩 확인\n",
    "        - 시간 복잡도 O(N)\n",
    "    - **이진탐색**\n",
    "        - 배열 내부의 데이터가 정렬되어 있어야만 사용 가능\n",
    "        - 위치를 나타내는 변수 3개 사용\n",
    "            - 시작점, 끝점 그리고 중간점\n",
    "            - 찾으려는 데이터와 중간점 위치에 있는 데이터를 반복적으로 비교\n",
    "            - 한 번 확인할 때마다 확인하는 원소의 개수가 절반씩 줄어든다는 점에서\n",
    "            시간 복잡도 O(logN) = $log_2(N)$"
   ]
  },
  {
   "cell_type": "code",
   "execution_count": 6,
   "metadata": {},
   "outputs": [
    {
     "name": "stdout",
     "output_type": "stream",
     "text": [
      "4\n"
     ]
    }
   ],
   "source": [
    "# 재귀 함수로 구현한 이진탐색\n",
    "def binary_search(array, target, start, end):\n",
    "    if start > end:\n",
    "        return None\n",
    "    mid = (start + end) // 2\n",
    "    if array[mid] == target:\n",
    "        return mid\n",
    "    elif array[mid] > target:\n",
    "        return binary_search(array, target, start, mid-1)\n",
    "    else:\n",
    "        return binary_search(array, target, mid+1, end)\n",
    "\n",
    "n, target = list(map(int, input().split()))\n",
    "array = list(map(int, input().split()))\n",
    "\n",
    "result = binary_search(array, target, 0, n-1)\n",
    "if result == None:\n",
    "    print(\"원소가 존재하지 않습니다\")\n",
    "else:\n",
    "    print(result+1)"
   ]
  },
  {
   "cell_type": "code",
   "execution_count": 5,
   "metadata": {},
   "outputs": [
    {
     "name": "stdout",
     "output_type": "stream",
     "text": [
      "4\n"
     ]
    }
   ],
   "source": [
    "# 반복문으로 구현한 이진탐색\n",
    "def binary_search(array, target, start, end):\n",
    "    while start <= end:\n",
    "        mid = (start + end) // 2\n",
    "        if array[mid] == target:\n",
    "            return mid\n",
    "        elif array[mid] > target:\n",
    "            end = mid - 1\n",
    "        else:\n",
    "            start = mid + 1\n",
    "    return None\n",
    "\n",
    "n, target = list(map(int, input().split()))\n",
    "array = list(map(int, input().split()))\n",
    "\n",
    "result = binary_search(array, target, 0, n-1)\n",
    "if result == None:\n",
    "    print(\"원소가 존재하지 않습니다\")\n",
    "else:\n",
    "    print(result+1)"
   ]
  },
  {
   "cell_type": "markdown",
   "metadata": {},
   "source": [
    "- 외우자, 코딩테스트에서 단골로 다루는 문제\n",
    "    \n",
    "    > 90% of the programmers found bugs in their binary search programs\n",
    "    > \n",
    "- 특히 탐색 범위가 2,000만을 넘어가면 O(logN)의 속도를 내야 하는 알고리즘을\n",
    "떠올려야 하는 순간이 온다."
   ]
  },
  {
   "cell_type": "markdown",
   "metadata": {},
   "source": [
    "Today 2022.08.12\n",
    "\n",
    "\n",
    "## Title 부품 찾기"
   ]
  },
  {
   "cell_type": "markdown",
   "metadata": {},
   "source": [
    "매장에는 부품이 N개 있다.  \n",
    "손님이 M개 종류의 부품을 대량으로 구매한다.  \n",
    "가게 안에 부품이 모두 있는지 확인하는 프로그램을 작성하라"
   ]
  },
  {
   "cell_type": "markdown",
   "metadata": {},
   "source": [
    "- 1 <= N <= 1,000,000\n",
    "- 1 <= M <= 1,000,000"
   ]
  },
  {
   "cell_type": "code",
   "execution_count": 8,
   "metadata": {},
   "outputs": [],
   "source": [
    "N = int(input())\n",
    "MY = list(map(int, input().split()))\n",
    "M = int(input())\n",
    "YOU = list(map(int, input().split()))"
   ]
  },
  {
   "cell_type": "code",
   "execution_count": 15,
   "metadata": {},
   "outputs": [
    {
     "name": "stdout",
     "output_type": "stream",
     "text": [
      "[8, 3, 7, 9, 2]\n",
      "[5, 7, 9]\n"
     ]
    }
   ],
   "source": [
    "print(MY)\n",
    "print(YOU)"
   ]
  },
  {
   "cell_type": "code",
   "execution_count": 20,
   "metadata": {},
   "outputs": [],
   "source": [
    "def binary_search(array, target, start, end):\n",
    "    if start > end:\n",
    "        return None\n",
    "    mid = (start + end) // 2\n",
    "    if array[mid] == target:\n",
    "        return 1\n",
    "    elif array[mid] > target:\n",
    "        return binary_search(array, target, start, mid-1)\n",
    "    else:\n",
    "        return binary_search(array, target, mid+1, end)\n"
   ]
  },
  {
   "cell_type": "code",
   "execution_count": 28,
   "metadata": {},
   "outputs": [
    {
     "name": "stdout",
     "output_type": "stream",
     "text": [
      "no yes yes "
     ]
    }
   ],
   "source": [
    "for x in YOU:\n",
    "    if binary_search(MY, x, 0, len(MY)-1) == 1:\n",
    "        print('yes', end=' ')\n",
    "    else:\n",
    "        print('no', end=' ')"
   ]
  },
  {
   "cell_type": "markdown",
   "metadata": {},
   "source": [
    " Today 2022.08.12\n",
    " \n",
    " \n",
    " ## Title 떡볶이 떡 만들기"
   ]
  },
  {
   "cell_type": "markdown",
   "metadata": {},
   "source": [
    "절단기에 높이 H를 지정한다  \n",
    "예를 들어, 높이가 19, 14, 10, 17인 떡이 있고, 절단기를 15로 맞춘다면  \n",
    "15, 14, 10, 15가 되고, 잘린 떡은 4, 0, 0, 2가 되어 손님은 6cm를 가져간다"
   ]
  },
  {
   "cell_type": "markdown",
   "metadata": {},
   "source": [
    "손님이 요청한 총 길이가 M일 때, 적어도 M만큼의 떡을 얻기 위해 절단기에 설정할 수 있는 높이의 최댓값을 구하는 프로그램을 작성하라"
   ]
  },
  {
   "cell_type": "code",
   "execution_count": 56,
   "metadata": {},
   "outputs": [
    {
     "data": {
      "text/plain": [
       "[19, 15, 10, 17]"
      ]
     },
     "execution_count": 56,
     "metadata": {},
     "output_type": "execute_result"
    }
   ],
   "source": [
    "N, M = map(int, input().split()) # 떡의 개수와 요청한 떡의 길이\n",
    "T = list(map(int, input().split()))\n",
    "T"
   ]
  },
  {
   "cell_type": "markdown",
   "metadata": {},
   "source": [
    "전형적인 이진탐색문제이자, 파라메트릭 서치 유형 문제다.  \n",
    "적절한 높이를 찾을 때까지 절단기의 높이를 반복해서 조정하면 된다.  \n",
    "절단기의 높이는 1부터 10억 사이에 한 정수인데 이처럼 큰 수를 보면 자연스레 이진 탐색을 떠올려야 한다  \n",
    "당연하게 절단기 높이는 0부터 가장 긴 떡의 길이 안에 있어야 한다 -> 시작점은 0 끝점은 19로 두고 이진 탐색을 반복한다"
   ]
  },
  {
   "cell_type": "code",
   "execution_count": 81,
   "metadata": {},
   "outputs": [],
   "source": [
    "def check(TTEOK, height):\n",
    "    res = 0\n",
    "    for x in TTEOK:\n",
    "        if x > height:\n",
    "            res += x-height\n",
    "    return res\n",
    "\n",
    "answer = []\n",
    "def binary_search(array, target, start, end):\n",
    "    global answer\n",
    "    if start > end:\n",
    "        return None\n",
    "    mid = (start+end) // 2\n",
    "    if check(T, mid) == target:\n",
    "        answer.append(mid)\n",
    "    elif check(T, mid) < target:\n",
    "        return binary_search(array, target, start, mid-1)\n",
    "    else:\n",
    "        return binary_search(array, target, mid+1, end)"
   ]
  },
  {
   "cell_type": "code",
   "execution_count": 82,
   "metadata": {},
   "outputs": [
    {
     "data": {
      "text/plain": [
       "[0, 1, 2, 3, 4, 5, 6, 7, 8, 9, 10, 11, 12, 13, 14, 15, 16, 17, 18, 19]"
      ]
     },
     "execution_count": 82,
     "metadata": {},
     "output_type": "execute_result"
    }
   ],
   "source": [
    "array = [x for x in range(max(T)+1)]\n",
    "array"
   ]
  },
  {
   "cell_type": "code",
   "execution_count": 83,
   "metadata": {},
   "outputs": [],
   "source": [
    "binary_search(array, M, 0, len(array)-1)"
   ]
  },
  {
   "cell_type": "code",
   "execution_count": 84,
   "metadata": {},
   "outputs": [
    {
     "name": "stdout",
     "output_type": "stream",
     "text": [
      "[15]\n"
     ]
    }
   ],
   "source": [
    "print(answer)"
   ]
  },
  {
   "cell_type": "markdown",
   "metadata": {},
   "source": [
    "Today 2022.08.12\n",
    "\n",
    "\n",
    "## Title 나무자르기\n",
    "\n",
    "\n",
    "BOJ # 2805\n",
    "\n",
    "\n",
    "LV # Silver 2\n",
    "\n",
    "\n",
    "Tag # Binary Search "
   ]
  },
  {
   "cell_type": "markdown",
   "metadata": {},
   "source": [
    "상근이는 나무 M미터가 필요하다  \n",
    "절단기 높이 H를 지정한다  \n",
    "한 줄에 연속한 나무 높이가 20 15 10 17  \n",
    "절단기 높이는 15라면  \n",
    "5 0 0 2 = 7나무를 들고 간다  \n",
    "\n",
    "적어도 M미터 나무를 집에 가져가기 위해 절단기에 설정할 수 있는 높이 최댓값을 구하는 프로그램을 작성하라"
   ]
  },
  {
   "cell_type": "code",
   "execution_count": 1,
   "metadata": {},
   "outputs": [],
   "source": [
    "# import sys\n",
    "# input = sys.stdin.readline().rstrip()\n",
    "\n",
    "N, M = map(int, input().split())\n",
    "TREE = list(map(int, input().split()))"
   ]
  },
  {
   "cell_type": "code",
   "execution_count": 2,
   "metadata": {},
   "outputs": [
    {
     "data": {
      "text/plain": [
       "[20, 15, 10, 17]"
      ]
     },
     "execution_count": 2,
     "metadata": {},
     "output_type": "execute_result"
    }
   ],
   "source": [
    "TREE"
   ]
  },
  {
   "cell_type": "code",
   "execution_count": 3,
   "metadata": {},
   "outputs": [
    {
     "data": {
      "text/plain": [
       "[0, 1, 2, 3, 4, 5, 6, 7, 8, 9, 10, 11, 12, 13, 14, 15, 16, 17, 18, 19, 20]"
      ]
     },
     "execution_count": 3,
     "metadata": {},
     "output_type": "execute_result"
    }
   ],
   "source": [
    "L = [x for x in range(max(TREE)+1)]\n",
    "L"
   ]
  },
  {
   "cell_type": "code",
   "execution_count": 20,
   "metadata": {},
   "outputs": [],
   "source": [
    "answer = []\n",
    "def binary_search(array, target, start, end):\n",
    "    global answer\n",
    "    if start > end:\n",
    "        return None\n",
    "    mid = (start+end)//2\n",
    "    if check(mid, TREE) == target:\n",
    "        answer.append(mid)\n",
    "    elif check(mid, TREE) < target:\n",
    "        return binary_search(array, target, start, mid-1)\n",
    "    else:\n",
    "        return binary_search(array, target, mid+1, end)\n",
    "\n",
    "def check(mid, tree):\n",
    "    res = 0\n",
    "    for x in tree:\n",
    "        if x > mid:\n",
    "            res += x-mid\n",
    "    return res"
   ]
  },
  {
   "cell_type": "code",
   "execution_count": 21,
   "metadata": {},
   "outputs": [],
   "source": [
    "binary_search(L, M, 0, max(TREE))"
   ]
  },
  {
   "cell_type": "code",
   "execution_count": 36,
   "metadata": {},
   "outputs": [
    {
     "data": {
      "text/plain": [
       "[1, 2, 3, 4, 5, 6, 7, 8, 9, 10, 11, 12, 13, 14, 15, 16, 17, 18, 19]"
      ]
     },
     "execution_count": 36,
     "metadata": {},
     "output_type": "execute_result"
    }
   ],
   "source": [
    "L"
   ]
  },
  {
   "cell_type": "markdown",
   "metadata": {},
   "source": [
    "왜 틀렸나.."
   ]
  },
  {
   "cell_type": "code",
   "execution_count": 53,
   "metadata": {},
   "outputs": [
    {
     "name": "stdout",
     "output_type": "stream",
     "text": [
      "10 27\n",
      "5 56\n",
      "2 78\n",
      "1 88\n",
      "[]\n"
     ]
    }
   ],
   "source": [
    "N, M = map(int, input().split())\n",
    "TREE = list(map(int, input().split()))\n",
    "start, end = 1, max(TREE)\n",
    "ans = []\n",
    "while start <= end:\n",
    "    mid = (start+end)//2\n",
    "    res = 0\n",
    "    for x in TREE:\n",
    "        if x > mid:\n",
    "            res += x-mid\n",
    "    print(mid, res)\n",
    "    if res > M:\n",
    "        start = mid+1\n",
    "    elif res < M:\n",
    "        end = mid-1\n",
    "    else:\n",
    "        print(res)\n",
    "        print(mid)\n",
    "        ans.append(mid)\n",
    "        break\n",
    "\n",
    "print(ans)"
   ]
  },
  {
   "cell_type": "markdown",
   "metadata": {},
   "source": [
    "딱 맞아떨어지지 않는 케이스도 있어서 그런듯.."
   ]
  },
  {
   "cell_type": "code",
   "execution_count": 44,
   "metadata": {},
   "outputs": [
    {
     "name": "stdout",
     "output_type": "stream",
     "text": [
      "1\n"
     ]
    }
   ],
   "source": [
    "N, M = map(int, input().split())\n",
    "tree = list(map(int, input().split()))\n",
    "start, end = 1, max(tree) #이분탐색 검색 범위 설정\n",
    "\n",
    "while start <= end: #적절한 벌목 높이를 찾는 알고리즘\n",
    "    mid = (start+end) // 2\n",
    "    log = 0 #벌목된 나무 총합\n",
    "    for i in tree:\n",
    "        if i >= mid:\n",
    "            log += i - mid\n",
    "    \n",
    "    #벌목 높이를 이분탐색\n",
    "    if log >= M:\n",
    "        start = mid + 1\n",
    "    else:\n",
    "        end = mid - 1\n",
    "print(end)"
   ]
  },
  {
   "cell_type": "code",
   "execution_count": null,
   "metadata": {},
   "outputs": [],
   "source": []
  }
 ],
 "metadata": {
  "kernelspec": {
   "display_name": "Python 3.8.13 ('AUTOVC': conda)",
   "language": "python",
   "name": "python3"
  },
  "language_info": {
   "codemirror_mode": {
    "name": "ipython",
    "version": 3
   },
   "file_extension": ".py",
   "mimetype": "text/x-python",
   "name": "python",
   "nbconvert_exporter": "python",
   "pygments_lexer": "ipython3",
   "version": "3.8.13"
  },
  "orig_nbformat": 4,
  "vscode": {
   "interpreter": {
    "hash": "83701494a915308841c98d90e1627ab32994947d5b938ec1dfda5c4da74c3582"
   }
  }
 },
 "nbformat": 4,
 "nbformat_minor": 2
}
