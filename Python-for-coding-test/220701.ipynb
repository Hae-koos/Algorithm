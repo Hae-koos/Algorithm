{
 "cells": [
  {
   "cell_type": "code",
   "execution_count": 1,
   "metadata": {},
   "outputs": [],
   "source": [
    "import numpy as np\n",
    "import pandas as pd\n",
    "import random\n",
    "import time"
   ]
  },
  {
   "cell_type": "markdown",
   "metadata": {},
   "source": [
    "### Abstract"
   ]
  },
  {
   "cell_type": "markdown",
   "metadata": {},
   "source": [
    "##### 선택 정렬과 라이브러리 수행 시간 비교\n"
   ]
  },
  {
   "cell_type": "code",
   "execution_count": 10,
   "metadata": {},
   "outputs": [
    {
     "name": "stdout",
     "output_type": "stream",
     "text": [
      "[33, 83, 52, 6, 78, 38, 9, 72, 1, 97]\n",
      "[33, 83, 52, 6, 78, 38, 9, 72, 1, 97]\n",
      "i = 0 Change min_index = 2\n",
      "[33, 83, 52, 6, 78, 38, 9, 72, 1, 97]\n",
      "i = 0 Change min_index = 3\n",
      "[33, 83, 52, 6, 78, 38, 9, 72, 1, 97]\n",
      "[33, 83, 52, 6, 78, 38, 9, 72, 1, 97]\n",
      "[33, 83, 52, 6, 78, 38, 9, 72, 1, 97]\n",
      "[33, 83, 52, 6, 78, 38, 9, 72, 1, 97]\n",
      "[33, 83, 52, 6, 78, 38, 9, 72, 1, 97]\n",
      "i = 0 Change min_index = 8\n",
      "[33, 83, 52, 6, 78, 38, 9, 72, 1, 97]\n",
      "CHANGE [1, 83, 52, 6, 78, 38, 9, 72, 33, 97]\n",
      "[1, 83, 52, 6, 78, 38, 9, 72, 33, 97]\n",
      "i = 1 Change min_index = 2\n",
      "[1, 83, 52, 6, 78, 38, 9, 72, 33, 97]\n",
      "i = 1 Change min_index = 3\n",
      "[1, 83, 52, 6, 78, 38, 9, 72, 33, 97]\n",
      "[1, 83, 52, 6, 78, 38, 9, 72, 33, 97]\n",
      "[1, 83, 52, 6, 78, 38, 9, 72, 33, 97]\n",
      "[1, 83, 52, 6, 78, 38, 9, 72, 33, 97]\n",
      "[1, 83, 52, 6, 78, 38, 9, 72, 33, 97]\n",
      "[1, 83, 52, 6, 78, 38, 9, 72, 33, 97]\n",
      "CHANGE [1, 6, 52, 83, 78, 38, 9, 72, 33, 97]\n",
      "[1, 6, 52, 83, 78, 38, 9, 72, 33, 97]\n",
      "[1, 6, 52, 83, 78, 38, 9, 72, 33, 97]\n",
      "[1, 6, 52, 83, 78, 38, 9, 72, 33, 97]\n",
      "[1, 6, 52, 83, 78, 38, 9, 72, 33, 97]\n",
      "[1, 6, 52, 83, 78, 38, 9, 72, 33, 97]\n",
      "[1, 6, 52, 83, 78, 38, 9, 72, 33, 97]\n",
      "[1, 6, 52, 83, 78, 38, 9, 72, 33, 97]\n",
      "CHANGE [1, 52, 6, 83, 78, 38, 9, 72, 33, 97]\n",
      "[1, 52, 6, 83, 78, 38, 9, 72, 33, 97]\n",
      "[1, 52, 6, 83, 78, 38, 9, 72, 33, 97]\n",
      "i = 3 Change min_index = 5\n",
      "[1, 52, 6, 83, 78, 38, 9, 72, 33, 97]\n",
      "i = 3 Change min_index = 6\n",
      "[1, 52, 6, 83, 78, 38, 9, 72, 33, 97]\n",
      "[1, 52, 6, 83, 78, 38, 9, 72, 33, 97]\n",
      "[1, 52, 6, 83, 78, 38, 9, 72, 33, 97]\n",
      "CHANGE [1, 52, 6, 9, 78, 38, 83, 72, 33, 97]\n",
      "[1, 52, 6, 9, 78, 38, 83, 72, 33, 97]\n",
      "i = 4 Change min_index = 5\n",
      "[1, 52, 6, 9, 78, 38, 83, 72, 33, 97]\n",
      "[1, 52, 6, 9, 78, 38, 83, 72, 33, 97]\n",
      "[1, 52, 6, 9, 78, 38, 83, 72, 33, 97]\n",
      "i = 4 Change min_index = 8\n",
      "[1, 52, 6, 9, 78, 38, 83, 72, 33, 97]\n",
      "CHANGE [1, 52, 6, 9, 33, 38, 83, 72, 78, 97]\n",
      "[1, 52, 6, 9, 33, 38, 83, 72, 78, 97]\n",
      "[1, 52, 6, 9, 33, 38, 83, 72, 78, 97]\n",
      "[1, 52, 6, 9, 33, 38, 83, 72, 78, 97]\n",
      "[1, 52, 6, 9, 33, 38, 83, 72, 78, 97]\n",
      "CHANGE [1, 38, 6, 9, 33, 52, 83, 72, 78, 97]\n",
      "[1, 38, 6, 9, 33, 52, 83, 72, 78, 97]\n",
      "[1, 38, 6, 9, 33, 52, 83, 72, 78, 97]\n",
      "[1, 38, 6, 9, 33, 52, 83, 72, 78, 97]\n",
      "CHANGE [1, 83, 6, 9, 33, 52, 38, 72, 78, 97]\n",
      "[1, 83, 6, 9, 33, 52, 38, 72, 78, 97]\n",
      "i = 7 Change min_index = 8\n",
      "[1, 83, 6, 9, 33, 52, 38, 72, 78, 97]\n",
      "CHANGE [1, 83, 6, 9, 33, 52, 38, 78, 72, 97]\n",
      "[1, 83, 6, 9, 33, 52, 38, 78, 72, 97]\n",
      "CHANGE [1, 72, 6, 9, 33, 52, 38, 78, 83, 97]\n",
      "CHANGE [1, 97, 6, 9, 33, 52, 38, 78, 83, 72]\n",
      "선택 정렬 성능 측정: 0.00043964385986328125\n",
      "선택 정렬 성능 측정: 0.0008518695831298828\n"
     ]
    }
   ],
   "source": [
    "array = []\n",
    "for _ in range(10):\n",
    "    array.append(random.randint(1,100))\n",
    "\n",
    "start = time.time()\n",
    "\n",
    "for i in range(len(array)):\n",
    "    min_index = 1\n",
    "    for j in range(i+1, len(array)):\n",
    "        print(array)\n",
    "        if array[min_index] > array[j]:\n",
    "            min_index = j\n",
    "            print(\"i = {} Change min_index = {}\".format(i,min_index))\n",
    "    array[i], array[min_index] = array[min_index], array[i]\n",
    "    print(\"CHANGE\", array)\n",
    "\n",
    "end = time.time()\n",
    "print(\"선택 정렬 성능 측정:\", end - start)\n",
    "\n",
    "############################################################\n",
    "\n",
    "array = []\n",
    "for _ in range(10000):\n",
    "    array.append(random.randint(1,100))\n",
    "\n",
    "start = time.time()\n",
    "\n",
    "array.sort()\n",
    "\n",
    "end = time.time()\n",
    "print(\"선택 정렬 성능 측정:\", end - start)"
   ]
  },
  {
   "cell_type": "markdown",
   "metadata": {},
   "source": [
    "선택정렬, 삽입정렬 : 최악의 경우 O(N^2)  \n",
    "병합정렬 : 최악의 경우에도 O(NlogN)  \n",
    "계수정렬 : 경우에 따라서 O(N+K), 그 경우에 사용하는 것이 좋다"
   ]
  },
  {
   "cell_type": "markdown",
   "metadata": {},
   "source": [
    "### Greedy\n"
   ]
  },
  {
   "cell_type": "markdown",
   "metadata": {},
   "source": [
    "정렬 : 정렬 라이브러리  \n",
    "최단경로 : 플로이드 워셜 & 다익스트라 등 "
   ]
  },
  {
   "cell_type": "markdown",
   "metadata": {},
   "source": [
    "그리디 알고리즘은 기준에 따라 좋은 것을 선택하는 알고리즘  \n",
    "큰 순서대로 or 작은 순서대로 등 정렬 알고리즘과 함께 출제되는 경향"
   ]
  },
  {
   "cell_type": "markdown",
   "metadata": {},
   "source": [
    "##### 거스름돈"
   ]
  },
  {
   "cell_type": "code",
   "execution_count": 11,
   "metadata": {},
   "outputs": [
    {
     "name": "stdout",
     "output_type": "stream",
     "text": [
      "6\n"
     ]
    }
   ],
   "source": [
    "N = int(input())\n",
    "coins = [500, 100, 50, 10]\n",
    "count = 0\n",
    "\n",
    "for c in coins:\n",
    "    count += N // c\n",
    "    N = N % c\n",
    "\n",
    "print(count)"
   ]
  },
  {
   "cell_type": "markdown",
   "metadata": {},
   "source": [
    "##### 큰 수의 법칙"
   ]
  },
  {
   "cell_type": "code",
   "execution_count": 16,
   "metadata": {},
   "outputs": [
    {
     "name": "stdout",
     "output_type": "stream",
     "text": [
      "[2, 4, 4, 5, 6]\n",
      "46\n"
     ]
    }
   ],
   "source": [
    "N, M, K = map(int, input().split())\n",
    "data = list(map(int, input().split()))\n",
    "\n",
    "data = sorted(data)\n",
    "print(data)\n",
    "max1 = data[-1]\n",
    "max2 = data[-2]\n",
    "\n",
    "result = 0\n",
    "while True:\n",
    "    if M == 0 :\n",
    "        break\n",
    "    for _ in range(K):\n",
    "        if M == 0:\n",
    "            break\n",
    "        result += max1\n",
    "        M -= 1\n",
    "    result += max2\n",
    "    M -= 1\n",
    "\n",
    "print(result)\n"
   ]
  },
  {
   "cell_type": "code",
   "execution_count": 19,
   "metadata": {},
   "outputs": [
    {
     "name": "stdout",
     "output_type": "stream",
     "text": [
      "[2, 4, 4, 5, 6]\n",
      "46\n"
     ]
    }
   ],
   "source": [
    "N, M, K = map(int, input().split())\n",
    "data = list(map(int, input().split()))\n",
    "\n",
    "data = sorted(data)\n",
    "print(data)\n",
    "max1 = data[-1]\n",
    "max2 = data[-2]\n",
    "\n",
    "result = 0\n",
    "\n",
    "reps = M // (K+1)\n",
    "result += (max1*K + max2) * reps\n",
    "\n",
    "rest = M % (K+1)\n",
    "result += max1 * rest\n",
    "\n",
    "print(result)"
   ]
  },
  {
   "cell_type": "markdown",
   "metadata": {},
   "source": [
    "##### 숫자 카드 게임"
   ]
  },
  {
   "cell_type": "code",
   "execution_count": 22,
   "metadata": {},
   "outputs": [
    {
     "name": "stdout",
     "output_type": "stream",
     "text": [
      "3\n"
     ]
    }
   ],
   "source": [
    "N, M = map(int, input().split())\n",
    "\n",
    "result = []\n",
    "for i in range(N):\n",
    "    data = list(map(int, input().split()))\n",
    "    result.append(min(data))\n",
    "\n",
    "print(max(result))"
   ]
  },
  {
   "cell_type": "markdown",
   "metadata": {},
   "source": [
    "##### 1이 될 때까지"
   ]
  },
  {
   "cell_type": "code",
   "execution_count": 28,
   "metadata": {},
   "outputs": [],
   "source": [
    "def minus(x):\n",
    "    return x-1\n",
    "def divide(x, n):\n",
    "    return x // n\n",
    "\n",
    "N, K = map(int, input().split())\n",
    "\n",
    "result = 0\n",
    "while True:\n",
    "    if N == 1:\n",
    "        break\n",
    "    if N % K == 0:\n",
    "        result += 1\n",
    "        N = divide(N,K)\n",
    "    else:\n",
    "        N = minus(N)\n",
    "        result += 1\n",
    "\n",
    "print(result)\n"
   ]
  },
  {
   "cell_type": "markdown",
   "metadata": {},
   "source": [
    "##### 모험가 길드"
   ]
  },
  {
   "cell_type": "code",
   "execution_count": 15,
   "metadata": {},
   "outputs": [
    {
     "name": "stdout",
     "output_type": "stream",
     "text": [
      "2\n"
     ]
    }
   ],
   "source": [
    "n = int(input())\n",
    "l = list(map(int, input().split()))\n",
    "\n",
    "l.sort()\n",
    "result = 0\n",
    "count = 0\n",
    "\n",
    "for x in l:\n",
    "    count += 1\n",
    "    if x <= count:\n",
    "        result += 1\n",
    "        count = 0\n",
    "\n",
    "print(result)\n"
   ]
  },
  {
   "cell_type": "markdown",
   "metadata": {},
   "source": [
    "##### 곱하기 혹은 더하기"
   ]
  },
  {
   "cell_type": "code",
   "execution_count": 9,
   "metadata": {},
   "outputs": [
    {
     "name": "stdout",
     "output_type": "stream",
     "text": [
      "1\n",
      "2\n",
      "3\n"
     ]
    }
   ],
   "source": [
    "n = str(int(input()))\n",
    "result = int(n[0])\n",
    "print(result)\n",
    "\n",
    "for x in n[1:]:\n",
    "    print(x)\n",
    "    if (result == 1) or (x == '0') or (x == '1'):\n",
    "        result += int(x)\n",
    "    else:\n",
    "        result = result*int(x)\n",
    "print(result)"
   ]
  }
 ],
 "metadata": {
  "kernelspec": {
   "display_name": "Python 3.8.5 ('base')",
   "language": "python",
   "name": "python3"
  },
  "language_info": {
   "codemirror_mode": {
    "name": "ipython",
    "version": 3
   },
   "file_extension": ".py",
   "mimetype": "text/x-python",
   "name": "python",
   "nbconvert_exporter": "python",
   "pygments_lexer": "ipython3",
   "version": "3.8.5"
  },
  "orig_nbformat": 4,
  "vscode": {
   "interpreter": {
    "hash": "40d3a090f54c6569ab1632332b64b2c03c39dcf918b08424e98f38b5ae0af88f"
   }
  }
 },
 "nbformat": 4,
 "nbformat_minor": 2
}
