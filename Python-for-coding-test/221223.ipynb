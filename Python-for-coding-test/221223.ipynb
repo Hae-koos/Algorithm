{
 "cells": [
  {
   "attachments": {},
   "cell_type": "markdown",
   "metadata": {},
   "source": [
    "Today 2022.12.23\n",
    "\n",
    "\n",
    "## Title 더하기 사이클\n",
    "\n",
    "\n",
    "BOJ # 1110\n",
    "\n",
    "\n",
    "LV # Bronze 1\n",
    "\n",
    "\n",
    "Tag # Implementation"
   ]
  },
  {
   "attachments": {},
   "cell_type": "markdown",
   "metadata": {},
   "source": [
    "0보다 크거나 같고, 99보다 작거나 같은 정수가 주어질 때 다음과 같은 연산을 할 수 있다. 먼저 주어진 수가 10보다 작다면 앞에 0을 붙여 두 자리 수로 만들고, 각 자리의 숫자를 더한다. \n",
    "\n",
    "그 다음, 주어진 수의 가장 오른쪽 자리 수와 앞에서 구한 합의 가장 오른쪽 자리 수를 이어 붙이면 새로운 수를 만들 수 있다. 다음 예를 보자.\n",
    "\n",
    "26부터 시작한다. 2+6 = 8이다. 새로운 수는 68이다. 6+8 = 14이다. 새로운 수는 84이다. 8+4 = 12이다. 새로운 수는 42이다. 4+2 = 6이다. 새로운 수는 26이다.\n",
    "\n",
    "위의 예는 4번만에 원래 수로 돌아올 수 있다. 따라서 26의 사이클의 길이는 4이다.\n",
    "\n",
    "N이 주어졌을 때, N의 사이클의 길이를 구하는 프로그램을 작성하시오."
   ]
  },
  {
   "cell_type": "code",
   "execution_count": 22,
   "metadata": {},
   "outputs": [
    {
     "name": "stdout",
     "output_type": "stream",
     "text": [
      "60\n"
     ]
    }
   ],
   "source": [
    "import copy\n",
    "\n",
    "N = list(input())\n",
    "M = ['0']\n",
    "if len(N) == 1:\n",
    "    M.append(N[0])\n",
    "\n",
    "if len(M) == 2:\n",
    "    N = copy.deepcopy(M)\n",
    "\n",
    "count = 1\n",
    "\n",
    "now_N = [N[-1]]\n",
    "now_s = 0\n",
    "\n",
    "for x in N:\n",
    "    now_s += int(x)\n",
    "now_N.append(str(now_s)[-1])\n",
    "\n",
    "while now_N != N:\n",
    "    count += 1\n",
    "    now_s = 0\n",
    "    for x in now_N:\n",
    "        now_s += int(x)\n",
    "    now_N = [now_N[-1]]\n",
    "    now_N.append(str(now_s)[-1])\n",
    " \n",
    "print(count)"
   ]
  },
  {
   "attachments": {},
   "cell_type": "markdown",
   "metadata": {},
   "source": [
    "Today 2022.12.23\n",
    "\n",
    "\n",
    "## Title 숫자의 개수\n",
    "\n",
    "\n",
    "BOJ # 2577\n",
    "\n",
    "\n",
    "LV # Bronze 2\n",
    "\n",
    "\n",
    "Tag # Implementation"
   ]
  },
  {
   "attachments": {},
   "cell_type": "markdown",
   "metadata": {},
   "source": [
    "세 개의 자연수 A, B, C가 주어질 때 A × B × C를 계산한 결과에 0부터 9까지 각각의 숫자가 몇 번씩 쓰였는지를 구하는 프로그램을 작성하시오.\n",
    "\n",
    "예를 들어 A = 150, B = 266, C = 427 이라면 A × B × C = 150 × 266 × 427 = 17037300 이 되고, 계산한 결과 17037300 에는 0이 3번, 1이 1번, 3이 2번, 7이 2번 쓰였다."
   ]
  },
  {
   "cell_type": "code",
   "execution_count": 57,
   "metadata": {},
   "outputs": [
    {
     "name": "stdout",
     "output_type": "stream",
     "text": [
      "3\n",
      "1\n",
      "0\n",
      "2\n",
      "1\n",
      "0\n",
      "0\n",
      "1\n",
      "0\n",
      "0\n"
     ]
    }
   ],
   "source": [
    "l = []\n",
    "for _ in range(3):\n",
    "    l.append(int(input()))\n",
    "ans = 1\n",
    "for x in l:\n",
    "    ans = ans * x\n",
    "\n",
    "from collections import Counter\n",
    "C = Counter(sorted(list(str(ans))))\n",
    "K = list(C.keys())\n",
    "\n",
    "for i in range(10):\n",
    "    if str(i) in K:\n",
    "        print(C[str(i)])\n",
    "    else:\n",
    "        print(0)"
   ]
  }
 ],
 "metadata": {
  "kernelspec": {
   "display_name": "AUTOVC",
   "language": "python",
   "name": "python3"
  },
  "language_info": {
   "codemirror_mode": {
    "name": "ipython",
    "version": 3
   },
   "file_extension": ".py",
   "mimetype": "text/x-python",
   "name": "python",
   "nbconvert_exporter": "python",
   "pygments_lexer": "ipython3",
   "version": "3.8.13"
  },
  "orig_nbformat": 4,
  "vscode": {
   "interpreter": {
    "hash": "83701494a915308841c98d90e1627ab32994947d5b938ec1dfda5c4da74c3582"
   }
  }
 },
 "nbformat": 4,
 "nbformat_minor": 2
}
