{
 "cells": [
  {
   "cell_type": "markdown",
   "metadata": {},
   "source": [
    "https://www.philgineer.com/2021/11/codingtest-selection.html"
   ]
  },
  {
   "cell_type": "markdown",
   "metadata": {},
   "source": [
    "백준 코테 단골 유형 실버 문제집"
   ]
  },
  {
   "cell_type": "markdown",
   "metadata": {},
   "source": [
    "Today 2022.08.09\n",
    "\n",
    "\n",
    "## Title 그룹 단어 체커\n",
    "\n",
    "\n",
    "BOJ # 1316\n",
    "\n",
    "\n",
    "LV # Silver 5\n",
    "\n",
    "\n",
    "Tag # 문자열"
   ]
  },
  {
   "cell_type": "markdown",
   "metadata": {},
   "source": [
    "- ccazzzzbb는 c,a,z,b가 모두 연속해서 나타나고, kin도 k,i,n이 연속해서 나타나기 때문에 그룹 단어이지만\n",
    "- aabbbccb는 b가 떨어져서 나타나기 떄문에 그룹 단어가 아니다\n",
    "- 단어 N개를 입력으로 받아 그룹 단어의 개수를 출력하는 프로그램을 작성하라"
   ]
  },
  {
   "cell_type": "code",
   "execution_count": 39,
   "metadata": {},
   "outputs": [
    {
     "name": "stdout",
     "output_type": "stream",
     "text": [
      "1\n"
     ]
    }
   ],
   "source": [
    "N = int(input())\n",
    "words = []\n",
    "for _ in range(N):\n",
    "    words.append(str(input()))\n",
    "words\n",
    "\n",
    "def CHECK(word, check):\n",
    "    for i in range(len(word)):\n",
    "        check[ord(word[i])-ord('a')].append(i)\n",
    "    return check\n",
    "count = 0\n",
    "for word in words:\n",
    "    check = [[] for _ in range(26)]\n",
    "    checked = CHECK(word, check)\n",
    "    flag = True\n",
    "    for x in checked:\n",
    "        if len(x) > 1:\n",
    "            res = x[0]\n",
    "            for y in x[1:]:\n",
    "                if y != (res+1):\n",
    "                    flag = False\n",
    "                    break\n",
    "                else:\n",
    "                    res += 1\n",
    "        else:\n",
    "            continue\n",
    "    if flag == True:\n",
    "        count += 1\n",
    "    else:\n",
    "        continue\n",
    "print(count)    "
   ]
  },
  {
   "cell_type": "markdown",
   "metadata": {},
   "source": [
    "다른 방법"
   ]
  },
  {
   "cell_type": "code",
   "execution_count": 44,
   "metadata": {},
   "outputs": [
    {
     "name": "stdout",
     "output_type": "stream",
     "text": [
      "abccaddd\n",
      "0 a\n",
      "[]\n",
      "1 b\n",
      "['a']\n",
      "2 c\n",
      "['a', 'b']\n",
      "3 c\n",
      "['a', 'b', 'c']\n",
      "4 a\n",
      "['a', 'b', 'c', 'c']\n",
      "5 d\n",
      "['a', 'b', 'c', 'c']\n",
      "6 d\n",
      "['a', 'b', 'c', 'c', 'd']\n",
      "7 d\n",
      "['a', 'b', 'c', 'c', 'd', 'd']\n",
      "new\n",
      "0 n\n",
      "[]\n",
      "1 e\n",
      "['n']\n",
      "2 w\n",
      "['n', 'e']\n",
      "year\n",
      "0 y\n",
      "[]\n",
      "1 e\n",
      "['y']\n",
      "2 a\n",
      "['y', 'e']\n",
      "3 r\n",
      "['y', 'e', 'a']\n",
      "2\n"
     ]
    }
   ],
   "source": [
    "words = ['abccaddd','new','year']\n",
    "count = 0\n",
    "for word in words:\n",
    "    print(word)\n",
    "    buff = []\n",
    "    for i, c in enumerate(word):\n",
    "        print(i, c)\n",
    "        print(buff)\n",
    "        if i == 0:\n",
    "            buff.append(c)\n",
    "        elif c == word[i - 1] or c not in buff:\n",
    "            buff.append(c)\n",
    "        else:\n",
    "            continue\n",
    "    if len(buff) == len(word):\n",
    "        count += 1\n",
    "print(count)"
   ]
  },
  {
   "cell_type": "markdown",
   "metadata": {},
   "source": [
    "Today 2022.08.09\n",
    "\n",
    "\n",
    "## Title 좌표 압축\n",
    "\n",
    "\n",
    "BOJ # 18870\n",
    "\n",
    "\n",
    "LV # Silver 2\n",
    "\n",
    "\n",
    "Tag # Sorting"
   ]
  },
  {
   "cell_type": "markdown",
   "metadata": {},
   "source": [
    "- 첫째 줄에 N이 주어진다\n",
    "- 둘째 줄에는 공백 한 칸으로 구분된 N개의 수가 주어진다\n",
    "- X_i를 압축한 결과 X_i'는 X_i > X_j를 만족하는 서로 다른 좌표의 개수와 같아야 한다"
   ]
  },
  {
   "cell_type": "code",
   "execution_count": 87,
   "metadata": {},
   "outputs": [
    {
     "name": "stdout",
     "output_type": "stream",
     "text": [
      "2 3 0 3 1 "
     ]
    }
   ],
   "source": [
    "N = int(input())\n",
    "x = [i for i in range(N)]\n",
    "y = list(map(int, input().split()))\n",
    "L = list(zip(x,y))\n",
    "\n",
    "L.sort(key=lambda x : x[1], reverse=False)\n",
    "\n",
    "new_L = []\n",
    "add = 0\n",
    "for i in range(len(L)-1):\n",
    "    global add\n",
    "    if L[i][1] < L[i+1][1]:\n",
    "        new_L.append(L[i] + tuple([add]))\n",
    "        add += 1\n",
    "    else:\n",
    "        new_L.append(L[i] + tuple([add]))\n",
    "if L[-2][1] == L[-1][1]:\n",
    "    new_L.append(L[-1] + tuple([add]))\n",
    "else:\n",
    "    new_L.append(L[-1] + tuple([add+1]))\n",
    "\n",
    "new_L.sort(key=lambda x:x[0])\n",
    "for x in new_L:\n",
    "    print(x[2], end=' ')\n"
   ]
  },
  {
   "cell_type": "code",
   "execution_count": 89,
   "metadata": {},
   "outputs": [
    {
     "name": "stdout",
     "output_type": "stream",
     "text": [
      "[]\n",
      "[(4, -9, 0)]\n",
      "[(4, -9, 0), (5, -9, 0)]\n",
      "[(4, -9, 0), (5, -9, 0), (3, 0, 1)]\n",
      "[(4, -9, 0), (5, -9, 0), (3, 0, 1), (0, 1, 2)]\n",
      "2 2 2 1 0 0 "
     ]
    }
   ],
   "source": [
    "N = int(input())\n",
    "x = [i for i in range(N)]\n",
    "y = list(map(int, input().split()))\n",
    "L = list(zip(x,y))\n",
    "\n",
    "L.sort(key=lambda x : x[1], reverse=False)\n",
    "\n",
    "new_L = []\n",
    "add = 0\n",
    "for i in range(len(L)-1):\n",
    "    global add\n",
    "    print(new_L)\n",
    "    if L[i][1] < L[i+1][1]:\n",
    "        new_L.append(L[i] + tuple([add]))\n",
    "        add += 1\n",
    "    else:\n",
    "        new_L.append(L[i] + tuple([add]))\n",
    "if L[-2][1] == L[-1][1]:\n",
    "    new_L.append(L[-1] + tuple([add]))\n",
    "else:\n",
    "    new_L.append(L[-1] + tuple([add+1]))\n",
    "\n",
    "new_L.sort(key=lambda x:x[0])\n",
    "for x in new_L:\n",
    "    print(x[2], end=' ')\n"
   ]
  },
  {
   "cell_type": "code",
   "execution_count": null,
   "metadata": {},
   "outputs": [],
   "source": []
  },
  {
   "cell_type": "code",
   "execution_count": null,
   "metadata": {},
   "outputs": [],
   "source": []
  },
  {
   "cell_type": "code",
   "execution_count": null,
   "metadata": {},
   "outputs": [],
   "source": []
  },
  {
   "cell_type": "code",
   "execution_count": null,
   "metadata": {},
   "outputs": [],
   "source": []
  },
  {
   "cell_type": "code",
   "execution_count": null,
   "metadata": {},
   "outputs": [],
   "source": []
  },
  {
   "cell_type": "code",
   "execution_count": null,
   "metadata": {},
   "outputs": [],
   "source": []
  }
 ],
 "metadata": {
  "kernelspec": {
   "display_name": "Python 3.8.13 ('AUTOVC')",
   "language": "python",
   "name": "python3"
  },
  "language_info": {
   "codemirror_mode": {
    "name": "ipython",
    "version": 3
   },
   "file_extension": ".py",
   "mimetype": "text/x-python",
   "name": "python",
   "nbconvert_exporter": "python",
   "pygments_lexer": "ipython3",
   "version": "3.8.13"
  },
  "orig_nbformat": 4,
  "vscode": {
   "interpreter": {
    "hash": "83701494a915308841c98d90e1627ab32994947d5b938ec1dfda5c4da74c3582"
   }
  }
 },
 "nbformat": 4,
 "nbformat_minor": 2
}
