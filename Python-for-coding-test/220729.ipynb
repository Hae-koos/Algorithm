{
 "cells": [
  {
   "cell_type": "code",
   "execution_count": 1,
   "metadata": {},
   "outputs": [],
   "source": [
    "import numpy as np\n",
    "import pandas as pd\n",
    "import random\n",
    "import time"
   ]
  },
  {
   "cell_type": "markdown",
   "metadata": {},
   "source": [
    "##### 음료수 얼려먹기 RETRY"
   ]
  },
  {
   "cell_type": "markdown",
   "metadata": {},
   "source": [
    "BFS"
   ]
  },
  {
   "cell_type": "code",
   "execution_count": null,
   "metadata": {},
   "outputs": [],
   "source": [
    "# 0 이 물 들어가는 공간\n",
    "\n",
    "import sys\n",
    "sys.setrecursionlimit(5000)\n",
    "# input = sys.stdin.readline\n",
    "from collections import deque\n",
    "\n",
    "N, M =  map(int, input().split())\n",
    "graph = []\n",
    "\n",
    "for _ in range(N):\n",
    "    graph.append(list(map(int, list(input()))))\n",
    "\n",
    "def bfs(x,y):\n",
    "    q = deque([(x,y)])\n",
    "    dx = [1, -1, 0, 0]\n",
    "    dy = [0, 0, 1, -1]\n",
    "    while q:\n",
    "        x, y = q.popleft()\n",
    "        for i in range(4):\n",
    "            nx = x + dx[i]\n",
    "            ny = y + dy[i]\n",
    "            if nx < 0 or nx >= N or ny < 0 or ny >= M or graph[nx][ny] == 1:\n",
    "                continue\n",
    "            if graph[nx][ny] == 0:\n",
    "                graph[nx][ny] = 1\n",
    "                q.append((nx,ny))\n",
    "\n",
    "count = 0\n",
    "for i in range(N):\n",
    "    for j in range(M):\n",
    "        if graph[i][j] == 0:\n",
    "            bfs(i,j)\n",
    "            count += 1\n",
    "print(count)"
   ]
  },
  {
   "cell_type": "markdown",
   "metadata": {},
   "source": [
    "DFS"
   ]
  },
  {
   "cell_type": "code",
   "execution_count": null,
   "metadata": {},
   "outputs": [],
   "source": [
    "import sys\n",
    "sys.setrecursionlimit(5000)\n",
    "\n",
    "N, M =  map(int, input().split())\n",
    "graph = []\n",
    "\n",
    "for _ in range(N):\n",
    "    graph.append(list(map(int, list(input()))))\n",
    "\n",
    "def dfs(x,y):\n",
    "    if x < 0 or y < 0 or x >=N or y >= M:\n",
    "        return False\n",
    "    if graph[x][y] == 0:\n",
    "        graph[x][y] = 1\n",
    "        dfs(x-1, y)\n",
    "        dfs(x+1, y)\n",
    "        dfs(x, y-1)\n",
    "        dfs(x, y+1)\n",
    "        return True\n",
    "    return False\n",
    "\n",
    "count = 0\n",
    "for i in range(N):\n",
    "    for j in range(M):\n",
    "        if dfs(i,j) == True:\n",
    "            count += 1\n",
    "print(count)"
   ]
  },
  {
   "cell_type": "markdown",
   "metadata": {},
   "source": [
    "##### 적록색약"
   ]
  },
  {
   "cell_type": "markdown",
   "metadata": {},
   "source": [
    "백준 10026"
   ]
  },
  {
   "cell_type": "code",
   "execution_count": 20,
   "metadata": {},
   "outputs": [],
   "source": [
    "N = int(input())\n",
    "graph = []\n",
    "graph2 = []\n",
    "cb = {'R':0,'G':1,'B':2}\n",
    "cb2 = {'R':0,'G':0,'B':1}\n",
    "for _ in range(N):\n",
    "    l = list(input())\n",
    "    graph.append([cb[x] for x in l])\n",
    "    graph2.append([cb2[x] for x in l])"
   ]
  },
  {
   "cell_type": "code",
   "execution_count": 21,
   "metadata": {},
   "outputs": [
    {
     "name": "stdout",
     "output_type": "stream",
     "text": [
      "[0, 0, 0, 2, 2]\n",
      "[1, 1, 2, 2, 2]\n",
      "[2, 2, 2, 0, 0]\n",
      "[2, 2, 0, 0, 0]\n",
      "[0, 0, 0, 0, 0]\n",
      "\n",
      "[0, 0, 0, 1, 1]\n",
      "[0, 0, 1, 1, 1]\n",
      "[1, 1, 1, 0, 0]\n",
      "[1, 1, 0, 0, 0]\n",
      "[0, 0, 0, 0, 0]\n"
     ]
    }
   ],
   "source": [
    "for x in graph:\n",
    "    print(x)\n",
    "print()\n",
    "for x in graph2:\n",
    "    print(x)"
   ]
  },
  {
   "cell_type": "code",
   "execution_count": 22,
   "metadata": {},
   "outputs": [],
   "source": [
    "import copy\n",
    "a = copy.deepcopy(graph)\n",
    "b = copy.deepcopy(graph2)"
   ]
  },
  {
   "cell_type": "code",
   "execution_count": 24,
   "metadata": {},
   "outputs": [],
   "source": [
    "import copy\n",
    "graph = a\n",
    "graph2 = b"
   ]
  },
  {
   "cell_type": "code",
   "execution_count": 25,
   "metadata": {},
   "outputs": [
    {
     "name": "stdout",
     "output_type": "stream",
     "text": [
      "4\n",
      "3\n"
     ]
    }
   ],
   "source": [
    "import sys\n",
    "sys.setrecursionlimit(5000)\n",
    "# input = sys.stdin.readline\n",
    "from collections import deque\n",
    "\n",
    "def bfs_n(x,y,me,graph):\n",
    "    q = deque([(x,y)])\n",
    "    dx = [0,0,1,-1]\n",
    "    dy = [1,-1,0,0]\n",
    "    while q:\n",
    "        # print(q, count)\n",
    "        # for x in graph:\n",
    "        #     print(x)\n",
    "        # print()\n",
    "        x, y = q.popleft()\n",
    "        for i in range(4):\n",
    "            nx = x + dx[i]\n",
    "            ny = y + dy[i]\n",
    "            if nx < 0 or nx >= N or ny < 0 or ny >= N or graph[nx][ny] != me:\n",
    "                continue\n",
    "            if graph[nx][ny] == me:\n",
    "                graph[nx][ny] = me + 3\n",
    "                q.append((nx,ny))\n",
    "            \n",
    "count_r = 0\n",
    "count_g = 0\n",
    "count_b = 0\n",
    "\n",
    "count_rg = 0\n",
    "count_b2 = 0\n",
    "\n",
    "for i in range(N):\n",
    "    for j in range(N):\n",
    "        if graph[i][j] == 0:\n",
    "            bfs_n(i,j,0,graph)\n",
    "            count_r += 1\n",
    "        if graph[i][j] == 1:\n",
    "            bfs_n(i,j,1,graph)\n",
    "            count_g += 1            \n",
    "        if graph[i][j] == 2:\n",
    "            bfs_n(i,j,2,graph)\n",
    "            count_b += 1\n",
    "for i in range(N):\n",
    "    for j in range(N):\n",
    "        if graph2[i][j] == 0:\n",
    "            bfs_n(i,j,0,graph2)\n",
    "            count_rg += 1\n",
    "        if graph2[i][j] == 1:\n",
    "            bfs_n(i,j,1,graph2)\n",
    "            count_b2 += 1            \n",
    "\n",
    "print(count_r + count_g + count_b)\n",
    "print(count_rg + count_b2)"
   ]
  },
  {
   "cell_type": "markdown",
   "metadata": {},
   "source": [
    "정리한 코드\n",
    "\n",
    "더럽지만 일단 맞았다.."
   ]
  },
  {
   "cell_type": "code",
   "execution_count": null,
   "metadata": {},
   "outputs": [],
   "source": [
    "N = int(input())\n",
    "graph = []\n",
    "graph2 = []\n",
    "cb = {'R':0,'G':1,'B':2}\n",
    "cb2 = {'R':0,'G':0,'B':1}\n",
    "for _ in range(N):\n",
    "    l = list(input())\n",
    "    graph.append([cb[x] for x in l])\n",
    "    graph2.append([cb2[x] for x in l])\n",
    "\n",
    "import sys\n",
    "sys.setrecursionlimit(5000)\n",
    "# input = sys.stdin.readline\n",
    "from collections import deque\n",
    "\n",
    "def bfs_n(x,y,me,graph):\n",
    "    q = deque([(x,y)])\n",
    "    dx = [0,0,1,-1]\n",
    "    dy = [1,-1,0,0]\n",
    "    while q:\n",
    "        # print(q, count)\n",
    "        # for x in graph:\n",
    "        #     print(x)\n",
    "        # print()\n",
    "        x, y = q.popleft()\n",
    "        for i in range(4):\n",
    "            nx = x + dx[i]\n",
    "            ny = y + dy[i]\n",
    "            if nx < 0 or nx >= N or ny < 0 or ny >= N or graph[nx][ny] != me:\n",
    "                continue\n",
    "            if graph[nx][ny] == me:\n",
    "                graph[nx][ny] = me + 3\n",
    "                q.append((nx,ny))\n",
    "            \n",
    "count_r = 0\n",
    "count_g = 0\n",
    "count_b = 0\n",
    "\n",
    "count_rg = 0\n",
    "count_b2 = 0\n",
    "\n",
    "for i in range(N):\n",
    "    for j in range(N):\n",
    "        if graph[i][j] == 0:\n",
    "            bfs_n(i,j,0,graph)\n",
    "            count_r += 1\n",
    "        if graph[i][j] == 1:\n",
    "            bfs_n(i,j,1,graph)\n",
    "            count_g += 1            \n",
    "        if graph[i][j] == 2:\n",
    "            bfs_n(i,j,2,graph)\n",
    "            count_b += 1\n",
    "for i in range(N):\n",
    "    for j in range(N):\n",
    "        if graph2[i][j] == 0:\n",
    "            bfs_n(i,j,0,graph2)\n",
    "            count_rg += 1\n",
    "        if graph2[i][j] == 1:\n",
    "            bfs_n(i,j,1,graph2)\n",
    "            count_b2 += 1            \n",
    "\n",
    "print(count_r + count_g + count_b)\n",
    "print(count_rg + count_b2)"
   ]
  }
 ],
 "metadata": {
  "kernelspec": {
   "display_name": "Python 3.8.13 ('220602')",
   "language": "python",
   "name": "python3"
  },
  "language_info": {
   "codemirror_mode": {
    "name": "ipython",
    "version": 3
   },
   "file_extension": ".py",
   "mimetype": "text/x-python",
   "name": "python",
   "nbconvert_exporter": "python",
   "pygments_lexer": "ipython3",
   "version": "3.8.13"
  },
  "orig_nbformat": 4,
  "vscode": {
   "interpreter": {
    "hash": "c338ad7255a2897c16c9ce6a2d417a70b7b950e3cde57c3d9f59d0eb8b97ca54"
   }
  }
 },
 "nbformat": 4,
 "nbformat_minor": 2
}
