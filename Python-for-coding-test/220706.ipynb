{
 "cells": [
  {
   "cell_type": "markdown",
   "metadata": {},
   "source": [
    "#### 무조건 반복문으로 접근 X\n",
    "#### 우선순위 큐와 같이 활용할 수 있는 자료구조형에 대한 고민 "
   ]
  },
  {
   "cell_type": "code",
   "execution_count": 1,
   "metadata": {},
   "outputs": [],
   "source": [
    "import numpy as np\n",
    "import pandas as pd\n",
    "import random\n",
    "import time"
   ]
  },
  {
   "cell_type": "markdown",
   "metadata": {},
   "source": [
    "##### 무지의 먹방 라이브"
   ]
  },
  {
   "cell_type": "markdown",
   "metadata": {},
   "source": [
    "- 2019 KAKAO BLIND RECRUITMENT  \n",
    "\n",
    "- 평소 식욕이 왕성한 무지는 자신의 재능을 뽐내고 싶어 졌고, 고민 끝에 카카오 TV 라이브로 방송을 하기로 마음먹었다.   \n",
    "그냥 먹방을 하면 다른 방송과 차별성이 없기 때문에 무지는 아래와 같이 독특한 방식을 생각해냈다.\n",
    "\n",
    "- 회전판에 먹어야 할 N 개의 음식이 있다. 각 음식에는 1부터 N 까지 번호가 붙어있으며,  \n",
    "각 음식을 섭취하는데 일정 시간이 소요된다. \n",
    "\n",
    "  무지는 다음과 같은 방법으로 음식을 섭취한다.\n",
    "    - 무지는 1번 음식부터 먹기 시작하며, 회전판은 번호가 증가하는 순서대로 음식을 무지 앞으로 가져다 놓는다.\n",
    "    - 마지막 번호의 음식을 섭취한 후에는 회전판에 의해 다시 1번 음식이 무지 앞으로 온다.\n",
    "    - 무지는 음식 하나를 1초 동안 섭취한 후 남은 음식은 그대로 두고, 다음 음식을 섭취한다.\n",
    "    - 다음 음식이란, 아직 남은 음식 중 다음으로 섭취해야 할 가장 가까운 번호의 음식을 말한다.\n",
    "    - 회전판이 다음 음식을 무지 앞으로 가져오는데 걸리는 시간은 없다고 가정한다.\n",
    "\n",
    "무지가 먹방을 시작한 지 K 초 후에 네트워크 장애로 인해 방송이 잠시 중단되었다.  \n",
    "무지는 네트워크 정상화 후 다시 방송을 이어갈 때, 몇 번 음식부터 섭취해야 하는지를 알고자 한다.  \n",
    "각 음식을 모두 먹는데 필요한 시간이 담겨있는 배열 food_times,  \n",
    "네트워크 장애가 발생한 시간 K 초가 매개변수로 주어질 때 몇 번 음식부터 다시 섭취하면 되는지  \n",
    "return 하도록 solution 함수를 완성하라."
   ]
  },
  {
   "cell_type": "code",
   "execution_count": 33,
   "metadata": {},
   "outputs": [
    {
     "name": "stdout",
     "output_type": "stream",
     "text": [
      "[(1, 2), (3, 1), (2, 3)]\n",
      "[(2, 3), (3, 1)]\n",
      "[(3, 1)]\n",
      "[(3, 1)] 0 1 0\n",
      "1\n"
     ]
    }
   ],
   "source": [
    "# 시간이 적게 걸리는 음식부터 확인하는 Greedy Algorighm\n",
    "# 모든 음식을 시간을 기준으로 정렬한 뒤에 시간이 적게 걸리는 음식부터 제거해 나가는 방식\n",
    "# → 우선순위 큐\n",
    "\n",
    "import heapq\n",
    "\n",
    "food_times = list(map(int, input().split()))\n",
    "k = int(input())\n",
    "\n",
    "if sum(food_times) <= k: # 전체 음식을 먹는 시간보다 k가 크거나 같다면 = 더 섭취해야 할 음식이 없다면\n",
    "    result = -1\n",
    "    assert False\n",
    "\n",
    "q = []\n",
    "\n",
    "for i in range(len(food_times)):\n",
    "    heapq.heappush(q, (food_times[i], i+1)) # (음식시간, 음식번호) 형태로 삽입\n",
    "\n",
    "print(q)\n",
    "sum_value = 0 # 먹기 위해 사용한 시간\n",
    "previous = 0 # 직전에 다 먹은 음식 시간\n",
    "length = len(food_times) # 남은 음식의 개수\n",
    "\n",
    "while sum_value + ((q[0][0] - previous) * length) <= k:\n",
    "    now = heapq.heappop(q)[0]\n",
    "    sum_value += (now-previous) * length\n",
    "    length -= 1\n",
    "    previous = now\n",
    "    print(q)\n",
    "\n",
    "result = sorted(q, key=lambda x: x[1])\n",
    "print(result, (k - sum_value), length, (k - sum_value) % length)\n",
    "print(result[(k - sum_value) % length][1])"
   ]
  },
  {
   "cell_type": "code",
   "execution_count": 34,
   "metadata": {},
   "outputs": [
    {
     "name": "stdout",
     "output_type": "stream",
     "text": [
      "[(4, 3), (8, 1), (6, 2)]\n",
      "[(6, 2), (8, 1)]\n",
      "[(8, 1), (6, 2)] 3 2 1\n",
      "2\n"
     ]
    }
   ],
   "source": [
    "# 시간이 적게 걸리는 음식부터 확인하는 Greedy Algorighm\n",
    "# 모든 음식을 시간을 기준으로 정렬한 뒤에 시간이 적게 걸리는 음식부터 제거해 나가는 방식\n",
    "# → 우선순위 큐\n",
    "\n",
    "import heapq\n",
    "\n",
    "food_times = list(map(int, input().split()))\n",
    "k = int(input())\n",
    "\n",
    "if sum(food_times) <= k: # 전체 음식을 먹는 시간보다 k가 크거나 같다면 = 더 섭취해야 할 음식이 없다면\n",
    "    result = -1\n",
    "    assert False\n",
    "\n",
    "q = []\n",
    "\n",
    "for i in range(len(food_times)):\n",
    "    heapq.heappush(q, (food_times[i], i+1)) # (음식시간, 음식번호) 형태로 삽입\n",
    "\n",
    "print(q)\n",
    "sum_value = 0 # 먹기 위해 사용한 시간\n",
    "previous = 0 # 직전에 다 먹은 음식 시간\n",
    "length = len(food_times) # 남은 음식의 개수\n",
    "\n",
    "while sum_value + ((q[0][0] - previous) * length) <= k:\n",
    "    now = heapq.heappop(q)[0]\n",
    "    sum_value += (now-previous) * length\n",
    "    length -= 1\n",
    "    previous = now\n",
    "    print(q)\n",
    "\n",
    "result = sorted(q, key=lambda x: x[1])\n",
    "print(result, (k - sum_value), length, (k - sum_value) % length)\n",
    "print(result[(k - sum_value) % length][1])"
   ]
  },
  {
   "cell_type": "markdown",
   "metadata": {},
   "source": [
    "##### 전자레인지 (백준 10162)"
   ]
  },
  {
   "cell_type": "markdown",
   "metadata": {},
   "source": [
    "- 시간조절 버튼 A, B, C = 5분, 1분, 10초\n",
    "- 초 단위로 총 시간을 계산하며, 버튼을 누르는 횟수는 최소화\n",
    "- T = 100 → B, C, C, C, C → 5번\n",
    "- 1 ≤ T ≤ 10,000"
   ]
  },
  {
   "cell_type": "code",
   "execution_count": 54,
   "metadata": {},
   "outputs": [
    {
     "name": "stdout",
     "output_type": "stream",
     "text": [
      "1 4 1\n"
     ]
    }
   ],
   "source": [
    "T = int(input())\n",
    "B = [300, 60, 10]\n",
    "\n",
    "while True:\n",
    "    if T % B[2] != 0:\n",
    "        print(-1)\n",
    "        break\n",
    "    q1, r1 = divmod(T, B[0])\n",
    "    q2, r2 = divmod(r1, B[1])\n",
    "    q3, r3 = divmod(r2, B[2])\n",
    "    print(q1, q2, q3)\n",
    "    break\n"
   ]
  },
  {
   "cell_type": "markdown",
   "metadata": {},
   "source": [
    "##### 세탁소 사장 동혁 (백준 2720)"
   ]
  },
  {
   "cell_type": "markdown",
   "metadata": {},
   "source": [
    "- 거스름돈의 액수가 주어지면 쿼터, 다임, 니켈, 페니의 개수를 구하는 프로그램  \n",
    "0.25, 0.10, 0.05, 0.01\n",
    "- 거스름돈은 5달러 이하, 동전 개수 최소로\n",
    "- 1.24 → 4, 2, 0, 4 → 4 2 0 4 출력"
   ]
  },
  {
   "cell_type": "code",
   "execution_count": 55,
   "metadata": {},
   "outputs": [
    {
     "name": "stdout",
     "output_type": "stream",
     "text": [
      "4 2 0 4\n",
      "1 0 0 0\n",
      "7 1 1 4\n"
     ]
    }
   ],
   "source": [
    "T = int(input())\n",
    "C = [25, 10, 5, 1]\n",
    "\n",
    "for _ in range(T):\n",
    "    M = int(input())\n",
    "\n",
    "    q1, r1 = divmod(M, C[0])\n",
    "    q2, r2 = divmod(r1, C[1])\n",
    "    q3, r3 = divmod(r2, C[2])\n",
    "    q4, r4 = divmod(r3, C[3])\n",
    "\n",
    "    print(q1, q2, q3, q4)\n"
   ]
  }
 ],
 "metadata": {
  "kernelspec": {
   "display_name": "Python 3.8.13 ('algorithm')",
   "language": "python",
   "name": "python3"
  },
  "language_info": {
   "codemirror_mode": {
    "name": "ipython",
    "version": 3
   },
   "file_extension": ".py",
   "mimetype": "text/x-python",
   "name": "python",
   "nbconvert_exporter": "python",
   "pygments_lexer": "ipython3",
   "version": "3.8.13"
  },
  "orig_nbformat": 4,
  "vscode": {
   "interpreter": {
    "hash": "ee431ac274e33366c10c3ac30cd4fb33ff3ed0dd6a8cc3f05073bd47291a9c12"
   }
  }
 },
 "nbformat": 4,
 "nbformat_minor": 2
}
