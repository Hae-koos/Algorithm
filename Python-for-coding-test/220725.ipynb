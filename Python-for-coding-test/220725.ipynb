{
 "cells": [
  {
   "cell_type": "code",
   "execution_count": 1,
   "metadata": {},
   "outputs": [],
   "source": [
    "import numpy as np\n",
    "import pandas as pd\n",
    "import random\n",
    "import time"
   ]
  },
  {
   "cell_type": "markdown",
   "metadata": {},
   "source": [
    "##### 설탕 배달 (Greedy Algorithm)"
   ]
  },
  {
   "cell_type": "markdown",
   "metadata": {},
   "source": [
    "백준 2839"
   ]
  },
  {
   "cell_type": "markdown",
   "metadata": {},
   "source": [
    "- 사탕가게에 설탕을 정확히 N 킬로그램 배달해야 한다\n",
    "- 설탕은 봉지에 담겨있고, 봉지는 3kg, 5kg 봉지가 있다.\n",
    "- 최대한 적은 봉지를 들고 가려고 한다. 18 = (5kg * 3개) + (3kg * 1개) 가 좋겠지"
   ]
  },
  {
   "cell_type": "markdown",
   "metadata": {},
   "source": [
    "상근이가 설탕을 정확히 N 킬로그램 배달해야 할 때, 봉지 몇 개를 가져가면 되는지 그 수를 구하는 프로그램을 작성하시오"
   ]
  },
  {
   "cell_type": "code",
   "execution_count": 32,
   "metadata": {},
   "outputs": [
    {
     "name": "stdout",
     "output_type": "stream",
     "text": [
      "3\n"
     ]
    }
   ],
   "source": [
    "N = int(input())\n",
    "\n",
    "q1, r1 = divmod(N, 5)\n",
    "q2, r2 = divmod(N, 3)\n",
    "\n",
    "ans = []\n",
    "count = []\n",
    "for i in range(q1+1):\n",
    "    for j in range(q2+1):\n",
    "        ans_now = 5*i + 3*j\n",
    "        if ans_now == N:\n",
    "            ans.append(i+j)\n",
    "\n",
    "if len(ans) != 0:\n",
    "    print(min(ans))\n",
    "else:\n",
    "    print(-1)\n"
   ]
  },
  {
   "cell_type": "markdown",
   "metadata": {},
   "source": [
    "##### 유기농 배추 (Graph Search)"
   ]
  },
  {
   "cell_type": "markdown",
   "metadata": {},
   "source": [
    "백준 1012"
   ]
  },
  {
   "cell_type": "markdown",
   "metadata": {},
   "source": [
    "- 해충 방지에 효과적인 배추흰지렁이는 인접한 다른 배추로 이동할 수 있고, 그 배추도 해충으로부터 보호받는다.\n",
    "- 배추들이 모여있는 곳에는 한 마리만 있으면 되므로 인접해있는 배추들이 몇 군데에 퍼져있는지 조사하면 총 몇 마리의 지렁이가 필요한 지 알 수 있다.\n",
    "- 0은 배추가 심어져 있지 않은 땅이고, 1은 배추가 심어져 있는 땅을 나타낸다."
   ]
  },
  {
   "cell_type": "markdown",
   "metadata": {},
   "source": [
    "- 첫 줄에는 테스트 케이스 개수 T \n",
    "- 다음 줄부터 각 케이스에 대해 \n",
    "- 첫 줄에는 배추밭의 가로길이 M 세로길이 N, 그리고 배추가 심어진 위치의 개수 K가 주어진다.\n",
    "- 그 다음 K줄에는 배추의 위치 X, Y가 주어진다.\n",
    "\n",
    "각 테스트 케이스에 대해 필요한 최소의 배추흰지렁이 마리 수를 출력하라"
   ]
  },
  {
   "cell_type": "code",
   "execution_count": 34,
   "metadata": {},
   "outputs": [
    {
     "name": "stdout",
     "output_type": "stream",
     "text": [
      "1\n"
     ]
    }
   ],
   "source": [
    "from collections import deque\n",
    "\n",
    "def bfs(x, y):\n",
    "    dx = [1, -1, 0, 0]\n",
    "    dy = [0, 0, -1, 1]\n",
    "    q = deque([(x, y)])\n",
    "    count = 0\n",
    "    while q:\n",
    "        x, y = q.popleft()\n",
    "        graph[x][y] = 0\n",
    "        for i in range(4):\n",
    "            nx = x + dx[i]\n",
    "            ny = y + dy[i]\n",
    "            \n",
    "            if nx < 0 or nx >= M or ny < 0 or ny >= N:\n",
    "                continue\n",
    "\n",
    "            if graph[nx][ny] == 1:\n",
    "                count = 1\n",
    "                graph[nx][ny] = 0\n",
    "                q.append((nx, ny))\n",
    "                # print(q)    \n",
    "    return\n",
    "\n",
    "T = int(input())\n",
    "\n",
    "for _ in range(T):\n",
    "    M, N, K = map(int, input().split())\n",
    "    graph = [[0] * N for _ in range(M)]\n",
    "    for _ in range(K):\n",
    "        m, n = map(int, input().split())\n",
    "        graph[m][n] = 1\n",
    "\n",
    "    result = 0\n",
    "    \n",
    "    for x in range(M):\n",
    "        for y in range(N):\n",
    "            if graph[x][y] == 1:\n",
    "                result = result + 1\n",
    "                bfs(x, y)\n",
    "\n",
    "    print(result)"
   ]
  },
  {
   "cell_type": "markdown",
   "metadata": {},
   "source": [
    "예외처리까지는 아닌데 카운트는 카운트대로 세고, 이미 지난 곳을 0으로 바꾸는 게 핵심"
   ]
  },
  {
   "cell_type": "markdown",
   "metadata": {},
   "source": []
  }
 ],
 "metadata": {
  "kernelspec": {
   "display_name": "Python 3.8.13 ('220602')",
   "language": "python",
   "name": "python3"
  },
  "language_info": {
   "codemirror_mode": {
    "name": "ipython",
    "version": 3
   },
   "file_extension": ".py",
   "mimetype": "text/x-python",
   "name": "python",
   "nbconvert_exporter": "python",
   "pygments_lexer": "ipython3",
   "version": "3.8.13"
  },
  "orig_nbformat": 4,
  "vscode": {
   "interpreter": {
    "hash": "c338ad7255a2897c16c9ce6a2d417a70b7b950e3cde57c3d9f59d0eb8b97ca54"
   }
  }
 },
 "nbformat": 4,
 "nbformat_minor": 2
}
