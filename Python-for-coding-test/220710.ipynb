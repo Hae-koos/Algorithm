{
 "cells": [
  {
   "cell_type": "code",
   "execution_count": 2,
   "metadata": {},
   "outputs": [],
   "source": [
    "import numpy as np\n",
    "import pandas as pd\n",
    "import random\n",
    "import time"
   ]
  },
  {
   "cell_type": "markdown",
   "metadata": {},
   "source": [
    "##### 자물쇠와 열쇠"
   ]
  },
  {
   "cell_type": "markdown",
   "metadata": {},
   "source": [
    "2020 카카오 신입 공채  \n",
    "정답률 7.4%"
   ]
  },
  {
   "cell_type": "markdown",
   "metadata": {},
   "source": [
    "- 열쇠는 N x N 크기의 정사각형 격자 형태\n",
    "- 자물쇠는 M x M 크기의 정사각형 격자 형태\n",
    "- key, lock은 0 또는 1로 구성되며, 0은 홈, 1은 돌기\n",
    "- EXAMPLE\n",
    "- Key :\n",
    "\n",
    "[000] [010] [110] [001]\n",
    "\n",
    "[100] [100] [001] [001]\n",
    "\n",
    "[011] [100] [000] [010]\n",
    "\n",
    "- Lock :\n",
    "\n",
    "[111]\n",
    "\n",
    "[110]\n",
    "\n",
    "[101]\n",
    "\n",
    "- TRUE"
   ]
  },
  {
   "cell_type": "markdown",
   "metadata": {},
   "source": [
    "##### 자물쇠와 열쇠"
   ]
  },
  {
   "cell_type": "code",
   "execution_count": 3,
   "metadata": {},
   "outputs": [
    {
     "data": {
      "text/plain": [
       "True"
      ]
     },
     "execution_count": 3,
     "metadata": {},
     "output_type": "execute_result"
    }
   ],
   "source": [
    "def rotate_a_matrix_by_90_degree(a):\n",
    "    n = len(a) # 행 길이 계산\n",
    "    m = len(a[0]) # 열 길이 계산\n",
    "    result = [[0] * n for _ in range(m)] # 결과 리스트\n",
    "    for i in range(n):\n",
    "        for j in range(m):\n",
    "            result[j][n - i - 1] = a[i][j]\n",
    "    return result\n",
    "\n",
    "# 자물쇠 중간 부분이 모두 1인지 확인\n",
    "def check(new_lock):\n",
    "    lock_length = len(new_lock) // 3\n",
    "    for i in range(lock_length, lock_length * 2):\n",
    "        for j in range(lock_length, lock_length * 2):\n",
    "            if new_lock[i][j] != 1:\n",
    "                return False\n",
    "    return True\n",
    "\n",
    "def solution(key, lock):\n",
    "    n = len(lock)\n",
    "    m = len(key)\n",
    "    # 자물쇠의 크기를 기존의 3배로 변환\n",
    "    new_lock = [[0] * (n*3) for _ in range(n*3)]\n",
    "    # 새로운 자물쇠 중앙에 기존 자물쇠 넣기\n",
    "    for i in range(n):\n",
    "        for j in range(n):\n",
    "            new_lock[i+n][j+n] = lock[i][j]\n",
    "    # 4가지 방향에 대해서 확인\n",
    "    for rotation in range(4):\n",
    "        key = rotate_a_matrix_by_90_degree(key)\n",
    "        for x in range(n*2):\n",
    "            for y in range(n*2):\n",
    "                # 자물쇠에 열쇠 끼워넣기\n",
    "                for i in range(m):\n",
    "                    for j in range(m):\n",
    "                        new_lock[x + i][y + j] += key[i][j]\n",
    "                # 새로운 자물쇠에 열쇠가 정확히 들어맞는지 검사\n",
    "                if check(new_lock) == True:\n",
    "                    return True\n",
    "                for i in range(m):\n",
    "                    for j in range(m):\n",
    "                        new_lock[x + i][y + j] -= key[i][j]\n",
    "    return False\n",
    "\n",
    "key = [[0, 0, 0], [1, 0, 0], [0, 1, 1]]\n",
    "lock = [[1, 1, 1], [1, 1, 0], [1, 0, 1]]\n",
    "\n",
    "solution(key=key, lock=lock)"
   ]
  },
  {
   "cell_type": "markdown",
   "metadata": {},
   "source": [
    "##### 뱀"
   ]
  },
  {
   "cell_type": "markdown",
   "metadata": {},
   "source": [
    "- 삼성전자 SW 역량테스트\n",
    "- N x N 정사각 보드 위에 몇몇 칸에는 사과가 놓여져 있다.\n",
    "- 시작할 때 뱀은 좌측 상단에 위치하고 길이는 1이며, 처음에는 오른쪽을 향한다.\n",
    "- 뱀은 매 초마다 이동을 하는데 다음과 같은 규칙을 따른다.\n",
    "    - 뱀은 몸길이를 늘려 머리를 다음 칸에 위치시킨다.\n",
    "    - 이동한 칸에 사과가 있다면 그 칸에 있던 사과는 없어지고, 꼬리는 움직이지 않는다.\n",
    "    - 사과가 없다면 몸 길이를 줄여서 꼬리가 위치한 칸을 비워주며, 길이는 변하지 않는다.\n",
    "- 사과의 위치와 뱀의 이동 경로가 주어질 때, 이 게임이 몇 초에 끝나는지 계산하라."
   ]
  },
  {
   "cell_type": "markdown",
   "metadata": {},
   "source": [
    "EXAMPLE\n",
    "\n",
    "- 6                            6 x 6 보드 \n",
    "- 3                            사과 3개\n",
    "- 3 4                        사과 1 위치 (3, 4)\n",
    "- 2 5                        사과 2 위치 (2, 5)\n",
    "- 5 3                        사과 3 위치 (5, 3)\n",
    "- 3                           뱀의 방향 변환 횟수 3 번\n",
    "- 3 D                       시작 후 3초가 지난 뒤 오른쪽 90도 회전\n",
    "- 15 L                      시작 후 15초 지난 뒤 왼쪽으로 90도 회전\n",
    "- 17 D                      시작 후 17초 지난 뒤 오른쪽으로 90도 회전\n",
    "\n",
    "- 출력 : 9"
   ]
  },
  {
   "cell_type": "code",
   "execution_count": 46,
   "metadata": {},
   "outputs": [],
   "source": [
    "import numpy as np\n",
    "\n",
    "def turn_left(map):\n",
    "    m = len(map)\n",
    "    n = len(map[0])\n",
    "    result = [[0]*m for _ in range(n)]\n",
    "    for i in range(n):\n",
    "        for j in range(m):\n",
    "            result[j][n - i - 1] = map[i][j]\n",
    "    return result    \n",
    "\n",
    "def turn_right(map):\n",
    "    for _ in range(3):\n",
    "        map = turn_left(map)\n",
    "    return map\n",
    "\n",
    "del map\n",
    "    "
   ]
  },
  {
   "cell_type": "code",
   "execution_count": null,
   "metadata": {},
   "outputs": [],
   "source": []
  },
  {
   "cell_type": "code",
   "execution_count": null,
   "metadata": {},
   "outputs": [],
   "source": []
  },
  {
   "cell_type": "code",
   "execution_count": null,
   "metadata": {},
   "outputs": [],
   "source": []
  }
 ],
 "metadata": {
  "kernelspec": {
   "display_name": "Python 3.8.13 ('algorithm')",
   "language": "python",
   "name": "python3"
  },
  "language_info": {
   "codemirror_mode": {
    "name": "ipython",
    "version": 3
   },
   "file_extension": ".py",
   "mimetype": "text/x-python",
   "name": "python",
   "nbconvert_exporter": "python",
   "pygments_lexer": "ipython3",
   "version": "3.8.13"
  },
  "orig_nbformat": 4,
  "vscode": {
   "interpreter": {
    "hash": "ee431ac274e33366c10c3ac30cd4fb33ff3ed0dd6a8cc3f05073bd47291a9c12"
   }
  }
 },
 "nbformat": 4,
 "nbformat_minor": 2
}
