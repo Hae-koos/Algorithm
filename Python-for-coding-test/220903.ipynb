{
 "cells": [
  {
   "cell_type": "markdown",
   "metadata": {},
   "source": [
    "### 절댓값 힙"
   ]
  },
  {
   "cell_type": "code",
   "execution_count": 9,
   "metadata": {},
   "outputs": [
    {
     "name": "stdout",
     "output_type": "stream",
     "text": [
      "-1\n",
      "1\n",
      "0\n",
      "-1\n",
      "-1\n",
      "1\n",
      "1\n",
      "-2\n",
      "2\n",
      "0\n"
     ]
    }
   ],
   "source": [
    "N = int(input())\n",
    "l = []\n",
    "for _ in range(N):\n",
    "    c = int(input())\n",
    "    l.sort()\n",
    "    if c != 0:\n",
    "        l.append(c)\n",
    "    else:\n",
    "        if len(l) == 0:\n",
    "            print(0)\n",
    "            continue\n",
    "        lp = [x if x >= 0 else -x for x in l]\n",
    "        if min(lp) in l:\n",
    "            if -min(lp) in l:\n",
    "                print(-min(lp))\n",
    "                l.remove(-min(lp))\n",
    "            else:\n",
    "                print(min(lp))\n",
    "                l.remove(min(lp))\n",
    "        else:\n",
    "            print(-min(lp))\n",
    "            l.remove(-min(lp))\n",
    "    "
   ]
  },
  {
   "cell_type": "markdown",
   "metadata": {},
   "source": [
    "시간초과"
   ]
  },
  {
   "cell_type": "code",
   "execution_count": null,
   "metadata": {},
   "outputs": [],
   "source": [
    "N = int(input())\n",
    "import heapq\n",
    "heap = []\n",
    "\n",
    "for _ in range(N):\n",
    "    c = int(input())\n",
    "    if c != 0:\n",
    "        heapq.heappush(heap, (abs(c),c))\n",
    "    else:\n",
    "        try:\n",
    "            print(heapq.heappop(heap)[1])\n",
    "        except:\n",
    "            print(0)\n"
   ]
  },
  {
   "cell_type": "code",
   "execution_count": null,
   "metadata": {},
   "outputs": [],
   "source": []
  },
  {
   "cell_type": "code",
   "execution_count": null,
   "metadata": {},
   "outputs": [],
   "source": []
  },
  {
   "cell_type": "code",
   "execution_count": null,
   "metadata": {},
   "outputs": [],
   "source": []
  },
  {
   "cell_type": "code",
   "execution_count": null,
   "metadata": {},
   "outputs": [],
   "source": []
  },
  {
   "cell_type": "code",
   "execution_count": null,
   "metadata": {},
   "outputs": [],
   "source": []
  }
 ],
 "metadata": {
  "kernelspec": {
   "display_name": "Python 3.8.5 ('base')",
   "language": "python",
   "name": "python3"
  },
  "language_info": {
   "codemirror_mode": {
    "name": "ipython",
    "version": 3
   },
   "file_extension": ".py",
   "mimetype": "text/x-python",
   "name": "python",
   "nbconvert_exporter": "python",
   "pygments_lexer": "ipython3",
   "version": "3.8.5"
  },
  "orig_nbformat": 4,
  "vscode": {
   "interpreter": {
    "hash": "40d3a090f54c6569ab1632332b64b2c03c39dcf918b08424e98f38b5ae0af88f"
   }
  }
 },
 "nbformat": 4,
 "nbformat_minor": 2
}
