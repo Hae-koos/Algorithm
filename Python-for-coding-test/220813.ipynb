{
 "cells": [
  {
   "cell_type": "markdown",
   "metadata": {},
   "source": [
    "Today 2022.08.13\n",
    "\n",
    "\n",
    "## Title 숫자 카드 2\n",
    "\n",
    "BOJ # 10816\n",
    "\n",
    "LV # Silver 4\n",
    "\n",
    "Tag # Binary Search"
   ]
  },
  {
   "cell_type": "markdown",
   "metadata": {},
   "source": [
    "상근이는 숫자 카드를 N개 가지고 있다.  \n",
    "둘째 줄에는 N개의 카드가 주어지며  \n",
    "상근이가 몇 개 가지고 있는 숫자 카드인지 구해야 할 M개의 정수가 주어진다"
   ]
  },
  {
   "cell_type": "code",
   "execution_count": 40,
   "metadata": {},
   "outputs": [
    {
     "data": {
      "text/plain": [
       "[-10, -10, 2, 3, 3, 6, 7, 10, 10, 10]"
      ]
     },
     "execution_count": 40,
     "metadata": {},
     "output_type": "execute_result"
    }
   ],
   "source": [
    "N = int(input())\n",
    "MY = sorted(list(map(int, input().split())))\n",
    "M = int(input())\n",
    "Q = list(map(int, input().split()))\n",
    "\n",
    "MY"
   ]
  },
  {
   "cell_type": "code",
   "execution_count": 43,
   "metadata": {},
   "outputs": [
    {
     "data": {
      "text/plain": [
       "Counter({-10: 2, 2: 1, 3: 2, 6: 1, 7: 1, 10: 3})"
      ]
     },
     "execution_count": 43,
     "metadata": {},
     "output_type": "execute_result"
    }
   ],
   "source": [
    "from collections import Counter\n",
    "\n",
    "C = Counter(MY)\n",
    "C"
   ]
  },
  {
   "cell_type": "code",
   "execution_count": 44,
   "metadata": {},
   "outputs": [
    {
     "data": {
      "text/plain": [
       "2"
      ]
     },
     "execution_count": 44,
     "metadata": {},
     "output_type": "execute_result"
    }
   ],
   "source": [
    "C[-10]"
   ]
  },
  {
   "cell_type": "code",
   "execution_count": 4,
   "metadata": {},
   "outputs": [
    {
     "data": {
      "text/plain": [
       "3"
      ]
     },
     "execution_count": 4,
     "metadata": {},
     "output_type": "execute_result"
    }
   ],
   "source": [
    "MY.count(10)"
   ]
  },
  {
   "cell_type": "code",
   "execution_count": 7,
   "metadata": {},
   "outputs": [
    {
     "data": {
      "text/plain": [
       "[-10, 2, 3, 6, 7, 10]"
      ]
     },
     "execution_count": 7,
     "metadata": {},
     "output_type": "execute_result"
    }
   ],
   "source": [
    "MY_set = sorted(list(set(MY)))\n",
    "MY_set"
   ]
  },
  {
   "cell_type": "code",
   "execution_count": 21,
   "metadata": {},
   "outputs": [],
   "source": [
    "def binary_search(array, target, start, end):\n",
    "    while start <= end:\n",
    "        mid = (start + end) // 2\n",
    "        if array[mid] == target:\n",
    "            return mid\n",
    "        elif array[mid] < target:\n",
    "            start = mid + 1\n",
    "        else:\n",
    "            end = mid - 1\n",
    "    return None"
   ]
  },
  {
   "cell_type": "code",
   "execution_count": 23,
   "metadata": {},
   "outputs": [
    {
     "name": "stdout",
     "output_type": "stream",
     "text": [
      "3 0 0 1 2 0 0 2 "
     ]
    }
   ],
   "source": [
    "ans = []\n",
    "for x in Q:\n",
    "    if binary_search(MY_set, x, 0, len(MY_set)-1) == None:\n",
    "        ans.append(0)\n",
    "    else:\n",
    "        ans.append(MY.count(x))\n",
    "for x in ans:\n",
    "    print(x, end=' ')\n"
   ]
  },
  {
   "cell_type": "code",
   "execution_count": 45,
   "metadata": {},
   "outputs": [
    {
     "name": "stdout",
     "output_type": "stream",
     "text": [
      "3 0 0 1 2 0 0 2 "
     ]
    }
   ],
   "source": [
    "# import sys\n",
    "# input = sys.stdin.readline().rstrip()\n",
    "\n",
    "N = int(input())\n",
    "MY = sorted(list(map(int, input().split())))\n",
    "M = int(input())\n",
    "Q = list(map(int, input().split()))\n",
    "\n",
    "from collections import Counter\n",
    "C = Counter(MY)\n",
    "\n",
    "MY_set = sorted(list(set(MY)))\n",
    "\n",
    "def binary_search(array, target, start, end):\n",
    "    while start <= end:\n",
    "        mid = (start + end) // 2\n",
    "        if array[mid] == target:\n",
    "            return mid\n",
    "        elif array[mid] < target:\n",
    "            start = mid + 1\n",
    "        else:\n",
    "            end = mid - 1\n",
    "    return None\n",
    "\n",
    "ans = []\n",
    "for x in Q:\n",
    "    if binary_search(MY_set, x, 0, len(MY_set)-1) == None:\n",
    "        ans.append(0)\n",
    "    else:\n",
    "        ans.append(C[x])\n",
    "for x in ans:\n",
    "    print(x, end=' ')\n"
   ]
  },
  {
   "cell_type": "markdown",
   "metadata": {},
   "source": [
    "Today 2022.08.13\n",
    "\n",
    "\n",
    "## Title 경로 찾기\n",
    "\n",
    "\n",
    "BOJ # 11403\n",
    "\n",
    "\n",
    "LV # Silver 1\n",
    "\n",
    "\n",
    "Tag # Graph Search"
   ]
  },
  {
   "cell_type": "markdown",
   "metadata": {},
   "source": [
    "가중치 없는 방향 그래프 G가 주어지면, 모든 정점 (i,j)에 대해서 i에서 j로 가는 경로가 있는지 없는지 구하는 프로그램을 작성하라"
   ]
  },
  {
   "cell_type": "code",
   "execution_count": 46,
   "metadata": {},
   "outputs": [
    {
     "data": {
      "text/plain": [
       "[[0, 0, 0, 1, 0, 0, 0],\n",
       " [0, 0, 0, 0, 0, 0, 1],\n",
       " [0, 0, 0, 0, 0, 0, 0],\n",
       " [0, 0, 0, 0, 1, 1, 0],\n",
       " [1, 0, 0, 0, 0, 0, 0],\n",
       " [0, 0, 0, 0, 0, 0, 1],\n",
       " [0, 0, 1, 0, 0, 0, 0]]"
      ]
     },
     "execution_count": 46,
     "metadata": {},
     "output_type": "execute_result"
    }
   ],
   "source": [
    "N = int(input())\n",
    "graph = []\n",
    "for _ in range(N):\n",
    "    graph.append(list(map(int, input().split())))\n",
    "graph\n"
   ]
  },
  {
   "cell_type": "code",
   "execution_count": 66,
   "metadata": {},
   "outputs": [],
   "source": [
    "graph = [[0, 0, 0, 1, 0, 0, 0],\n",
    " [0, 0, 0, 0, 0, 0, 1],\n",
    " [0, 0, 0, 0, 0, 0, 0],\n",
    " [0, 0, 0, 0, 1, 1, 0],\n",
    " [1, 0, 0, 0, 0, 0, 0],\n",
    " [0, 0, 0, 0, 0, 0, 1],\n",
    " [0, 0, 1, 0, 0, 0, 0]]"
   ]
  },
  {
   "cell_type": "code",
   "execution_count": 74,
   "metadata": {},
   "outputs": [
    {
     "data": {
      "text/plain": [
       "[0, 0, 0, 0, 0, 0, 0]"
      ]
     },
     "execution_count": 74,
     "metadata": {},
     "output_type": "execute_result"
    }
   ],
   "source": [
    "chk = [0 for _ in range(N)]\n",
    "chk"
   ]
  },
  {
   "cell_type": "code",
   "execution_count": 75,
   "metadata": {},
   "outputs": [
    {
     "name": "stdout",
     "output_type": "stream",
     "text": [
      "1 0 1 1 1 1 1 \n",
      "0 0 1 0 0 0 1 \n",
      "0 0 0 0 0 0 0 \n",
      "1 0 1 1 1 1 1 \n",
      "1 0 1 1 1 1 1 \n",
      "0 0 1 0 0 0 1 \n",
      "0 0 1 0 0 0 0 \n"
     ]
    }
   ],
   "source": [
    "def dfs(x):\n",
    "    for i in range(N):\n",
    "        if graph[x][i] == 1 and chk[i] == 0:\n",
    "            chk[i] = 1\n",
    "            dfs(i)\n",
    "for i in range(N):\n",
    "    dfs(i)\n",
    "    for j in range(N):\n",
    "        if chk[j] == 1:\n",
    "            print(1, end=' ')\n",
    "        else:\n",
    "            print(0, end=' ')\n",
    "    print()\n",
    "    chk = [0 for _ in range(N)]"
   ]
  },
  {
   "cell_type": "code",
   "execution_count": null,
   "metadata": {},
   "outputs": [],
   "source": []
  },
  {
   "cell_type": "code",
   "execution_count": null,
   "metadata": {},
   "outputs": [],
   "source": []
  },
  {
   "cell_type": "code",
   "execution_count": 62,
   "metadata": {},
   "outputs": [],
   "source": [
    "visited = [False]*N\n",
    "ans = []\n",
    "def dfs(graph, position):\n",
    "    if visited[position[0]] == True:\n",
    "        print(\"VISITED : {}\".format(position))\n",
    "        ans.append(position[0])\n",
    "        return False\n",
    "    else:\n",
    "        print(position[0])\n",
    "        ans.append(position[0])\n",
    "        visited[position[0]] = True\n",
    "        dfs(graph, (position[1], 0))\n",
    "    return False\n"
   ]
  },
  {
   "cell_type": "code",
   "execution_count": 63,
   "metadata": {},
   "outputs": [
    {
     "name": "stdout",
     "output_type": "stream",
     "text": [
      "0\n",
      "3\n",
      "VISITED : (0, 0)\n",
      "1\n",
      "6\n",
      "VISITED : (0, 0)\n",
      "VISITED : (3, 4)\n",
      "VISITED : (3, 5)\n",
      "4\n",
      "VISITED : (0, 0)\n",
      "5\n",
      "VISITED : (6, 0)\n",
      "VISITED : (6, 2)\n"
     ]
    }
   ],
   "source": [
    "for i in range(N):\n",
    "    for j in range(N):\n",
    "        if graph[i][j] == 1:\n",
    "            dfs(graph, (i,j))"
   ]
  },
  {
   "cell_type": "code",
   "execution_count": 64,
   "metadata": {},
   "outputs": [
    {
     "data": {
      "text/plain": [
       "[0, 3, 0, 1, 6, 0, 3, 3, 4, 0, 5, 6, 6]"
      ]
     },
     "execution_count": 64,
     "metadata": {},
     "output_type": "execute_result"
    }
   ],
   "source": [
    "ans"
   ]
  },
  {
   "cell_type": "code",
   "execution_count": 65,
   "metadata": {},
   "outputs": [
    {
     "name": "stdout",
     "output_type": "stream",
     "text": [
      "[1, 1, 0, 1, 1, 1, 1]\n",
      "[1, 0, 0, 1, 1, 1, 1]\n",
      "[0, 0, 0, 0, 0, 0, 0]\n",
      "[1, 1, 0, 1, 1, 1, 1]\n",
      "[1, 1, 0, 1, 0, 1, 1]\n",
      "[1, 1, 0, 1, 1, 0, 1]\n",
      "[1, 1, 0, 1, 1, 1, 1]\n"
     ]
    }
   ],
   "source": [
    "from itertools import permutations\n",
    "p = list(permutations(ans,2))\n",
    "answer = [[0]*N for _ in range(N)]\n",
    "for x in p:\n",
    "    answer[x[0]][x[1]] = 1\n",
    "for x in answer:\n",
    "    print(x)"
   ]
  },
  {
   "cell_type": "code",
   "execution_count": null,
   "metadata": {},
   "outputs": [],
   "source": []
  },
  {
   "cell_type": "code",
   "execution_count": null,
   "metadata": {},
   "outputs": [],
   "source": []
  },
  {
   "cell_type": "code",
   "execution_count": null,
   "metadata": {},
   "outputs": [],
   "source": []
  },
  {
   "cell_type": "code",
   "execution_count": null,
   "metadata": {},
   "outputs": [],
   "source": []
  }
 ],
 "metadata": {
  "kernelspec": {
   "display_name": "Python 3.8.13 ('AUTOVC': conda)",
   "language": "python",
   "name": "python3"
  },
  "language_info": {
   "codemirror_mode": {
    "name": "ipython",
    "version": 3
   },
   "file_extension": ".py",
   "mimetype": "text/x-python",
   "name": "python",
   "nbconvert_exporter": "python",
   "pygments_lexer": "ipython3",
   "version": "3.8.13"
  },
  "orig_nbformat": 4,
  "vscode": {
   "interpreter": {
    "hash": "83701494a915308841c98d90e1627ab32994947d5b938ec1dfda5c4da74c3582"
   }
  }
 },
 "nbformat": 4,
 "nbformat_minor": 2
}
