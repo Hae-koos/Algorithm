{
 "cells": [
  {
   "cell_type": "code",
   "execution_count": 1,
   "metadata": {},
   "outputs": [],
   "source": [
    "import time"
   ]
  },
  {
   "cell_type": "markdown",
   "metadata": {},
   "source": [
    "### 정렬 알고리즘"
   ]
  },
  {
   "cell_type": "markdown",
   "metadata": {},
   "source": [
    "#### 선택 정렬"
   ]
  },
  {
   "cell_type": "markdown",
   "metadata": {},
   "source": [
    "- 가장 작은 데이터를 선택하여 맨 앞에 있는 데이터와 바꾸고,  \n",
    "그 다음으로 작은 데이터를 선택하여 앞에서 두 번째 데이터와 바꾸고 …\n",
    "\n",
    "- 가장 원시적인 방법으로 매번 ‘가장 작은 것을 선택’한다는 의미 → Selection Sort"
   ]
  },
  {
   "cell_type": "code",
   "execution_count": 6,
   "metadata": {},
   "outputs": [
    {
     "name": "stdout",
     "output_type": "stream",
     "text": [
      "[0, 1, 2, 3, 4, 5, 6, 7, 8, 9]\n",
      "TIME : 0.0003607\n"
     ]
    }
   ],
   "source": [
    "s = time.time()\n",
    "\n",
    "array = [7, 5, 9, 0, 3, 1, 6, 2, 4, 8]\n",
    "\n",
    "for i in range(len(array)):\n",
    "    min_index = i\n",
    "    for j in range(i+1, len(array)):\n",
    "        if array[min_index] > array[j]:\n",
    "            min_index = j\n",
    "    array[i], array[min_index] = array[min_index], array[i] # 스와프\n",
    "\n",
    "print(array)\n",
    "\n",
    "e = time.time()\n",
    "print('TIME : {}'.format(round((e-s), 7)))"
   ]
  },
  {
   "cell_type": "markdown",
   "metadata": {},
   "source": [
    "#### 삽입 정렬"
   ]
  },
  {
   "cell_type": "markdown",
   "metadata": {},
   "source": [
    "- 선택 정렬은 알고리즘 문제 풀이에 사용하기에는 느린 편이다\n",
    "- **‘데이터를 하나씩 확인하며, 각 데이터를 적절한 위치에 삽입하면 어떨까?’** → Insertion Sort\n",
    "- **필요할 때만 위치를 바꾸므로 데이터가 거의 정렬되어 있을 때 효율적이다**\n",
    "- 선택 정렬은 현재 데이터에 상관없이 무조건 모든 원소를 비교하고 위치를 바꿨는데 삽입 정렬은 그럴 필요가 없다"
   ]
  },
  {
   "cell_type": "code",
   "execution_count": 11,
   "metadata": {},
   "outputs": [
    {
     "name": "stdout",
     "output_type": "stream",
     "text": [
      "[0, 1, 2, 3, 4, 5, 6, 7, 8, 9]\n",
      "TIME : 0.0004103\n"
     ]
    }
   ],
   "source": [
    "s = time.time()\n",
    "\n",
    "array = [7, 5, 9, 0, 3, 1, 6, 2, 4, 8]\n",
    "\n",
    "for i in range(1, len(array)):\n",
    "    for j in range(i, 0, -1):\n",
    "        if array[j] < array[j -1]:\n",
    "            # print(i+1, array)\n",
    "            array[j], array[j-1] = array[j-1], array[j]\n",
    "        else:\n",
    "            break\n",
    "\n",
    "print(array)\n",
    "e = time.time()\n",
    "print('TIME : {}'.format(round((e-s), 7)))"
   ]
  },
  {
   "cell_type": "markdown",
   "metadata": {},
   "source": [
    "#### 퀵 정렬"
   ]
  },
  {
   "cell_type": "markdown",
   "metadata": {},
   "source": [
    "- 가장 많이 사용되는 정렬 알고리즘\n",
    "퀵 정렬과 비교할 만큼 빠른 알고리즘이 병합 정렬\n",
    "- **‘기준 데이터를 정하고 그 기준보다 큰 데이터와 작은 데이터의 위치를 바꾸면 어떨까?’**\n",
    "- 퀵 정렬에는 피벗pivot이 사용된다 (큰 수와 작은 수를 교환할 때 사용되는 기준)\n",
    "- 방식\n",
    "    1. 리스트에서 첫 번째 데이터를 pivot으로 설정\n",
    "    2. pivot 왼쪽에서부터 pivot보다 큰 데이터를, \n",
    "    pivot 오른쪽에서부터 pivot보다 작은 데이터를 찾는다.\n",
    "    3. 큰 데이터와 작은 데이터의 위치를 서로 바꿔준다.\n",
    "    4. 이를 반복하다가 왼쪽에서부터 찾는 큰 데이터의 인덱스와\n",
    "    오른쪽부터 찾는 작은 데이터의 인덱스가 엇갈릴텐데 이때\n",
    "    작은 데이터와 pivot의 위치를 바꿔준다.\n",
    "    5. 이렇게 하면 pivot이었던 데이터를 기준으로 왼쪽에는 작은 파티션이,\n",
    "    오른쪽에는 큰 파티션이 형성된다.\n",
    "- 위와 같은 방식으로 재귀적으로 반복하면 된다.\n",
    "퀵 정렬이 끝나는 조건은 현재 리스트의 데이터 개수가 1개라 정렬할 게 없을 때"
   ]
  },
  {
   "cell_type": "code",
   "execution_count": 34,
   "metadata": {},
   "outputs": [
    {
     "name": "stdout",
     "output_type": "stream",
     "text": [
      "[0, 1, 2, 3, 4, 5, 6, 7, 8, 9]\n",
      "TIME : 0.0006056\n"
     ]
    }
   ],
   "source": [
    "s = time.time()\n",
    "\n",
    "array = [7, 5, 9, 0, 3, 1, 6, 2, 4, 8]\n",
    "\n",
    "def quick_sort(array, start, end):\n",
    "    if start >= end: # 원소가 1개인 경우 종료\n",
    "        return\n",
    "    pivot = start\n",
    "    left = start + 1\n",
    "    right = end\n",
    "    while left <= right:\n",
    "        # 피벗보다 큰 데이터를 찾을 때까지 반복\n",
    "        while left <= end and array[left] <= array[pivot]:\n",
    "            left += 1\n",
    "        # 피벗보다 작은 데이터를 찾을 때까지 반복\n",
    "        while right > start and array[right] >= array[pivot]:\n",
    "            right -= 1\n",
    "        if left > right: # 엇갈렸다면 오른쪽에는 큰 친구만 있을테니 현재 왼쪽에 있는 '오른쪽' 데이터와 피봇을 바꾼다\n",
    "            # print(array, pivot, left, right)\n",
    "            array[right], array[pivot] = array[pivot], array[right]\n",
    "            # print(array)\n",
    "            # print()\n",
    "        else: # 엇갈리지 않았다면\n",
    "            array[left], array[right] = array[right], array[left]\n",
    "    \n",
    "    quick_sort(array, start, right - 1)\n",
    "    quick_sort(array, right + 1, end)\n",
    "\n",
    "quick_sort(array, 0, len(array) - 1)\n",
    "print(array)\n",
    "e = time.time()\n",
    "print('TIME : {}'.format(round((e-s), 7)))"
   ]
  },
  {
   "cell_type": "code",
   "execution_count": 35,
   "metadata": {},
   "outputs": [
    {
     "name": "stdout",
     "output_type": "stream",
     "text": [
      "[0, 1, 2, 3, 4, 5, 6, 7, 8, 9]\n",
      "TIME : 0.0004601\n"
     ]
    }
   ],
   "source": [
    "s = time.time()\n",
    "\n",
    "array = [7, 5, 9, 0, 3, 1, 6, 2, 4, 8]\n",
    "\n",
    "def quick_sort(array):\n",
    "    if len(array) <= 1:\n",
    "        return array\n",
    "    pivot = array[0]\n",
    "    tail = array[1:]\n",
    "\n",
    "    left_side = [x for x in tail if x <= pivot]\n",
    "    right_side = [x for x in tail if x > pivot]\n",
    "\n",
    "    return quick_sort(left_side) + [pivot] + quick_sort(right_side)\n",
    "\n",
    "print(quick_sort(array))\n",
    "e = time.time()\n",
    "print('TIME : {}'.format(round((e-s), 7)))"
   ]
  },
  {
   "cell_type": "markdown",
   "metadata": {},
   "source": [
    "#### 병합 정렬"
   ]
  },
  {
   "cell_type": "markdown",
   "metadata": {},
   "source": [
    "- 계수 정렬 알고리즘은 특정한 조건이 부합할 때만 사용할 수 있으나 **매우 빠른 알고리즘**\n",
    "    - 모든 데이터가 양의 정수라면 (데이터 N개, 최댓값 K → $O(N+K)$ 시간 복잡도)\n",
    "    - 일반적으로 가장 큰 데이터와 작은 데이터 차이가 1,000,000을 넘지 않을 때 효과적\n",
    "        - **모든 범위를 담을 수 있는 크기의 리스트를 선언해야 하기 때문**\n",
    "- 앞서 다룬 선택 정렬, 삽입 정렬, 퀵 정렬처럼 데이터 값을 비교하는 방식이 아니다\n",
    "- 방식\n",
    "    1. 가장 큰 데이터와 가장 작은 데이터의 범위가 모두 담길 수 있는 리스트 생성\n",
    "    2. 데이터 확인하며 데이터 값과 동일한 인덱스의 데이터를 1씩 증가\n",
    "    3. 리스트의 첫 번째 데이터부터 하나씩 그 값만큼 인덱스를 출력하면 완성"
   ]
  },
  {
   "cell_type": "code",
   "execution_count": 45,
   "metadata": {},
   "outputs": [
    {
     "name": "stdout",
     "output_type": "stream",
     "text": [
      "[2, 2, 2, 1, 2, 1, 1, 1, 2, 1]\n",
      "0 0 1 1 2 2 3 4 4 5 6 7 8 8 9 \n",
      "TIME : 0.0008774\n"
     ]
    }
   ],
   "source": [
    "s = time.time()\n",
    "\n",
    "array = [7, 5, 9, 0, 3, 1, 6, 2, 4, 8, 1, 4, 8, 2, 0]\n",
    "\n",
    "count = [0] * (max(array) + 1)\n",
    "\n",
    "for i in range(len(array)):\n",
    "    count[array[i]] += 1\n",
    "\n",
    "print(count)\n",
    "\n",
    "for i in range(len(count)):\n",
    "    for j in range(count[i]):\n",
    "        print(i, end=' ')\n",
    "print()\n",
    "\n",
    "e = time.time()\n",
    "print('TIME : {}'.format(round((e-s), 7)))"
   ]
  },
  {
   "cell_type": "markdown",
   "metadata": {},
   "source": [
    "Today 2022.07.31\n",
    "\n",
    "\n",
    "## Title 수 정렬하기\n",
    "\n",
    "\n",
    "BOJ # 2750\n",
    "\n",
    "\n",
    "LV # Bronze 2\n",
    "\n",
    "\n",
    "Tag # Sorting Algorithm"
   ]
  },
  {
   "cell_type": "markdown",
   "metadata": {},
   "source": [
    "N개의 수가 주어졌을 때, 이를 오름차순으로 정렬하는 프로그램을 작성하시오"
   ]
  },
  {
   "cell_type": "code",
   "execution_count": 41,
   "metadata": {},
   "outputs": [
    {
     "name": "stdout",
     "output_type": "stream",
     "text": [
      "1\n",
      "2\n",
      "3\n",
      "4\n",
      "5\n"
     ]
    }
   ],
   "source": [
    "import sys\n",
    "# input = sys.stdin.raadline\n",
    "sys.setrecursionlimit(5000)\n",
    "\n",
    "N = int(input())\n",
    "l = []\n",
    "for _ in range(N):\n",
    "    l.append(int(input()))\n",
    "\n",
    "def quick_sort(array):\n",
    "    if len(array) <= 1:\n",
    "        return array\n",
    "    pivot = array[0]\n",
    "    tail = array[1:]\n",
    "\n",
    "    left_side = [x for x in tail if x <= pivot]\n",
    "    right_side = [x for x in tail if x > pivot]\n",
    "\n",
    "    return quick_sort(left_side) + [pivot] + quick_sort(right_side)\n",
    "\n",
    "l = quick_sort(l)\n",
    "\n",
    "for x in l:\n",
    "    print(x)\n"
   ]
  },
  {
   "cell_type": "code",
   "execution_count": null,
   "metadata": {},
   "outputs": [],
   "source": []
  }
 ],
 "metadata": {
  "kernelspec": {
   "display_name": "Python 3.8.13 ('AUTOVC')",
   "language": "python",
   "name": "python3"
  },
  "language_info": {
   "codemirror_mode": {
    "name": "ipython",
    "version": 3
   },
   "file_extension": ".py",
   "mimetype": "text/x-python",
   "name": "python",
   "nbconvert_exporter": "python",
   "pygments_lexer": "ipython3",
   "version": "3.8.13"
  },
  "orig_nbformat": 4,
  "vscode": {
   "interpreter": {
    "hash": "83701494a915308841c98d90e1627ab32994947d5b938ec1dfda5c4da74c3582"
   }
  }
 },
 "nbformat": 4,
 "nbformat_minor": 2
}
