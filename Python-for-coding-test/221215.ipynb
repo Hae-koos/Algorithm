{
 "cells": [
  {
   "attachments": {},
   "cell_type": "markdown",
   "metadata": {},
   "source": [
    "Today 2022.12.15\n",
    "\n",
    "\n",
    "## Title 덩치\n",
    "\n",
    "\n",
    "BOJ # 7568\n",
    "\n",
    "\n",
    "LV # Silver 5\n",
    "\n",
    "\n",
    "Tag # Implementation"
   ]
  },
  {
   "attachments": {},
   "cell_type": "markdown",
   "metadata": {},
   "source": [
    "우리는 사람의 덩치를 키와 몸무게, 이 두 개의 값으로 표현하여 그 등수를 매겨보려고 한다.  \n",
    "어떤 사람의 몸무게가 x kg이고 키가 y cm라면 이 사람의 덩치는 (x, y)로 표시된다. \n",
    "\n",
    "두 사람 A 와 B의 덩치가 각각 (x, y), (p, q)라고 할 때 x > p 그리고 y > q 이라면 우리는 A의 덩치가 B의 덩치보다 \"더 크다\"고 말한다.  \n",
    "예를 들어 어떤 A, B 두 사람의 덩치가 각각 (56, 177), (45, 165) 라고 한다면 A의 덩치가 B보다 큰 셈이 된다.  \n",
    "그런데 서로 다른 덩치끼리 크기를 정할 수 없는 경우도 있다. \n",
    "\n",
    "예를 들어 두 사람 C와 D의 덩치가 각각 (45, 181), (55, 173)이라면  \n",
    "몸무게는 D가 C보다 더 무겁고, 키는 C가 더 크므로, \"덩치\"로만 볼 때 C와 D는 누구도 상대방보다 더 크다고 말할 수 없다."
   ]
  },
  {
   "attachments": {},
   "cell_type": "markdown",
   "metadata": {},
   "source": [
    "N명의 집단에서 각 사람의 덩치 등수는 자신보다 더 \"큰 덩치\"의 사람의 수로 정해진다.  \n",
    "만일 자신보다 더 큰 덩치의 사람이 k명이라면 그 사람의 덩치 등수는 k+1이 된다.  \n",
    "이렇게 등수를 결정하면 같은 덩치 등수를 가진 사람은 여러 명도 가능하다.  \n",
    "아래는 5명으로 이루어진 집단에서 각 사람의 덩치와 그 등수가 표시된 표이다."
   ]
  },
  {
   "cell_type": "code",
   "execution_count": 52,
   "metadata": {},
   "outputs": [],
   "source": [
    "import copy\n",
    "N = int(input())\n",
    "l1 = []\n",
    "for i in range(N):\n",
    "    now = list(map(int, input().split()))\n",
    "    now.append(0)\n",
    "    now.append(0)\n",
    "    now.append(i)\n",
    "    l1.append(now)\n",
    "l2 = copy.deepcopy(l1)\n",
    "\n",
    "for x in l1:\n",
    "    for y in l2:\n",
    "        if x[0] < y[0] and x[1] < y[1]:\n",
    "            x[2] += 1\n",
    "\n",
    "l1.sort(key=lambda x : x[2])\n",
    "\n",
    "for x in l1:\n",
    "    x[3] = x[2] + 1\n",
    "\n",
    "l1.sort(key=lambda x:x[4])\n",
    "\n",
    "for x in l1:\n",
    "    print(x[3], end=' ')"
   ]
  },
  {
   "attachments": {},
   "cell_type": "markdown",
   "metadata": {},
   "source": [
    "Today 2022.12.15\n",
    "\n",
    "\n",
    "## Title 먹을 것인가 먹힐 것인가\n",
    "\n",
    "\n",
    "BOJ # 7795\n",
    "\n",
    "\n",
    "LV # Silver 3\n",
    "\n",
    "\n",
    "Tag # Binary Search"
   ]
  },
  {
   "attachments": {},
   "cell_type": "markdown",
   "metadata": {},
   "source": [
    "심해에는 두 종류의 생명체 A와 B가 존재한다. A는 B를 먹는다. A는 자기보다 크기가 작은 먹이만 먹을 수 있다.  \n",
    "예를 들어, A의 크기가 {8, 1, 7, 3, 1}이고, B의 크기가 {3, 6, 1}인 경우에 A가 B를 먹을 수 있는 쌍의 개수는 7가지가 있다.  \n",
    "8-3, 8-6, 8-1, 7-3, 7-6, 7-1, 3-1."
   ]
  },
  {
   "cell_type": "code",
   "execution_count": 62,
   "metadata": {},
   "outputs": [
    {
     "name": "stdout",
     "output_type": "stream",
     "text": [
      "7\n",
      "1\n"
     ]
    }
   ],
   "source": [
    "T = int(input())\n",
    "\n",
    "def binary_search(array, target, start, end):\n",
    "    res = -1\n",
    "    while start <= end:\n",
    "        mid = (start + end) // 2\n",
    "        if array[mid] < target:\n",
    "            res = mid\n",
    "            start = mid + 1\n",
    "        else:\n",
    "            end = mid - 1\n",
    "    return res\n",
    "\n",
    "for _ in range(T):\n",
    "    N, M = map(int, input().split())\n",
    "    A = list(map(int, input().split()))\n",
    "    B = sorted(list(map(int, input().split())))\n",
    "    ans = 0\n",
    "    for x in A:\n",
    "        ans += (binary_search(B,x,0,len(B)-1) + 1)\n",
    "    print(ans)"
   ]
  }
 ],
 "metadata": {
  "kernelspec": {
   "display_name": "AUTOVC",
   "language": "python",
   "name": "python3"
  },
  "language_info": {
   "codemirror_mode": {
    "name": "ipython",
    "version": 3
   },
   "file_extension": ".py",
   "mimetype": "text/x-python",
   "name": "python",
   "nbconvert_exporter": "python",
   "pygments_lexer": "ipython3",
   "version": "3.8.13"
  },
  "orig_nbformat": 4,
  "vscode": {
   "interpreter": {
    "hash": "83701494a915308841c98d90e1627ab32994947d5b938ec1dfda5c4da74c3582"
   }
  }
 },
 "nbformat": 4,
 "nbformat_minor": 2
}
