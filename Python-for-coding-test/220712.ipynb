{
 "cells": [
  {
   "cell_type": "code",
   "execution_count": 2,
   "metadata": {},
   "outputs": [],
   "source": [
    "import numpy as np\n",
    "import pandas as pd\n",
    "import random\n",
    "import time"
   ]
  },
  {
   "cell_type": "markdown",
   "metadata": {},
   "source": [
    "##### 캥거루 세 마리 2"
   ]
  },
  {
   "cell_type": "markdown",
   "metadata": {},
   "source": [
    "백준 11034"
   ]
  },
  {
   "cell_type": "markdown",
   "metadata": {},
   "source": [
    "- 캥거루 세 마리가 사막에서 놀고 있다.\n",
    "- 사막에는 수직선이 하나 있고, 서로 다른 한 좌표 위에 있다.\n",
    "- 한 번 움직일 때, 바깥쪽 두 캥거루 중 한 마리가 다른 두 캥거루 사이의 정수 좌표로 점프한다.\n",
    "- 캥거루는 같은 좌표 위에 있을 수 없다.\n",
    "- 초기 위치 A, B, C 주어지며 0초과 100미만이다.\n"
   ]
  },
  {
   "cell_type": "markdown",
   "metadata": {},
   "source": [
    "캥거루는 최대 몇 번 움직일 수 있을까 ?"
   ]
  },
  {
   "cell_type": "code",
   "execution_count": 20,
   "metadata": {},
   "outputs": [
    {
     "name": "stdout",
     "output_type": "stream",
     "text": [
      "3\n",
      "1\n",
      "0\n"
     ]
    }
   ],
   "source": [
    "while True:\n",
    "    try:\n",
    "        p0 = list(map(int, input().split()))\n",
    "        count = 0\n",
    "        while True:\n",
    "\n",
    "            dist = []\n",
    "            dist.append(p0[1]-p0[0])\n",
    "            dist.append(p0[2]-p0[1])\n",
    "\n",
    "\n",
    "            if (dist[0]==1) and (dist[1]==1):\n",
    "                break\n",
    "\n",
    "            if dist[0] < dist[1]:\n",
    "                p0.remove(p0[0])\n",
    "                p0.append(p0[1]-1)\n",
    "                p0.sort()\n",
    "                count += 1\n",
    "            else:\n",
    "                p0.remove(p0[2])\n",
    "                p0.append(p0[0]+1)\n",
    "                p0.sort()\n",
    "                count += 1\n",
    "        print(count)\n",
    "            \n",
    "    except:\n",
    "        exit()"
   ]
  },
  {
   "cell_type": "markdown",
   "metadata": {},
   "source": [
    "끝이 정해지지 않는 입력은 Try ~ Except로 해결한다."
   ]
  },
  {
   "cell_type": "markdown",
   "metadata": {},
   "source": [
    "##### 우유 축제"
   ]
  },
  {
   "cell_type": "markdown",
   "metadata": {},
   "source": [
    "- 맨 처음에는 딸기우유 한 팩\n",
    "- 그 후 초코우유 한 팩\n",
    "- 그 후 바나나우유 한 팩\n",
    "- 그 후 딸기우유 한 팩\n"
   ]
  },
  {
   "cell_type": "markdown",
   "metadata": {},
   "source": [
    "우유 가게는 한 종류의 우유만을 취급하며, 영학이는 우유를 사마시거나 마시지 않는다.  \n",
    "영학이가 마실 수 있는 우유 최대 개수?"
   ]
  },
  {
   "cell_type": "markdown",
   "metadata": {},
   "source": [
    "\n",
    "첫째 줄에 우유 가게의 수 N이 주어진다. (1 ≤ N ≤ 1000)\n",
    "\n",
    "둘째 줄에는 우유 가게 정보가 우유 거리의 시작부터 끝까지 순서대로 N개의 정수로 주어진다.\n",
    "\n",
    "0은 딸기우유만을 파는 가게, 1은 초코우유만을 파는 가게, 2는 바나나우유만을 파는 가게를 뜻하며, 0, 1, 2 외의 정수는 주어지지 않는다."
   ]
  },
  {
   "cell_type": "markdown",
   "metadata": {},
   "source": [
    "EXAMPLE  \n",
    "7  \n",
    "0 1 2 0 1 2 0  \n",
    "\n",
    "출력 : 7"
   ]
  },
  {
   "cell_type": "code",
   "execution_count": 6,
   "metadata": {},
   "outputs": [
    {
     "name": "stdout",
     "output_type": "stream",
     "text": [
      "5\n"
     ]
    }
   ],
   "source": [
    "n = int(input())\n",
    "store = list(map(int, input().split()))\n",
    "\n",
    "count = 0\n",
    "check_milk = 0\n",
    "for m in store:\n",
    "    if m == check_milk:\n",
    "        count += 1\n",
    "        check_milk += 1\n",
    "        if check_milk == 3:\n",
    "            check_milk = 0\n",
    "print(count)\n"
   ]
  },
  {
   "cell_type": "markdown",
   "metadata": {},
   "source": [
    "##### 5와 6의 차이"
   ]
  },
  {
   "cell_type": "markdown",
   "metadata": {},
   "source": [
    "- 5를 6으로 6을 5로 볼 수도 있다.\n",
    "- 첫째 줄에 두 정수 A와 B가 주어진다.\n",
    "- 1 <= A,B <= 1,000,000\n",
    "- 구할 수 있는 두 수의 합 중 최대와 최소를 구하라"
   ]
  },
  {
   "cell_type": "markdown",
   "metadata": {},
   "source": [
    "EXAMPLE\n",
    "\n",
    "11 25 -> 36 37\n",
    "\n",
    "1430 4862 -> 6282 6292"
   ]
  },
  {
   "cell_type": "code",
   "execution_count": 27,
   "metadata": {},
   "outputs": [
    {
     "name": "stdout",
     "output_type": "stream",
     "text": [
      "68786\n",
      "15795\n",
      "58785\n",
      "74580 85582\n"
     ]
    }
   ],
   "source": [
    "a, b = input().split()\n",
    "\n",
    "def five2six(string):\n",
    "    for i in range(len(string)):\n",
    "        if string[i] == '5':\n",
    "            string = string.replace('5','6')\n",
    "    return string\n",
    "\n",
    "def six2five(string):\n",
    "    for i in range(len(string)):\n",
    "        if string[i] == '6':\n",
    "            string = string.replace('6','5')\n",
    "    return string\n",
    "\n",
    "maximize = int(five2six(a)) + int(five2six(b))\n",
    "minimize = int(six2five(a)) + int(six2five(b))\n",
    "print(minimize, maximize)"
   ]
  },
  {
   "cell_type": "markdown",
   "metadata": {},
   "source": [
    "보통 자료구조의 요소를 수정할 때 인덱싱을 많이 사용하는데 문자열에서는 불가능  \n",
    "1. 리스트로 변환하여 수정하거나  \n",
    "2. .replace 메소드를 활용한다."
   ]
  }
 ],
 "metadata": {
  "kernelspec": {
   "display_name": "Python 3.8.13 ('algorithm')",
   "language": "python",
   "name": "python3"
  },
  "language_info": {
   "codemirror_mode": {
    "name": "ipython",
    "version": 3
   },
   "file_extension": ".py",
   "mimetype": "text/x-python",
   "name": "python",
   "nbconvert_exporter": "python",
   "pygments_lexer": "ipython3",
   "version": "3.8.13"
  },
  "orig_nbformat": 4,
  "vscode": {
   "interpreter": {
    "hash": "ee431ac274e33366c10c3ac30cd4fb33ff3ed0dd6a8cc3f05073bd47291a9c12"
   }
  }
 },
 "nbformat": 4,
 "nbformat_minor": 2
}
