{
 "cells": [
  {
   "cell_type": "code",
   "execution_count": 1,
   "metadata": {},
   "outputs": [],
   "source": [
    "import numpy as np\n",
    "import pandas as pd\n",
    "import random\n",
    "import time"
   ]
  },
  {
   "cell_type": "markdown",
   "metadata": {},
   "source": [
    "##### 럭키 스트레이트"
   ]
  },
  {
   "cell_type": "markdown",
   "metadata": {},
   "source": [
    "- 점수 N이 10 <= N <= 99,999,999 사이로 주어짐\n",
    "- 짝수 자릿수를 가진다\n",
    "- 왼쪽 절반의 합 = 오른쪽 절반의 합 -> LUCKY\n",
    "- 아니면 READY"
   ]
  },
  {
   "cell_type": "code",
   "execution_count": 6,
   "metadata": {},
   "outputs": [
    {
     "name": "stdout",
     "output_type": "stream",
     "text": [
      "READY\n"
     ]
    }
   ],
   "source": [
    "N = str(input()) # 123402\n",
    "l = len(N) # 6\n",
    "h = int(l/2)\n",
    "f = N[:h]\n",
    "b = N[h:]\n",
    "\n",
    "s_f = 0\n",
    "s_b = 0\n",
    "\n",
    "for x in f:\n",
    "    s_f += int(x)\n",
    "for x in b:\n",
    "    s_b += int(x)\n",
    "\n",
    "if s_f == s_b:\n",
    "    print(\"LUCKY\")\n",
    "else:\n",
    "    print(\"READY\")"
   ]
  },
  {
   "cell_type": "markdown",
   "metadata": {},
   "source": [
    "##### 문자열 재정렬"
   ]
  },
  {
   "cell_type": "markdown",
   "metadata": {},
   "source": [
    "- 알파벳 대문자 & 숫자 (0 ~ 9) 로 구성된 문자열 주어진다. K1KA5CB7\n",
    "- 모든 알파벳을 오름차순으로 정렬하여 출력하고 그 뒤에 모든 수를 합해서 붙이자"
   ]
  },
  {
   "cell_type": "code",
   "execution_count": 22,
   "metadata": {},
   "outputs": [
    {
     "name": "stdout",
     "output_type": "stream",
     "text": [
      "ADDIJJJKKLSS20\n"
     ]
    }
   ],
   "source": [
    "S = str(input())\n",
    "s = []\n",
    "n = []\n",
    "string = ''\n",
    "for x in S:\n",
    "    try:\n",
    "        n.append(int(x))\n",
    "    except:\n",
    "        s.append(x)\n",
    "s.sort()\n",
    "for x in s:\n",
    "    try:\n",
    "        string += x\n",
    "    except:\n",
    "        string = x\n",
    "    \n",
    "\n",
    "\n",
    "print(string+str(sum(n)))\n"
   ]
  },
  {
   "cell_type": "markdown",
   "metadata": {},
   "source": [
    "##### 문자열 압축"
   ]
  },
  {
   "cell_type": "markdown",
   "metadata": {},
   "source": [
    "- 2020 카카오 신입 공채\n",
    "- 문자열에서 같은 값이 연속으로 나오는 것을 그 문자의 개수와 반복되는 값으로 표현하고 싶다\n",
    "- aabbaccc -> 2a2ba3c\n",
    "- 하지만 ababcdcdababcdcd의 경우, 전혀 압축되지 않는데 이때 단위를 두개로 자르면\n",
    "- 2ab2cd2ab2cd로 줄일 수 있다.\n",
    "- 문자열이 주어졌을 때, 가장 짧게 압축할 수 있는 문자의 길이를 return\n",
    "- 1 <= s <= 1000\n",
    "- s는 소문자"
   ]
  },
  {
   "cell_type": "code",
   "execution_count": 40,
   "metadata": {},
   "outputs": [
    {
     "name": "stdout",
     "output_type": "stream",
     "text": [
      "a\n",
      "ab\n",
      "abc\n",
      "abca\n",
      "abcab\n",
      "8\n"
     ]
    }
   ],
   "source": [
    "S = input()# abcabcdede\n",
    "answer = len(S)\n",
    "length = len(S) # 10\n",
    "length_half = int(length//2) # 5\n",
    "\n",
    "for i in range(1, length_half + 1): # 1 ~ 5\n",
    "    compressed = ''\n",
    "    prev = S[0:i]\n",
    "    count = 1\n",
    "    print(prev)\n",
    "    for j in range(i, length, i):\n",
    "        if prev == S[j:j+i]:\n",
    "            count += 1\n",
    "        else:\n",
    "            compressed += str(count) + prev if count >= 2 else prev\n",
    "            prev=S[j:j+i]\n",
    "            count = 1\n",
    "    compressed += str(count) + prev if count >= 2 else prev\n",
    "    answer = min(answer, len(compressed))\n",
    "print(answer)"
   ]
  }
 ],
 "metadata": {
  "kernelspec": {
   "display_name": "Python 3.8.13 ('algorithm')",
   "language": "python",
   "name": "python3"
  },
  "language_info": {
   "codemirror_mode": {
    "name": "ipython",
    "version": 3
   },
   "file_extension": ".py",
   "mimetype": "text/x-python",
   "name": "python",
   "nbconvert_exporter": "python",
   "pygments_lexer": "ipython3",
   "version": "3.8.13"
  },
  "orig_nbformat": 4,
  "vscode": {
   "interpreter": {
    "hash": "ee431ac274e33366c10c3ac30cd4fb33ff3ed0dd6a8cc3f05073bd47291a9c12"
   }
  }
 },
 "nbformat": 4,
 "nbformat_minor": 2
}
