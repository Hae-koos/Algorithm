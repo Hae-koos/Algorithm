{
 "cells": [
  {
   "cell_type": "markdown",
   "metadata": {},
   "source": [
    "Today 2022.11.29\n",
    "\n",
    "\n",
    "## Title 나머지가 1이 되는 수 찾기\n",
    "\n",
    "\n",
    "LV # 1\n",
    "\n",
    "\n",
    "Tag # Implementation"
   ]
  },
  {
   "cell_type": "markdown",
   "metadata": {},
   "source": [
    "자연수 n이 매개변수로 주어집니다. \n",
    "\n",
    "n을 x로 나눈 나머지가 1이 되도록 하는 가장 작은 자연수 x를 return 하도록 \n",
    "\n",
    "solution 함수를 완성해주세요. 답이 항상 존재함은 증명될 수 있습니다."
   ]
  },
  {
   "cell_type": "code",
   "execution_count": null,
   "metadata": {},
   "outputs": [],
   "source": [
    "def solution(n):\n",
    "    for i in range(1, n):\n",
    "        if n % i == 1:\n",
    "            return i"
   ]
  },
  {
   "cell_type": "markdown",
   "metadata": {},
   "source": [
    "Today 2022.11.29\n",
    "\n",
    "\n",
    "## Title 제일 작은 수 제거하기\n",
    "\n",
    "\n",
    "LV # 1\n",
    "\n",
    "\n",
    "Tag # Implementation"
   ]
  },
  {
   "cell_type": "markdown",
   "metadata": {},
   "source": [
    "정수를 저장한 배열, arr 에서 가장 작은 수를 제거한 배열을 리턴하는 함수, \n",
    "\n",
    "solution을 완성해주세요. \n",
    "\n",
    "단, 리턴하려는 배열이 빈 배열인 경우엔 배열에 -1을 채워 리턴하세요. \n",
    "\n",
    "예를들어 arr이 [4,3,2,1]인 경우는 [4,3,2]를 리턴 하고, [10]면 [-1]을 리턴 합니다."
   ]
  },
  {
   "cell_type": "code",
   "execution_count": null,
   "metadata": {},
   "outputs": [],
   "source": [
    "def solution(arr):\n",
    "    if len(arr) == 1:\n",
    "        return [-1]\n",
    "    else:\n",
    "        m = min(arr)\n",
    "        arr.remove(m)\n",
    "        return arr"
   ]
  }
 ],
 "metadata": {
  "language_info": {
   "name": "python"
  },
  "orig_nbformat": 4
 },
 "nbformat": 4,
 "nbformat_minor": 2
}
