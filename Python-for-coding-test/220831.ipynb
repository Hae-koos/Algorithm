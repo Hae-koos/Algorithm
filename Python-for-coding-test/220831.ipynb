{
 "cells": [
  {
   "cell_type": "markdown",
   "metadata": {},
   "source": [
    "Today 2022.08.31\n",
    "\n",
    "\n",
    "## Title 회의실 배정 Retry\n",
    "\n",
    "\n",
    "BOJ # 1931\n",
    "\n",
    "\n",
    "LV # Silver 1"
   ]
  },
  {
   "cell_type": "code",
   "execution_count": 1,
   "metadata": {},
   "outputs": [
    {
     "data": {
      "text/plain": [
       "[(1, 4),\n",
       " (3, 5),\n",
       " (0, 6),\n",
       " (5, 7),\n",
       " (3, 8),\n",
       " (5, 9),\n",
       " (6, 10),\n",
       " (8, 11),\n",
       " (8, 12),\n",
       " (2, 13),\n",
       " (12, 14)]"
      ]
     },
     "execution_count": 1,
     "metadata": {},
     "output_type": "execute_result"
    }
   ],
   "source": [
    "N = int(input())\n",
    "S = []\n",
    "for _ in range(N):\n",
    "    s, e = map(int, input().split())\n",
    "    S.append((s,e))\n",
    "S"
   ]
  },
  {
   "cell_type": "code",
   "execution_count": 2,
   "metadata": {},
   "outputs": [
    {
     "data": {
      "text/plain": [
       "[(0, 6),\n",
       " (1, 4),\n",
       " (2, 13),\n",
       " (3, 5),\n",
       " (3, 8),\n",
       " (5, 7),\n",
       " (5, 9),\n",
       " (6, 10),\n",
       " (8, 11),\n",
       " (8, 12),\n",
       " (12, 14)]"
      ]
     },
     "execution_count": 2,
     "metadata": {},
     "output_type": "execute_result"
    }
   ],
   "source": [
    "S.sort()\n",
    "S"
   ]
  },
  {
   "cell_type": "code",
   "execution_count": 3,
   "metadata": {},
   "outputs": [
    {
     "data": {
      "text/plain": [
       "[(1, 4),\n",
       " (3, 5),\n",
       " (0, 6),\n",
       " (5, 7),\n",
       " (3, 8),\n",
       " (5, 9),\n",
       " (6, 10),\n",
       " (8, 11),\n",
       " (8, 12),\n",
       " (2, 13),\n",
       " (12, 14)]"
      ]
     },
     "execution_count": 3,
     "metadata": {},
     "output_type": "execute_result"
    }
   ],
   "source": [
    "S.sort(key=lambda x : x[1])\n",
    "S"
   ]
  },
  {
   "cell_type": "code",
   "execution_count": 5,
   "metadata": {},
   "outputs": [
    {
     "data": {
      "text/plain": [
       "[False,\n",
       " False,\n",
       " False,\n",
       " False,\n",
       " False,\n",
       " False,\n",
       " False,\n",
       " False,\n",
       " False,\n",
       " False,\n",
       " False,\n",
       " False,\n",
       " False,\n",
       " False,\n",
       " False]"
      ]
     },
     "execution_count": 5,
     "metadata": {},
     "output_type": "execute_result"
    }
   ],
   "source": [
    "time = [False] * (S[-1][-1] + 1)\n",
    "time"
   ]
  },
  {
   "cell_type": "code",
   "execution_count": 6,
   "metadata": {},
   "outputs": [],
   "source": [
    "count = 1\n",
    "now = S[0]\n",
    "\n",
    "for x in S:\n",
    "    if x[0] >= now[1]:\n",
    "        count+=1\n",
    "        now = x"
   ]
  },
  {
   "cell_type": "code",
   "execution_count": 8,
   "metadata": {},
   "outputs": [
    {
     "data": {
      "text/plain": [
       "4"
      ]
     },
     "execution_count": 8,
     "metadata": {},
     "output_type": "execute_result"
    }
   ],
   "source": [
    "count"
   ]
  },
  {
   "cell_type": "code",
   "execution_count": 29,
   "metadata": {},
   "outputs": [
    {
     "name": "stdout",
     "output_type": "stream",
     "text": [
      "1\n"
     ]
    }
   ],
   "source": [
    "N = int(input())\n",
    "S = []\n",
    "for _ in range(N):\n",
    "    s, e = map(int, input().split())\n",
    "    S.append((s,e))\n",
    "S.sort()\n",
    "S.sort(key=lambda x : x[1])\n",
    "\n",
    "count = 1\n",
    "end = S[0][1]\n",
    "\n",
    "for i in range(1, N):\n",
    "    if S[i][0] >= end:\n",
    "        count += 1\n",
    "        end = S[i][1]\n",
    "print(count)"
   ]
  },
  {
   "cell_type": "markdown",
   "metadata": {},
   "source": [
    "Today 2022.08.31\n",
    "\n",
    "\n",
    "## Title 이중 우선순위 큐\n",
    "\n",
    "\n",
    "BOJ # 7662\n",
    "\n",
    "\n",
    "LV # Gold 4"
   ]
  },
  {
   "cell_type": "code",
   "execution_count": 58,
   "metadata": {},
   "outputs": [
    {
     "name": "stdout",
     "output_type": "stream",
     "text": [
      "-1 -3\n"
     ]
    }
   ],
   "source": [
    "import heapq\n",
    "\n",
    "T = int(input())\n",
    "\n",
    "for _ in range(T):\n",
    "    N = int(input())\n",
    "    q = []\n",
    "    for _ in range(N):\n",
    "        c, n = input().split()\n",
    "        n = int(n)\n",
    "        if c == 'D' and len(q) == 0:\n",
    "            continue\n",
    "        if c == 'I':\n",
    "            heapq.heappush(q, n)\n",
    "        if c == 'D':\n",
    "            if n == 1:\n",
    "                q = sorted(q, reverse=True)\n",
    "                heapq.heappop(q)\n",
    "            elif n == -1:\n",
    "                q = sorted(q)\n",
    "                heapq.heappop(q)\n",
    "\n",
    "    if len(q) == 0:\n",
    "        print('EMPTY')\n",
    "    else:\n",
    "        print(max(q), end = ' ')\n",
    "        print(min(q))"
   ]
  },
  {
   "cell_type": "markdown",
   "metadata": {},
   "source": [
    "시간초과"
   ]
  },
  {
   "cell_type": "code",
   "execution_count": 90,
   "metadata": {},
   "outputs": [
    {
     "name": "stdout",
     "output_type": "stream",
     "text": [
      "EMPTY\n",
      "333 -45\n"
     ]
    }
   ],
   "source": [
    "T = int(input())\n",
    "\n",
    "for _ in range(T):\n",
    "    N = int(input())\n",
    "    q = []\n",
    "    for _ in range(N):\n",
    "        c, n = input().split()\n",
    "        n = int(n)\n",
    "        if c == 'D' and len(q) == 0:\n",
    "            continue\n",
    "        if c == 'I':\n",
    "            q.append(n)\n",
    "        elif c == 'D':\n",
    "            if n == 1:\n",
    "                q.pop()\n",
    "            elif n == -1:\n",
    "                q.pop(0)\n",
    "        q.sort()\n",
    "\n",
    "    if len(q) == 0:\n",
    "        print('EMPTY')\n",
    "    else:\n",
    "        print(max(q), end = ' ')\n",
    "        print(min(q))"
   ]
  },
  {
   "cell_type": "markdown",
   "metadata": {},
   "source": [
    "시간초과"
   ]
  },
  {
   "cell_type": "code",
   "execution_count": 91,
   "metadata": {},
   "outputs": [
    {
     "name": "stdout",
     "output_type": "stream",
     "text": [
      "EMPTY\n",
      "333 -45\n"
     ]
    }
   ],
   "source": [
    "# 모범답안\n",
    "\n",
    "import heapq\n",
    "\n",
    "T = int(input())\n",
    "result = []\n",
    "for _ in range(T):\n",
    "    visited = [False] * 10000001\n",
    "    N = int(input())\n",
    "    q_min, q_max = [], []\n",
    "    for i in range(N):\n",
    "        c, n = input().split()\n",
    "        if c == 'I':\n",
    "            heapq.heappush(q_min, (int(n), i))\n",
    "            heapq.heappush(q_max, (-int(n), i))\n",
    "            visited[i] = True # True면 어떤 힙에서도 삭제되지 않은 상태\n",
    "        elif c == 'D' and n == '1':\n",
    "            while q_max and not visited[q_max[0][1]]:\n",
    "                heapq.heappop(q_max)\n",
    "            if q_max:\n",
    "                visited[q_max[0][1]] = False\n",
    "                heapq.heappop(q_max)\n",
    "        elif c == 'D' and n == '-1':\n",
    "            while q_min and not visited[q_min[0][1]]:\n",
    "                heapq.heappop(q_min)\n",
    "            if q_min:\n",
    "                visited[q_min[0][1]] = False\n",
    "                heapq.heappop(q_min)\n",
    "    # 모든 연산이 끝나고도 필요없는 노드들 있을 수 있으니 결과를 내기 전 모두 비운다\n",
    "    while q_min and not visited[q_min[0][1]]:\n",
    "        heapq.heappop(q_min)\n",
    "    while q_max and not visited[q_max[0][1]]:\n",
    "        heapq.heappop(q_max)\n",
    "    result.append(f'{-q_max[0][0]} {q_min[0][0]}' if q_max and q_min else 'EMPTY')\n",
    "\n",
    "print('\\n'.join(result))"
   ]
  },
  {
   "cell_type": "code",
   "execution_count": 95,
   "metadata": {},
   "outputs": [
    {
     "name": "stdout",
     "output_type": "stream",
     "text": [
      "[3, 3]\n"
     ]
    }
   ],
   "source": [
    "import heapq\n",
    "\n",
    "T = int(input())\n",
    "result = []\n",
    "for _ in range(T):\n",
    "    N = int(input())\n",
    "    heap = []\n",
    "    for _ in range(N):\n",
    "        operation = input().split()\n",
    "        if operation[0] == 'I':\n",
    "            heapq.heappush(heap, int(operation[1]))\n",
    "        else:\n",
    "            if len(heap) == 0:\n",
    "                continue\n",
    "            elif operation[1] == '-1':\n",
    "                heapq.heappop(heap)\n",
    "            else:\n",
    "                heap = heapq.nlargest(len(heap), heap)[1:]\n",
    "                heapq.heapify(heap)\n",
    "answer = []\n",
    "if heap:\n",
    "    answer.append(max(heap))\n",
    "    answer.append(min(heap))\n",
    "else:\n",
    "    answer = 'EMPTY'\n",
    "print(answer)"
   ]
  },
  {
   "cell_type": "markdown",
   "metadata": {},
   "source": [
    "백준에선 시간초과"
   ]
  },
  {
   "cell_type": "markdown",
   "metadata": {},
   "source": [
    "Today 2022.08.31\n",
    "\n",
    "\n",
    "## Title 최대 힙\n",
    "\n",
    "\n",
    "BOJ # 11279\n",
    "\n",
    "\n",
    "LV # Silver 2"
   ]
  },
  {
   "cell_type": "code",
   "execution_count": 96,
   "metadata": {},
   "outputs": [
    {
     "name": "stdout",
     "output_type": "stream",
     "text": [
      "0\n",
      "2\n",
      "1\n",
      "3\n",
      "2\n",
      "1\n",
      "0\n",
      "0\n"
     ]
    }
   ],
   "source": [
    "import heapq\n",
    "heap = []\n",
    "N = int(input())\n",
    "for _ in range(N):\n",
    "    O = int(input())\n",
    "    if O == 0:\n",
    "        if len(heap) == 0:\n",
    "            print(0)\n",
    "        else:\n",
    "            p = heapq.heappop(heap)\n",
    "            print(-p)\n",
    "    else:\n",
    "        heapq.heappush(heap, - O)"
   ]
  },
  {
   "cell_type": "markdown",
   "metadata": {},
   "source": [
    "Today 2022.08.31\n",
    "\n",
    "\n",
    "## Title 케빈 베이컨의 6단계 법칙\n",
    "\n",
    "\n",
    "BOJ # 1389\n",
    "\n",
    "\n",
    "LV # Silver 1"
   ]
  },
  {
   "cell_type": "code",
   "execution_count": 114,
   "metadata": {},
   "outputs": [
    {
     "data": {
      "text/plain": [
       "[[], [3, 4], [3], [1, 4, 2], [1, 5, 3], [4]]"
      ]
     },
     "execution_count": 114,
     "metadata": {},
     "output_type": "execute_result"
    }
   ],
   "source": [
    "N, M = map(int, input().split())\n",
    "graph = [[] for _ in range(N+1)]\n",
    "for _ in range(M):\n",
    "    a, b = map(int, input().split())\n",
    "    graph[a].append(b)\n",
    "    graph[b].append(a)\n",
    "graph"
   ]
  },
  {
   "cell_type": "code",
   "execution_count": 229,
   "metadata": {},
   "outputs": [],
   "source": [
    "def dfs(v, target, count, l):\n",
    "    if v == target:\n",
    "        print(\"NOW COUNT {}\".format(count))\n",
    "        l.append(count)\n",
    "    elif v != target and visited[v] == False:\n",
    "        print(\"ME\")\n",
    "        visited[v] = True\n",
    "        count += 1\n",
    "        for x in graph[v]:\n",
    "            print('x : {}'.format(x))\n",
    "            dfs(x, target, count, l)"
   ]
  },
  {
   "cell_type": "code",
   "execution_count": 232,
   "metadata": {},
   "outputs": [
    {
     "name": "stdout",
     "output_type": "stream",
     "text": [
      "ME\n",
      "x : 3\n",
      "ME\n",
      "x : 1\n",
      "x : 4\n",
      "ME\n",
      "x : 1\n",
      "x : 5\n",
      "ME\n",
      "x : 4\n",
      "x : 3\n",
      "x : 2\n",
      "NOW COUNT 2\n",
      "x : 4\n",
      "ME\n",
      "x : 3\n",
      "ME\n",
      "x : 1\n",
      "NOW COUNT 2\n",
      "x : 4\n",
      "ME\n",
      "x : 1\n",
      "NOW COUNT 3\n",
      "x : 5\n",
      "ME\n",
      "x : 4\n",
      "x : 3\n",
      "x : 2\n",
      "ME\n",
      "x : 1\n",
      "NOW COUNT 1\n",
      "x : 4\n",
      "ME\n",
      "x : 1\n",
      "NOW COUNT 2\n",
      "x : 5\n",
      "ME\n",
      "x : 4\n",
      "x : 3\n",
      "x : 2\n",
      "ME\n",
      "x : 3\n",
      "ME\n",
      "x : 1\n",
      "NOW COUNT 1\n",
      "x : 5\n",
      "ME\n",
      "x : 4\n",
      "x : 3\n",
      "ME\n",
      "x : 1\n",
      "NOW COUNT 2\n",
      "x : 4\n",
      "x : 2\n",
      "ME\n",
      "x : 3\n",
      "ME\n",
      "x : 4\n",
      "ME\n",
      "x : 1\n",
      "NOW COUNT 2\n",
      "x : 5\n",
      "x : 3\n",
      "ME\n",
      "x : 1\n",
      "NOW COUNT 3\n",
      "x : 4\n",
      "x : 2\n",
      "ME\n",
      "x : 3\n"
     ]
    }
   ],
   "source": [
    "T = [x for x in range(1, N+1)]\n",
    "L_T = []\n",
    "for i in range(1, N+1):\n",
    "    visited = [False]*(N+1)\n",
    "    T_N = [x for x in range(1,N+1)]\n",
    "    T_N.remove(i)\n",
    "    l = []\n",
    "    for target in T_N:\n",
    "        dfs(i, target, 0, l)\n",
    "    L_T.append(min(l))\n",
    "    "
   ]
  },
  {
   "cell_type": "code",
   "execution_count": 233,
   "metadata": {},
   "outputs": [
    {
     "data": {
      "text/plain": [
       "[2, 2, 1, 1, 2]"
      ]
     },
     "execution_count": 233,
     "metadata": {},
     "output_type": "execute_result"
    }
   ],
   "source": [
    "L_T"
   ]
  },
  {
   "cell_type": "code",
   "execution_count": 235,
   "metadata": {},
   "outputs": [
    {
     "data": {
      "text/plain": [
       "3"
      ]
     },
     "execution_count": 235,
     "metadata": {},
     "output_type": "execute_result"
    }
   ],
   "source": [
    "L_T.index(min(L_T)) + 1"
   ]
  },
  {
   "cell_type": "code",
   "execution_count": 239,
   "metadata": {},
   "outputs": [],
   "source": [
    "graph = [[], [3, 4], [3], [1, 4, 2], [1, 5, 3], [4]]"
   ]
  },
  {
   "cell_type": "code",
   "execution_count": 245,
   "metadata": {},
   "outputs": [
    {
     "data": {
      "text/plain": [
       "3"
      ]
     },
     "execution_count": 245,
     "metadata": {},
     "output_type": "execute_result"
    }
   ],
   "source": [
    "N, M = map(int, input().split())\n",
    "graph = [[] for _ in range(N+1)]\n",
    "for _ in range(M):\n",
    "    a, b = map(int, input().split())\n",
    "    graph[a].append(b)\n",
    "    graph[b].append(a)\n",
    "def dfs(v, target, count, l):\n",
    "    if v == target:\n",
    "        l.append(count)\n",
    "    elif v != target and visited[v] == False:\n",
    "        visited[v] = True\n",
    "        count += 1\n",
    "        for x in graph[v]:\n",
    "            dfs(x, target, count, l)\n",
    "T = [x for x in range(1, N+1)]\n",
    "L_T = []\n",
    "for i in range(1, N+1):\n",
    "    T_N = [x for x in range(1,N+1)]\n",
    "    T_N.remove(i)\n",
    "    l_ = []\n",
    "    for target in T_N:\n",
    "        visited = [False]*(N+1)\n",
    "        l = []\n",
    "        dfs(i, target, 0, l)\n",
    "        l_.append(min(l))\n",
    "    L_T.append(sum(l_))\n",
    "print(L_T.index(min(L_T)) + 1)"
   ]
  },
  {
   "cell_type": "code",
   "execution_count": 241,
   "metadata": {},
   "outputs": [
    {
     "data": {
      "text/plain": [
       "[]"
      ]
     },
     "execution_count": 241,
     "metadata": {},
     "output_type": "execute_result"
    }
   ],
   "source": [
    "l"
   ]
  },
  {
   "cell_type": "code",
   "execution_count": null,
   "metadata": {},
   "outputs": [],
   "source": []
  },
  {
   "cell_type": "code",
   "execution_count": null,
   "metadata": {},
   "outputs": [],
   "source": []
  },
  {
   "cell_type": "code",
   "execution_count": null,
   "metadata": {},
   "outputs": [],
   "source": []
  },
  {
   "cell_type": "code",
   "execution_count": null,
   "metadata": {},
   "outputs": [],
   "source": []
  },
  {
   "cell_type": "code",
   "execution_count": null,
   "metadata": {},
   "outputs": [],
   "source": []
  },
  {
   "cell_type": "code",
   "execution_count": null,
   "metadata": {},
   "outputs": [],
   "source": []
  }
 ],
 "metadata": {
  "kernelspec": {
   "display_name": "Python 3.8.13 ('AUTOVC')",
   "language": "python",
   "name": "python3"
  },
  "language_info": {
   "codemirror_mode": {
    "name": "ipython",
    "version": 3
   },
   "file_extension": ".py",
   "mimetype": "text/x-python",
   "name": "python",
   "nbconvert_exporter": "python",
   "pygments_lexer": "ipython3",
   "version": "3.8.13"
  },
  "orig_nbformat": 4,
  "vscode": {
   "interpreter": {
    "hash": "83701494a915308841c98d90e1627ab32994947d5b938ec1dfda5c4da74c3582"
   }
  }
 },
 "nbformat": 4,
 "nbformat_minor": 2
}
