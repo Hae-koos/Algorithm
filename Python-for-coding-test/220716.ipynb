{
 "cells": [
  {
   "cell_type": "code",
   "execution_count": 1,
   "metadata": {},
   "outputs": [],
   "source": [
    "import numpy as np\n",
    "import pandas as pd\n",
    "import random\n",
    "import time"
   ]
  },
  {
   "cell_type": "markdown",
   "metadata": {},
   "source": [
    "##### 문어"
   ]
  },
  {
   "cell_type": "markdown",
   "metadata": {},
   "source": [
    "백준 21313"
   ]
  },
  {
   "cell_type": "markdown",
   "metadata": {},
   "source": [
    "- 문어의 다리는 8개\n",
    "- 강강술래를 하는데"
   ]
  },
  {
   "cell_type": "markdown",
   "metadata": {},
   "source": [
    "- 서로 같은 번호의 손을 잡아야 한다.\n",
    "- 한 문어와 둘 이상의 손을 잡을 수 없다.\n",
    "- 한 손으로 여러 문어의 손을 잡을 수 없다."
   ]
  },
  {
   "cell_type": "markdown",
   "metadata": {},
   "source": [
    "강강술래를 하는 N마리  \n",
    "하나를 골라 1번이라 하고  \n",
    "시계방향으로 2, 3, 4, 5, ..., N"
   ]
  },
  {
   "cell_type": "markdown",
   "metadata": {},
   "source": [
    "인접한 두 문어가 잡은 손의 번호로 길이 N 수열을 만든다  \n",
    "1번과 2번이 잡은 손의 번호는 1번째 항  \n",
    "2번과 3번이 잡은 손의 번호는 2번째 항  \n",
    "N-1번과 N번이 잡은 손의 번호는 N-1번째 항  \n",
    "N번과 1번이 잡은 손의 번호는 N번째 항"
   ]
  },
  {
   "cell_type": "markdown",
   "metadata": {},
   "source": [
    "- 문어의 수 4 <= N <= 1,000\n",
    "- N마리 문어로 만들 수 있는 길이 N의 수열 중 사전순으로 가장 앞서는 것을 출력한다.\n",
    "\n",
    "EXAMPLE\n",
    "\n",
    "4     -->     1 2 1 2"
   ]
  },
  {
   "cell_type": "code",
   "execution_count": 12,
   "metadata": {},
   "outputs": [],
   "source": [
    "N = int(input())\n",
    "a, s = divmod(N, 2)\n",
    "if s == 0:\n",
    "    print('1 2 ' * a)\n",
    "else:\n",
    "    print('1 2 ' * a + '3')"
   ]
  },
  {
   "cell_type": "markdown",
   "metadata": {},
   "source": [
    "##### 컵홀더"
   ]
  },
  {
   "cell_type": "markdown",
   "metadata": {},
   "source": [
    "백준 2810"
   ]
  },
  {
   "cell_type": "markdown",
   "metadata": {},
   "source": [
    "- 극장 한 줄에는 N개 자리가 존재\n",
    "- 서로 인접한 좌석 사이에 1개의 컵 홀더가 있고, 양 끝에는 끝에 하나 더\n",
    "- 커플석이 있는데 커플석 사이에는 없음\n",
    "- 극장 한 줄의 정보가 주어지는데 이 줄에 사람들이 모두 앉았을 때, 컵홀더에 컵을 꽂을 수 있는 최대 사람의 수를 출력\n",
    "- S는 일반 좌석, L은 커플석을 의미하며, L은 항상 두개씩 쌍으로 주어진다."
   ]
  },
  {
   "cell_type": "markdown",
   "metadata": {},
   "source": [
    "- 어떤 좌석의 배치가 SLLLLSSLL일때, 컵홀더를 ㅇ로 표시하면 아래와 같다.\n",
    "- ㅇSㅇLLㅇLLㅇSㅇSㅇLLㅇ"
   ]
  },
  {
   "cell_type": "markdown",
   "metadata": {},
   "source": [
    "- 첫째 줄에 좌석의 수 N이 주어진다. (1 ≤ N ≤ 50) \n",
    "- 둘째 줄에는 좌석의 정보가 주어진다."
   ]
  },
  {
   "cell_type": "markdown",
   "metadata": {},
   "source": [
    "EXAMPLE\n",
    "\n",
    "3  \n",
    "SSS\n",
    "\n",
    "-------> 3\n",
    "\n",
    "4\n",
    "SLLS\n",
    "\n",
    "-------> 4\n",
    "\n",
    "9\n",
    "SLLLLSSLL\n",
    "\n",
    "-------> 7"
   ]
  },
  {
   "cell_type": "code",
   "execution_count": 16,
   "metadata": {},
   "outputs": [],
   "source": [
    "N = int(input())\n",
    "seats = list(input())\n",
    "seats = ['*'] + seats + ['*']"
   ]
  },
  {
   "cell_type": "code",
   "execution_count": 17,
   "metadata": {},
   "outputs": [
    {
     "data": {
      "text/plain": [
       "['*', 'S', 'S', 'S', '*']"
      ]
     },
     "execution_count": 17,
     "metadata": {},
     "output_type": "execute_result"
    }
   ],
   "source": [
    "seats"
   ]
  },
  {
   "cell_type": "code",
   "execution_count": 27,
   "metadata": {},
   "outputs": [
    {
     "data": {
      "text/plain": [
       "[['*'], ['S', '*'], ['S', '*'], ['S'], ['*']]"
      ]
     },
     "execution_count": 27,
     "metadata": {},
     "output_type": "execute_result"
    }
   ],
   "source": [
    "check = 0\n",
    "for s in range(len(seats)):\n",
    "    if check == N:\n",
    "        continue\n",
    "    if seats[s] == 'S':\n",
    "        seats[s] = 'S *'\n",
    "    check+=1\n",
    "result = []\n",
    "for s in seats:\n",
    "    result.append(s.split( ))\n",
    "result"
   ]
  },
  {
   "cell_type": "code",
   "execution_count": 26,
   "metadata": {},
   "outputs": [
    {
     "data": {
      "text/plain": [
       "['*', 'S *', 'S *', 'S', '*']"
      ]
     },
     "execution_count": 26,
     "metadata": {},
     "output_type": "execute_result"
    }
   ],
   "source": []
  },
  {
   "cell_type": "code",
   "execution_count": 24,
   "metadata": {},
   "outputs": [
    {
     "data": {
      "text/plain": [
       "['*', 'S', 'S', 'S', '*']"
      ]
     },
     "execution_count": 24,
     "metadata": {},
     "output_type": "execute_result"
    }
   ],
   "source": [
    "seats"
   ]
  },
  {
   "cell_type": "code",
   "execution_count": 18,
   "metadata": {},
   "outputs": [],
   "source": [
    "l = ['a b c']"
   ]
  },
  {
   "cell_type": "code",
   "execution_count": 22,
   "metadata": {},
   "outputs": [
    {
     "name": "stdout",
     "output_type": "stream",
     "text": [
      "['a', 'b', 'c']\n"
     ]
    }
   ],
   "source": [
    "for x in l:\n",
    "    print(x.split(' '))"
   ]
  },
  {
   "cell_type": "markdown",
   "metadata": {},
   "source": [
    "##### FAILED"
   ]
  },
  {
   "cell_type": "markdown",
   "metadata": {},
   "source": [
    "눈으로 풀고 구현만 코드로"
   ]
  },
  {
   "cell_type": "code",
   "execution_count": null,
   "metadata": {},
   "outputs": [],
   "source": [
    "N = int(input())\n",
    "member = input()\n",
    "\n",
    "count = member.count('LL')\n",
    "\n",
    "if (count <= 1):\n",
    "    print(len(member))\n",
    "\n",
    "else:\n",
    "    print(len(member) - count + 1)"
   ]
  }
 ],
 "metadata": {
  "kernelspec": {
   "display_name": "Python 3.8.13 ('algorithm')",
   "language": "python",
   "name": "python3"
  },
  "language_info": {
   "codemirror_mode": {
    "name": "ipython",
    "version": 3
   },
   "file_extension": ".py",
   "mimetype": "text/x-python",
   "name": "python",
   "nbconvert_exporter": "python",
   "pygments_lexer": "ipython3",
   "version": "3.8.13"
  },
  "orig_nbformat": 4,
  "vscode": {
   "interpreter": {
    "hash": "ee431ac274e33366c10c3ac30cd4fb33ff3ed0dd6a8cc3f05073bd47291a9c12"
   }
  }
 },
 "nbformat": 4,
 "nbformat_minor": 2
}
