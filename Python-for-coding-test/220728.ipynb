{
 "cells": [
  {
   "cell_type": "code",
   "execution_count": 1,
   "metadata": {},
   "outputs": [],
   "source": [
    "import numpy as np\n",
    "import pandas as pd\n",
    "import random\n",
    "import time"
   ]
  },
  {
   "cell_type": "markdown",
   "metadata": {},
   "source": [
    "##### 로프 (Greedy Algorithm)"
   ]
  },
  {
   "cell_type": "markdown",
   "metadata": {},
   "source": [
    "백준 2217"
   ]
  },
  {
   "cell_type": "markdown",
   "metadata": {},
   "source": [
    "- N개의 로프가 있다.\n",
    "- 여러 개 로프를 병렬 연결하여 중량을 나눌 수 있으며\n",
    "- 각 로프 정보가 주어질 때 이 로프들을 이용하여 들어올릴 수 있는 물체의 최대 중량을 구해내는 프로그램을 작성하라"
   ]
  },
  {
   "cell_type": "code",
   "execution_count": 29,
   "metadata": {},
   "outputs": [
    {
     "name": "stdout",
     "output_type": "stream",
     "text": [
      "20\n"
     ]
    }
   ],
   "source": [
    "import sys\n",
    "sys.setrecursionlimit(5000)\n",
    "# input = sys.stdin.readline\n",
    "\n",
    "N = int(input())\n",
    "L = []\n",
    "for _ in range(N):\n",
    "    L.append(int(input()))\n",
    "\n",
    "L.sort(reverse=True)\n",
    "\n",
    "def weight(rope_list, num_of_rope):\n",
    "    s = sum(rope_list)\n",
    "    s_e = s / num_of_rope\n",
    "    if s_e <= min(rope_list):\n",
    "        return s\n",
    "    else:\n",
    "        return 0\n",
    "\n",
    "result = 0\n",
    "for i in range(1, len(L)+1):\n",
    "    result = max(result, weight(L[:i], i))\n",
    "print(result)"
   ]
  },
  {
   "cell_type": "markdown",
   "metadata": {},
   "source": [
    "접근 자체가...\n",
    "\n",
    "가장 작은 무게를 들 수 있는 로프의 질량 * 해당 로프의 내림차순 무게 순위\n",
    "\n",
    "EXAMPLE\n",
    "\n",
    "[100, 80, 60, 40, 20] 이 있다고 하면 [100 * 1, 80 * 2, 60 * 3, 40 * 4, 20 * 5] 합니다."
   ]
  },
  {
   "cell_type": "code",
   "execution_count": 32,
   "metadata": {},
   "outputs": [
    {
     "name": "stdout",
     "output_type": "stream",
     "text": [
      "180\n"
     ]
    }
   ],
   "source": [
    "import sys\n",
    "sys.setrecursionlimit(5000)\n",
    "# input = sys.stdin.readline\n",
    "\n",
    "N = int(input())\n",
    "L = []\n",
    "for _ in range(N):\n",
    "    L.append(int(input()))\n",
    "\n",
    "L.sort(reverse=True)\n",
    "\n",
    "new_L = []\n",
    "i = 1\n",
    "for x in L:\n",
    "    new_L.append(x*i)\n",
    "    i+=1\n",
    "print(max(new_L))\n"
   ]
  },
  {
   "cell_type": "markdown",
   "metadata": {},
   "source": [
    "##### 단어 공부 (Implementation)"
   ]
  },
  {
   "cell_type": "markdown",
   "metadata": {},
   "source": [
    "백준 1157"
   ]
  },
  {
   "cell_type": "markdown",
   "metadata": {},
   "source": [
    "- 알파벳 대소문자로 된 단어가 주어지면 이 단어에서 가장 많이 사용된 알파벳이 무엇인지 대문자로 출력하고\n",
    "- 여러개라면 ? 를 출력한다?"
   ]
  },
  {
   "cell_type": "code",
   "execution_count": 74,
   "metadata": {},
   "outputs": [
    {
     "name": "stdout",
     "output_type": "stream",
     "text": [
      "dict_values([4, 3, 2])\n",
      "A\n"
     ]
    }
   ],
   "source": [
    "import sys\n",
    "# input = sys.stdin.readline\n",
    "alpha = input().upper()\n",
    "l = []\n",
    "for x in alpha:\n",
    "    l.append(ord(x))\n",
    "    \n",
    "from collections import Counter\n",
    "\n",
    "\n",
    "cnt = Counter(l)\n",
    "cnt_common = cnt.most_common()\n",
    "print(cnt.values())\n",
    "\n",
    "if len(cnt) == 1:\n",
    "    print(chr(cnt_common[0][0]))\n",
    "elif cnt_common[0][1] != cnt_common[1][1]:\n",
    "    print(chr(cnt_common[0][0]))\n",
    "else:\n",
    "    print('?')\n"
   ]
  },
  {
   "cell_type": "code",
   "execution_count": 76,
   "metadata": {},
   "outputs": [
    {
     "data": {
      "text/plain": [
       "Counter({65: 4, 69: 3, 82: 2})"
      ]
     },
     "execution_count": 76,
     "metadata": {},
     "output_type": "execute_result"
    }
   ],
   "source": [
    "cnt"
   ]
  },
  {
   "cell_type": "code",
   "execution_count": 109,
   "metadata": {},
   "outputs": [
    {
     "name": "stdout",
     "output_type": "stream",
     "text": [
      "[('C', 4), ('B', 3), ('A', 2)]\n",
      "C\n"
     ]
    }
   ],
   "source": [
    "import sys\n",
    "# input = sys.stdin.readline\n",
    "from collections import Counter\n",
    "cnt = Counter(input().upper())\n",
    "check = cnt.most_common()\n",
    "if len(check) > 1 and check[0][1] == check[1][1]:\n",
    "    print('?')\n",
    "else:\n",
    "    print(check[0][0])"
   ]
  },
  {
   "cell_type": "code",
   "execution_count": 106,
   "metadata": {},
   "outputs": [
    {
     "name": "stdout",
     "output_type": "stream",
     "text": [
      "[('a', 2), ('b', 2)]\n",
      "?\n"
     ]
    }
   ],
   "source": [
    "from collections import Counter\n",
    "\n",
    "word = input().strip().lower()\n",
    "counter = Counter(word)\n",
    "common = counter.most_common()\n",
    "print(common)\n",
    "if len(common) > 1 and common[0][1] == common[1][1]:\n",
    "    print('?')\n",
    "else:\n",
    "    print(common[0][0].upper())"
   ]
  },
  {
   "cell_type": "markdown",
   "metadata": {},
   "source": [
    "Counter 사용법과 \n",
    "\n",
    "ord vs chr"
   ]
  }
 ],
 "metadata": {
  "kernelspec": {
   "display_name": "Python 3.8.13 ('220602')",
   "language": "python",
   "name": "python3"
  },
  "language_info": {
   "codemirror_mode": {
    "name": "ipython",
    "version": 3
   },
   "file_extension": ".py",
   "mimetype": "text/x-python",
   "name": "python",
   "nbconvert_exporter": "python",
   "pygments_lexer": "ipython3",
   "version": "3.8.13"
  },
  "orig_nbformat": 4,
  "vscode": {
   "interpreter": {
    "hash": "c338ad7255a2897c16c9ce6a2d417a70b7b950e3cde57c3d9f59d0eb8b97ca54"
   }
  }
 },
 "nbformat": 4,
 "nbformat_minor": 2
}
