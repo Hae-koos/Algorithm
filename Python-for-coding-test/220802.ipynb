{
 "cells": [
  {
   "cell_type": "markdown",
   "metadata": {},
   "source": [
    "Today 2022.08.02\n",
    "\n",
    "\n",
    "## Title 연구소\n",
    "\n",
    "\n",
    "BOJ # 14502\n",
    "\n",
    "\n",
    "LV # Gold 4\n",
    "\n",
    "\n",
    "Tag # Graph Search"
   ]
  },
  {
   "cell_type": "markdown",
   "metadata": {},
   "source": [
    "- N x M 크기의 연구소\n",
    "- 0은 빈 칸, 1은 벽, 2는 바이러스, 아무런 벽을 세우지 않으면 바이러스는 모든 빈 칸으로 퍼진다\n",
    "- 벽을 3개 세워 시간이 지나도 바이러스가 퍼지지 않은 안전지대를 최대로 만들고 그 구역의 최댓값을 출력하라"
   ]
  },
  {
   "cell_type": "code",
   "execution_count": 1,
   "metadata": {},
   "outputs": [
    {
     "data": {
      "text/plain": [
       "[[2, 0, 0, 0, 1, 1, 0],\n",
       " [0, 0, 1, 0, 1, 2, 0],\n",
       " [0, 1, 1, 0, 1, 0, 0],\n",
       " [0, 1, 0, 0, 0, 0, 0],\n",
       " [0, 0, 0, 0, 0, 1, 1],\n",
       " [0, 1, 0, 0, 0, 0, 0],\n",
       " [0, 1, 0, 0, 0, 0, 0]]"
      ]
     },
     "execution_count": 1,
     "metadata": {},
     "output_type": "execute_result"
    }
   ],
   "source": [
    "N, M = map(int, input().split())\n",
    "graph = []\n",
    "for i in range(N):\n",
    "    graph.append(list(map(int, input().split())))\n",
    "graph"
   ]
  },
  {
   "cell_type": "markdown",
   "metadata": {},
   "source": [
    "전체 맵의 크기가 최대 8 x 8 이므로 벽을 설치할 수 있는 경우의 수는 최대 64C3이다.  \n",
    "이는 100,000보다 작은 수이므로, 모든 경우의 수를 고려해도 제한 시간 안에 문제를 해결할 수 있다.\n",
    "\n",
    "이처럼 그리디 알고리즘을 가장 먼저 떠올리는 습관은 필요한 것 같다.  \n",
    "가능할 지, 불가능 할 지 판단하는 능력도.."
   ]
  },
  {
   "cell_type": "code",
   "execution_count": 2,
   "metadata": {},
   "outputs": [
    {
     "name": "stdout",
     "output_type": "stream",
     "text": [
      "27\n"
     ]
    }
   ],
   "source": [
    "import copy\n",
    "from collections import deque\n",
    "\n",
    "ans = 0\n",
    "\n",
    "q = deque()\n",
    "def bfs():\n",
    "    global ans    \n",
    "    dx = [1,-1,0,0]\n",
    "    dy = [0,0,1,-1]\n",
    "    w = copy.deepcopy(graph)\n",
    "    for i in range(N):\n",
    "        for j in range(M):\n",
    "            if w[i][j] == 2:\n",
    "                q.append([i,j])\n",
    "    while q:\n",
    "        x, y = q.popleft()\n",
    "        for i in range(4):\n",
    "            nx = x + dx[i]\n",
    "            ny = y + dy[i]\n",
    "            if 0 <= nx < N and 0 <= ny < M and w[nx][ny] == 0:\n",
    "                w[nx][ny] = 2\n",
    "                q.append([nx,ny])\n",
    "    \n",
    "    cnt = 0\n",
    "    for i in w:\n",
    "        cnt += i.count(0)\n",
    "    ans = max(ans, cnt)\n",
    "\n",
    "def wall(cnt):\n",
    "    if cnt == 3:\n",
    "        bfs()\n",
    "        return\n",
    "    for i in range(N):\n",
    "        for j in range(M):\n",
    "            if graph[i][j] == 0:\n",
    "                graph[i][j] = 1\n",
    "                wall(cnt + 1)\n",
    "                graph[i][j] = 0\n",
    "    \n",
    "wall(0)\n",
    "print(ans)"
   ]
  },
  {
   "cell_type": "markdown",
   "metadata": {},
   "source": [
    "Today 2022.08.02\n",
    "\n",
    "\n",
    "## Title 좌표 정렬하기\n",
    "\n",
    "\n",
    "BOJ # 11650\n",
    "\n",
    "\n",
    "LV # Silver 5\n",
    "\n",
    "\n",
    "Tag # Sorting Algorithm"
   ]
  },
  {
   "cell_type": "markdown",
   "metadata": {},
   "source": [
    "2차원 평면 위의 점 N개가 주어진다.  \n",
    "좌표를 x좌표가 증가하는 순으로, x좌표가 같으면 y좌표가 증가하는 순서로 정렬한 다음 출력하는 프로그램을 작성하라"
   ]
  },
  {
   "cell_type": "code",
   "execution_count": 3,
   "metadata": {},
   "outputs": [
    {
     "data": {
      "text/plain": [
       "[[3, 4], [1, 1], [1, -1], [2, 2], [3, 3]]"
      ]
     },
     "execution_count": 3,
     "metadata": {},
     "output_type": "execute_result"
    }
   ],
   "source": [
    "N = int(input())\n",
    "l = []\n",
    "for _ in range(N):\n",
    "    l.append(list(map(int, input().split())))\n",
    "l"
   ]
  },
  {
   "cell_type": "code",
   "execution_count": 10,
   "metadata": {},
   "outputs": [
    {
     "data": {
      "text/plain": [
       "[[1, -1], [1, 1], [2, 2], [3, 3], [3, 4]]"
      ]
     },
     "execution_count": 10,
     "metadata": {},
     "output_type": "execute_result"
    }
   ],
   "source": [
    "l.sort(key = lambda x: (x[0], x[1]))\n",
    "l"
   ]
  },
  {
   "cell_type": "code",
   "execution_count": 14,
   "metadata": {},
   "outputs": [
    {
     "name": "stdout",
     "output_type": "stream",
     "text": [
      "1 1 \n",
      "5 0 \n"
     ]
    }
   ],
   "source": [
    "N = int(input())\n",
    "l = []\n",
    "for _ in range(N):\n",
    "    l.append(list(map(int, input().split())))\n",
    "l.sort(key = lambda x: (x[0], x[1]))\n",
    "for x in l:\n",
    "    for y in x:\n",
    "        print(y, end=' ')\n",
    "    print()"
   ]
  },
  {
   "cell_type": "markdown",
   "metadata": {},
   "source": [
    "Today 2022.08.02\n",
    "\n",
    "\n",
    "## Title 안전 영역\n",
    "\n",
    "\n",
    "BOJ # 2468\n",
    "\n",
    "\n",
    "LV # Silver 1\n",
    "\n",
    "\n",
    "Tag # Graph Search"
   ]
  },
  {
   "cell_type": "markdown",
   "metadata": {},
   "source": [
    "- 비가 많이 내려 해당 높이 이하인 모든 지점이 물에 잠겼다.\n",
    "- 잠기지 않은 영역들을 이어 하나의 안전 지역이라 일컫는다.\n",
    "- 안전지역의 수를 출력하는 프로그램을 작성하라"
   ]
  },
  {
   "cell_type": "code",
   "execution_count": 15,
   "metadata": {},
   "outputs": [
    {
     "data": {
      "text/plain": [
       "[[6, 8, 2, 6, 2],\n",
       " [3, 2, 3, 4, 6],\n",
       " [6, 7, 3, 3, 2],\n",
       " [7, 2, 5, 3, 6],\n",
       " [8, 9, 5, 2, 7]]"
      ]
     },
     "execution_count": 15,
     "metadata": {},
     "output_type": "execute_result"
    }
   ],
   "source": [
    "import sys\n",
    "sys.setrecursionlimit(5000)\n",
    "# input = sys.stdin.readline\n",
    "from collections import deque\n",
    "\n",
    "N = int(input())\n",
    "graph = []\n",
    "for _ in range(N):\n",
    "    graph.append(list(map(int, input().split())))\n",
    "graph\n"
   ]
  },
  {
   "cell_type": "markdown",
   "metadata": {},
   "source": [
    "비가 얼마나 내리지 모르니까 min부터 max-1까지 비가 오게 하는 Greedy 함께 써야할 듯"
   ]
  },
  {
   "cell_type": "code",
   "execution_count": 27,
   "metadata": {},
   "outputs": [],
   "source": [
    "import sys\n",
    "sys.setrecursionlimit(5000)\n",
    "# input = sys.stdin.readline\n",
    "from collections import deque\n",
    "N = 5\n",
    "graph = [[6, 8, 2, 6, 2],\n",
    " [3, 2, 3, 4, 6],\n",
    " [6, 7, 3, 3, 2],\n",
    " [7, 2, 5, 3, 6],\n",
    " [8, 9, 5, 2, 7]]"
   ]
  },
  {
   "cell_type": "code",
   "execution_count": 28,
   "metadata": {},
   "outputs": [
    {
     "name": "stdout",
     "output_type": "stream",
     "text": [
      "5\n"
     ]
    }
   ],
   "source": [
    "import sys\n",
    "sys.setrecursionlimit(5000)\n",
    "# input = sys.stdin.readline\n",
    "from collections import deque\n",
    "\n",
    "N = int(input())\n",
    "graph = []\n",
    "for _ in range(N):\n",
    "    graph.append(list(map(int, input().split())))\n",
    "\n",
    "import copy\n",
    "rain_min = min(min(graph))\n",
    "rain_max = max(max(graph))\n",
    "\n",
    "dx = [1,-1,0,0]\n",
    "dy = [0,0,1,-1]\n",
    "\n",
    "def bfs(x, y, rain):\n",
    "    q = deque([(x,y)])\n",
    "    global res\n",
    "    res += 1\n",
    "    while q:\n",
    "        x, y = q.popleft()\n",
    "        for i in range(4):\n",
    "            nx = x + dx[i]\n",
    "            ny = y + dy[i]\n",
    "            if 0 <= nx < N and 0 <= ny < N:\n",
    "                if now_map[nx][ny] > rain:\n",
    "                    now_map[x][y] = rain\n",
    "                    now_map[nx][ny] = rain\n",
    "                    q.append([nx,ny])\n",
    "            else:\n",
    "                continue\n",
    "\n",
    "result = 0\n",
    "for rain in range(rain_min, rain_max+1):\n",
    "    res = 0\n",
    "    now_map = copy.deepcopy(graph)\n",
    "    for i in range(N):\n",
    "        for j in range(N):\n",
    "            if now_map[i][j] > rain:\n",
    "                bfs(i,j,rain)\n",
    "    result = max(result, res)\n",
    "\n",
    "if result == 0:\n",
    "    print(1)\n",
    "else:\n",
    "    print(result)"
   ]
  },
  {
   "cell_type": "code",
   "execution_count": null,
   "metadata": {},
   "outputs": [],
   "source": []
  }
 ],
 "metadata": {
  "kernelspec": {
   "display_name": "Python 3.8.13 ('AUTOVC')",
   "language": "python",
   "name": "python3"
  },
  "language_info": {
   "codemirror_mode": {
    "name": "ipython",
    "version": 3
   },
   "file_extension": ".py",
   "mimetype": "text/x-python",
   "name": "python",
   "nbconvert_exporter": "python",
   "pygments_lexer": "ipython3",
   "version": "3.8.13"
  },
  "orig_nbformat": 4,
  "vscode": {
   "interpreter": {
    "hash": "83701494a915308841c98d90e1627ab32994947d5b938ec1dfda5c4da74c3582"
   }
  }
 },
 "nbformat": 4,
 "nbformat_minor": 2
}
