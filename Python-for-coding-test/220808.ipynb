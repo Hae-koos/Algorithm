{
 "cells": [
  {
   "cell_type": "markdown",
   "metadata": {},
   "source": [
    "Today 2022.08.08\n",
    "\n",
    "\n",
    "## Title 좌표 정렬하기 2\n",
    "\n",
    "\n",
    "BOJ # 11651\n",
    "\n",
    "\n",
    "LV # Silver 5\n",
    "\n",
    "\n",
    "Tag # Sorting"
   ]
  },
  {
   "cell_type": "markdown",
   "metadata": {},
   "source": [
    "- 2차원 평면 위의 점 N개가 주어진다. \n",
    "- y가 증가하는 순으로, y가 같으면 x가 증가하는 순서로 정렬 후 출력하는 프로그램을 작성하라"
   ]
  },
  {
   "cell_type": "code",
   "execution_count": 5,
   "metadata": {},
   "outputs": [
    {
     "name": "stdout",
     "output_type": "stream",
     "text": [
      "1 -1 \n",
      "1 2 \n",
      "2 2 \n",
      "3 3 \n",
      "0 4 \n"
     ]
    }
   ],
   "source": [
    "N = int(input())\n",
    "P = []\n",
    "for _ in range(N):\n",
    "    P.append(list(map(int, input().split())))\n",
    "P.sort(key=lambda x: (x[1], x[0]))\n",
    "for x in P:\n",
    "    for y in x:\n",
    "        print(y, end=' ')\n",
    "    print()"
   ]
  },
  {
   "cell_type": "markdown",
   "metadata": {},
   "source": [
    "Today 2022.08.08\n",
    "\n",
    "## Title 알파벳\n",
    "\n",
    "BOJ # 1987\n",
    "\n",
    "LV # Gold 4\n",
    "\n",
    "Tag # Graph Search"
   ]
  },
  {
   "cell_type": "markdown",
   "metadata": {},
   "source": [
    "- 세로 R칸, 가로 C칸으로 된 표 모양의 보드가 있다.\n",
    "- 보드의 각 칸에는 대문자 알파벳이 하나씩 적혀 있고, 1행 1열 에는 (좌측 상단) 말이 놓여있다.\n",
    "- 말은 상하좌우로 한 칸 이동할 수 있는데 새로 이동한 칸에 적혀 있는 알파벳은 지금까지 지나온 모든 칸에 적혀 있는 알파벳 과는 달라야 한다. 즉, 같은 알파벳이 적힌 칸을 두 번 지날 수 없다.\n",
    "- 좌측 상단에서 시작해서 말이 최대 몇 칸을 지날 수 있는지를 구하는 프로그램을 작성하라 (좌측 상단 포함)"
   ]
  },
  {
   "cell_type": "code",
   "execution_count": 45,
   "metadata": {},
   "outputs": [],
   "source": [
    "graph = [['I', 'E', 'F', 'C', 'J'], ['F', 'H', 'F', 'K', 'C'], ['F', 'F', 'A', 'L', 'F'], ['H', 'F', 'G', 'C', 'F'], ['H', 'M', 'C', 'H', 'H']]\n",
    "visited = [False] * 26\n"
   ]
  },
  {
   "cell_type": "code",
   "execution_count": 46,
   "metadata": {},
   "outputs": [
    {
     "name": "stdout",
     "output_type": "stream",
     "text": [
      "1 F [False, False, False, False, False, False, False, False, True, False, False, False, False, False, False, False, False, False, False, False, False, False, False, False, False, False]\n",
      "1 E [False, False, False, False, False, True, False, False, True, False, False, False, False, False, False, False, False, False, False, False, False, False, False, False, False, False]\n",
      "2 H [False, False, False, False, True, True, False, False, True, False, False, False, False, False, False, False, False, False, False, False, False, False, False, False, False, False]\n",
      "4\n"
     ]
    }
   ],
   "source": [
    "# R, C =  map(int, input().split())\n",
    "# graph = []\n",
    "# for _ in range(R):\n",
    "#     graph.append(list(input()))\n",
    "\n",
    "# print(graph)\n",
    "\n",
    "# visited = [False] * 26\n",
    "\n",
    "from collections import deque\n",
    "\n",
    "count = 0\n",
    "def bfs(x,y):\n",
    "    global count\n",
    "    q = deque([(x,y)])\n",
    "    dx = [1,-1,0,0]\n",
    "    dy = [0,0,1,-1]\n",
    "    while q:\n",
    "        x,y = q.popleft()\n",
    "        count += 1\n",
    "        for i in range(4):\n",
    "            nx = x + dx[i]\n",
    "            ny = y + dy[i]\n",
    "            if nx < 0 or nx >= R or ny < 0 or ny >= C:\n",
    "                continue\n",
    "            if visited[ord(graph[nx][ny])-ord('A')] == False:\n",
    "                print(count, graph[nx][ny], visited)\n",
    "                visited[ord(graph[nx][ny])-ord('A')] = True\n",
    "                q.append((nx,ny))\n",
    "            else:\n",
    "                continue\n",
    "\n",
    "visited[ord(graph[0][0])-ord('A')] = True\n",
    "bfs(0,0)\n",
    "print(count)"
   ]
  },
  {
   "cell_type": "markdown",
   "metadata": {},
   "source": [
    "중복되는 알파벳이 뒤에 나오게 되면 앞에서 이미 방문처리를 해버려서 더 깊게 갈 수 있는데 못가는 경우 발생 -> DFS로 풀어야 하나?"
   ]
  },
  {
   "cell_type": "markdown",
   "metadata": {},
   "source": [
    "- 큐를 집합으로 구성하여 풀거나\n",
    "- DFS로 풀거나"
   ]
  },
  {
   "cell_type": "markdown",
   "metadata": {},
   "source": [
    "#### 큐를 집합으로 구성하여 풀기"
   ]
  },
  {
   "cell_type": "code",
   "execution_count": null,
   "metadata": {},
   "outputs": [
    {
     "name": "stdout",
     "output_type": "stream",
     "text": [
      "10\n"
     ]
    }
   ],
   "source": [
    "import sys\n",
    "# input = sys.stdin.readline\n",
    "from collections import deque\n",
    "import copy\n",
    "n, m = map(int, input().split())\n",
    "matrix = []\n",
    "for _ in range(n):\n",
    "    matrix.append(input().rstrip())\n",
    "\n",
    "dx = [0, +1, 0, -1]\n",
    "dy = [+1, 0, -1, 0]\n",
    "q = set()\n",
    "q.add((0, 0, matrix[0][0]))\n",
    "answer = 0\n",
    "def bfs(q):\n",
    "    global answer\n",
    "    while q:\n",
    "        x, y, sentence = q.pop()\n",
    "        answer = max(answer, len(sentence))\n",
    "        if answer == 26:        # 모든 알파벳을 돌면 26개가 됨\n",
    "            return\n",
    "        for i in range(4):\n",
    "            temp_x = x + dx[i]\n",
    "            temp_y = y + dy[i]\n",
    "            if 0 <= temp_x < n and 0<= temp_y < m:\n",
    "                if matrix[temp_x][temp_y] not in sentence:\n",
    "                    q.add((temp_x, temp_y, sentence + matrix[temp_x][temp_y]))\n",
    "    return\n",
    "bfs(q)\n",
    "print(answer)"
   ]
  },
  {
   "cell_type": "markdown",
   "metadata": {},
   "source": [
    "#### DFS"
   ]
  },
  {
   "cell_type": "code",
   "execution_count": 52,
   "metadata": {},
   "outputs": [
    {
     "name": "stdout",
     "output_type": "stream",
     "text": [
      "10\n"
     ]
    }
   ],
   "source": [
    "import sys \n",
    "from collections import deque\n",
    "# input=sys.stdin.readline\n",
    "R,C = map(int, input().split())\n",
    "arr=[list(input()) for _ in range(R)]\n",
    "check=[0]*(26)\n",
    "\n",
    "dx=[1,-1,0,0]\n",
    "dy=[0,0,1,-1]\n",
    "maxi=0\n",
    "\n",
    "def dfs(x,y,cnt):\n",
    "    global maxi\n",
    "    maxi=max(cnt,maxi)\n",
    "    for i in range(4):\n",
    "        nx=x+dx[i]\n",
    "        ny=y+dy[i]\n",
    "        if nx<R and ny<C and nx>=0 and ny>=0 and check[ord(arr[nx][ny])-65]==0:\n",
    "            check[ord(arr[nx][ny])-65]=1\n",
    "            ncnt=cnt+1\n",
    "            dfs(nx,ny,ncnt)\n",
    "            check[ord(arr[nx][ny])-65]=0\n",
    "\n",
    "check[ord(arr[0][0])-65]=1\n",
    "dfs(0,0,1)\n",
    "\n",
    "print(maxi)"
   ]
  },
  {
   "cell_type": "markdown",
   "metadata": {},
   "source": [
    "Today 2022.08.08\n",
    "\n",
    "\n",
    "## Title 카드 정렬하기\n",
    "\n",
    "\n",
    "BOJ # 1715\n",
    "\n",
    "\n",
    "LV # Gold 4\n",
    "\n",
    "\n",
    "Tag # greedy"
   ]
  },
  {
   "cell_type": "markdown",
   "metadata": {},
   "source": [
    "- 정렬된 두 묶음의 숫자 카드가 있다\n",
    "- 각 묶음의 카드 수를 A, B라 하면 보통 두 묶음을 합쳐서 하나로 만드는 데에는 A + B 번의 비교를 해야한다.\n",
    "- 10, 20, 40장의 카드가 있으면 \n",
    "    - (10+20)+(30+40) = 100 으로 비교할 수도 있고\n",
    "    - (10+40)+(50+20) = 120 으로도 비교할 수 있다\n",
    "- N개의 숫자 카드 묶음의 크기가 주어질 때 최소 몇번의 비교가 필요한지를 구하는 프로그램을 작성하라"
   ]
  },
  {
   "cell_type": "code",
   "execution_count": 61,
   "metadata": {},
   "outputs": [
    {
     "name": "stdout",
     "output_type": "stream",
     "text": [
      "33\n"
     ]
    }
   ],
   "source": [
    "N = int(input())\n",
    "cards = []\n",
    "for _ in range(N):\n",
    "    cards.append(int(input()))\n",
    "cards.sort()\n",
    "\n",
    "res = 0\n",
    "from collections import deque\n",
    "q = deque(cards)\n",
    "\n",
    "flag = True\n",
    "for _ in range(len(cards)-1):\n",
    "    if flag == True:\n",
    "        a = q.popleft()\n",
    "        b = q.popleft()\n",
    "        res = a + b\n",
    "        flag = False\n",
    "    else:\n",
    "        res = (res*2) + q.popleft()\n",
    "print(res)\n"
   ]
  },
  {
   "cell_type": "markdown",
   "metadata": {},
   "source": [
    "4개의 덱이 각각 3장씩으로 이루어지면  \n",
    "(3+3) + (3+3) + (6+6) = 24이 최선인데  \n",
    "내 방식은 (3+3)+(6+3)+(9+3)도 아님 그냥 이상함 "
   ]
  },
  {
   "cell_type": "markdown",
   "metadata": {},
   "source": [
    "#### 우선순위 큐 heapq 활용\n"
   ]
  },
  {
   "cell_type": "code",
   "execution_count": 62,
   "metadata": {},
   "outputs": [
    {
     "name": "stdout",
     "output_type": "stream",
     "text": [
      "24\n"
     ]
    }
   ],
   "source": [
    "import heapq\n",
    "\n",
    "N = int(input())\n",
    "cards = list(int(input()) for _ in range(N))\n",
    "heapq.heapify(cards)\n",
    "res = 0\n",
    "\n",
    "while len(cards) != 1:\n",
    "    a = heapq.heappop(cards)\n",
    "    b = heapq.heappop(cards)\n",
    "    S = a + b\n",
    "    res += S\n",
    "    heapq.heappush(cards, S)\n",
    "\n",
    "print(res)"
   ]
  },
  {
   "cell_type": "code",
   "execution_count": null,
   "metadata": {},
   "outputs": [],
   "source": []
  },
  {
   "cell_type": "code",
   "execution_count": null,
   "metadata": {},
   "outputs": [],
   "source": []
  },
  {
   "cell_type": "code",
   "execution_count": null,
   "metadata": {},
   "outputs": [],
   "source": []
  },
  {
   "cell_type": "code",
   "execution_count": null,
   "metadata": {},
   "outputs": [],
   "source": []
  },
  {
   "cell_type": "code",
   "execution_count": null,
   "metadata": {},
   "outputs": [],
   "source": []
  },
  {
   "cell_type": "code",
   "execution_count": null,
   "metadata": {},
   "outputs": [],
   "source": []
  },
  {
   "cell_type": "code",
   "execution_count": null,
   "metadata": {},
   "outputs": [],
   "source": []
  },
  {
   "cell_type": "code",
   "execution_count": null,
   "metadata": {},
   "outputs": [],
   "source": []
  },
  {
   "cell_type": "code",
   "execution_count": null,
   "metadata": {},
   "outputs": [],
   "source": []
  },
  {
   "cell_type": "code",
   "execution_count": null,
   "metadata": {},
   "outputs": [],
   "source": []
  },
  {
   "cell_type": "code",
   "execution_count": null,
   "metadata": {},
   "outputs": [],
   "source": []
  },
  {
   "cell_type": "code",
   "execution_count": null,
   "metadata": {},
   "outputs": [],
   "source": []
  },
  {
   "cell_type": "code",
   "execution_count": null,
   "metadata": {},
   "outputs": [],
   "source": []
  },
  {
   "cell_type": "code",
   "execution_count": null,
   "metadata": {},
   "outputs": [],
   "source": []
  },
  {
   "cell_type": "code",
   "execution_count": null,
   "metadata": {},
   "outputs": [],
   "source": []
  },
  {
   "cell_type": "code",
   "execution_count": null,
   "metadata": {},
   "outputs": [],
   "source": []
  }
 ],
 "metadata": {
  "kernelspec": {
   "display_name": "Python 3.8.13 ('AUTOVC')",
   "language": "python",
   "name": "python3"
  },
  "language_info": {
   "codemirror_mode": {
    "name": "ipython",
    "version": 3
   },
   "file_extension": ".py",
   "mimetype": "text/x-python",
   "name": "python",
   "nbconvert_exporter": "python",
   "pygments_lexer": "ipython3",
   "version": "3.8.13"
  },
  "orig_nbformat": 4,
  "vscode": {
   "interpreter": {
    "hash": "83701494a915308841c98d90e1627ab32994947d5b938ec1dfda5c4da74c3582"
   }
  }
 },
 "nbformat": 4,
 "nbformat_minor": 2
}
