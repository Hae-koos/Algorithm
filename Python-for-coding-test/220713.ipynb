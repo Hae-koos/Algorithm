{
 "cells": [
  {
   "cell_type": "code",
   "execution_count": 2,
   "metadata": {},
   "outputs": [],
   "source": [
    "import numpy as np\n",
    "import pandas as pd\n",
    "import random\n",
    "import time"
   ]
  },
  {
   "cell_type": "markdown",
   "metadata": {},
   "source": [
    "##### 가위바위보"
   ]
  },
  {
   "cell_type": "markdown",
   "metadata": {},
   "source": [
    "백준 2930"
   ]
  },
  {
   "cell_type": "markdown",
   "metadata": {},
   "source": [
    "- 가위바위보 세계 대회를 준비하기 위해 친구 N명 섭외\n",
    "- 가위바위보는 총 R개의 라운드로 구성\n",
    "- 각 라운드 점수 계산은 상근이와 친구 독립적 비교 이기면 2 비기면 1 지면 0\n",
    "- 출력 1 : 상근이 점수\n",
    "- 출력 2 : 상근이가 얻을 수 있는 최대 점수"
   ]
  },
  {
   "cell_type": "code",
   "execution_count": 21,
   "metadata": {},
   "outputs": [
    {
     "name": "stdout",
     "output_type": "stream",
     "text": [
      "12\n",
      "21\n"
     ]
    }
   ],
   "source": [
    "def battle(me,you):\n",
    "    if me == you:\n",
    "        return 1\n",
    "    elif (me == 'S') and (you == 'P'):\n",
    "        return 2\n",
    "    elif (me == 'S') and (you == 'R'):\n",
    "        return 0\n",
    "    elif (me == 'P') and (you == 'S'):\n",
    "        return 0\n",
    "    elif (me == 'P') and (you == 'R'):\n",
    "        return 2\n",
    "    elif (me == 'R') and (you == 'P'):\n",
    "        return 0\n",
    "    else:\n",
    "        return 2\n",
    "\n",
    "rounds = int(input())\n",
    "me = list(input())\n",
    "num_friends = int(input())\n",
    "fr = []\n",
    "for _ in range(num_friends):\n",
    "    fr.append(list(input()))\n",
    "\n",
    "score = 0\n",
    "for i in range(len(fr)):\n",
    "    a = list(zip(me, fr[i]))\n",
    "    for x in a:\n",
    "        score += battle(x[0], x[1])\n",
    "\n",
    "print(score)\n",
    "\n",
    "final_score = 0\n",
    "for i in range(len(fr[0])): # 0 1 2 3 4\n",
    "    score_list = []\n",
    "    now_score = 0\n",
    "    for j in range(len(fr)): # 0 1\n",
    "        now_score += battle('R', fr[j][i])\n",
    "    score_list.append(now_score)\n",
    "    now_score = 0\n",
    "    for j in range(len(fr)): # 0 1\n",
    "        now_score += battle('S', fr[j][i])\n",
    "    score_list.append(now_score)\n",
    "    now_score = 0\n",
    "    for j in range(len(fr)): # 0 1\n",
    "        now_score += battle('P', fr[j][i])\n",
    "    score_list.append(now_score)\n",
    "    final_score += max(score_list)\n",
    "    del score_list\n",
    "\n",
    "print(final_score)\n",
    "\n"
   ]
  },
  {
   "cell_type": "markdown",
   "metadata": {},
   "source": [
    "얻을 수 있는 최고 점수의 경우,\n",
    "\n",
    "가위 바위 보는 다행히도 각 라운드에 낼 수 있는 수의 경우가 3.\n",
    "\n",
    "이런 경우는 브루트 포스 알고리즘, \n",
    "\n",
    "쉽게 말해 다 때려 넣어보기를 사용하여 각 라운드마다 가장 높은 점수만 더해주면 됩니다."
   ]
  },
  {
   "cell_type": "markdown",
   "metadata": {},
   "source": [
    "##### 욱제는 효도쟁이"
   ]
  },
  {
   "cell_type": "markdown",
   "metadata": {},
   "source": [
    "백준 14487"
   ]
  },
  {
   "cell_type": "markdown",
   "metadata": {},
   "source": [
    "- 코드게이트 섬은 해안가를 따라 원형으로 마을이 위치\n",
    "- 임의의 A 마을에서 B 마을로 가기 위해 왼쪽 혹은 오른쪽 도로를 통해 돌아야 함\n",
    "- 각 마을에서 마을까지 이동비용이 주어질 때, 최소한의 이동비용으로 섬의 모든 마을 관광하려면 얼마 소비?\n"
   ]
  },
  {
   "cell_type": "markdown",
   "metadata": {},
   "source": [
    "- 마을의 수 1 <= n <= 50,000\n",
    "- i번째 마을과 i+1번째 마을의 이동비용 n개 (1 <= v_{i} <= 1,000)"
   ]
  },
  {
   "cell_type": "markdown",
   "metadata": {},
   "source": [
    "EXAMPLE\n",
    "\n",
    "(1)  \n",
    "5  \n",
    "1 6 5 2 4  \n",
    "-> 12\n",
    "\n",
    "(2)  \n",
    "4  \n",
    "100 100 100 101  \n",
    "-> 300"
   ]
  },
  {
   "cell_type": "code",
   "execution_count": 28,
   "metadata": {},
   "outputs": [
    {
     "name": "stdout",
     "output_type": "stream",
     "text": [
      "300\n"
     ]
    }
   ],
   "source": [
    "n = int(input())\n",
    "w = list(map(int, input().split()))\n",
    "print(sum(w) - max(w))\n",
    "\n",
    "\n",
    "\n"
   ]
  },
  {
   "cell_type": "markdown",
   "metadata": {},
   "source": [
    "##### 거스름돈"
   ]
  },
  {
   "cell_type": "markdown",
   "metadata": {},
   "source": [
    "- 잔돈 : 500 100 50 10 5 1\n",
    "- 거스름돈 개수 가장 적게\n",
    "- 물건 사고 1000 냈을 때 받을 잔돈에 포함된 잔돈 개수 구하기"
   ]
  },
  {
   "cell_type": "code",
   "execution_count": 32,
   "metadata": {},
   "outputs": [
    {
     "name": "stdout",
     "output_type": "stream",
     "text": [
      "15\n"
     ]
    }
   ],
   "source": [
    "M = 1000 - int(input())\n",
    "B = [500, 100, 50, 10, 5, 1]\n",
    "\n",
    "count = 0\n",
    "for b in B:\n",
    "    m, M = divmod(M, b)\n",
    "    count += m\n",
    "print(count)"
   ]
  }
 ],
 "metadata": {
  "kernelspec": {
   "display_name": "Python 3.8.13 ('algorithm')",
   "language": "python",
   "name": "python3"
  },
  "language_info": {
   "codemirror_mode": {
    "name": "ipython",
    "version": 3
   },
   "file_extension": ".py",
   "mimetype": "text/x-python",
   "name": "python",
   "nbconvert_exporter": "python",
   "pygments_lexer": "ipython3",
   "version": "3.8.13"
  },
  "orig_nbformat": 4,
  "vscode": {
   "interpreter": {
    "hash": "ee431ac274e33366c10c3ac30cd4fb33ff3ed0dd6a8cc3f05073bd47291a9c12"
   }
  }
 },
 "nbformat": 4,
 "nbformat_minor": 2
}
