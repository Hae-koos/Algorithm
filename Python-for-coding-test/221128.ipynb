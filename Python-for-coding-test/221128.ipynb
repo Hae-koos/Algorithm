{
 "cells": [
  {
   "cell_type": "markdown",
   "metadata": {},
   "source": [
    "Today 2022.11.28\n",
    "\n",
    "\n",
    "## Title x만큼 간격이 있는 n개의 숫자\n",
    "\n",
    "\n",
    "LV # 1\n",
    "\n",
    "\n",
    "Tag # Implementation"
   ]
  },
  {
   "cell_type": "markdown",
   "metadata": {},
   "source": [
    "함수 solution은 정수 x와 자연수 n을 입력 받아, x부터 시작해 x씩 증가하는 숫자를 n개 지니는 리스트를 리턴해야 합니다. \n",
    "\n",
    "다음 제한 조건을 보고, 조건을 만족하는 함수, solution을 완성해주세요."
   ]
  },
  {
   "cell_type": "code",
   "execution_count": 1,
   "metadata": {},
   "outputs": [],
   "source": [
    "import copy\n",
    "def solution(x, n):\n",
    "    answer = []\n",
    "    y = copy.deepcopy(x)\n",
    "    for _ in range(n):\n",
    "        answer.append(x)\n",
    "        x += y\n",
    "\n",
    "    return answer"
   ]
  },
  {
   "cell_type": "code",
   "execution_count": 3,
   "metadata": {},
   "outputs": [
    {
     "name": "stdout",
     "output_type": "stream",
     "text": [
      "[2, 4, 6, 8, 10]\n",
      "[4, 8, 12]\n",
      "[-4, -8]\n"
     ]
    }
   ],
   "source": [
    "print(solution(2, 5))\n",
    "print(solution(4, 3))\n",
    "print(solution(-4, 2))"
   ]
  },
  {
   "cell_type": "markdown",
   "metadata": {},
   "source": [
    "Today 2022.11.28\n",
    "\n",
    "\n",
    "## Title 바이러스\n",
    "\n",
    "\n",
    "BOJ # 2606\n",
    "\n",
    "\n",
    "LV # Silver 3\n",
    "\n",
    "\n",
    "Tag # DFS BFS"
   ]
  },
  {
   "cell_type": "markdown",
   "metadata": {},
   "source": [
    "신종 바이러스인 웜 바이러스는 네트워크를 통해 전파된다.  \n",
    "한 컴퓨터가 웜 바이러스에 걸리면 그 컴퓨터와 네트워크 상에서 연결되어 있는 모든 컴퓨터는 웜 바이러스에 걸리게 된다.\n",
    "\n",
    "예를 들어 7대의 컴퓨터가 <그림 1>과 같이 네트워크 상에서 연결되어 있다고 하자.  \n",
    "1번 컴퓨터가 웜 바이러스에 걸리면 웜 바이러스는 2번과 5번 컴퓨터를 거쳐 3번과 6번 컴퓨터까지 전파되어  \n",
    " 2, 3, 5, 6 네 대의 컴퓨터는 웜 바이러스에 걸리게 된다. 하지만 4번과 7번 컴퓨터는 1번 컴퓨터와  \n",
    " 네트워크상에서 연결되어 있지 않기 때문에 영향을 받지 않는다"
   ]
  },
  {
   "cell_type": "code",
   "execution_count": 6,
   "metadata": {},
   "outputs": [
    {
     "name": "stdout",
     "output_type": "stream",
     "text": [
      "4\n"
     ]
    }
   ],
   "source": [
    "n = int(input())\n",
    "m = int(input())\n",
    "\n",
    "graph = [[] for _ in range(n+1)]\n",
    "for _ in range(m):\n",
    "    a, b = map(int, input().split())\n",
    "    graph[a].append(b)\n",
    "    graph[b].append(a)\n",
    "\n",
    "visited = [False] * (n+1)\n",
    "count = 0\n",
    "\n",
    "def dfs(v):\n",
    "    global count\n",
    "    if visited[v] == False:\n",
    "        count += 1\n",
    "        visited[v] = True\n",
    "        for x in graph[v]:\n",
    "            dfs(x)\n",
    "\n",
    "dfs(1)\n",
    "print(count - 1)"
   ]
  }
 ],
 "metadata": {
  "kernelspec": {
   "display_name": "Python 3.8.13 ('AUTOVC')",
   "language": "python",
   "name": "python3"
  },
  "language_info": {
   "codemirror_mode": {
    "name": "ipython",
    "version": 3
   },
   "file_extension": ".py",
   "mimetype": "text/x-python",
   "name": "python",
   "nbconvert_exporter": "python",
   "pygments_lexer": "ipython3",
   "version": "3.8.13"
  },
  "orig_nbformat": 4,
  "vscode": {
   "interpreter": {
    "hash": "83701494a915308841c98d90e1627ab32994947d5b938ec1dfda5c4da74c3582"
   }
  }
 },
 "nbformat": 4,
 "nbformat_minor": 2
}
