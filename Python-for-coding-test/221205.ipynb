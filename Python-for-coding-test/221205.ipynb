{
 "cells": [
  {
   "cell_type": "markdown",
   "metadata": {},
   "source": [
    "Today 2022.12.05\n",
    "\n",
    "\n",
    "## Title DFS와 BFS\n",
    "\n",
    "\n",
    "BOJ # 1260\n",
    "\n",
    "\n",
    "LV # Silver 2\n",
    "\n",
    "\n",
    "Tag # DFS BFS"
   ]
  },
  {
   "cell_type": "markdown",
   "metadata": {},
   "source": [
    "그래프를 DFS로 탐색한 결과와 BFS로 탐색한 결과를 출력하는 프로그램을 작성하시오. \n",
    "\n",
    "단, 방문할 수 있는 정점이 여러 개인 경우에는 정점 번호가 작은 것을 먼저 방문하고, \n",
    "\n",
    "더 이상 방문할 수 있는 점이 없는 경우 종료한다. 정점 번호는 1번부터 N번까지이다."
   ]
  },
  {
   "cell_type": "code",
   "execution_count": 1,
   "metadata": {},
   "outputs": [
    {
     "name": "stdout",
     "output_type": "stream",
     "text": [
      "1 2 4 3 \n",
      "1 2 3 4 "
     ]
    }
   ],
   "source": [
    "# import sys\n",
    "# input = sys.stdin.readline\n",
    "\n",
    "N, M, V = map(int, input().split())\n",
    "\n",
    "graph = [[] for _ in range(N+1)]\n",
    "\n",
    "for _ in range(M):\n",
    "    a, b = map(int, input().split())\n",
    "    graph[a].append(b)\n",
    "    graph[b].append(a)\n",
    "\n",
    "for x in graph:\n",
    "    x.sort()\n",
    "\n",
    "visited = [False] * (N+1)\n",
    "\n",
    "result_dfs = []\n",
    "\n",
    "def dfs(V):\n",
    "    global result_dfs\n",
    "    if visited[V] == False:\n",
    "        visited[V] = True\n",
    "        result_dfs.append(V)\n",
    "        for x in graph[V]:\n",
    "            dfs(x)\n",
    "\n",
    "from collections import deque\n",
    "\n",
    "visited2 = [False] * (N+1)\n",
    "visited2[V] = True\n",
    "result_bfs = []\n",
    "\n",
    "def bfs(V):\n",
    "    global result_bfs\n",
    "    q = deque([V])\n",
    "    while q:\n",
    "        now = q.popleft()\n",
    "        result_bfs.append(now)\n",
    "        for x in graph[now]:\n",
    "            if visited2[x] == False:\n",
    "                visited2[x] = True\n",
    "                q.append(x)\n",
    "\n",
    "dfs(V)\n",
    "bfs(V)\n",
    "\n",
    "for x in result_dfs:\n",
    "    print(x, end=' ')\n",
    "print()\n",
    "for x in result_bfs:\n",
    "    print(x, end=' ')\n"
   ]
  },
  {
   "cell_type": "markdown",
   "metadata": {},
   "source": [
    "Today 2022.12.05\n",
    "\n",
    "\n",
    "## Title 촌수계산\n",
    "\n",
    "\n",
    "BOJ # 2644\n",
    "\n",
    "\n",
    "LV # Silver 2\n",
    "\n",
    "\n",
    "Tag # Graph Search"
   ]
  },
  {
   "cell_type": "markdown",
   "metadata": {},
   "source": [
    "우리 나라는 가족 혹은 친척들 사이의 관계를 촌수라는 단위로 표현하는 독특한 문화를 가지고 있다. \n",
    "\n",
    "이러한 촌수는 다음과 같은 방식으로 계산된다. 기본적으로 부모와 자식 사이를 1촌으로 정의하고 이로부터 사람들 간의 촌수를 계산한다. \n",
    "\n",
    "예를 들면 나와 아버지, 아버지와 할아버지는 각각 1촌으로 나와 할아버지는 2촌이 되고, 아버지 형제들과 할아버지는 1촌, 나와 아버지 형제들과는 3촌이 된다.\n",
    "\n",
    "여러 사람들에 대한 부모 자식들 간의 관계가 주어졌을 때, 주어진 두 사람의 촌수를 계산하는 프로그램을 작성하시오."
   ]
  },
  {
   "cell_type": "code",
   "execution_count": 8,
   "metadata": {},
   "outputs": [],
   "source": [
    "from collections import deque\n",
    "\n",
    "n = int(input())\n",
    "x, y =map(int, input().split())\n",
    "m = int(input())\n",
    "\n",
    "graph = [[] for _ in range(n+1)]\n",
    "\n",
    "for _ in range(m):\n",
    "    a, b = map(int, input().split())\n",
    "    graph[a].append(b)\n",
    "    graph[b].append(a)\n",
    "\n",
    "for P in graph:\n",
    "    P.sort()"
   ]
  },
  {
   "cell_type": "code",
   "execution_count": 9,
   "metadata": {},
   "outputs": [
    {
     "data": {
      "text/plain": [
       "[[], [2, 3], [1, 7, 8, 9], [1], [5, 6], [4], [4], [2], [2], [2]]"
      ]
     },
     "execution_count": 9,
     "metadata": {},
     "output_type": "execute_result"
    }
   ],
   "source": [
    "graph"
   ]
  },
  {
   "cell_type": "code",
   "execution_count": 59,
   "metadata": {},
   "outputs": [
    {
     "name": "stdout",
     "output_type": "stream",
     "text": [
      "3\n"
     ]
    }
   ],
   "source": [
    "def bfs(v):\n",
    "    q = deque([v])\n",
    "    while q:\n",
    "        now = q.popleft()\n",
    "        for k in graph[now]:\n",
    "            if check[k] == 0:\n",
    "                check[k] = check[now] + 1\n",
    "                q.append(k)\n",
    "\n",
    "        \n",
    "check = [0] * (n+1)\n",
    "bfs(x)\n",
    "print(check[y] if check[y] > 0 else -1)"
   ]
  },
  {
   "cell_type": "code",
   "execution_count": 54,
   "metadata": {},
   "outputs": [
    {
     "data": {
      "text/plain": [
       "[False, False, False, False, False, False, False, False, False, False]"
      ]
     },
     "execution_count": 54,
     "metadata": {},
     "output_type": "execute_result"
    }
   ],
   "source": [
    "visited"
   ]
  },
  {
   "cell_type": "code",
   "execution_count": 55,
   "metadata": {},
   "outputs": [
    {
     "data": {
      "text/plain": [
       "[[], [2, 3], [1, 7, 8, 9], [1], [5, 6], [4], [4], [2], [2], [2]]"
      ]
     },
     "execution_count": 55,
     "metadata": {},
     "output_type": "execute_result"
    }
   ],
   "source": [
    "graph"
   ]
  },
  {
   "cell_type": "code",
   "execution_count": 56,
   "metadata": {},
   "outputs": [
    {
     "data": {
      "text/plain": [
       "7"
      ]
     },
     "execution_count": 56,
     "metadata": {},
     "output_type": "execute_result"
    }
   ],
   "source": [
    "x"
   ]
  },
  {
   "cell_type": "code",
   "execution_count": 57,
   "metadata": {},
   "outputs": [
    {
     "data": {
      "text/plain": [
       "3"
      ]
     },
     "execution_count": 57,
     "metadata": {},
     "output_type": "execute_result"
    }
   ],
   "source": [
    "y"
   ]
  }
 ],
 "metadata": {
  "kernelspec": {
   "display_name": "Python 3.8.13 ('AUTOVC')",
   "language": "python",
   "name": "python3"
  },
  "language_info": {
   "codemirror_mode": {
    "name": "ipython",
    "version": 3
   },
   "file_extension": ".py",
   "mimetype": "text/x-python",
   "name": "python",
   "nbconvert_exporter": "python",
   "pygments_lexer": "ipython3",
   "version": "3.8.13"
  },
  "orig_nbformat": 4,
  "vscode": {
   "interpreter": {
    "hash": "83701494a915308841c98d90e1627ab32994947d5b938ec1dfda5c4da74c3582"
   }
  }
 },
 "nbformat": 4,
 "nbformat_minor": 2
}
