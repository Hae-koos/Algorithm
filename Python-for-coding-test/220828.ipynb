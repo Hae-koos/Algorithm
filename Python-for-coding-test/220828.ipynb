{
 "cells": [
  {
   "cell_type": "markdown",
   "metadata": {},
   "source": [
    "Today 2022.08.28\n",
    "\n",
    "\n",
    "## Title CLASS 1\n",
    "\n",
    "\n",
    "BOJ # 총 36문제 / 에센셜 16문제\n",
    "\n",
    "\n",
    "LV # ~ Bronze 2"
   ]
  },
  {
   "cell_type": "code",
   "execution_count": 1,
   "metadata": {},
   "outputs": [
    {
     "name": "stdout",
     "output_type": "stream",
     "text": [
      "3\n"
     ]
    }
   ],
   "source": [
    "print(sum(list(map(int, input().split()))))"
   ]
  },
  {
   "cell_type": "code",
   "execution_count": null,
   "metadata": {},
   "outputs": [],
   "source": [
    "a, b = map(int, input().split())\n",
    "print(a-b)"
   ]
  },
  {
   "cell_type": "code",
   "execution_count": 2,
   "metadata": {},
   "outputs": [
    {
     "name": "stdout",
     "output_type": "stream",
     "text": [
      "6\n"
     ]
    }
   ],
   "source": [
    "print(len(list(input().split())))"
   ]
  },
  {
   "cell_type": "code",
   "execution_count": 7,
   "metadata": {},
   "outputs": [
    {
     "name": "stdout",
     "output_type": "stream",
     "text": [
      "75.0\n"
     ]
    }
   ],
   "source": [
    "n = int(input())\n",
    "L = list(map(int, input().split()))\n",
    "M = max(L)\n",
    "ans = 0\n",
    "for x in L:\n",
    "    ans += x/M*100\n",
    "print(ans/len(L))"
   ]
  },
  {
   "cell_type": "code",
   "execution_count": 8,
   "metadata": {},
   "outputs": [
    {
     "name": "stdout",
     "output_type": "stream",
     "text": [
      "    *\n",
      "   **\n",
      "  ***\n",
      " ****\n",
      "*****\n"
     ]
    }
   ],
   "source": [
    "N = int(input())\n",
    "\n",
    "for i in range(1, N+1):\n",
    "    print(' '*(N-i) + '*'*(i))"
   ]
  },
  {
   "cell_type": "markdown",
   "metadata": {},
   "source": [
    "Today 2022.08.28\n",
    "\n",
    "\n",
    "## Title Class 3 (피보나치 함수)\n",
    "\n",
    "BOJ # 1003\n",
    "\n",
    "LV # Silver 3"
   ]
  },
  {
   "cell_type": "code",
   "execution_count": 15,
   "metadata": {},
   "outputs": [
    {
     "name": "stdout",
     "output_type": "stream",
     "text": [
      "5 8 \n",
      "10946 17711 \n"
     ]
    }
   ],
   "source": [
    "T = int(input())\n",
    "\n",
    "def fibonacci(n, l):\n",
    "    if n == 0:\n",
    "        l[0] += 1\n",
    "        return 0\n",
    "    elif n == 1:\n",
    "        l[1] += 1\n",
    "        return 1\n",
    "    else:\n",
    "        return fibonacci(n-1 ,l) + fibonacci(n-2, l)\n",
    "\n",
    "for _ in range(T):\n",
    "    l = [0,0]\n",
    "    fibonacci(int(input()), l)\n",
    "    for x in l:\n",
    "        print(x, end=' ')\n",
    "    print()"
   ]
  },
  {
   "cell_type": "markdown",
   "metadata": {},
   "source": [
    "시간초과\n",
    "\n",
    "fibonacci(2) = fibonacci(1) + fibonacci(0) 입니다.  \n",
    "그리고, fibonacci(3) = fibonacci(2) + fibonacci(1) 입니다.  \n",
    "그럼, fibonacci(3) 에서 0과 1의 호출 회수는, fibonacci(2)와 fibonacci(1)의 0과 1의 호출 회수를 각각 더하면 되겠죠?  \n",
    "이를 식으로 써본다면,입력 값 3에 대한 0 호출회수 = (입력 값 2에 대한 0 호출회수) + (입력 값 1에 대한 0 호출회수)  \n",
    "입력 값 3에 대한 1 호출회수 = (입력 값 2에 대한 1 호출회수) + (입력 값 1에 대한 1 호출회수)그럼 입력 값 4일때는 어떨까요?  \n",
    "fibonacci(4) = fibonacci(3) + fibonacci(2) 이므로,입력 값 4에 대한 0 호출회수 = (입력 값 3에 대한 0 호출회수) + (입력 값 2에 대한 0 호출회수)  \n",
    "입력 값 4에 대한 1 호출회수 = (입력 값 3에 대한 1 호출회수) + (입력 값 2에 대한 1 호출회수)입니다.\n"
   ]
  },
  {
   "cell_type": "code",
   "execution_count": 16,
   "metadata": {},
   "outputs": [
    {
     "name": "stdout",
     "output_type": "stream",
     "text": [
      "1 0\n",
      "0 1\n",
      "1 2\n"
     ]
    }
   ],
   "source": [
    "a = int(input())\n",
    "\n",
    "zero = [1,0,1]\n",
    "one = [0,1,1]\n",
    "\n",
    "def cal(num):\n",
    "    length = len(zero)\n",
    "    if length <= num:\n",
    "        for i in range(length, num+1):\n",
    "            zero.append(zero[i-1] + zero[i-2])\n",
    "            one.append(one[i-1]+one[i-2])\n",
    "    print(\"%d %d\"%(zero[num],one[num]))\n",
    "\n",
    "for i in range(a):\n",
    "    k = int(input())\n",
    "    cal(k)"
   ]
  },
  {
   "cell_type": "markdown",
   "metadata": {},
   "source": [
    "Today 2022.08.28\n",
    "\n",
    "\n",
    "## Title Class 3 (유기농배추 Retry)\n",
    "\n",
    "\n",
    "BOJ # 1012\n",
    "\n",
    "\n",
    "LV # Silver 2"
   ]
  },
  {
   "cell_type": "code",
   "execution_count": null,
   "metadata": {},
   "outputs": [],
   "source": [
    "T = int(input())\n",
    "for _ in range(T):\n",
    "    M, N, K = map(int, input().split())\n",
    "    graph = [[0] * M for _ in range(N)]\n",
    "    for i in range(K):\n",
    "        a, b = map(int, input().split())\n",
    "        graph[b][a] = 1\n",
    "    from collections import deque\n",
    "\n",
    "    dx = [1,-1,0,0]\n",
    "    dy = [0,0,1,-1]\n",
    "\n",
    "    count = 0\n",
    "\n",
    "    def bfs(x,y):\n",
    "        global count\n",
    "        q = deque([(x,y)])\n",
    "        while q:\n",
    "            print(q)\n",
    "            x, y = q.popleft()\n",
    "            for i in range(4):\n",
    "                nx = x + dx[i]\n",
    "                ny = y + dy[i]\n",
    "                if 0 <= nx < N and 0 <= ny < M:\n",
    "                    if graph[nx][ny] == 1:\n",
    "                        graph[nx][ny] = 0\n",
    "                        q.append([nx,ny])\n",
    "                        \n",
    "    for x in range(N):\n",
    "        for y in range(M):\n",
    "            if graph[x][y] == 1:\n",
    "                bfs(x,y)\n",
    "                count += 1\n",
    "    print(count)\n",
    "    "
   ]
  },
  {
   "cell_type": "code",
   "execution_count": 17,
   "metadata": {},
   "outputs": [
    {
     "data": {
      "text/plain": [
       "[[1, 1, 0, 0, 0, 0, 0, 0, 0, 0],\n",
       " [0, 1, 0, 0, 0, 0, 0, 0, 0, 0],\n",
       " [0, 0, 0, 0, 1, 0, 0, 0, 0, 0],\n",
       " [0, 0, 0, 0, 1, 0, 0, 0, 0, 0],\n",
       " [0, 0, 1, 1, 0, 0, 0, 1, 1, 1],\n",
       " [0, 0, 0, 0, 1, 0, 0, 1, 1, 1],\n",
       " [0, 0, 0, 0, 0, 0, 0, 1, 1, 1],\n",
       " [0, 0, 0, 0, 0, 0, 0, 0, 0, 0]]"
      ]
     },
     "execution_count": 17,
     "metadata": {},
     "output_type": "execute_result"
    }
   ],
   "source": [
    "M, N, K = map(int, input().split())\n",
    "graph = [[0] * M for _ in range(N)]\n",
    "for i in range(K):\n",
    "    a, b = map(int, input().split())\n",
    "    graph[b][a] = 1\n",
    "graph"
   ]
  },
  {
   "cell_type": "code",
   "execution_count": 37,
   "metadata": {},
   "outputs": [],
   "source": [
    "graph = [[1, 1, 0, 0, 0, 0, 0, 0, 0, 0],\n",
    " [0, 1, 0, 0, 0, 0, 0, 0, 0, 0],\n",
    " [0, 0, 0, 0, 1, 0, 0, 0, 0, 0],\n",
    " [0, 0, 0, 0, 1, 0, 0, 0, 0, 0],\n",
    " [0, 0, 1, 1, 0, 0, 0, 1, 1, 1],\n",
    " [0, 0, 0, 0, 1, 0, 0, 1, 1, 1],\n",
    " [0, 0, 0, 0, 0, 0, 0, 1, 1, 1],\n",
    " [0, 0, 0, 0, 0, 0, 0, 0, 0, 0]]"
   ]
  },
  {
   "cell_type": "code",
   "execution_count": 38,
   "metadata": {},
   "outputs": [
    {
     "name": "stdout",
     "output_type": "stream",
     "text": [
      "deque([(0, 0)])\n",
      "deque([[0, 1]])\n",
      "deque([[1, 1], [0, 0]])\n",
      "deque([[0, 0]])\n",
      "deque([(2, 4)])\n",
      "deque([[3, 4]])\n",
      "deque([[2, 4]])\n",
      "deque([(4, 2)])\n",
      "deque([[4, 3]])\n",
      "deque([[4, 2]])\n",
      "deque([(4, 7)])\n",
      "deque([[5, 7], [4, 8]])\n",
      "deque([[4, 8], [6, 7], [4, 7], [5, 8]])\n",
      "deque([[6, 7], [4, 7], [5, 8], [4, 9]])\n",
      "deque([[4, 7], [5, 8], [4, 9], [6, 8]])\n",
      "deque([[5, 8], [4, 9], [6, 8]])\n",
      "deque([[4, 9], [6, 8], [5, 9]])\n",
      "deque([[6, 8], [5, 9]])\n",
      "deque([[5, 9], [6, 9]])\n",
      "deque([[6, 9]])\n",
      "deque([(5, 4)])\n",
      "5\n"
     ]
    }
   ],
   "source": [
    "from collections import deque\n",
    "\n",
    "dx = [1,-1,0,0]\n",
    "dy = [0,0,1,-1]\n",
    "\n",
    "count = 0\n",
    "\n",
    "def bfs(x,y):\n",
    "    global count\n",
    "    q = deque([(x,y)])\n",
    "    while q:\n",
    "        print(q)\n",
    "        x, y = q.popleft()\n",
    "        for i in range(4):\n",
    "            nx = x + dx[i]\n",
    "            ny = y + dy[i]\n",
    "            if 0 <= nx < N and 0 <= ny < M:\n",
    "                if graph[nx][ny] == 1:\n",
    "                    graph[nx][ny] = 0\n",
    "                    q.append([nx,ny])\n",
    "                    \n",
    "for x in range(N):\n",
    "    for y in range(M):\n",
    "        if graph[x][y] == 1:\n",
    "            bfs(x,y)\n",
    "            count += 1\n",
    "print(count)\n",
    "\n"
   ]
  },
  {
   "cell_type": "markdown",
   "metadata": {},
   "source": [
    "Today 2022.08.29\n",
    "\n",
    "\n",
    "## Title Class 3 (1로 만들기)\n",
    "\n",
    "\n",
    "BOJ # 1463\n",
    "\n",
    "\n",
    "LV # Silver 3"
   ]
  },
  {
   "cell_type": "code",
   "execution_count": 51,
   "metadata": {},
   "outputs": [
    {
     "name": "stdout",
     "output_type": "stream",
     "text": [
      "12\n"
     ]
    }
   ],
   "source": [
    "n = int(input())\n",
    "count = 0\n",
    "while n != 1:\n",
    "    # print(n, count)\n",
    "    if n % 3 == 0:\n",
    "        n = n/3\n",
    "        count += 1\n",
    "    else:\n",
    "        n -= 1\n",
    "        count += 1\n",
    "print(count)"
   ]
  },
  {
   "cell_type": "code",
   "execution_count": null,
   "metadata": {},
   "outputs": [],
   "source": []
  },
  {
   "cell_type": "code",
   "execution_count": null,
   "metadata": {},
   "outputs": [],
   "source": []
  },
  {
   "cell_type": "code",
   "execution_count": null,
   "metadata": {},
   "outputs": [],
   "source": []
  },
  {
   "cell_type": "code",
   "execution_count": null,
   "metadata": {},
   "outputs": [],
   "source": []
  },
  {
   "cell_type": "code",
   "execution_count": null,
   "metadata": {},
   "outputs": [],
   "source": []
  },
  {
   "cell_type": "code",
   "execution_count": null,
   "metadata": {},
   "outputs": [],
   "source": []
  },
  {
   "cell_type": "code",
   "execution_count": null,
   "metadata": {},
   "outputs": [],
   "source": []
  },
  {
   "cell_type": "code",
   "execution_count": null,
   "metadata": {},
   "outputs": [],
   "source": []
  },
  {
   "cell_type": "code",
   "execution_count": null,
   "metadata": {},
   "outputs": [],
   "source": []
  },
  {
   "cell_type": "code",
   "execution_count": null,
   "metadata": {},
   "outputs": [],
   "source": []
  },
  {
   "cell_type": "code",
   "execution_count": null,
   "metadata": {},
   "outputs": [],
   "source": []
  },
  {
   "cell_type": "code",
   "execution_count": null,
   "metadata": {},
   "outputs": [],
   "source": []
  },
  {
   "cell_type": "code",
   "execution_count": null,
   "metadata": {},
   "outputs": [],
   "source": []
  },
  {
   "cell_type": "code",
   "execution_count": null,
   "metadata": {},
   "outputs": [],
   "source": []
  },
  {
   "cell_type": "code",
   "execution_count": null,
   "metadata": {},
   "outputs": [],
   "source": []
  },
  {
   "cell_type": "code",
   "execution_count": null,
   "metadata": {},
   "outputs": [],
   "source": []
  },
  {
   "cell_type": "code",
   "execution_count": null,
   "metadata": {},
   "outputs": [],
   "source": []
  },
  {
   "cell_type": "code",
   "execution_count": null,
   "metadata": {},
   "outputs": [],
   "source": []
  },
  {
   "cell_type": "code",
   "execution_count": null,
   "metadata": {},
   "outputs": [],
   "source": []
  },
  {
   "cell_type": "code",
   "execution_count": null,
   "metadata": {},
   "outputs": [],
   "source": []
  },
  {
   "cell_type": "code",
   "execution_count": null,
   "metadata": {},
   "outputs": [],
   "source": []
  }
 ],
 "metadata": {
  "kernelspec": {
   "display_name": "Python 3.8.13 ('AUTOVC')",
   "language": "python",
   "name": "python3"
  },
  "language_info": {
   "codemirror_mode": {
    "name": "ipython",
    "version": 3
   },
   "file_extension": ".py",
   "mimetype": "text/x-python",
   "name": "python",
   "nbconvert_exporter": "python",
   "pygments_lexer": "ipython3",
   "version": "3.8.13"
  },
  "orig_nbformat": 4,
  "vscode": {
   "interpreter": {
    "hash": "83701494a915308841c98d90e1627ab32994947d5b938ec1dfda5c4da74c3582"
   }
  }
 },
 "nbformat": 4,
 "nbformat_minor": 2
}
