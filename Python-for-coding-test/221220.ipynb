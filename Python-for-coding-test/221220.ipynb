{
 "cells": [
  {
   "attachments": {},
   "cell_type": "markdown",
   "metadata": {},
   "source": [
    "Today 2022.12.20\n",
    "\n",
    "\n",
    "## Title 피보나치 비스무리한 수열\n",
    "\n",
    "\n",
    "BOJ # 14495\n",
    "\n",
    "\n",
    "LV # Silver 4\n",
    "\n",
    "\n",
    "Tag # Implementation"
   ]
  },
  {
   "attachments": {},
   "cell_type": "markdown",
   "metadata": {},
   "source": [
    "피보나치 비스무리한 수열은 f(n) = f(n-1) + f(n-3)인 수열이다. f(1) = f(2) = f(3) = 1이며 피보나치 비스무리한 수열을 나열하면 다음과 같다.\n",
    "\n",
    "1, 1, 1, 2, 3, 4, 6, 9, 13, 19, ...\n",
    "\n",
    "자연수 n을 입력받아 n번째 피보나치 비스무리한 수열을 구해보자!"
   ]
  },
  {
   "cell_type": "code",
   "execution_count": 11,
   "metadata": {},
   "outputs": [
    {
     "name": "stdout",
     "output_type": "stream",
     "text": [
      "19\n"
     ]
    }
   ],
   "source": [
    "x = int(input())\n",
    "l = [1] * 120\n",
    "for i in range(x+2):\n",
    "    if i <= 3:\n",
    "        continue\n",
    "    else:\n",
    "        l[i] = l[i-1] + l[i-3]\n",
    "print(l[x])"
   ]
  },
  {
   "attachments": {},
   "cell_type": "markdown",
   "metadata": {},
   "source": [
    "Today 2022.12.20\n",
    "\n",
    "\n",
    "## Title 트리플 소트\n",
    "\n",
    "\n",
    "BOJ # 20309\n",
    "\n",
    "\n",
    "LV # Silver 3\n",
    "\n",
    "\n",
    "Tag # Sorting"
   ]
  },
  {
   "attachments": {},
   "cell_type": "markdown",
   "metadata": {},
   "source": [
    "알고리즘 수업을 듣고 감명받은 윤이는 자신만의 정렬 알고리즘을 만들기로 했다. 윤이가 만든 정렬 알고리즘 \"트리플 소트\"는 다음과 같이 동작한다.\n",
    "\n",
    "1. 배열에서 연속한 위치에 있는 세 원소를 임의로 고른다.\n",
    "\n",
    "2. 세 원소의 순서를 뒤집는다. 예를 들어 세 원소가 순서대로 $a, b, c$이면 뒤집은 뒤에는 $c,b,a$가 된다.\n",
    "\n",
    "3. 배열이 오름차순으로 정렬될 때까지 위 과정을 반복한다.\n",
    "\n",
    "하지만 윤이는 트리플 소트로 모든 배열을 정렬할 수 없다는 사실을 깨닫고 실망했다. $1$부터 $N$까지의 정수가 한 번씩 등장하는 배열이 주어졌을 때, 트리플 소트로 정렬할 수 있는지 판별하는 프로그램을 작성하시오."
   ]
  },
  {
   "cell_type": "code",
   "execution_count": null,
   "metadata": {},
   "outputs": [],
   "source": [
    "N = int(input())\n",
    "li = list(map(int, input().split()))\n",
    "ok = 1\n",
    "for i in range(N):\n",
    "    if i%2:\n",
    "        if li[i]%2:\n",
    "            ok = 0\n",
    "print(\"YES\" if ok else \"NO\")"
   ]
  }
 ],
 "metadata": {
  "kernelspec": {
   "display_name": "AUTOVC",
   "language": "python",
   "name": "python3"
  },
  "language_info": {
   "codemirror_mode": {
    "name": "ipython",
    "version": 3
   },
   "file_extension": ".py",
   "mimetype": "text/x-python",
   "name": "python",
   "nbconvert_exporter": "python",
   "pygments_lexer": "ipython3",
   "version": "3.8.13"
  },
  "orig_nbformat": 4,
  "vscode": {
   "interpreter": {
    "hash": "83701494a915308841c98d90e1627ab32994947d5b938ec1dfda5c4da74c3582"
   }
  }
 },
 "nbformat": 4,
 "nbformat_minor": 2
}
