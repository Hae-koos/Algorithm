{
 "cells": [
  {
   "cell_type": "code",
   "execution_count": 1,
   "metadata": {},
   "outputs": [],
   "source": [
    "import numpy as np\n",
    "import pandas as pd\n",
    "import random\n",
    "import time"
   ]
  },
  {
   "cell_type": "markdown",
   "metadata": {},
   "source": [
    "##### ZOAC 2"
   ]
  },
  {
   "cell_type": "markdown",
   "metadata": {},
   "source": [
    "백준 18238"
   ]
  },
  {
   "cell_type": "markdown",
   "metadata": {},
   "source": [
    "- 그림과 같은 원판에 문자들이 순서대로 적혀있다. 처음 순간에 화살표는 'A'를 가리키고 있다.\n",
    "- 원판은 왼쪽 또는 오른쪽으로 돌릴 수 있다. 원판을 한 칸 돌리는 데에는 1의 시간이 소요된다.\n",
    "- 화살표가 가리키고 있는 문자를 출력할 수 있다. 문자를 출력하는 데에 걸리는 시간은 없다."
   ]
  },
  {
   "cell_type": "markdown",
   "metadata": {},
   "source": [
    " 해당 문자열을 앞에서부터 차례대로 최대한 빠르게 출력하려고 한다.\n",
    "\n",
    " 첫 번째 줄에 알파벳 대문자로 구성된 문자열이 주어진다. 문자열의 길이는 최대 100자이다. 빈 문자열은 주어지지 않는다.\n",
    "\n",
    " 입력으로 주어진 문자열을 출력하는 데에 걸리는 시간의 최솟값을 출력한다."
   ]
  },
  {
   "cell_type": "markdown",
   "metadata": {},
   "source": [
    "EXAMPLE\n",
    "\n",
    "ZOAC  ->  26\n",
    "\n",
    "LBOLVUEEPMOIENMG  ->  100"
   ]
  },
  {
   "cell_type": "code",
   "execution_count": 93,
   "metadata": {},
   "outputs": [
    {
     "name": "stdout",
     "output_type": "stream",
     "text": [
      "65\n",
      "66\n"
     ]
    }
   ],
   "source": [
    "print(ord('A'))\n",
    "print(ord('B'))"
   ]
  },
  {
   "cell_type": "code",
   "execution_count": 99,
   "metadata": {},
   "outputs": [
    {
     "name": "stdout",
     "output_type": "stream",
     "text": [
      "15 11\n",
      "10 16\n",
      "13 13\n",
      "3 23\n",
      "16 10\n",
      "1 25\n",
      "16 10\n",
      "0 0\n",
      "15 11\n",
      "3 23\n",
      "24 2\n",
      "6 20\n",
      "4 22\n",
      "17 9\n",
      "1 25\n",
      "6 20\n",
      "100\n"
     ]
    }
   ],
   "source": [
    "data = str(input())\n",
    "\n",
    "start = 'A'\n",
    "result = 0\n",
    "\n",
    "for i in data :\n",
    "  left_value = ord(start) - ord(i)\n",
    "  right_value = ord(i) - ord(start)\n",
    "  if left_value < 0 :\n",
    "    left_value += 26\n",
    "  elif right_value < 0 :\n",
    "    right_value += 26\n",
    "  #print(left_value, right_value)\n",
    "  result += min(left_value, right_value)\n",
    "  start = i\n",
    "\n",
    "print(result)"
   ]
  },
  {
   "cell_type": "markdown",
   "metadata": {},
   "source": [
    "실패한 친구들 ord를 알자.."
   ]
  },
  {
   "cell_type": "code",
   "execution_count": 88,
   "metadata": {},
   "outputs": [
    {
     "name": "stdout",
     "output_type": "stream",
     "text": [
      "[0, 1, 2, 3, 4, 5, 6, 7, 8, 9, 10, 11, 12, 13, 14, 15, 16, 17, 18, 19, 20, 21, 22, 23, 24, 25]\n"
     ]
    }
   ],
   "source": [
    "# score_list = [x for x in range(26)]\n",
    "# alpha_list = ['A','B','C','D','E','F','G','H','I','J','K','L','M','N','O','P','Q','R','S','T','U','V','W','X','Y','Z']\n",
    "# # print(len(score_list))\n",
    "# print(score_list)"
   ]
  },
  {
   "cell_type": "code",
   "execution_count": 89,
   "metadata": {},
   "outputs": [
    {
     "name": "stdout",
     "output_type": "stream",
     "text": [
      "25\n",
      "25\n",
      "1\n",
      "0\n",
      "\n",
      "14\n",
      "15\n",
      "11\n",
      "1\n",
      "\n",
      "0\n",
      "12\n",
      "12\n",
      "12\n",
      "\n",
      "2\n",
      "26\n"
     ]
    },
    {
     "ename": "IndexError",
     "evalue": "list index out of range",
     "output_type": "error",
     "traceback": [
      "\u001b[0;31m---------------------------------------------------------------------------\u001b[0m",
      "\u001b[0;31mIndexError\u001b[0m                                Traceback (most recent call last)",
      "\u001b[1;32m/Users/hae_koos/VScode/Algorithm/github/220714.ipynb Cell 8\u001b[0m in \u001b[0;36m<cell line: 4>\u001b[0;34m()\u001b[0m\n\u001b[1;32m      <a href='vscode-notebook-cell:/Users/hae_koos/VScode/Algorithm/github/220714.ipynb#ch0000019?line=4'>5</a>\u001b[0m \u001b[39mprint\u001b[39m(alpha_list\u001b[39m.\u001b[39mindex(x))\n\u001b[1;32m      <a href='vscode-notebook-cell:/Users/hae_koos/VScode/Algorithm/github/220714.ipynb#ch0000019?line=5'>6</a>\u001b[0m \u001b[39mprint\u001b[39m(alpha_list\u001b[39m.\u001b[39mindex(x) \u001b[39m+\u001b[39m control)\n\u001b[0;32m----> <a href='vscode-notebook-cell:/Users/hae_koos/VScode/Algorithm/github/220714.ipynb#ch0000019?line=6'>7</a>\u001b[0m result \u001b[39m+\u001b[39m\u001b[39m=\u001b[39m \u001b[39mmin\u001b[39m(score_list[alpha_list\u001b[39m.\u001b[39;49mindex(x) \u001b[39m+\u001b[39;49m control], score_list[\u001b[39m26\u001b[39m \u001b[39m-\u001b[39m (alpha_list\u001b[39m.\u001b[39mindex(x) \u001b[39m+\u001b[39m control)])\n\u001b[1;32m      <a href='vscode-notebook-cell:/Users/hae_koos/VScode/Algorithm/github/220714.ipynb#ch0000019?line=7'>8</a>\u001b[0m \u001b[39mprint\u001b[39m(\u001b[39mmin\u001b[39m(score_list[alpha_list\u001b[39m.\u001b[39mindex(x) \u001b[39m+\u001b[39m control], score_list[\u001b[39m26\u001b[39m \u001b[39m-\u001b[39m (alpha_list\u001b[39m.\u001b[39mindex(x) \u001b[39m+\u001b[39m control)]))\n\u001b[1;32m      <a href='vscode-notebook-cell:/Users/hae_koos/VScode/Algorithm/github/220714.ipynb#ch0000019?line=8'>9</a>\u001b[0m \u001b[39mprint\u001b[39m(control)\n",
      "\u001b[0;31mIndexError\u001b[0m: list index out of range"
     ]
    }
   ],
   "source": [
    "# string = 'ZOAC'\n",
    "# result = 0\n",
    "# control = 0\n",
    "# for x in string:\n",
    "#     print(alpha_list.index(x))\n",
    "#     print(alpha_list.index(x) + control)\n",
    "#     result += min(score_list[alpha_list.index(x) + control], score_list[26 - (alpha_list.index(x) + control)])\n",
    "#     print(min(score_list[alpha_list.index(x) + control], score_list[26 - (alpha_list.index(x) + control)]))\n",
    "#     print(control)\n",
    "#     print()\n",
    "#     control += min(score_list[alpha_list.index(x) + control], score_list[26 - (alpha_list.index(x) + control)])\n",
    "\n",
    "# print(result)"
   ]
  },
  {
   "cell_type": "markdown",
   "metadata": {},
   "source": [
    "##### 피로도 "
   ]
  },
  {
   "cell_type": "markdown",
   "metadata": {},
   "source": [
    "백준 22864"
   ]
  },
  {
   "cell_type": "markdown",
   "metadata": {},
   "source": [
    "- 하루 한 시간 단위로 일을 하거나 일을 쉬어도 된다. 하루에 한 시간 일하면 피로도는 A 만큼 쌓이고 일은 B 만큼 처리할 수 있다.\n",
    "- 만약 한 시간을 쉰다면 피로도는 C 만큼 줄어든다.\n",
    "- 단, 피로도가 음수로 내려가면 0으로 바뀐다.\n",
    "- 피로도를 최대한 M을 넘지 않게 일을 하려고 한다.\n",
    "- 하루에 최대 얼마나 일을 할 수 있는가"
   ]
  },
  {
   "cell_type": "markdown",
   "metadata": {},
   "source": [
    "- 첫 번째 줄에 정수 A, B, C, M이 공백으로 구분되어 주어지며,\n",
    "- 맨 처음 피로도는 0이다."
   ]
  },
  {
   "cell_type": "markdown",
   "metadata": {},
   "source": [
    "EXAMPLE\n",
    "\n",
    "5 3 2 10   ->   24\n",
    "\n",
    "10 5 1 10   ->   15\n",
    "\n",
    "11 5 1 10   ->   0"
   ]
  },
  {
   "cell_type": "code",
   "execution_count": 114,
   "metadata": {},
   "outputs": [
    {
     "name": "stdout",
     "output_type": "stream",
     "text": [
      "0\n"
     ]
    }
   ],
   "source": [
    "A, B, C, M = map(int, input().split())\n",
    "\n",
    "net_work = 0\n",
    "net_tired = 0\n",
    "\n",
    "def work_an_hour(net_work, net_tired, A, B, C, M):\n",
    "    net_work += B\n",
    "    net_tired += A\n",
    "    if net_tired > M:\n",
    "        assert False\n",
    "    return net_work, net_tired\n",
    "\n",
    "def rest_an_hour(net_work, net_tired, A, B, C, M):\n",
    "    net_work = net_work\n",
    "    net_tired -= C\n",
    "    if net_tired < 0:\n",
    "        net_tired = 0\n",
    "    return net_work, net_tired\n",
    "\n",
    "for _ in range(24):\n",
    "    try:\n",
    "        net_work, net_tired = work_an_hour(net_work, net_tired, A, B, C, M)\n",
    "    except:\n",
    "        net_work, net_tired = rest_an_hour(net_work, net_tired, A, B, C, M)\n",
    "\n",
    "print(net_work)"
   ]
  }
 ],
 "metadata": {
  "kernelspec": {
   "display_name": "Python 3.8.13 ('algorithm')",
   "language": "python",
   "name": "python3"
  },
  "language_info": {
   "codemirror_mode": {
    "name": "ipython",
    "version": 3
   },
   "file_extension": ".py",
   "mimetype": "text/x-python",
   "name": "python",
   "nbconvert_exporter": "python",
   "pygments_lexer": "ipython3",
   "version": "3.8.13"
  },
  "orig_nbformat": 4,
  "vscode": {
   "interpreter": {
    "hash": "ee431ac274e33366c10c3ac30cd4fb33ff3ed0dd6a8cc3f05073bd47291a9c12"
   }
  }
 },
 "nbformat": 4,
 "nbformat_minor": 2
}
