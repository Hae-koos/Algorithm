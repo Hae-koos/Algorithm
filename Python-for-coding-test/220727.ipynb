{
 "cells": [
  {
   "cell_type": "code",
   "execution_count": 1,
   "metadata": {},
   "outputs": [],
   "source": [
    "import numpy as np\n",
    "import pandas as pd\n",
    "import random\n",
    "import time"
   ]
  },
  {
   "cell_type": "markdown",
   "metadata": {},
   "source": [
    "##### 숨바꼭질 (Graph Search) Retry"
   ]
  },
  {
   "cell_type": "markdown",
   "metadata": {},
   "source": [
    "백준 1697"
   ]
  },
  {
   "cell_type": "markdown",
   "metadata": {},
   "source": [
    "- 수빈이는 현재 점 N (0 <= N <= 100,000), 동생은 점 K (0 <= K <= 100,000)에 있다.\n",
    "- 수빈이는 걷거나 순간이동을 할 수 있다. 수빈이 위치가 X 일 때 걸으며 1초 후에 X-1 혹은 X+1 / 순간이동 하면 2*X로 이동한다\n",
    "- 수빈이가 동생을 찾을 수 있는 가장 빠른 시간이 몇 초 후인지 구해라"
   ]
  },
  {
   "cell_type": "markdown",
   "metadata": {},
   "source": [
    "그래프 탐색 문제인지 감 절대 안 올 듯... 잡자..!\n",
    "\n",
    "모든 좌표를 0으로 초기화 한 리스트를 만들고 BFS를 통해 특정 위치에 방문하면 방문한 시간을 표시하는 방법으로 접근"
   ]
  },
  {
   "cell_type": "markdown",
   "metadata": {},
   "source": [
    "접근법\n",
    "\n",
    "1. 최단 시간을 찾는 것이기에 DFS, BFS를 생각해낸다.\n",
    "2. 기존 위치에서 이동하는 위치는 X - 1 / X + 1 / 2X 총 3가지가 있다. 노드가 3개로 펼쳐져 나갈 수 있다."
   ]
  },
  {
   "cell_type": "code",
   "execution_count": 9,
   "metadata": {},
   "outputs": [
    {
     "name": "stdout",
     "output_type": "stream",
     "text": [
      "4\n"
     ]
    }
   ],
   "source": [
    "from collections import deque\n",
    "\n",
    "def bfs(v):\n",
    "    q = deque([v])\n",
    "    while q:\n",
    "        v = q.popleft()\n",
    "        if v == k:\n",
    "            return array[v]\n",
    "        for next_v in (v-1, v+1, 2*v):\n",
    "            if 0 <= next_v < MAX and not array[next_v]:\n",
    "                array[next_v] = array[v] + 1\n",
    "                q.append(next_v)\n",
    "                # print(q)\n",
    "\n",
    "MAX = 100001\n",
    "n, k = map(int, input().split())\n",
    "array = [0] * (MAX)\n",
    "\n",
    "print(bfs(n))"
   ]
  },
  {
   "cell_type": "markdown",
   "metadata": {},
   "source": [
    "##### 연결 요소의 개수 (Graph Search)"
   ]
  },
  {
   "cell_type": "markdown",
   "metadata": {},
   "source": [
    "백준 11724"
   ]
  },
  {
   "cell_type": "markdown",
   "metadata": {},
   "source": [
    "방향 없는 그래프 주어졌을 때, 연결 요소의 개수를 구하는 프로그램 작성하기\n",
    "\n",
    "첫째 줄에 정점의 개수 N과 간선의 개수 M이 주어진다.  \n",
    "둘째 줄부터 M개의 줄에 간선의 양 끝점이 주어진다."
   ]
  },
  {
   "cell_type": "markdown",
   "metadata": {},
   "source": [
    "###################################################################################  \n",
    "간선을 따라 연결된 노드들을 다 돌고 dfs bfs를 빠져나올 때마다 카운트를 1씩 증가시켜서 총 몇번 도는지 체크  \n",
    "\n",
    "예를 들어) 예제 1과 같은 경우 1번 노드부터 dfs를 돈다고 했을 때 1,2,5 노드를 방문하게 되고   \n",
    "visited[1],visited[2],visited[5] 값들을 True로 바꿔주고 dfs를 빠져나오게 된다.  \n",
    "그렇게 빠져나왔을 때 count값을 +1 해주고 이제 이 후 2,5 노드 에서는 dfs를 시작할 일이 없다.  \n",
    "따라서 3노드 에서 dfs를 돈다고 했을 때  3,4,6 노드를 방문하게 되고 똑같이 visited[3],visited[4],visited[6] 값을 True로 바꿔주고 dfs를 빠져나온다.   \n",
    "똑같이 Count 값도 +1 하게 되어 2가 된다.  \n",
    "이제 visited[1] ~ visited[6] 까지 모두 True가 되었기 때문에 dfs를 돌 필요가 없으므로 정답은 2가 된다. \n",
    "###################################################################################\n",
    " \n",
    "\n"
   ]
  },
  {
   "cell_type": "code",
   "execution_count": 35,
   "metadata": {},
   "outputs": [
    {
     "name": "stdout",
     "output_type": "stream",
     "text": [
      "[[], [2, 5], [1, 5], [4], [3, 6], [2, 1], [4]]\n",
      "below\n",
      "[False, False, False, False, False, False, False] 0\n",
      "2 [False, True, False, False, False, False, False]\n",
      "5 [False, True, True, False, False, False, False]\n",
      "below\n",
      "[False, True, True, False, False, True, False] 1\n",
      "4 [False, True, True, True, False, True, False]\n",
      "6 [False, True, True, True, True, True, False]\n"
     ]
    }
   ],
   "source": [
    "import sys\n",
    "sys.setrecursionlimit(5000)\n",
    "# input = sys.stdin.readline\n",
    "\n",
    "def dfs(start, depth):\n",
    "    visited[start] = True\n",
    "    for i in graph[start]:\n",
    "        if not visited[i]:\n",
    "            print(i, visited)\n",
    "            dfs(i, depth+1)\n",
    "\n",
    "N, M = map(int, input().split())\n",
    "graph = [[] for _ in range(N + 1)]\n",
    "\n",
    "for _ in range(M):\n",
    "    a, b = map(int, input().split())\n",
    "    graph[a].append(b)\n",
    "    graph[b].append(a)\n",
    "\n",
    "print(graph)\n",
    "\n",
    "visited = [False] * (N+1)   \n",
    "count = 0\n",
    "\n",
    "for i in range(1, N+1):\n",
    "    if not visited[i]:\n",
    "        if not graph[i]:\n",
    "            print('upper')\n",
    "            print(visited, count)\n",
    "            count += 1\n",
    "            visited[i] = True\n",
    "\n",
    "        else:\n",
    "            print('below')\n",
    "            print(visited, count)\n",
    "            dfs(i, 0)\n",
    "            count += 1"
   ]
  },
  {
   "cell_type": "markdown",
   "metadata": {},
   "source": [
    "##### 바이러스 (Graph Search) RETRY"
   ]
  },
  {
   "cell_type": "code",
   "execution_count": 36,
   "metadata": {},
   "outputs": [
    {
     "data": {
      "text/plain": [
       "[[], [2, 5], [1, 3, 5], [2], [7], [1, 2, 6], [5], [4]]"
      ]
     },
     "execution_count": 36,
     "metadata": {},
     "output_type": "execute_result"
    }
   ],
   "source": [
    "import sys\n",
    "sys.setrecursionlimit(5000)\n",
    "# input = sys.stdin.readline\n",
    "\n",
    "N = int(input())\n",
    "P = int(input())\n",
    "\n",
    "graph = [[] for _ in range(N+1)]\n",
    "\n",
    "for _ in range(P):\n",
    "    a, b = map(int, input().split())\n",
    "    graph[a].append(b)\n",
    "    graph[b].append(a)\n",
    "\n",
    "visited = [False] * (N+1)\n",
    "\n",
    "def dfs(v, depth):\n",
    "    global count\n",
    "    count += 1\n",
    "    visited[v] = True\n",
    "    for i in graph[v]:\n",
    "        if not visited[i]:\n",
    "            dfs(i, depth+1)\n",
    "\n",
    "count = 0\n",
    "dfs(1,0)\n",
    "print(count-1)\n",
    "    "
   ]
  },
  {
   "cell_type": "markdown",
   "metadata": {},
   "source": [
    "##### 유기농배추 (Graph Search) RETRY"
   ]
  },
  {
   "cell_type": "code",
   "execution_count": 64,
   "metadata": {},
   "outputs": [
    {
     "data": {
      "text/plain": [
       "[[0, 0, 0, 0, 1], [0, 0, 0, 0, 0], [1, 1, 1, 1, 1]]"
      ]
     },
     "execution_count": 64,
     "metadata": {},
     "output_type": "execute_result"
    }
   ],
   "source": [
    "import sys\n",
    "from collections import deque\n",
    "\n",
    "sys.setrecursionlimit(5000)\n",
    "# input = sys.stdin.readline\n",
    "\n",
    "T = int(input())\n",
    "\n",
    "for _ in range(T):\n",
    "    M, N, K = map(int, input().split())\n",
    "    graph = [[0]*M for _ in range(N)]\n",
    "    for _ in range(K):\n",
    "        x, y = map(int, input().split())\n",
    "        graph[y][x] = 1\n",
    "\n",
    "graph"
   ]
  },
  {
   "cell_type": "code",
   "execution_count": 60,
   "metadata": {},
   "outputs": [],
   "source": [
    "graph = [[1, 1, 0, 0, 0, 0, 0, 0, 0, 0],\n",
    " [0, 1, 0, 0, 0, 0, 0, 0, 0, 0],\n",
    " [0, 0, 0, 0, 1, 0, 0, 0, 0, 0],\n",
    " [0, 0, 0, 0, 1, 0, 0, 0, 0, 0],\n",
    " [0, 0, 1, 1, 0, 0, 0, 1, 1, 1],\n",
    " [0, 0, 0, 0, 1, 0, 0, 1, 1, 1],\n",
    " [0, 0, 0, 0, 0, 0, 0, 1, 1, 1],\n",
    " [0, 0, 0, 0, 0, 0, 0, 0, 0, 0]]"
   ]
  },
  {
   "cell_type": "code",
   "execution_count": 65,
   "metadata": {},
   "outputs": [
    {
     "name": "stdout",
     "output_type": "stream",
     "text": [
      "2\n"
     ]
    }
   ],
   "source": [
    "dx = [0,0,1,-1]\n",
    "dy = [1,-1,0,0]\n",
    "\n",
    "def bfs(x,y):\n",
    "    q = deque([(x,y)])\n",
    "    while q:\n",
    "        x, y = q.popleft()\n",
    "        for i in range(4):\n",
    "            nx = x + dx[i]\n",
    "            ny = y + dy[i]\n",
    "            if nx < 0 or nx >= N or ny < 0 or ny >= M:\n",
    "                continue\n",
    "            if graph[nx][ny] == 1:\n",
    "                graph[nx][ny] = 0\n",
    "                q.append((nx,ny))\n",
    "\n",
    "count = 0\n",
    "for i in range(N):\n",
    "    for j in range(M):\n",
    "        if graph[i][j] == 1:\n",
    "            bfs(i,j)\n",
    "            count += 1\n",
    "    \n",
    "print(count)"
   ]
  },
  {
   "cell_type": "code",
   "execution_count": 3,
   "metadata": {},
   "outputs": [
    {
     "name": "stdout",
     "output_type": "stream",
     "text": [
      "5\n",
      "1\n"
     ]
    }
   ],
   "source": [
    "import sys\n",
    "from collections import deque\n",
    "\n",
    "sys.setrecursionlimit(5000)\n",
    "#input = sys.stdin.readline\n",
    "\n",
    "T = int(input())\n",
    "\n",
    "for _ in range(T):\n",
    "    M, N, K = map(int, input().split())\n",
    "    graph = [[0]*M for _ in range(N)]\n",
    "    for _ in range(K):\n",
    "        x, y = map(int, input().split())\n",
    "        graph[y][x] = 1\n",
    "\n",
    "    dx = [0,0,1,-1]\n",
    "    dy = [1,-1,0,0]\n",
    "\n",
    "    def bfs(x,y):\n",
    "        q = deque([(x,y)])\n",
    "        while q:\n",
    "            x, y = q.popleft()\n",
    "            for i in range(4):\n",
    "                nx = x + dx[i]\n",
    "                ny = y + dy[i]\n",
    "                if nx < 0 or nx >= N or ny < 0 or ny >= M:\n",
    "                    continue\n",
    "                if graph[nx][ny] == 1:\n",
    "                    graph[nx][ny] = 0\n",
    "                    q.append((nx,ny))\n",
    "\n",
    "    count = 0\n",
    "    for i in range(N):\n",
    "        for j in range(M):\n",
    "            if graph[i][j] == 1:\n",
    "                bfs(i,j)\n",
    "                count += 1\n",
    "        \n",
    "    print(count)"
   ]
  },
  {
   "cell_type": "markdown",
   "metadata": {},
   "source": [
    "##### 잃어버린 괄호 (Greedy Algorithm)"
   ]
  },
  {
   "cell_type": "markdown",
   "metadata": {},
   "source": [
    "백준 1541"
   ]
  },
  {
   "cell_type": "markdown",
   "metadata": {},
   "source": [
    "- 양수와 +, -, 그리고 괄호를 가지고 식을 만든 후, 괄호를 모두 지웠다.\n",
    "- 괄호를 이제 적절히 쳐서 이 식의 값을 최소로 만들려고 한다\n",
    "- 괄호를 적절히 쳐서 이 식의 최소값을 출력하라\n",
    "\n",
    "- 첫째 줄에 식이 주어진다\n",
    "- 식은 0 ~ 9, +, - 만으로 이루어지며 수는 0으로 시작할 수 있다"
   ]
  },
  {
   "cell_type": "code",
   "execution_count": 11,
   "metadata": {},
   "outputs": [
    {
     "data": {
      "text/plain": [
       "['5', '5', '-', '5', '0', '+', '4', '0']"
      ]
     },
     "execution_count": 11,
     "metadata": {},
     "output_type": "execute_result"
    }
   ],
   "source": [
    "S = list(input())\n",
    "new = []\n",
    "now = ''\n",
    "for x in S:\n",
    "    if x.isdigit():\n",
    "        now = now + x\n",
    "    else:\n",
    "        new.append(now)\n",
    "        now = ''\n",
    "        new.append(x)\n",
    "new.append(now)"
   ]
  },
  {
   "cell_type": "code",
   "execution_count": 27,
   "metadata": {},
   "outputs": [
    {
     "data": {
      "text/plain": [
       "['55', '-', '50', '+', '40']"
      ]
     },
     "execution_count": 27,
     "metadata": {},
     "output_type": "execute_result"
    }
   ],
   "source": [
    "new"
   ]
  },
  {
   "cell_type": "markdown",
   "metadata": {},
   "source": [
    "FAILED\n",
    "\n",
    "최솟값을 만들기 위해서는 - 기준으로 괄호를 치면 된다. \n",
    "\n",
    "55 - 50 + 40 - 30 + 20\n",
    "\n",
    "위와 같이 입력을 받았을때 - 기준으로\n",
    "\n",
    "55 - (50 + 40) - (30 + 20)\n",
    "\n",
    "이렇게 괄호를 쳤을때 최솟값이 된다. \n",
    "\n",
    "['55', '50 + 40', '30 + 20']\n",
    "\n",
    "이렇게 입력을 받게 되는데 \n",
    "\n",
    "각 원소에 있는 숫자들을 계산해주고\n",
    "\n",
    "맨 처음의 원소는 더해주고 나머지는 빼준다."
   ]
  },
  {
   "cell_type": "code",
   "execution_count": 32,
   "metadata": {},
   "outputs": [
    {
     "name": "stdout",
     "output_type": "stream",
     "text": [
      "100\n"
     ]
    }
   ],
   "source": [
    "arr = input().split('-')\n",
    "num = []\n",
    "for x in arr:\n",
    "    count = 0\n",
    "    s = x.split('+')\n",
    "    for n in s:\n",
    "        count += int(n)\n",
    "    num.append(count)\n",
    "result = num[0]\n",
    "for i in range(1, len(num)):\n",
    "    result = result - num[i]\n",
    "print(result)\n"
   ]
  }
 ],
 "metadata": {
  "kernelspec": {
   "display_name": "Python 3.8.13 ('220602')",
   "language": "python",
   "name": "python3"
  },
  "language_info": {
   "codemirror_mode": {
    "name": "ipython",
    "version": 3
   },
   "file_extension": ".py",
   "mimetype": "text/x-python",
   "name": "python",
   "nbconvert_exporter": "python",
   "pygments_lexer": "ipython3",
   "version": "3.8.13"
  },
  "orig_nbformat": 4,
  "vscode": {
   "interpreter": {
    "hash": "c338ad7255a2897c16c9ce6a2d417a70b7b950e3cde57c3d9f59d0eb8b97ca54"
   }
  }
 },
 "nbformat": 4,
 "nbformat_minor": 2
}
