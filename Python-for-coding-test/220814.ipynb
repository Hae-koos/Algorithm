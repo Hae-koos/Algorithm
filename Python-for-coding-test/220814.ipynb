{
 "cells": [
  {
   "cell_type": "markdown",
   "metadata": {},
   "source": [
    "Today 2022.08.14\n",
    "\n",
    "\n",
    "## Title 뒤집기\n",
    "\n",
    "\n",
    "BOJ # 1439\n",
    "\n",
    "\n",
    "LV # Silver 5 \n",
    "\n",
    "\n",
    "Tag # Greedy Algorithm"
   ]
  },
  {
   "cell_type": "markdown",
   "metadata": {},
   "source": [
    "0과 1로만 이루어진 문자열 S가 있다.  \n",
    "이 문자열에 있는 모든 숫자를 전부 같게 만들고 싶다.  \n",
    "할 수 있는 행동은 S에서 연속된 하나 이상의 숫자를 잡고 모두 뒤집는 것  "
   ]
  },
  {
   "cell_type": "markdown",
   "metadata": {},
   "source": [
    "문자열 S가 주어졌을 때, 해야하는 행동의 최소 횟수를 출력하라"
   ]
  },
  {
   "cell_type": "code",
   "execution_count": 1,
   "metadata": {},
   "outputs": [
    {
     "data": {
      "text/plain": [
       "['1',\n",
       " '1',\n",
       " '0',\n",
       " '0',\n",
       " '1',\n",
       " '1',\n",
       " '0',\n",
       " '0',\n",
       " '1',\n",
       " '1',\n",
       " '0',\n",
       " '0',\n",
       " '1',\n",
       " '1',\n",
       " '0',\n",
       " '0',\n",
       " '0',\n",
       " '0',\n",
       " '0',\n",
       " '1']"
      ]
     },
     "execution_count": 1,
     "metadata": {},
     "output_type": "execute_result"
    }
   ],
   "source": [
    "S = list(input())\n",
    "S"
   ]
  },
  {
   "cell_type": "code",
   "execution_count": 19,
   "metadata": {},
   "outputs": [
    {
     "name": "stdout",
     "output_type": "stream",
     "text": [
      "4\n"
     ]
    }
   ],
   "source": [
    "S = list(input())\n",
    "\n",
    "count_zero = 0\n",
    "count_one = 0\n",
    "\n",
    "for i in range(len(S)-1):\n",
    "    if (S[i] == '1' and S[i+1] == '0'):\n",
    "        count_zero += 1\n",
    "    elif S[i] == '0' and S[i+1] == '1':\n",
    "        count_one += 1\n",
    "\n",
    "if S[-1] == '1':\n",
    "    count_zero += 1\n",
    "if S[-1] == '0':\n",
    "    count_one += 1\n",
    "\n",
    "\n",
    "print(min(count_zero, count_one))\n"
   ]
  },
  {
   "cell_type": "markdown",
   "metadata": {},
   "source": [
    "바이러스 Review"
   ]
  },
  {
   "cell_type": "code",
   "execution_count": 28,
   "metadata": {},
   "outputs": [
    {
     "name": "stdout",
     "output_type": "stream",
     "text": [
      "[0, 1, 0, 0, 0, 0, 0, 0]\n",
      "[0, 1, 1, 0, 0, 0, 0, 0]\n",
      "[0, 1, 1, 1, 0, 0, 0, 0]\n",
      "[0, 1, 1, 1, 0, 1, 0, 0]\n",
      "[0, 1, 1, 1, 0, 1, 1, 0]\n",
      "4\n"
     ]
    }
   ],
   "source": [
    "dfs(1)\n",
    "print(count-1)"
   ]
  },
  {
   "cell_type": "code",
   "execution_count": 30,
   "metadata": {},
   "outputs": [
    {
     "name": "stdout",
     "output_type": "stream",
     "text": [
      "4\n"
     ]
    }
   ],
   "source": [
    "N = int(input())\n",
    "P = int(input())\n",
    "graph = [[] for _ in range(N+1)]\n",
    "for _ in range(P):\n",
    "    a, b = map(int, input().split())\n",
    "    graph[a].append(b)\n",
    "    graph[b].append(a)\n",
    "visited = [0] * (N+1)\n",
    "count = 0\n",
    "def dfs(v):\n",
    "    global count\n",
    "    if visited[v] == 0:\n",
    "        count += 1\n",
    "        visited[v] = 1\n",
    "        for x in graph[v]:\n",
    "            dfs(x)\n",
    "dfs(1)\n",
    "print(count-1)"
   ]
  },
  {
   "cell_type": "markdown",
   "metadata": {},
   "source": [
    "Today 2022.08.14\n",
    "\n",
    "\n",
    "## Title 통계학\n",
    "\n",
    "\n",
    "BOJ # 2108\n",
    "\n",
    "\n",
    "LV # Silver 3\n",
    "\n",
    "\n",
    "Tag # Sorting"
   ]
  },
  {
   "cell_type": "markdown",
   "metadata": {},
   "source": [
    "첫째 줄에 수의 개수 N이 주어지며 홀수다  \n",
    "다음 N개의 줄에는 정수들이 주어지는데 그 절댓값은 4,000을 넘지 않는다"
   ]
  },
  {
   "cell_type": "markdown",
   "metadata": {},
   "source": [
    "- 첫째 줄에는 산술평균\n",
    "- 둘째 줄에는 중앙값\n",
    "- 셋째 줄에는 최빈값, 여러개면 최빈값 중 두 번째로 작은 값을 출력..?\n",
    "- 넷째 줄에는 범위를 출력"
   ]
  },
  {
   "cell_type": "code",
   "execution_count": 46,
   "metadata": {},
   "outputs": [
    {
     "data": {
      "text/plain": [
       "[-1, -2, -3, -1, -2]"
      ]
     },
     "execution_count": 46,
     "metadata": {},
     "output_type": "execute_result"
    }
   ],
   "source": [
    "N = int(input())\n",
    "l = []\n",
    "for _ in range(N):\n",
    "    l.append(int(input()))\n",
    "l"
   ]
  },
  {
   "cell_type": "code",
   "execution_count": 47,
   "metadata": {},
   "outputs": [
    {
     "data": {
      "text/plain": [
       "Counter({-3: 1, -2: 2, -1: 2})"
      ]
     },
     "execution_count": 47,
     "metadata": {},
     "output_type": "execute_result"
    }
   ],
   "source": [
    "S = sum(l)\n",
    "L = len(l)\n",
    "l_sorted = sorted(l)\n",
    "\n",
    "from collections import Counter\n",
    "C = Counter(l_sorted)\n",
    "C"
   ]
  },
  {
   "cell_type": "code",
   "execution_count": 38,
   "metadata": {},
   "outputs": [
    {
     "data": {
      "text/plain": [
       "2"
      ]
     },
     "execution_count": 38,
     "metadata": {},
     "output_type": "execute_result"
    }
   ],
   "source": [
    "A1 = S / L\n",
    "A1 = round(A1,0)\n",
    "A1 = int(A1)\n",
    "A1"
   ]
  },
  {
   "cell_type": "code",
   "execution_count": 45,
   "metadata": {},
   "outputs": [
    {
     "data": {
      "text/plain": [
       "2"
      ]
     },
     "execution_count": 45,
     "metadata": {},
     "output_type": "execute_result"
    }
   ],
   "source": [
    "import math\n",
    "l_sorted[math.ceil(L/2)-1]"
   ]
  },
  {
   "cell_type": "code",
   "execution_count": 51,
   "metadata": {},
   "outputs": [
    {
     "name": "stdout",
     "output_type": "stream",
     "text": [
      "-1\n"
     ]
    }
   ],
   "source": [
    "if C[-1] == C[-2]:\n",
    "    print(l_sorted[-2])\n",
    "else:\n",
    "    print(l_sorted[-1])"
   ]
  },
  {
   "cell_type": "code",
   "execution_count": 48,
   "metadata": {},
   "outputs": [
    {
     "data": {
      "text/plain": [
       "2"
      ]
     },
     "execution_count": 48,
     "metadata": {},
     "output_type": "execute_result"
    }
   ],
   "source": [
    "max(l)-min(l)"
   ]
  },
  {
   "cell_type": "code",
   "execution_count": 74,
   "metadata": {},
   "outputs": [
    {
     "name": "stdout",
     "output_type": "stream",
     "text": [
      "-2\n",
      "-2\n",
      "-1\n",
      "2\n"
     ]
    }
   ],
   "source": [
    "N = int(input())\n",
    "l = []\n",
    "for _ in range(N):\n",
    "    l.append(int(input()))\n",
    "S = sum(l)\n",
    "L = len(l)\n",
    "l_sorted = sorted(l)\n",
    "\n",
    "from collections import Counter\n",
    "C = Counter(l_sorted)\n",
    "\n",
    "A1 = S / L\n",
    "A1 = round(A1,0)\n",
    "A1 = int(A1)\n",
    "print(A1)\n",
    "\n",
    "import math\n",
    "print(l_sorted[math.ceil(L/2)-1])\n",
    "if len(C.most_common()) > 1:\n",
    "    if C.most_common()[0][1] == C.most_common()[1][1] :\n",
    "        print(C.most_common()[1][0])\n",
    "    else:\n",
    "        print(C.most_common()[0][0])\n",
    "else:\n",
    "    print(C.most_common()[0][0])\n",
    "\n",
    "print(max(l)-min(l))"
   ]
  },
  {
   "cell_type": "markdown",
   "metadata": {},
   "source": [
    "Today 2022.08.14\n",
    "\n",
    "\n",
    "## Title 랜선 자르기\n",
    "\n",
    "\n",
    "BOJ # 1654\n",
    "\n",
    "\n",
    "LV # Silver 2\n",
    "\n",
    "\n",
    "Tag # Binary Search"
   ]
  },
  {
   "cell_type": "markdown",
   "metadata": {},
   "source": [
    "캠프 때 쓸 N개의 랜선이 필요하다  \n",
    "K개의 랜선을 가지고 있으나 길이가 제각각이다  \n",
    "랜선을 모두 N개의 같은 길이의 랜선으로 만들고 싶었기 때문에 K개의 랜선을 잘라서 만들어야 한다  \n",
    "만들 수 있는 최대 랜선의 길이를 구하는 프로그램을 작성하라"
   ]
  },
  {
   "cell_type": "code",
   "execution_count": 2,
   "metadata": {},
   "outputs": [
    {
     "data": {
      "text/plain": [
       "[802, 743, 457, 539]"
      ]
     },
     "execution_count": 2,
     "metadata": {},
     "output_type": "execute_result"
    }
   ],
   "source": [
    "K, N = map(int, input().split())\n",
    "S = []\n",
    "for _ in range(K):\n",
    "    S.append(int(input()))\n",
    "S"
   ]
  },
  {
   "cell_type": "code",
   "execution_count": 3,
   "metadata": {},
   "outputs": [],
   "source": [
    "array = [x for x in range(max(S)+1)]\n",
    "# 0부터 802까지 들어간 리스트"
   ]
  },
  {
   "cell_type": "code",
   "execution_count": 7,
   "metadata": {},
   "outputs": [
    {
     "name": "stdout",
     "output_type": "stream",
     "text": [
      "200\n"
     ]
    }
   ],
   "source": [
    "def check(x):\n",
    "    ans = 0\n",
    "    for i in S:\n",
    "        ans += i // x\n",
    "    return ans\n",
    "answer = []\n",
    "\n",
    "def binary_search(array, target, start, end):\n",
    "    global answer\n",
    "    while start <= end:\n",
    "        mid = (start + end) // 2\n",
    "        if check(mid) == target:\n",
    "            if len(answer) == 0:\n",
    "                answer.append(mid)\n",
    "                binary_search(array, target, mid+1, end)\n",
    "            else:\n",
    "                if mid in answer:\n",
    "                    break\n",
    "                else:\n",
    "                    answer.append(mid)\n",
    "                    binary_search(array, target, mid+1, end)\n",
    "        elif check(mid) < target:\n",
    "            return binary_search(array, target, start, mid-1)\n",
    "        elif check(mid) > target:\n",
    "            return binary_search(array, target, mid+1, end)\n",
    "binary_search(array, N, 1, max(S)+1)\n",
    "print(max(answer))"
   ]
  },
  {
   "cell_type": "markdown",
   "metadata": {},
   "source": [
    "메모리 초과"
   ]
  },
  {
   "cell_type": "code",
   "execution_count": 10,
   "metadata": {},
   "outputs": [
    {
     "name": "stdout",
     "output_type": "stream",
     "text": [
      "200\n"
     ]
    }
   ],
   "source": [
    "K, N = map(int, input().split())\n",
    "S = []\n",
    "for _ in range(K):\n",
    "    S.append(int(input()))\n",
    "start, end = 1, max(S)\n",
    "\n",
    "while start <= end:\n",
    "    mid = (start + end) // 2\n",
    "    ans = 0\n",
    "    for x in S:\n",
    "        ans += x // mid\n",
    "    if ans >= N:\n",
    "        start = mid + 1\n",
    "    else:\n",
    "        end = mid - 1\n",
    "\n",
    "print(end)"
   ]
  }
 ],
 "metadata": {
  "kernelspec": {
   "display_name": "Python 3.8.13 ('AUTOVC': conda)",
   "language": "python",
   "name": "python3"
  },
  "language_info": {
   "codemirror_mode": {
    "name": "ipython",
    "version": 3
   },
   "file_extension": ".py",
   "mimetype": "text/x-python",
   "name": "python",
   "nbconvert_exporter": "python",
   "pygments_lexer": "ipython3",
   "version": "3.8.13"
  },
  "orig_nbformat": 4,
  "vscode": {
   "interpreter": {
    "hash": "83701494a915308841c98d90e1627ab32994947d5b938ec1dfda5c4da74c3582"
   }
  }
 },
 "nbformat": 4,
 "nbformat_minor": 2
}
