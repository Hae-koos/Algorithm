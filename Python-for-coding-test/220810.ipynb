{
 "cells": [
  {
   "cell_type": "markdown",
   "metadata": {},
   "source": [
    "https://www.philgineer.com/2021/11/codingtest-selection.html"
   ]
  },
  {
   "cell_type": "markdown",
   "metadata": {},
   "source": [
    "백준 코테 단골 유형 실버 문제집"
   ]
  },
  {
   "cell_type": "markdown",
   "metadata": {},
   "source": [
    "Today 2022.08.10\n",
    "\n",
    "\n",
    "## Title 좌표 압축\n",
    "\n",
    "\n",
    "BOJ # 18870\n",
    "\n",
    "\n",
    "LV # Silver 2\n",
    "\n",
    "\n",
    "Tag # Sorting"
   ]
  },
  {
   "cell_type": "markdown",
   "metadata": {},
   "source": [
    "- 첫째 줄에 N이 주어진다\n",
    "- 둘째 줄에는 공백 한 칸으로 구분된 N개의 수가 주어진다\n",
    "- X_i를 압축한 결과 X_i'는 X_i > X_j를 만족하는 서로 다른 좌표의 개수와 같아야 한다"
   ]
  },
  {
   "cell_type": "code",
   "execution_count": 87,
   "metadata": {},
   "outputs": [
    {
     "name": "stdout",
     "output_type": "stream",
     "text": [
      "2 3 0 3 1 "
     ]
    }
   ],
   "source": [
    "N = int(input())\n",
    "x = [i for i in range(N)]\n",
    "y = list(map(int, input().split()))\n",
    "L = list(zip(x,y))\n",
    "\n",
    "L.sort(key=lambda x : x[1], reverse=False)\n",
    "\n",
    "new_L = []\n",
    "add = 0\n",
    "for i in range(len(L)-1):\n",
    "    global add\n",
    "    if L[i][1] < L[i+1][1]:\n",
    "        new_L.append(L[i] + tuple([add]))\n",
    "        add += 1\n",
    "    else:\n",
    "        new_L.append(L[i] + tuple([add]))\n",
    "if L[-2][1] == L[-1][1]:\n",
    "    new_L.append(L[-1] + tuple([add]))\n",
    "else:\n",
    "    new_L.append(L[-1] + tuple([add+1]))\n",
    "\n",
    "new_L.sort(key=lambda x:x[0])\n",
    "for x in new_L:\n",
    "    print(x[2], end=' ')\n"
   ]
  },
  {
   "cell_type": "code",
   "execution_count": 102,
   "metadata": {},
   "outputs": [
    {
     "name": "stdout",
     "output_type": "stream",
     "text": [
      "0 0\n",
      "[]\n",
      "1 0\n",
      "[(4, -9, 0)]\n",
      "2 1\n",
      "[(4, -9, 0), (5, -9, 0)]\n",
      "3 2\n",
      "[(4, -9, 0), (5, -9, 0), (3, 0, 1)]\n",
      "4 2\n",
      "[(4, -9, 0), (5, -9, 0), (3, 0, 1), (0, 1, 2)]\n",
      "2 2 2 1 0 0 "
     ]
    }
   ],
   "source": [
    "N = int(input())\n",
    "x = [i for i in range(N)]\n",
    "y = list(map(int, input().split()))\n",
    "L = list(zip(x,y))\n",
    "\n",
    "L.sort(key=lambda x : x[1], reverse=False)\n",
    "\n",
    "new_L = []\n",
    "add = 0\n",
    "count = 1\n",
    "flag = False\n",
    "for i in range(len(L)-1):\n",
    "    print(i, add)\n",
    "    print(new_L)\n",
    "    if L[i][1] < L[i+1][1]:\n",
    "        if flag == False:\n",
    "            new_L.append(L[i] + tuple([add]))\n",
    "            add += 1\n",
    "            count = 1\n",
    "        elif flag == True:\n",
    "            new_L.append(L[i] + tuple([add+count]))\n",
    "            flag = False\n",
    "    else:\n",
    "        count += 1\n",
    "        new_L.append(L[i] + tuple([add]))\n",
    "        if i > 0:\n",
    "            flag = True\n",
    "if L[-2][1] == L[-1][1]:\n",
    "    new_L.append(L[-1] + tuple([add]))\n",
    "else:\n",
    "    new_L.append(L[-1] + tuple([add+1]))\n",
    "\n",
    "new_L.sort(key=lambda x:x[0])\n",
    "for x in new_L:\n",
    "    print(x[2], end=' ')"
   ]
  },
  {
   "cell_type": "markdown",
   "metadata": {},
   "source": [
    "모르겠다 ^^"
   ]
  },
  {
   "cell_type": "code",
   "execution_count": 104,
   "metadata": {},
   "outputs": [
    {
     "name": "stdout",
     "output_type": "stream",
     "text": [
      "[1, 1, 1, 0, -9, -9]\n",
      "[-9, 0, 1]\n",
      "{-9: 0, 0: 1, 1: 2}\n",
      "2 2 2 1 0 0 "
     ]
    }
   ],
   "source": [
    "n = int(input())\n",
    "arr = list(map(int, input().split()))\n",
    "print(arr)\n",
    "arr2 = sorted(list(set(arr)))\n",
    "print(arr2)\n",
    "\n",
    "dic = {arr2[i] : i for i in range(len(arr2))}\n",
    "print(dic)\n",
    "\n",
    "for i in arr:\n",
    "    print(dic[i], end = ' ')"
   ]
  },
  {
   "cell_type": "markdown",
   "metadata": {},
   "source": [
    "중복 없애고, 딕셔너리로 낮은 순서대로 만들고, 반복문 돌면서 밸류값 프린트.."
   ]
  },
  {
   "cell_type": "markdown",
   "metadata": {},
   "source": [
    "list.index(i) 형태의 시간 복잡도 = O(N)\n",
    "\n",
    "index[i] 형태의 시간 복잡도 = O(1)"
   ]
  },
  {
   "cell_type": "markdown",
   "metadata": {},
   "source": [
    "Today 2022.08.10\n",
    "\n",
    "\n",
    "## Title 피보나치 수 5\n",
    "\n",
    "\n",
    "BOJ # 10870\n",
    "\n",
    "\n",
    "LV # Bronze 2\n",
    "\n",
    "\n",
    "Tag # Recursion"
   ]
  },
  {
   "cell_type": "markdown",
   "metadata": {},
   "source": [
    "- N이 주어졌을 때 N번째 피보나치 수를 출력하라"
   ]
  },
  {
   "cell_type": "code",
   "execution_count": 9,
   "metadata": {},
   "outputs": [
    {
     "name": "stdout",
     "output_type": "stream",
     "text": [
      "55\n"
     ]
    }
   ],
   "source": [
    "def fibonacci(x):\n",
    "    if x <= 1 :\n",
    "        return x\n",
    "    else:\n",
    "        return fibonacci(x-1) + fibonacci(x-2)\n",
    "\n",
    "print(fibonacci(10))"
   ]
  },
  {
   "cell_type": "code",
   "execution_count": null,
   "metadata": {},
   "outputs": [],
   "source": []
  }
 ],
 "metadata": {
  "kernelspec": {
   "display_name": "Python 3.8.13 ('AUTOVC')",
   "language": "python",
   "name": "python3"
  },
  "language_info": {
   "codemirror_mode": {
    "name": "ipython",
    "version": 3
   },
   "file_extension": ".py",
   "mimetype": "text/x-python",
   "name": "python",
   "nbconvert_exporter": "python",
   "pygments_lexer": "ipython3",
   "version": "3.8.13"
  },
  "orig_nbformat": 4,
  "vscode": {
   "interpreter": {
    "hash": "83701494a915308841c98d90e1627ab32994947d5b938ec1dfda5c4da74c3582"
   }
  }
 },
 "nbformat": 4,
 "nbformat_minor": 2
}
