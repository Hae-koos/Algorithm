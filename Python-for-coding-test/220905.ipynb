{
 "cells": [
  {
   "cell_type": "markdown",
   "metadata": {},
   "source": [
    "Today 2022.09.05\n",
    "\n",
    "\n",
    "## Title 셀프 넘버\n",
    "\n",
    "\n",
    "BOJ # 4673\n",
    "\n",
    "\n",
    "LV # Silver 5"
   ]
  },
  {
   "cell_type": "markdown",
   "metadata": {},
   "source": [
    "양의 정수 n에 대해서 d(n)을 n과 n의 각 자리수를 더하는 함수라고 정의하자.  \n",
    "예를 들어 d(75) = 75 + 7 + 5 = 87이다."
   ]
  },
  {
   "cell_type": "markdown",
   "metadata": {},
   "source": [
    "양의 정수 n이 주어졌을 때, 이 수를 시작해서 n, d(n), d(d(n)) ... 과 같은 무한 수열을 만들 수 있다.  \n",
    "예를 들어 33으로 시작한다면  \n",
    "33 -> 33 + 3 + 3 = 39 -> 39 + 3 + 9 = 51 -> ,,,  \n",
    "33 39 51 57 69 84 96 111 114 ... ...  "
   ]
  },
  {
   "cell_type": "markdown",
   "metadata": {},
   "source": [
    "n을 d(n)의 생성자라고 하고, 생성자가 없는 숫자를 셀프 넘버라고 한다.  \n",
    "100보다 작은 셀프 넘버는 총 13개 있다.  \n",
    "1 3 5 7 9 20 31 42 53 64 75 86 97"
   ]
  },
  {
   "cell_type": "markdown",
   "metadata": {},
   "source": [
    "10000보다 작거나 같은 셀프 넘버를 한 줄에 하나씩 출력하는 프로그램을 작성하라"
   ]
  },
  {
   "cell_type": "code",
   "execution_count": null,
   "metadata": {},
   "outputs": [],
   "source": [
    "l = [False] * 10001\n",
    "l[0] = True\n",
    "for n in range(1,10001):\n",
    "\tstr_n = str(n)\n",
    "\tgenerated = n\n",
    "\tfor e in str_n:\n",
    "\t\tgenerated += int(e)\n",
    "\tif generated > 10000:\n",
    "\t\tcontinue\n",
    "\tif l[generated] == False:\n",
    "\t\tl[generated] = True\n",
    "ans = []\n",
    "for x in range(len(l)):\n",
    "\tif l[x] == False:\n",
    "\t\tans.append(x)\n",
    "for i in ans:\n",
    "\tprint(i)"
   ]
  },
  {
   "cell_type": "code",
   "execution_count": null,
   "metadata": {},
   "outputs": [],
   "source": []
  },
  {
   "cell_type": "code",
   "execution_count": null,
   "metadata": {},
   "outputs": [],
   "source": []
  },
  {
   "cell_type": "code",
   "execution_count": null,
   "metadata": {},
   "outputs": [],
   "source": []
  },
  {
   "cell_type": "code",
   "execution_count": null,
   "metadata": {},
   "outputs": [],
   "source": []
  },
  {
   "cell_type": "code",
   "execution_count": null,
   "metadata": {},
   "outputs": [],
   "source": []
  },
  {
   "cell_type": "code",
   "execution_count": null,
   "metadata": {},
   "outputs": [],
   "source": []
  },
  {
   "cell_type": "code",
   "execution_count": null,
   "metadata": {},
   "outputs": [],
   "source": []
  },
  {
   "cell_type": "code",
   "execution_count": null,
   "metadata": {},
   "outputs": [],
   "source": []
  },
  {
   "cell_type": "code",
   "execution_count": null,
   "metadata": {},
   "outputs": [],
   "source": []
  },
  {
   "cell_type": "code",
   "execution_count": null,
   "metadata": {},
   "outputs": [],
   "source": []
  },
  {
   "cell_type": "code",
   "execution_count": null,
   "metadata": {},
   "outputs": [],
   "source": []
  },
  {
   "cell_type": "code",
   "execution_count": null,
   "metadata": {},
   "outputs": [],
   "source": []
  }
 ],
 "metadata": {
  "language_info": {
   "name": "python"
  },
  "orig_nbformat": 4
 },
 "nbformat": 4,
 "nbformat_minor": 2
}
