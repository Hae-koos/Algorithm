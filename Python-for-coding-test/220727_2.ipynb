{
 "cells": [
  {
   "cell_type": "code",
   "execution_count": 1,
   "metadata": {},
   "outputs": [],
   "source": [
    "import numpy as np\n",
    "import pandas as pd\n",
    "import random\n",
    "import time"
   ]
  },
  {
   "cell_type": "markdown",
   "metadata": {},
   "source": [
    "##### 섬의 개수 (Graph Search)"
   ]
  },
  {
   "cell_type": "markdown",
   "metadata": {},
   "source": [
    "백준 4963"
   ]
  },
  {
   "cell_type": "markdown",
   "metadata": {},
   "source": [
    "- 정사각형으로 이루어져 있는 섬과 바다 지도가 주어진다.\n",
    "- 한 정사각형과 가로, 세로 또는 대각선으로 연결되어 있는 사각형은 걸어갈 수 있는 사각형이다."
   ]
  },
  {
   "cell_type": "code",
   "execution_count": 3,
   "metadata": {},
   "outputs": [
    {
     "name": "stdout",
     "output_type": "stream",
     "text": [
      "3\n",
      "1\n",
      "9\n",
      "0\n"
     ]
    }
   ],
   "source": [
    "import sys\n",
    "sys.setrecursionlimit(5000)\n",
    "input = sys.stdin.readline\n",
    "\n",
    "while True:\n",
    "    w, h = map(int, input().split())\n",
    "    if w == 0 and h == 0:\n",
    "        break\n",
    "    graph = []\n",
    "    for _ in range(h):\n",
    "        graph.append(list(map(int, input().split())))\n",
    "\n",
    "    from collections import deque\n",
    "    dx = [-1,-1,-1,0,0,0,1,1,1]\n",
    "    dy = [-1,0,1,-1,0,1,-1,0,1]\n",
    "    def bfs(x,y):\n",
    "        q = deque([(x,y)])\n",
    "        while q:\n",
    "            x, y = q.popleft()\n",
    "            for i in range(9):\n",
    "                nx = x + dx[i]\n",
    "                ny = y + dy[i]\n",
    "                if nx < 0 or nx >= h or ny < 0 or ny >= w:\n",
    "                    continue\n",
    "                if graph[nx][ny] == 1:\n",
    "                    graph[nx][ny] = 0\n",
    "                    q.append((nx,ny))\n",
    "\n",
    "    count = 0\n",
    "    for x in range(h):\n",
    "        for y in range(w):\n",
    "            if graph[x][y] == 1:\n",
    "                bfs(x,y)\n",
    "                count += 1\n",
    "    print(count)\n",
    "\n"
   ]
  },
  {
   "cell_type": "markdown",
   "metadata": {},
   "source": [
    "##### 숫자의 개수 (Implementation)"
   ]
  },
  {
   "cell_type": "markdown",
   "metadata": {},
   "source": [
    "백준 2577"
   ]
  },
  {
   "cell_type": "markdown",
   "metadata": {},
   "source": [
    "- 세 개의 자연수 A, B, C가 주어질 때 A x B x C를 계산한 결과에 0부터 9까지 숫자가 각각 몇 번씩 쓰였는지 구하는 프로그램을 작성하라"
   ]
  },
  {
   "cell_type": "code",
   "execution_count": 17,
   "metadata": {},
   "outputs": [
    {
     "name": "stdout",
     "output_type": "stream",
     "text": [
      "3\n",
      "1\n",
      "0\n",
      "2\n",
      "0\n",
      "0\n",
      "0\n",
      "2\n",
      "0\n",
      "0\n"
     ]
    }
   ],
   "source": [
    "import sys\n",
    "# input = sys.stdin.readline\n",
    "N = 1\n",
    "for _ in range(3):\n",
    "    N = N * int(input())\n",
    "\n",
    "dic = {'0':0, '1':0, '2':0, '3':0, '4':0, '5':0, '6':0, '7':0, '8':0, '9':0}\n",
    "for x in str(N):\n",
    "    dic[x] = dic[x] + 1\n",
    "for x in dic.values():\n",
    "    print(x)\n"
   ]
  }
 ],
 "metadata": {
  "kernelspec": {
   "display_name": "Python 3.8.13 ('220602')",
   "language": "python",
   "name": "python3"
  },
  "language_info": {
   "codemirror_mode": {
    "name": "ipython",
    "version": 3
   },
   "file_extension": ".py",
   "mimetype": "text/x-python",
   "name": "python",
   "nbconvert_exporter": "python",
   "pygments_lexer": "ipython3",
   "version": "3.8.13"
  },
  "orig_nbformat": 4,
  "vscode": {
   "interpreter": {
    "hash": "c338ad7255a2897c16c9ce6a2d417a70b7b950e3cde57c3d9f59d0eb8b97ca54"
   }
  }
 },
 "nbformat": 4,
 "nbformat_minor": 2
}
