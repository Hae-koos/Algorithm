{
 "cells": [
  {
   "cell_type": "markdown",
   "metadata": {},
   "source": [
    "Today 2022.08.16\n",
    "\n",
    "\n",
    "## Title 듣보잡\n",
    "\n",
    "\n",
    "BOJ # 1764\n",
    "\n",
    "\n",
    "LV # Silver 4\n",
    "\n",
    "\n",
    "Tag # Sorting"
   ]
  },
  {
   "cell_type": "markdown",
   "metadata": {},
   "source": [
    "듣도 못한 사람의 수 N, 보도 못한 사람의 수 M  \n",
    "듣보잡의 수와 그 명단을 사전순으로 출력 즉, 겹치는 사람"
   ]
  },
  {
   "cell_type": "code",
   "execution_count": 1,
   "metadata": {},
   "outputs": [],
   "source": [
    "N, M = map(int, input().split())\n",
    "\n",
    "n = []\n",
    "m = []\n",
    "\n",
    "for _ in range(N):\n",
    "    n.append(str(input()))\n",
    "for _ in range(M):\n",
    "    m.append(str(input()))"
   ]
  },
  {
   "cell_type": "code",
   "execution_count": 2,
   "metadata": {},
   "outputs": [
    {
     "data": {
      "text/plain": [
       "['ohhenrie', 'charlie', 'baesangwook']"
      ]
     },
     "execution_count": 2,
     "metadata": {},
     "output_type": "execute_result"
    }
   ],
   "source": [
    "n"
   ]
  },
  {
   "cell_type": "code",
   "execution_count": 3,
   "metadata": {},
   "outputs": [
    {
     "data": {
      "text/plain": [
       "['obama', 'baesangwook', 'ohhenrie', 'clinton']"
      ]
     },
     "execution_count": 3,
     "metadata": {},
     "output_type": "execute_result"
    }
   ],
   "source": [
    "m"
   ]
  },
  {
   "cell_type": "code",
   "execution_count": 5,
   "metadata": {},
   "outputs": [
    {
     "name": "stdout",
     "output_type": "stream",
     "text": [
      "2\n",
      "baesangwook\n",
      "ohhenrie\n"
     ]
    }
   ],
   "source": [
    "ans = []\n",
    "if N < M:\n",
    "    for x in n:\n",
    "        if x in m:\n",
    "            ans.append(x)\n",
    "else:\n",
    "    for x in m:\n",
    "        if x in n:\n",
    "            ans.append(x)\n",
    "\n",
    "print(len(ans))\n",
    "for x in sorted(ans):\n",
    "    print(x)"
   ]
  },
  {
   "cell_type": "markdown",
   "metadata": {},
   "source": [
    "시간초과"
   ]
  },
  {
   "cell_type": "code",
   "execution_count": 6,
   "metadata": {},
   "outputs": [
    {
     "name": "stdout",
     "output_type": "stream",
     "text": [
      "1\n",
      "bbb\n"
     ]
    }
   ],
   "source": [
    "N, M = map(int, input().split())\n",
    "\n",
    "n = set()\n",
    "m = set()\n",
    "\n",
    "for _ in range(N):\n",
    "    n.add(str(input()))\n",
    "for _ in range(M):\n",
    "    m.add(str(input()))\n",
    "\n",
    "result = sorted(list(m&n))\n",
    "print(len(result))\n",
    "for x in result:\n",
    "    print(x)"
   ]
  },
  {
   "cell_type": "code",
   "execution_count": null,
   "metadata": {},
   "outputs": [],
   "source": []
  }
 ],
 "metadata": {
  "kernelspec": {
   "display_name": "Python 3.8.13 ('AUTOVC')",
   "language": "python",
   "name": "python3"
  },
  "language_info": {
   "codemirror_mode": {
    "name": "ipython",
    "version": 3
   },
   "file_extension": ".py",
   "mimetype": "text/x-python",
   "name": "python",
   "nbconvert_exporter": "python",
   "pygments_lexer": "ipython3",
   "version": "3.8.13"
  },
  "orig_nbformat": 4,
  "vscode": {
   "interpreter": {
    "hash": "83701494a915308841c98d90e1627ab32994947d5b938ec1dfda5c4da74c3582"
   }
  }
 },
 "nbformat": 4,
 "nbformat_minor": 2
}
