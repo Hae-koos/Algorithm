{
 "cells": [
  {
   "cell_type": "markdown",
   "metadata": {},
   "source": [
    "Today 2022.08.04\n",
    "\n",
    "\n",
    "## Title 나이순 정렬\n",
    "\n",
    "\n",
    "BOJ # 10814\n",
    "\n",
    "\n",
    "LV # Silver 5\n",
    "\n",
    "\n",
    "Tag # Sorting Algorithm"
   ]
  },
  {
   "cell_type": "markdown",
   "metadata": {},
   "source": [
    "첫째 줄에 온라인 저지 회원의 수 N이 주어진다. (1 ≤ N ≤ 100,000)\n",
    "\n",
    "둘째 줄부터 N개의 줄에는 각 회원의 나이와 이름이 공백으로 구분되어 주어진다. \n",
    "\n",
    "나이는 1보다 크거나 같으며, 200보다 작거나 같은 정수이고, 이름은 알파벳 대소문자로 이루어져 있고, 길이가 100보다 작거나 같은 문자열이다. 입력은 가입한 순서로 주어진다."
   ]
  },
  {
   "cell_type": "code",
   "execution_count": 12,
   "metadata": {},
   "outputs": [
    {
     "data": {
      "text/plain": [
       "[[0, ('21', 'Junkyu')], [1, ('21', 'Dohyun')], [2, ('20', 'Sunyoung')]]"
      ]
     },
     "execution_count": 12,
     "metadata": {},
     "output_type": "execute_result"
    }
   ],
   "source": [
    "N = int(input())\n",
    "M = []\n",
    "for i in range(N):\n",
    "    now = [i]\n",
    "    now.append(tuple(input().split()))\n",
    "    M.append(now)\n",
    "M\n"
   ]
  },
  {
   "cell_type": "code",
   "execution_count": 15,
   "metadata": {},
   "outputs": [
    {
     "data": {
      "text/plain": [
       "[[2, ('20', 'Sunyoung')], [0, ('21', 'Junkyu')], [1, ('21', 'Dohyun')]]"
      ]
     },
     "execution_count": 15,
     "metadata": {},
     "output_type": "execute_result"
    }
   ],
   "source": [
    "M.sort(key=lambda x: (x[1][0], x[0]))\n",
    "M"
   ]
  },
  {
   "cell_type": "code",
   "execution_count": 16,
   "metadata": {},
   "outputs": [
    {
     "name": "stdout",
     "output_type": "stream",
     "text": [
      "20 Sunyoung \n",
      "21 Junkyu \n",
      "21 Dohyun \n"
     ]
    }
   ],
   "source": [
    "for x in M:\n",
    "    for i in range(2):\n",
    "        print(x[1][i], end=' ')\n",
    "    print()"
   ]
  },
  {
   "cell_type": "code",
   "execution_count": 17,
   "metadata": {},
   "outputs": [
    {
     "name": "stdout",
     "output_type": "stream",
     "text": [
      "100 sss \n",
      "199 sss \n",
      "2 sss \n"
     ]
    }
   ],
   "source": [
    "N = int(input())\n",
    "M = []\n",
    "for i in range(N):\n",
    "    now = [i]\n",
    "    now.append(tuple(input().split()))\n",
    "    M.append(now)\n",
    "M.sort(key=lambda x: (x[1][0], x[0]))\n",
    "for x in M:\n",
    "    for i in range(2):\n",
    "        print(x[1][i], end=' ')\n",
    "    print()"
   ]
  },
  {
   "cell_type": "code",
   "execution_count": 20,
   "metadata": {},
   "outputs": [
    {
     "data": {
      "text/plain": [
       "[('23', 'a'), ('22', 'b'), ('22', 'c')]"
      ]
     },
     "execution_count": 20,
     "metadata": {},
     "output_type": "execute_result"
    }
   ],
   "source": [
    "N = int(input())\n",
    "M = []\n",
    "for _ in range(N):\n",
    "    M.append(tuple(input().split()))\n",
    "M"
   ]
  },
  {
   "cell_type": "code",
   "execution_count": 21,
   "metadata": {},
   "outputs": [
    {
     "data": {
      "text/plain": [
       "[('22', 'b'), ('22', 'c'), ('23', 'a')]"
      ]
     },
     "execution_count": 21,
     "metadata": {},
     "output_type": "execute_result"
    }
   ],
   "source": [
    "M.sort(key=lambda x: x[0])\n",
    "M"
   ]
  },
  {
   "cell_type": "code",
   "execution_count": 22,
   "metadata": {},
   "outputs": [
    {
     "name": "stdout",
     "output_type": "stream",
     "text": [
      "22 b \n",
      "22 c \n",
      "23 a \n"
     ]
    }
   ],
   "source": [
    "for x in M:\n",
    "    for y in x:\n",
    "        print(y, end=' ')\n",
    "    print()"
   ]
  },
  {
   "cell_type": "code",
   "execution_count": 24,
   "metadata": {},
   "outputs": [
    {
     "name": "stdout",
     "output_type": "stream",
     "text": [
      "22 b \n",
      "22 c \n",
      "23 a \n"
     ]
    }
   ],
   "source": [
    "N = int(input())\n",
    "M = []\n",
    "for _ in range(N):\n",
    "    a,b = input().split()\n",
    "    a = int(a)\n",
    "    M.append((a,b))\n",
    "M.sort(key=lambda x: x[0])\n",
    "for x in M:\n",
    "    for y in x:\n",
    "        print(y, end=' ')\n",
    "    print()"
   ]
  },
  {
   "cell_type": "code",
   "execution_count": null,
   "metadata": {},
   "outputs": [],
   "source": []
  }
 ],
 "metadata": {
  "kernelspec": {
   "display_name": "Python 3.8.13 ('AUTOVC': conda)",
   "language": "python",
   "name": "python3"
  },
  "language_info": {
   "codemirror_mode": {
    "name": "ipython",
    "version": 3
   },
   "file_extension": ".py",
   "mimetype": "text/x-python",
   "name": "python",
   "nbconvert_exporter": "python",
   "pygments_lexer": "ipython3",
   "version": "3.8.13"
  },
  "orig_nbformat": 4,
  "vscode": {
   "interpreter": {
    "hash": "83701494a915308841c98d90e1627ab32994947d5b938ec1dfda5c4da74c3582"
   }
  }
 },
 "nbformat": 4,
 "nbformat_minor": 2
}
