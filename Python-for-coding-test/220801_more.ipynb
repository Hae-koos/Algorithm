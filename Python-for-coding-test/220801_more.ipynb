{
 "cells": [
  {
   "cell_type": "markdown",
   "metadata": {},
   "source": [
    "Today 2022.08.01\n",
    "\n",
    "\n",
    "## Title 위에서 아래로\n",
    "\n",
    "\n",
    "BOJ # T 기업 코딩 테스트\n",
    "\n",
    "\n",
    "LV # 1\n",
    "\n",
    "\n",
    "Tag # Sorting"
   ]
  },
  {
   "cell_type": "markdown",
   "metadata": {},
   "source": [
    "- 수열을 내림차순으로 정렬하는 프로그램을 만드시오"
   ]
  },
  {
   "cell_type": "code",
   "execution_count": 2,
   "metadata": {},
   "outputs": [
    {
     "name": "stdout",
     "output_type": "stream",
     "text": [
      "27 15 12 "
     ]
    }
   ],
   "source": [
    "N = int(input())\n",
    "l = []\n",
    "for _ in range(N):\n",
    "    l.append(int(input()))\n",
    "l.sort(reverse=True)\n",
    "for x in l:\n",
    "    print(x, end=' ')"
   ]
  },
  {
   "cell_type": "markdown",
   "metadata": {},
   "source": [
    "Today 2022.08.01\n",
    "\n",
    "\n",
    "## Title 성적이 낮은 순서로 학생 출력하기\n",
    "\n",
    "\n",
    "BOJ # D기업 프로그래밍 콘테스트 예선\n",
    "\n",
    "\n",
    "LV # 1\n",
    "\n",
    "\n",
    "Tag # Sorting"
   ]
  },
  {
   "cell_type": "markdown",
   "metadata": {},
   "source": [
    "- N명의 학생 정보가 있다. 학생 정보는 이름과 성적으로 구분되는데\n",
    "- 성적이 낮은 순서대로 학생의 이름을 출력하는 프로그램을 작성하시오"
   ]
  },
  {
   "cell_type": "code",
   "execution_count": 4,
   "metadata": {},
   "outputs": [
    {
     "name": "stdout",
     "output_type": "stream",
     "text": [
      "홍길동 이순신 "
     ]
    }
   ],
   "source": [
    "N = int(input())\n",
    "l = []\n",
    "for _ in range(N):\n",
    "    l.append(list(input().split()))\n",
    "l.sort(key=lambda x : x[1])\n",
    "\n",
    "for x in l:\n",
    "    print(x[0], end=' ')\n"
   ]
  },
  {
   "cell_type": "markdown",
   "metadata": {},
   "source": [
    "Today 2022.08.01\n",
    "\n",
    "\n",
    "## Title 두 배열의 원소 교체\n",
    "\n",
    "\n",
    "BOJ # 국제 알고리즘 대회\n",
    "\n",
    "\n",
    "LV # 1\n",
    "\n",
    "\n",
    "Tag # Sorting"
   ]
  },
  {
   "cell_type": "markdown",
   "metadata": {},
   "source": [
    "- 두 개의 배열 A, B가 있다.\n",
    "- 배열은 N개의 원소로 구성되어 있으며, 원소는 모두 자연수다.\n",
    "- 최대 K번의 바꿔치기로 배열 A의 모든 원소의 합이 최대이면 좋겠다."
   ]
  },
  {
   "cell_type": "markdown",
   "metadata": {},
   "source": [
    "- N, K, 배열 A와 B의 정보가 주어진다. A의 모든 원소 합의 최대를 출력하는 프로그램을 작성하라"
   ]
  },
  {
   "cell_type": "code",
   "execution_count": 6,
   "metadata": {},
   "outputs": [
    {
     "name": "stdout",
     "output_type": "stream",
     "text": [
      "26\n"
     ]
    }
   ],
   "source": [
    "N, K = map(int, input().split())\n",
    "A = list(map(int, input().split()))\n",
    "B = list(map(int, input().split()))\n",
    "\n",
    "A.sort()\n",
    "B.sort(reverse=True)\n",
    "\n",
    "# print(A,B)\n",
    "\n",
    "for i in range(K):\n",
    "    if A[i] < B[i]:\n",
    "        A[i], B[i] = B[i], A[i]\n",
    "    else:\n",
    "        continue\n",
    "\n",
    "# print(A,B)\n",
    "print(sum(A))"
   ]
  },
  {
   "cell_type": "markdown",
   "metadata": {},
   "source": [
    "Today 2022.08.01\n",
    "\n",
    "\n",
    "## Title 수 정렬하기\n",
    "\n",
    "\n",
    "BOJ # 2751\n",
    "\n",
    "\n",
    "LV # Bronze 2\n",
    "\n",
    "\n",
    "Tag # Sorting Algorithm"
   ]
  },
  {
   "cell_type": "markdown",
   "metadata": {},
   "source": [
    "N개의 수가 주어졌을 때, 이를 오름차순으로 정렬하는 프로그램을 작성하시오"
   ]
  },
  {
   "cell_type": "markdown",
   "metadata": {},
   "source": [
    "그대로 풀면 메모리 초과\n",
    "\n",
    "더 효율적인 알고리즘 필요\n",
    "\n",
    "1 <= N <= 1,000,000 양의 정수므로 계수 정렬 적용 가능\n",
    "\n",
    "가 아니라 절댓값이었다.. 음수 고려 필요.."
   ]
  },
  {
   "cell_type": "code",
   "execution_count": 10,
   "metadata": {},
   "outputs": [
    {
     "name": "stdout",
     "output_type": "stream",
     "text": [
      "-111\n",
      "-11\n",
      "-1\n"
     ]
    }
   ],
   "source": [
    "import sys\n",
    "# input = sys.stdin.readline\n",
    "sys.setrecursionlimit(5000)\n",
    "\n",
    "PLUS = 1000000\n",
    "\n",
    "N = int(input())\n",
    "l = []\n",
    "for _ in range(N):\n",
    "    l.append(int(input()) + PLUS)\n",
    "\n",
    "count = [0] * (max(l) + 1)\n",
    "\n",
    "for i in range(len(l)):\n",
    "    count[l[i]] += 1\n",
    "\n",
    "for i in range(len(count)):\n",
    "    for j in range(count[i]):\n",
    "        print(i-PLUS)"
   ]
  },
  {
   "cell_type": "markdown",
   "metadata": {},
   "source": [
    "Today 2022.08.01\n",
    "\n",
    "\n",
    "## Title 단어 정렬\n",
    "\n",
    "\n",
    "BOJ # 1181\n",
    "\n",
    "\n",
    "LV # Silver 5\n",
    "\n",
    "\n",
    "Tag # Sorting Algorighm"
   ]
  },
  {
   "cell_type": "markdown",
   "metadata": {},
   "source": [
    "- 알파벳 소문자로 이루어진 N개의 단어가 들어오면 아래와 같은 조건에 따라 정렬하는 프로그램을 작성하시오\n",
    "    - 길이가 짧은 것부터\n",
    "    - 길이가 같으면 사전 순으로 "
   ]
  },
  {
   "cell_type": "code",
   "execution_count": 37,
   "metadata": {},
   "outputs": [
    {
     "name": "stdout",
     "output_type": "stream",
     "text": [
      "a\n",
      "b\n",
      "aa\n",
      "ab\n"
     ]
    }
   ],
   "source": [
    "N = int(input())\n",
    "l = []\n",
    "\n",
    "for _ in range(N):\n",
    "    l.append(input())\n",
    "    \n",
    "l = list(set(l))\n",
    "l.sort()\n",
    "l.sort(key=lambda x : len(x))\n",
    "\n",
    "for x in l:\n",
    "    print(x)"
   ]
  },
  {
   "cell_type": "markdown",
   "metadata": {},
   "source": [
    "Today 2022.08.01\n",
    "\n",
    "\n",
    "## Title 소트인사이드\n",
    "\n",
    "\n",
    "BOJ # 1427\n",
    "\n",
    "\n",
    "LV # Silver 5 \n",
    "\n",
    "\n",
    "Tag # Sorting Algorithm"
   ]
  },
  {
   "cell_type": "markdown",
   "metadata": {},
   "source": [
    "- 수가 주어지면 내림차순으로 정렬하라\n",
    "- 1,000,000,000보다 작거나 같은 자연수다"
   ]
  },
  {
   "cell_type": "code",
   "execution_count": 41,
   "metadata": {},
   "outputs": [],
   "source": [
    "N = list(input())\n",
    "N.sort(reverse=True)\n",
    "for x in N:\n",
    "    print(x,end='')"
   ]
  },
  {
   "cell_type": "code",
   "execution_count": 58,
   "metadata": {},
   "outputs": [
    {
     "name": "stdout",
     "output_type": "stream",
     "text": [
      "[0, 0, 0, 0, 0, 0, 0, 0, 0, 1]\n",
      "9"
     ]
    }
   ],
   "source": [
    "import sys\n",
    "# input = sys.stdin.readline.rstrip\n",
    "sys.setrecursionlimit(5000)\n",
    "\n",
    "l = list(map(int, input()))\n",
    "\n",
    "count = [0] * (max(l) + 1)\n",
    "\n",
    "for i in range(len(l)):\n",
    "    count[l[i]] += 1\n",
    "\n",
    "print(count)\n",
    "\n",
    "for i in range(len(count)-1,-1,-1):\n",
    "    for j in range(count[i]):\n",
    "        print(i,end='')"
   ]
  },
  {
   "cell_type": "markdown",
   "metadata": {},
   "source": [
    "Today 2022.08.01\n",
    "\n",
    "\n",
    "## Title 수 정렬하기 3\n",
    "\n",
    "\n",
    "BOJ # 10989\n",
    "\n",
    "\n",
    "LV # Bronze 1\n",
    "\n",
    "\n",
    "Tag # Sorting Algorithm"
   ]
  },
  {
   "cell_type": "markdown",
   "metadata": {},
   "source": [
    "- N개의 수가 주어졌을 때, 이를 오름차순으로 정렬하는 프로그램"
   ]
  },
  {
   "cell_type": "code",
   "execution_count": 60,
   "metadata": {},
   "outputs": [
    {
     "name": "stdout",
     "output_type": "stream",
     "text": [
      "1\n",
      "1\n",
      "2\n",
      "2\n",
      "3\n",
      "3\n",
      "4\n",
      "5\n",
      "5\n",
      "7\n"
     ]
    }
   ],
   "source": [
    "N = int(input())\n",
    "l = []\n",
    "for _ in range(N):\n",
    "    l.append(int(input()))\n",
    "l.sort()\n",
    "for x in l:\n",
    "    print(x)"
   ]
  },
  {
   "cell_type": "markdown",
   "metadata": {},
   "source": [
    "메모리 초과"
   ]
  },
  {
   "cell_type": "code",
   "execution_count": 62,
   "metadata": {},
   "outputs": [
    {
     "name": "stdout",
     "output_type": "stream",
     "text": [
      "[0, 2, 2, 2, 1, 2, 0, 1]\n"
     ]
    }
   ],
   "source": [
    "N = int(input())\n",
    "l = []\n",
    "for _ in range(N):\n",
    "    l.append(int(input()))\n",
    "\n",
    "count = [0]*(max(l)+1)\n",
    "\n",
    "for i in range(len(l)):\n",
    "    count[l[i]] += 1\n",
    "\n",
    "for i in range(len(count)):\n",
    "    for j in range(count[i]):\n",
    "        print(i)\n"
   ]
  },
  {
   "cell_type": "markdown",
   "metadata": {},
   "source": [
    "또 메모리 초과"
   ]
  },
  {
   "cell_type": "code",
   "execution_count": 64,
   "metadata": {},
   "outputs": [
    {
     "name": "stdout",
     "output_type": "stream",
     "text": [
      "1\n",
      "1\n",
      "2\n",
      "2\n",
      "3\n",
      "3\n",
      "4\n",
      "5\n",
      "5\n",
      "7\n"
     ]
    }
   ],
   "source": [
    "N = int(input())\n",
    "\n",
    "count = [0]*(10001)\n",
    "\n",
    "for _ in range(N):\n",
    "    count[int(input())] += 1\n",
    "\n",
    "for i in range(len(count)):\n",
    "    for j in range(count[i]):\n",
    "        print(i)"
   ]
  },
  {
   "cell_type": "markdown",
   "metadata": {},
   "source": [
    "또또 메모리 초과"
   ]
  },
  {
   "cell_type": "code",
   "execution_count": null,
   "metadata": {},
   "outputs": [],
   "source": [
    "import sys\n",
    "input = sys.stdin.readline\n",
    "\n",
    "N = int(input())\n",
    "\n",
    "count = [0]*(10001)\n",
    "\n",
    "for _ in range(N):\n",
    "    count[int(input())] += 1\n",
    "\n",
    "for i in range(len(count)):\n",
    "    if count[i] != 0: # 이 친구 없으면 시간 초과..\n",
    "        for j in range(count[i]):\n",
    "            print(i)"
   ]
  }
 ],
 "metadata": {
  "kernelspec": {
   "display_name": "Python 3.8.13 ('AUTOVC')",
   "language": "python",
   "name": "python3"
  },
  "language_info": {
   "codemirror_mode": {
    "name": "ipython",
    "version": 3
   },
   "file_extension": ".py",
   "mimetype": "text/x-python",
   "name": "python",
   "nbconvert_exporter": "python",
   "pygments_lexer": "ipython3",
   "version": "3.8.13"
  },
  "orig_nbformat": 4,
  "vscode": {
   "interpreter": {
    "hash": "83701494a915308841c98d90e1627ab32994947d5b938ec1dfda5c4da74c3582"
   }
  }
 },
 "nbformat": 4,
 "nbformat_minor": 2
}
