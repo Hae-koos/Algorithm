{
 "cells": [
  {
   "cell_type": "markdown",
   "metadata": {},
   "source": [
    "Today 2022.08.05\n",
    "\n",
    "\n",
    "## Title 일곱 난쟁이\n",
    "\n",
    "BOJ # 2309\n",
    "\n",
    "LV # Bronze 1\n",
    "\n",
    "Tag # Sorting "
   ]
  },
  {
   "cell_type": "markdown",
   "metadata": {},
   "source": [
    "일곱 난쟁이 합이 100이니 합해서 100 빼고, 나머지를 둘로 채우면 메모리 용량도 많이 안건드리고 해결가능"
   ]
  },
  {
   "cell_type": "code",
   "execution_count": 2,
   "metadata": {},
   "outputs": [
    {
     "name": "stdout",
     "output_type": "stream",
     "text": [
      "7\n",
      "8\n",
      "10\n",
      "13\n",
      "19\n",
      "20\n",
      "23\n"
     ]
    }
   ],
   "source": [
    "H = []\n",
    "for _ in range(9):\n",
    "    H.append(int(input()))\n",
    "from itertools import combinations\n",
    "for x in list(combinations(H,2)):\n",
    "    if sum(x) == sum(H) - 100:\n",
    "        for y in x:\n",
    "            H.remove(y)\n",
    "for x in sorted(H):\n",
    "    print(x)"
   ]
  },
  {
   "cell_type": "markdown",
   "metadata": {},
   "source": [
    "Today 2022.08.05\n",
    "\n",
    "\n",
    "## Title dfs bfs review\n",
    "\n",
    "\n",
    "BOJ # 1260\n",
    "\n",
    "\n",
    "LV # silver 2\n",
    "\n",
    "\n",
    "Tag # graph"
   ]
  },
  {
   "cell_type": "code",
   "execution_count": 1,
   "metadata": {},
   "outputs": [
    {
     "name": "stdout",
     "output_type": "stream",
     "text": [
      "1 2 4 3 \n",
      "1 2 3 4 "
     ]
    }
   ],
   "source": [
    "def dfs(graph, v, visited):\n",
    "  visited[v] = True\n",
    "  print(v, end = ' ')\n",
    "  for i in graph[v]:\n",
    "    if not visited[i]:\n",
    "      dfs(graph, i, visited)\n",
    "\n",
    "from collections import deque\n",
    "\n",
    "def bfs(graph, start, visited):\n",
    "  queue = deque([start])\n",
    "  visited[start] = True\n",
    "  while queue:\n",
    "    v = queue.popleft()\n",
    "    print(v, end = ' ')\n",
    "    for i in graph[v]:\n",
    "      if not visited[i]:\n",
    "        queue.append(i)\n",
    "        visited[i] = True\n",
    "\n",
    "n, m, v = map(int, input().split())\n",
    "\n",
    "graph = [list() for _ in range(n+1)]\n",
    "for i in range(m):\n",
    "  a, b = map(int, input().split())\n",
    "  graph[a].append(b)\n",
    "  graph[b].append(a)\n",
    "for x in range(n+1):\n",
    "  graph[x] = sorted(graph[x])\n",
    "\n",
    "visited = [False] * (n+1)\n",
    "dfs(graph, v, visited)\n",
    "\n",
    "print()\n",
    "\n",
    "visited = [False] * (n+1)\n",
    "bfs(graph, v, visited)"
   ]
  },
  {
   "cell_type": "markdown",
   "metadata": {},
   "source": [
    "Today 2022.08.05\n",
    "\n",
    "\n",
    "## Title 신입사원\n",
    "\n",
    "\n",
    "BOJ # 1946\n",
    "\n",
    "\n",
    "LV # Silver 1\n",
    "\n",
    "\n",
    "Tag # Greedy"
   ]
  },
  {
   "cell_type": "markdown",
   "metadata": {},
   "source": [
    "- 다른 모든 지원자와 비교하여 서류와 면접 중 적어도 하나가 다른 지원자보다 떨어지지 않는 자만 선발\n",
    "- 이러한 조건을 만족시키면서 신입을 최대 얼마나 뽑을 수 있을까"
   ]
  },
  {
   "cell_type": "code",
   "execution_count": 27,
   "metadata": {},
   "outputs": [
    {
     "name": "stdout",
     "output_type": "stream",
     "text": [
      "4\n",
      "3\n"
     ]
    }
   ],
   "source": [
    "import sys\n",
    "\n",
    "input = sys.stdin.readline\n",
    "\n",
    "T = int(input())\n",
    "\n",
    "for _ in range(T):\n",
    "    N = int(input())\n",
    "    S = []\n",
    "    for _ in range(N):\n",
    "        S.append(list(map(int, input().split())))\n",
    "    S.sort(key=lambda x : x[0])\n",
    "    count = 1\n",
    "    Max = S[0][1]\n",
    "    for i in range(1,N):\n",
    "        if Max > S[i][1]:\n",
    "            count += 1\n",
    "            Max = S[i][1]\n",
    "    print(count)\n",
    "    "
   ]
  }
 ],
 "metadata": {
  "kernelspec": {
   "display_name": "Python 3.8.13 ('AUTOVC': conda)",
   "language": "python",
   "name": "python3"
  },
  "language_info": {
   "codemirror_mode": {
    "name": "ipython",
    "version": 3
   },
   "file_extension": ".py",
   "mimetype": "text/x-python",
   "name": "python",
   "nbconvert_exporter": "python",
   "pygments_lexer": "ipython3",
   "version": "3.8.13"
  },
  "orig_nbformat": 4,
  "vscode": {
   "interpreter": {
    "hash": "83701494a915308841c98d90e1627ab32994947d5b938ec1dfda5c4da74c3582"
   }
  }
 },
 "nbformat": 4,
 "nbformat_minor": 2
}
