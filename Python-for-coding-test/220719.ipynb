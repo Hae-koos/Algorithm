{
 "cells": [
  {
   "cell_type": "code",
   "execution_count": 1,
   "metadata": {},
   "outputs": [],
   "source": [
    "import numpy as np\n",
    "import pandas as pd\n",
    "import random\n",
    "import time"
   ]
  },
  {
   "cell_type": "markdown",
   "metadata": {},
   "source": [
    "##### 친구"
   ]
  },
  {
   "cell_type": "markdown",
   "metadata": {},
   "source": [
    "백준 1058"
   ]
  },
  {
   "cell_type": "markdown",
   "metadata": {},
   "source": [
    "- 가장 유명한 사람을 구하는 방법은 각 사람의 2-친구를 구하면 된다.\n",
    "- 어떤 사람 A가 또다른 사람 B의 2-친구가 되기 위해선, 두 사람이 친구이거나, A와 친구이고, B와 친구인 C가 존재해야 된다.\n",
    "- 여기서 가장 유명한 사람은 2-친구의 수가 가장 많은 사람이다.\n",
    "- 가장 유명한 사람의 2-친구의 수를 출력하는 프로그램을 작성하시오."
   ]
  },
  {
   "cell_type": "markdown",
   "metadata": {},
   "source": [
    "- 첫째 줄에 사람의 수 N이 주어진다. N은 50보다 작거나 같은 자연수이다. \n",
    "- 둘째 줄부터 N개의 줄에 각 사람이 친구이면 Y, 아니면 N이 주어진다."
   ]
  },
  {
   "cell_type": "code",
   "execution_count": 17,
   "metadata": {},
   "outputs": [
    {
     "name": "stdout",
     "output_type": "stream",
     "text": [
      "0 0\n",
      "1\n",
      "2\n",
      "1 1\n",
      "2 1\n",
      "끝\n",
      "result : 2\n",
      "1 0\n",
      "0\n",
      "2\n",
      "0 1\n",
      "2 1\n",
      "끝\n",
      "result : 2\n",
      "2 0\n",
      "0\n",
      "1\n",
      "0 1\n",
      "1 1\n",
      "끝\n",
      "result : 2\n",
      "2\n"
     ]
    }
   ],
   "source": [
    "from collections import deque\n",
    "\n",
    "n = int(input())\n",
    "friends = [[0 for _ in range(n)] for _ in range(n)]\n",
    "for i in range(n):\n",
    "    f = list(input().rstrip())\n",
    "    for j in range(n):\n",
    "        if f[j] == 'Y':\n",
    "            friends[i][j] = 1\n",
    "def bfs(n, i):\n",
    "    check = [0] * n\n",
    "    check[i] = 1\n",
    "    queue = deque([(i, 0)])\n",
    "    count = 0\n",
    "    while queue:\n",
    "        j, cnt = queue.popleft()\n",
    "        if cnt >= 2:\n",
    "            continue\n",
    "        print(j, cnt)\n",
    "        for k in range(n):\n",
    "            if not check[k] and friends[j][k]:\n",
    "                print(k)\n",
    "                count += 1\n",
    "                check[k] = 1\n",
    "                queue.append((k, cnt + 1))\n",
    "    print('끝')\n",
    "    return count\n",
    "\n",
    "res = 0\n",
    "for i in range(n): # 모든 학생들의 2-친구 수를 구한다 & 그중 최대를 출력\n",
    "    res = max(res, bfs(n, i))\n",
    "    print(\"result : {}\".format(res))\n",
    "\n",
    "print(res)\n",
    "\n"
   ]
  },
  {
   "cell_type": "markdown",
   "metadata": {},
   "source": [
    "##### 바닥장식"
   ]
  },
  {
   "cell_type": "markdown",
   "metadata": {},
   "source": [
    "백준 1388"
   ]
  },
  {
   "cell_type": "markdown",
   "metadata": {},
   "source": [
    "- 형택이는 기훈이 방의 바닥 장식을 디자인했고, 이제 몇 개의 나무 판자가 필요한지 궁금해졌다.\n",
    "- 나무 판자는 크기 1의 너비를 가졌고, 양수의 길이를 가지고 있다.\n",
    "- 기훈이 방은 직사각형 모양이고, 방 안에는 벽과 평행한 모양의 정사각형으로 나누어져 있다.\n",
    "- 이제 ‘-’와 ‘|’로 이루어진 바닥 장식 모양이 주어진다.\n"
   ]
  },
  {
   "cell_type": "markdown",
   "metadata": {},
   "source": [
    "- 만약 두 개의 ‘-’가 인접해 있고, 같은 행에 있다면, 두 개는 같은 나무 판자이고, 두 개의 ‘|’가 인접해 있고, 같은 열에 있다면, 두 개는 같은 나무 판자이다.\n",
    "- 기훈이의 방 바닥을 장식하는데 필요한 나무 판자의 개수를 출력하는 프로그램을 작성하시오."
   ]
  },
  {
   "cell_type": "markdown",
   "metadata": {},
   "source": [
    "첫째 줄에 방 바닥의 세로 크기N과 가로 크기 M이 주어진다. \n",
    "\n",
    "둘째 줄부터 N개의 줄에 M개의 문자가 주어진다. 이것은 바닥 장식 모양이고, '-‘와 ’|‘로만 이루어져 있다. \n",
    "\n",
    "N과 M은 50 이하인 자연수이다."
   ]
  },
  {
   "cell_type": "code",
   "execution_count": 38,
   "metadata": {},
   "outputs": [
    {
     "data": {
      "text/plain": [
       "[['-', '-', '-', '-', '-', '-', '-', '-'],\n",
       " ['|', '-', '-', '-', '-', '-', '-', '|'],\n",
       " ['|', '|', '-', '-', '-', '-', '|', '|'],\n",
       " ['|', '|', '|', '-', '-', '|', '|', '|'],\n",
       " ['|', '|', '-', '-', '-', '-', '|', '|'],\n",
       " ['|', '-', '-', '-', '-', '-', '-', '|'],\n",
       " ['-', '-', '-', '-', '-', '-', '-', '-']]"
      ]
     },
     "execution_count": 38,
     "metadata": {},
     "output_type": "execute_result"
    }
   ],
   "source": [
    "n, m = map(int, input().split())\n",
    "\n",
    "graph = [list(input()) for _ in range(n)]\n",
    "graph"
   ]
  },
  {
   "cell_type": "code",
   "execution_count": 42,
   "metadata": {},
   "outputs": [
    {
     "name": "stdout",
     "output_type": "stream",
     "text": [
      "31\n"
     ]
    }
   ],
   "source": [
    "def dfs_h(x, y):\n",
    "    if x < 0 or y < 0 or x >= n or y >= m:\n",
    "        return False\n",
    "    if graph[x][y] == '-':\n",
    "        graph[x][y] = 'x'\n",
    "        dfs_h(x, y-1)\n",
    "        dfs_h(x, y+1)\n",
    "        return True\n",
    "    return False\n",
    "\n",
    "def dfs_v(x, y):\n",
    "    if x < 0 or y < 0 or x >= n or y >= m:\n",
    "        return False\n",
    "    if graph[x][y] == '|':\n",
    "        graph[x][y] = 'x'\n",
    "        dfs_h(x-1, y)\n",
    "        dfs_h(x+1, y)\n",
    "        return True\n",
    "    return False\n",
    "\n",
    "n, m = map(int, input().split())\n",
    "\n",
    "graph = [list(input()) for _ in range(n)]\n",
    "count = 0\n",
    "\n",
    "for i in range(n):\n",
    "    for j in range(m):\n",
    "        if graph[i][j] == '-':\n",
    "            dfs_h(i, j)\n",
    "            count += 1\n",
    "        elif graph[i][j] == '|':\n",
    "            dfs_v(i, j)\n",
    "            count += 1\n",
    "print(count)"
   ]
  },
  {
   "cell_type": "markdown",
   "metadata": {},
   "source": [
    "##### 바이러스\n",
    "\n",
    "\n",
    "\n",
    "\n"
   ]
  },
  {
   "cell_type": "markdown",
   "metadata": {},
   "source": [
    "백준 2606"
   ]
  },
  {
   "cell_type": "markdown",
   "metadata": {},
   "source": [
    "- 한 컴퓨터가 웜 바이러스에 걸리면 그 컴퓨터와 네트워크 상에서 연결되어 있는 모든 컴퓨터는 웜 바이러스에 걸리게 된다.\n",
    "- 어느 날 1번 컴퓨터가 웜 바이러스에 걸렸다. \n",
    "\n",
    "컴퓨터의 수와 네트워크 상에서 서로 연결되어 있는 정보가 주어질 때, 1번 컴퓨터를 통해 웜 바이러스에 걸리게 되는 컴퓨터의 수를 출력하는 프로그램을 작성하시오."
   ]
  },
  {
   "cell_type": "markdown",
   "metadata": {},
   "source": [
    "첫째 줄에는 컴퓨터의 수가 주어진다.  \n",
    "컴퓨터의 수는 100 이하이고 각 컴퓨터에는 1번 부터 차례대로 번호가 매겨진다.  \n",
    "둘째 줄에는 네트워크 상에서 직접 연결되어 있는 컴퓨터 쌍의 수가 주어진다.  \n",
    "이어서 그 수만큼 한 줄에 한 쌍씩 네트워크 상에서 직접 연결되어 있는 컴퓨터의 번호 쌍이 주어진다."
   ]
  },
  {
   "cell_type": "code",
   "execution_count": 101,
   "metadata": {},
   "outputs": [
    {
     "name": "stdout",
     "output_type": "stream",
     "text": [
      "1 2 1\n",
      "2 3 2\n",
      "3 4 3\n",
      "END 3\n",
      "END 3\n",
      "2 5 4\n",
      "5 6 5\n",
      "END 5\n",
      "END 5\n",
      "END 5\n",
      "5\n"
     ]
    }
   ],
   "source": [
    "N = int(input())\n",
    "n = int(input())\n",
    "\n",
    "graph = [[] for _ in range(N+1)]\n",
    "\n",
    "for i in range(n):\n",
    "    a, b = map(int, input().split())\n",
    "    graph[a].append(b)\n",
    "\n",
    "visited = [0] * (N+1)\n",
    "\n",
    "count = 0\n",
    "def dfs(graph, v, visited):\n",
    "    global count    \n",
    "    visited[v] = 1\n",
    "    for i in graph[v]:\n",
    "        if not visited[i]:\n",
    "            count += 1\n",
    "            # print(v, i, count)\n",
    "            dfs(graph, i, visited)\n",
    "        # print('END', count)\n",
    "    return count\n",
    "\n",
    "print(dfs(graph, 1, visited))    "
   ]
  },
  {
   "cell_type": "markdown",
   "metadata": {},
   "source": [
    "##### 음료수 얼려 먹기 한 번 더"
   ]
  },
  {
   "cell_type": "code",
   "execution_count": 103,
   "metadata": {},
   "outputs": [
    {
     "data": {
      "text/plain": [
       "[['0', '0', '1', '1', '0'],\n",
       " ['0', '0', '0', '1', '1'],\n",
       " ['1', '1', '1', '1', '1'],\n",
       " ['0', '0', '0', '0', '0']]"
      ]
     },
     "execution_count": 103,
     "metadata": {},
     "output_type": "execute_result"
    }
   ],
   "source": [
    "N, M = map(int, input().split())\n",
    "\n",
    "board = [list(input()) for _ in range(N)]\n",
    "board"
   ]
  },
  {
   "cell_type": "markdown",
   "metadata": {},
   "source": [
    "즉, 맨 왼쪽 위부터 차례로 모두 탐색해 0인 위치를 찾았으면 그 지점 기준으로 연결된 모든 0인 부분을 모두 1로 만들면 결과적으로 연결된 부분을 한 번만 카운트하게 되는 효과를 얻게 된다. \n",
    "\n",
    "다시 말해, 우리는 0인 부분의 총 개수를 구하는 것이 아닌 0으로 연결된 덩어리 개수를 구하므로 한 번만 카운트하면 된다. \n",
    "\n",
    "따라서, 0인 지점에서 카운트를 한 번하고 dfs 알고리즘을 통해 재귀적으로 연결된 모든 0인 부분을 1로 만들게 구현하면 된다. "
   ]
  },
  {
   "cell_type": "code",
   "execution_count": 107,
   "metadata": {},
   "outputs": [
    {
     "name": "stdout",
     "output_type": "stream",
     "text": [
      "0 0\n",
      "0 4\n",
      "3 0\n"
     ]
    }
   ],
   "source": [
    "\n",
    "def dfs(x, y):\n",
    "    if x <= -1 or x >= N or y <= -1 or y >= M:\n",
    "        return False\n",
    "    if board[x][y] == '0':\n",
    "        board[x][y] = '1'\n",
    "        dfs(x-1, y)\n",
    "        dfs(x+1, y)\n",
    "        dfs(x, y-1)\n",
    "        dfs(x, y+1)\n",
    "        return True\n",
    "    return False\n",
    "result = 0\n",
    "for i in range(N):\n",
    "    for j in range(M):\n",
    "        if dfs(i, j) == True:\n",
    "            print(i,j)\n",
    "            result+=1\n"
   ]
  },
  {
   "cell_type": "markdown",
   "metadata": {},
   "source": [
    "##### 미로 탈출 한 번 더"
   ]
  },
  {
   "cell_type": "code",
   "execution_count": 111,
   "metadata": {},
   "outputs": [],
   "source": [
    "N, M = map(int, input().split())\n",
    "\n",
    "graph = []    \n",
    "for i in range(N):\n",
    "    graph.append(list(map(int, input())))"
   ]
  },
  {
   "cell_type": "code",
   "execution_count": 112,
   "metadata": {},
   "outputs": [
    {
     "data": {
      "text/plain": [
       "[[1, 0, 1, 0, 1, 0],\n",
       " [1, 1, 1, 1, 1, 1],\n",
       " [0, 0, 0, 0, 0, 1],\n",
       " [1, 1, 1, 1, 1, 1],\n",
       " [1, 1, 1, 1, 1, 1]]"
      ]
     },
     "execution_count": 112,
     "metadata": {},
     "output_type": "execute_result"
    }
   ],
   "source": [
    "graph"
   ]
  },
  {
   "cell_type": "code",
   "execution_count": 113,
   "metadata": {},
   "outputs": [],
   "source": [
    "from collections import deque\n",
    "from distutils import dep_util\n",
    "\n",
    "dx = [1,-1, 0, 0]\n",
    "dy = [0, 0, 1, -1]\n",
    "\n",
    "def bfs(x, y):\n",
    "    queue = deque()\n",
    "    queue.append((x,y))\n",
    "    while queue:\n",
    "        x, y = queue.popleft()\n",
    "        for i in range(4):\n",
    "            nx = x + dx[i]\n",
    "            ny = y + dy[i]\n",
    "            if nx < 0 or nx >= N or ny < 0 or ny >= M:\n",
    "                continue\n",
    "            if graph[nx][ny] == 0:\n",
    "                continue\n",
    "            if graph[nx][ny] == 1:\n",
    "                graph[nx][ny] = graph[nx][ny]+ graph[x][y]\n",
    "                queue.append((nx,ny))\n",
    "    return graph[N-1][M-1]\n",
    "\n",
    "print(bfs(0,0))"
   ]
  },
  {
   "cell_type": "code",
   "execution_count": 114,
   "metadata": {},
   "outputs": [
    {
     "data": {
      "text/plain": [
       "10"
      ]
     },
     "execution_count": 114,
     "metadata": {},
     "output_type": "execute_result"
    }
   ],
   "source": []
  },
  {
   "cell_type": "code",
   "execution_count": null,
   "metadata": {},
   "outputs": [],
   "source": []
  }
 ],
 "metadata": {
  "kernelspec": {
   "display_name": "Python 3.8.13 ('algorithm')",
   "language": "python",
   "name": "python3"
  },
  "language_info": {
   "codemirror_mode": {
    "name": "ipython",
    "version": 3
   },
   "file_extension": ".py",
   "mimetype": "text/x-python",
   "name": "python",
   "nbconvert_exporter": "python",
   "pygments_lexer": "ipython3",
   "version": "3.8.13"
  },
  "orig_nbformat": 4,
  "vscode": {
   "interpreter": {
    "hash": "ee431ac274e33366c10c3ac30cd4fb33ff3ed0dd6a8cc3f05073bd47291a9c12"
   }
  }
 },
 "nbformat": 4,
 "nbformat_minor": 2
}
