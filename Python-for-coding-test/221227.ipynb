{
 "cells": [
  {
   "attachments": {},
   "cell_type": "markdown",
   "metadata": {},
   "source": [
    "Today 2022.12.27\n",
    "\n",
    "\n",
    "## Title 소수 찾기\n",
    "\n",
    "\n",
    "BOJ # 1978\n",
    "\n",
    "\n",
    "LV # Silver 5\n",
    "\n",
    "\n",
    "Tag # Implementation"
   ]
  },
  {
   "attachments": {},
   "cell_type": "markdown",
   "metadata": {},
   "source": [
    "주어진 수 N개 중에서 소수가 몇 개인지 찾아서 출력하는 프로그램을 작성하시오."
   ]
  },
  {
   "cell_type": "code",
   "execution_count": 5,
   "metadata": {},
   "outputs": [
    {
     "name": "stdout",
     "output_type": "stream",
     "text": [
      "3\n"
     ]
    }
   ],
   "source": [
    "N = int(input())\n",
    "l = list(map(int, input().split()))\n",
    "\n",
    "count = 0\n",
    "for x in l:\n",
    "    if x == 1:\n",
    "        continue\n",
    "    count_now = 0\n",
    "    for y in range(1, x):\n",
    "        if x % y == 0:\n",
    "            count_now += 1\n",
    "    if count_now == 1:\n",
    "        count += 1\n",
    "print(count)"
   ]
  },
  {
   "attachments": {},
   "cell_type": "markdown",
   "metadata": {},
   "source": [
    "Today 2022.12.27\n",
    "\n",
    "\n",
    "## Title 스택 수열\n",
    "\n",
    "\n",
    "BOJ # 1874\n",
    "\n",
    "\n",
    "LV # Silver 3\n",
    "\n",
    "\n",
    "Tag # Data Structure / Stack"
   ]
  },
  {
   "attachments": {},
   "cell_type": "markdown",
   "metadata": {},
   "source": [
    "스택 (stack)은 기본적인 자료구조 중 하나로, 컴퓨터 프로그램을 작성할 때 자주 이용되는 개념이다. \n",
    "\n",
    "스택은 자료를 넣는 (push) 입구와 자료를 뽑는 (pop) 입구가 같아 제일 나중에 들어간 자료가 제일 먼저 나오는 (LIFO, Last in First out) 특성을 가지고 있다.\n",
    "\n",
    "1부터 n까지의 수를 스택에 넣었다가 뽑아 늘어놓음으로써, 하나의 수열을 만들 수 있다. 이때, 스택에 push하는 순서는 반드시 오름차순을 지키도록 한다고 하자. \n",
    "\n",
    "임의의 수열이 주어졌을 때 스택을 이용해 그 수열을 만들 수 있는지 없는지, 있다면 어떤 순서로 push와 pop 연산을 수행해야 하는지를 알아낼 수 있다. 이를 계산하는 프로그램을 작성하라."
   ]
  },
  {
   "cell_type": "code",
   "execution_count": 31,
   "metadata": {},
   "outputs": [
    {
     "name": "stdout",
     "output_type": "stream",
     "text": [
      "+\n",
      "+\n",
      "+\n",
      "+\n",
      "-\n",
      "-\n",
      "+\n",
      "+\n",
      "-\n",
      "+\n",
      "+\n",
      "-\n",
      "-\n",
      "-\n",
      "-\n",
      "-\n"
     ]
    }
   ],
   "source": [
    "n = int(input())\n",
    "s = []\n",
    "answer = []\n",
    "just = True\n",
    "for _ in range(n):\n",
    "    now = int(input())\n",
    "    if len(s) == 0:\n",
    "        for i in range(1, now+1):\n",
    "            answer.append('+')\n",
    "            s.append(i)\n",
    "        new = s[-1] + 1\n",
    "    else:\n",
    "        if just == True:\n",
    "            answer.append('-')\n",
    "            s.pop()\n",
    "            just = False\n",
    "        if now in s:\n",
    "            flag = False\n",
    "            while flag == False:\n",
    "                check = s.pop()\n",
    "                answer.append('-')\n",
    "                if check == now:\n",
    "                    flag = True\n",
    "        else:\n",
    "            if new > now:\n",
    "                answer.append('NO')\n",
    "            else:\n",
    "                while new != now:\n",
    "                    s.append(new)\n",
    "                    new += 1\n",
    "                    answer.append('+')\n",
    "                if new == now:\n",
    "                    answer.append('+')\n",
    "                    answer.append('-')\n",
    "                    new += 1\n",
    "if 'NO' in answer:\n",
    "    print('NO')\n",
    "else:\n",
    "    for x in answer:\n",
    "        print(x)"
   ]
  },
  {
   "cell_type": "code",
   "execution_count": 35,
   "metadata": {},
   "outputs": [
    {
     "name": "stdout",
     "output_type": "stream",
     "text": [
      "+\n",
      "-\n"
     ]
    }
   ],
   "source": [
    "n = int(input())\n",
    "s = []\n",
    "answer = []\n",
    "just = True\n",
    "\n",
    "if n == 1:\n",
    "    print('+')\n",
    "    print('-')\n",
    "else:\n",
    "    for _ in range(n):\n",
    "        now = int(input())\n",
    "        if len(s) == 0:\n",
    "            for i in range(1, now+1):\n",
    "                answer.append('+')\n",
    "                s.append(i)\n",
    "            new = s[-1] + 1\n",
    "        else:\n",
    "            if just == True:\n",
    "                answer.append('-')\n",
    "                s.pop()\n",
    "                just = False\n",
    "            if now in s:\n",
    "                flag = False\n",
    "                while flag == False:\n",
    "                    check = s.pop()\n",
    "                    answer.append('-')\n",
    "                    if check == now:\n",
    "                        flag = True\n",
    "            else:\n",
    "                if new > now:\n",
    "                    answer.append('NO')\n",
    "                else:\n",
    "                    while new != now:\n",
    "                        s.append(new)\n",
    "                        new += 1\n",
    "                        answer.append('+')\n",
    "                    if new == now:\n",
    "                        answer.append('+')\n",
    "                        answer.append('-')\n",
    "                        new += 1\n",
    "    if 'NO' in answer:\n",
    "        print('NO')\n",
    "    else:\n",
    "        for x in answer:\n",
    "            print(x)"
   ]
  },
  {
   "cell_type": "code",
   "execution_count": null,
   "metadata": {},
   "outputs": [],
   "source": [
    "n = int(input())\n",
    "stack = []\n",
    "answer = []\n",
    "flag = 0\n",
    "cur = 1\n",
    "for i in range(n):\n",
    "    num = int(input())\n",
    "    while cur <= num:       \n",
    "        stack.append(cur)\n",
    "        answer.append(\"+\")\n",
    "        cur += 1\n",
    "\n",
    "    if stack[-1] == num:   \n",
    "        stack.pop()         \n",
    "        answer.append(\"-\")\n",
    "    else:                   \n",
    "        print(\"NO\")        \n",
    "        flag = 1            \n",
    "        break               \n",
    "\n",
    "if flag == 0:\n",
    "    for i in answer:\n",
    "        print(i)"
   ]
  }
 ],
 "metadata": {
  "kernelspec": {
   "display_name": "AUTOVC",
   "language": "python",
   "name": "python3"
  },
  "language_info": {
   "codemirror_mode": {
    "name": "ipython",
    "version": 3
   },
   "file_extension": ".py",
   "mimetype": "text/x-python",
   "name": "python",
   "nbconvert_exporter": "python",
   "pygments_lexer": "ipython3",
   "version": "3.8.13"
  },
  "orig_nbformat": 4,
  "vscode": {
   "interpreter": {
    "hash": "83701494a915308841c98d90e1627ab32994947d5b938ec1dfda5c4da74c3582"
   }
  }
 },
 "nbformat": 4,
 "nbformat_minor": 2
}
