{
 "cells": [
  {
   "cell_type": "code",
   "execution_count": 1,
   "metadata": {},
   "outputs": [],
   "source": [
    "import numpy as np\n",
    "import pandas as pd\n",
    "import random\n",
    "import time"
   ]
  },
  {
   "cell_type": "markdown",
   "metadata": {},
   "source": [
    "##### 무지의 먹방 라이브"
   ]
  },
  {
   "cell_type": "markdown",
   "metadata": {},
   "source": [
    "- 2019 KAKAO BLIND RECRUITMENT  \n",
    "\n",
    "- 평소 식욕이 왕성한 무지는 자신의 재능을 뽐내고 싶어 졌고, 고민 끝에 카카오 TV 라이브로 방송을 하기로 마음먹었다.   \n",
    "그냥 먹방을 하면 다른 방송과 차별성이 없기 때문에 무지는 아래와 같이 독특한 방식을 생각해냈다.\n",
    "\n",
    "- 회전판에 먹어야 할 N 개의 음식이 있다. 각 음식에는 1부터 N 까지 번호가 붙어있으며,  \n",
    "각 음식을 섭취하는데 일정 시간이 소요된다. \n",
    "\n",
    "  무지는 다음과 같은 방법으로 음식을 섭취한다.\n",
    "    - 무지는 1번 음식부터 먹기 시작하며, 회전판은 번호가 증가하는 순서대로 음식을 무지 앞으로 가져다 놓는다.\n",
    "    - 마지막 번호의 음식을 섭취한 후에는 회전판에 의해 다시 1번 음식이 무지 앞으로 온다.\n",
    "    - 무지는 음식 하나를 1초 동안 섭취한 후 남은 음식은 그대로 두고, 다음 음식을 섭취한다.\n",
    "    - 다음 음식이란, 아직 남은 음식 중 다음으로 섭취해야 할 가장 가까운 번호의 음식을 말한다.\n",
    "    - 회전판이 다음 음식을 무지 앞으로 가져오는데 걸리는 시간은 없다고 가정한다.\n",
    "\n",
    "무지가 먹방을 시작한 지 K 초 후에 네트워크 장애로 인해 방송이 잠시 중단되었다.  \n",
    "무지는 네트워크 정상화 후 다시 방송을 이어갈 때, 몇 번 음식부터 섭취해야 하는지를 알고자 한다.  \n",
    "각 음식을 모두 먹는데 필요한 시간이 담겨있는 배열 food_times,  \n",
    "네트워크 장애가 발생한 시간 K 초가 매개변수로 주어질 때 몇 번 음식부터 다시 섭취하면 되는지  \n",
    "return 하도록 solution 함수를 완성하라."
   ]
  },
  {
   "cell_type": "code",
   "execution_count": null,
   "metadata": {},
   "outputs": [],
   "source": [
    "# 실패\n",
    "def solution(food_times, k):\n",
    "    #food_times = [5,3,4]\n",
    "    #k = 6\n",
    "    k_check = 0\n",
    "    answer= 0\n",
    "    flag = True\n",
    "    while flag == True:\n",
    "        for time in range(len(food_times)):\n",
    "            if max(food_times) == 0:\n",
    "                answer = -1\n",
    "                break\n",
    "            if food_times[time] == 0:\n",
    "                continue\n",
    "            food_times[time] -= 1\n",
    "            k_check += 1\n",
    "            print(food_times)\n",
    "            print(k_check)\n",
    "            if k_check == k:\n",
    "                flag = False\n",
    "                answer = food_times.index(food_times[time])\n",
    "                print(\"ANSWER = {}\".format(answer))\n",
    "                break\n",
    "    return answer"
   ]
  }
 ],
 "metadata": {
  "kernelspec": {
   "display_name": "Python 3.8.13 ('algorithm')",
   "language": "python",
   "name": "python3"
  },
  "language_info": {
   "codemirror_mode": {
    "name": "ipython",
    "version": 3
   },
   "file_extension": ".py",
   "mimetype": "text/x-python",
   "name": "python",
   "nbconvert_exporter": "python",
   "pygments_lexer": "ipython3",
   "version": "3.8.13"
  },
  "orig_nbformat": 4,
  "vscode": {
   "interpreter": {
    "hash": "ee431ac274e33366c10c3ac30cd4fb33ff3ed0dd6a8cc3f05073bd47291a9c12"
   }
  }
 },
 "nbformat": 4,
 "nbformat_minor": 2
}
