{
 "cells": [
  {
   "cell_type": "markdown",
   "metadata": {},
   "source": [
    "Today 2022.09.16\n",
    "\n",
    "\n",
    "## Title DFS BFS 복습"
   ]
  },
  {
   "cell_type": "code",
   "execution_count": 20,
   "metadata": {},
   "outputs": [
    {
     "data": {
      "text/plain": [
       "[[], [2, 3, 4], [1, 4], [1, 4], [1, 2, 3]]"
      ]
     },
     "execution_count": 20,
     "metadata": {},
     "output_type": "execute_result"
    }
   ],
   "source": [
    "N, M, V = map(int, input().split())\n",
    "\n",
    "graph = [[] for _ in range(N+1)]\n",
    "\n",
    "for i in range(M):\n",
    "    a, b = map(int, input().split())\n",
    "    graph[a].append(b)\n",
    "    graph[b].append(a)\n",
    "\n",
    "for x in graph:\n",
    "    x.sort()\n",
    "graph"
   ]
  },
  {
   "cell_type": "code",
   "execution_count": 21,
   "metadata": {},
   "outputs": [
    {
     "name": "stdout",
     "output_type": "stream",
     "text": [
      "1 2 4 3 \n",
      "1 2 3 4 "
     ]
    }
   ],
   "source": [
    "visited = [False] * (N+1)\n",
    "result_dfs = []\n",
    "def dfs(v):\n",
    "    global result_dfs\n",
    "    if visited[v] == False:\n",
    "        visited[v] = True\n",
    "        result_dfs.append(v)\n",
    "        for x in graph[v]:\n",
    "            dfs(x)\n",
    "\n",
    "from collections import deque\n",
    "\n",
    "visited2 = [False] * (N+1)\n",
    "visited2[V] = True\n",
    "result_bfs = []\n",
    "def bfs(v):\n",
    "    q = deque([v])\n",
    "    while q:\n",
    "        now = q.popleft()\n",
    "        result_bfs.append(now)\n",
    "        for x in graph[now]:\n",
    "            if visited2[x] == False:\n",
    "                visited2[x] = True\n",
    "                q.append(x)        \n",
    "\n",
    "dfs(V)\n",
    "bfs(V)\n",
    "\n",
    "for x in result_dfs:\n",
    "    print(x, end=' ')\n",
    "print()\n",
    "for x in result_bfs:\n",
    "    print(x, end=' ')\n",
    "\n"
   ]
  },
  {
   "cell_type": "markdown",
   "metadata": {},
   "source": [
    "Today 2022.09.16\n",
    "\n",
    "\n",
    "## Title Binary Search 복습"
   ]
  },
  {
   "cell_type": "code",
   "execution_count": 23,
   "metadata": {},
   "outputs": [],
   "source": [
    "N = int(input())\n",
    "L = list(map(int, input().split()))\n",
    "N2 = int(input())\n",
    "T = list(map(int, input().split()))"
   ]
  },
  {
   "cell_type": "code",
   "execution_count": 24,
   "metadata": {},
   "outputs": [
    {
     "data": {
      "text/plain": [
       "[1, 2, 3, 4, 5]"
      ]
     },
     "execution_count": 24,
     "metadata": {},
     "output_type": "execute_result"
    }
   ],
   "source": [
    "L.sort()\n",
    "L"
   ]
  },
  {
   "cell_type": "code",
   "execution_count": 26,
   "metadata": {},
   "outputs": [
    {
     "name": "stdout",
     "output_type": "stream",
     "text": [
      "1\n",
      "1\n",
      "0\n",
      "0\n",
      "1\n"
     ]
    }
   ],
   "source": [
    "def binary_search(array, target, start, end):\n",
    "    while start <= end:\n",
    "        mid = (start+end) // 2\n",
    "        if L[mid] == target:\n",
    "            return mid\n",
    "        elif L[mid] > target:\n",
    "            end = mid - 1\n",
    "        else:\n",
    "            start = mid + 1\n",
    "    return None\n",
    "\n",
    "for t in T:\n",
    "    result = binary_search(L, t, 0, N-1)\n",
    "    if result == None:\n",
    "        print(0)\n",
    "    else:\n",
    "        print(1)\n"
   ]
  },
  {
   "cell_type": "markdown",
   "metadata": {},
   "source": [
    "Today 2022.09.16\n",
    "\n",
    "\n",
    "## Title 다이나믹 프로그래밍 복습"
   ]
  },
  {
   "cell_type": "code",
   "execution_count": 27,
   "metadata": {},
   "outputs": [
    {
     "data": {
      "text/plain": [
       "[1, 1, 1, 1, 1, 1]"
      ]
     },
     "execution_count": 27,
     "metadata": {},
     "output_type": "execute_result"
    }
   ],
   "source": [
    "n = int(input())\n",
    "l = list(map(int, input().split()))\n",
    "\n",
    "dp = [1 for i in range(n)]\n",
    "dp\n"
   ]
  },
  {
   "cell_type": "code",
   "execution_count": 34,
   "metadata": {},
   "outputs": [
    {
     "data": {
      "text/plain": [
       "[1, 1, 1, 1, 1, 1]"
      ]
     },
     "execution_count": 34,
     "metadata": {},
     "output_type": "execute_result"
    }
   ],
   "source": [
    "dp = [1, 1, 1, 1, 1, 1]\n",
    "dp"
   ]
  },
  {
   "cell_type": "code",
   "execution_count": 35,
   "metadata": {},
   "outputs": [
    {
     "data": {
      "text/plain": [
       "[10, 20, 10, 30, 20, 50]"
      ]
     },
     "execution_count": 35,
     "metadata": {},
     "output_type": "execute_result"
    }
   ],
   "source": [
    "l"
   ]
  },
  {
   "cell_type": "code",
   "execution_count": 36,
   "metadata": {},
   "outputs": [
    {
     "name": "stdout",
     "output_type": "stream",
     "text": [
      "1 0 [1, 2, 1, 1, 1, 1]\n",
      "3 0 [1, 2, 1, 2, 1, 1]\n",
      "3 1 [1, 2, 1, 3, 1, 1]\n",
      "3 2 [1, 2, 1, 3, 1, 1]\n",
      "4 0 [1, 2, 1, 3, 2, 1]\n",
      "4 2 [1, 2, 1, 3, 2, 1]\n",
      "5 0 [1, 2, 1, 3, 2, 2]\n",
      "5 1 [1, 2, 1, 3, 2, 3]\n",
      "5 2 [1, 2, 1, 3, 2, 3]\n",
      "5 3 [1, 2, 1, 3, 2, 4]\n",
      "5 4 [1, 2, 1, 3, 2, 4]\n"
     ]
    }
   ],
   "source": [
    "for i in range(n):\n",
    "    for j in range(i):\n",
    "        if l[i] > l[j]:\n",
    "            dp[i] = max(dp[i], dp[j]+1)\n",
    "            print(i, j, dp)"
   ]
  },
  {
   "cell_type": "code",
   "execution_count": null,
   "metadata": {},
   "outputs": [],
   "source": []
  },
  {
   "cell_type": "code",
   "execution_count": null,
   "metadata": {},
   "outputs": [],
   "source": []
  },
  {
   "cell_type": "code",
   "execution_count": null,
   "metadata": {},
   "outputs": [],
   "source": []
  },
  {
   "cell_type": "code",
   "execution_count": null,
   "metadata": {},
   "outputs": [],
   "source": []
  },
  {
   "cell_type": "code",
   "execution_count": null,
   "metadata": {},
   "outputs": [],
   "source": []
  },
  {
   "cell_type": "code",
   "execution_count": null,
   "metadata": {},
   "outputs": [],
   "source": []
  },
  {
   "cell_type": "code",
   "execution_count": null,
   "metadata": {},
   "outputs": [],
   "source": []
  },
  {
   "cell_type": "code",
   "execution_count": null,
   "metadata": {},
   "outputs": [],
   "source": []
  },
  {
   "cell_type": "code",
   "execution_count": null,
   "metadata": {},
   "outputs": [],
   "source": []
  },
  {
   "cell_type": "code",
   "execution_count": null,
   "metadata": {},
   "outputs": [],
   "source": []
  },
  {
   "cell_type": "code",
   "execution_count": null,
   "metadata": {},
   "outputs": [],
   "source": []
  },
  {
   "cell_type": "code",
   "execution_count": null,
   "metadata": {},
   "outputs": [],
   "source": []
  },
  {
   "cell_type": "code",
   "execution_count": null,
   "metadata": {},
   "outputs": [],
   "source": []
  },
  {
   "cell_type": "code",
   "execution_count": null,
   "metadata": {},
   "outputs": [],
   "source": []
  },
  {
   "cell_type": "code",
   "execution_count": null,
   "metadata": {},
   "outputs": [],
   "source": []
  },
  {
   "cell_type": "code",
   "execution_count": null,
   "metadata": {},
   "outputs": [],
   "source": []
  },
  {
   "cell_type": "code",
   "execution_count": null,
   "metadata": {},
   "outputs": [],
   "source": []
  }
 ],
 "metadata": {
  "kernelspec": {
   "display_name": "Python 3.8.13 ('AUTOVC': conda)",
   "language": "python",
   "name": "python3"
  },
  "language_info": {
   "codemirror_mode": {
    "name": "ipython",
    "version": 3
   },
   "file_extension": ".py",
   "mimetype": "text/x-python",
   "name": "python",
   "nbconvert_exporter": "python",
   "pygments_lexer": "ipython3",
   "version": "3.8.13"
  },
  "orig_nbformat": 4,
  "vscode": {
   "interpreter": {
    "hash": "83701494a915308841c98d90e1627ab32994947d5b938ec1dfda5c4da74c3582"
   }
  }
 },
 "nbformat": 4,
 "nbformat_minor": 2
}
