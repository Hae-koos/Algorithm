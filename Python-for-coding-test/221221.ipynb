{
 "cells": [
  {
   "attachments": {},
   "cell_type": "markdown",
   "metadata": {},
   "source": [
    "Today 2022.12.21\n",
    "\n",
    "\n",
    "## Title 외판원 순회 2\n",
    "\n",
    "\n",
    "BOJ # 10971\n",
    "\n",
    "\n",
    "LV # Silver 2\n",
    "\n",
    "\n",
    "Tag # TSP"
   ]
  },
  {
   "attachments": {},
   "cell_type": "markdown",
   "metadata": {},
   "source": [
    "1번부터 N번까지 번호가 매겨져 있는 도시들이 있고, 도시들 사이에는 길이 있다. (길이 없을 수도 있다) 이제 한 외판원이 어느 한 도시에서 출발해 N개의 도시를 모두 거쳐 다시 원래의 도시로 돌아오는 순회 여행 경로를 계획하려고 한다.\n",
    "\n",
    "각 도시간에 이동하는데 드는 비용은 행렬 W[i][j]형태로 주어진다. W[i][j]는 도시 i에서 도시 j로 가기 위한 비용을 나타낸다. 비용은 대칭적이지 않다. 즉, W[i][j] 는 W[j][i]와 다를 수 있다. 모든 도시간의 비용은 양의 정수이다. \n",
    "\n",
    "W[i][i]는 항상 0이다. 경우에 따라서 도시 i에서 도시 j로 갈 수 없는 경우도 있으며 이럴 경우 W[i][j]=0이라고 하자.\n",
    "\n",
    "N과 비용 행렬이 주어졌을 때, 가장 적은 비용을 들이는 외판원의 순회 여행 경로를 구하는 프로그램을 작성하시오.\n"
   ]
  },
  {
   "cell_type": "code",
   "execution_count": 1,
   "metadata": {},
   "outputs": [
    {
     "data": {
      "text/plain": [
       "[[0, 10, 15, 20], [5, 0, 9, 10], [6, 13, 0, 12], [8, 8, 9, 0]]"
      ]
     },
     "execution_count": 1,
     "metadata": {},
     "output_type": "execute_result"
    }
   ],
   "source": [
    "N = int(input())\n",
    "graph = []\n",
    "for _ in range(N):\n",
    "    graph.append(list(map(int, input().split())))\n",
    "graph"
   ]
  },
  {
   "cell_type": "code",
   "execution_count": 6,
   "metadata": {},
   "outputs": [
    {
     "name": "stdout",
     "output_type": "stream",
     "text": [
      "35\n"
     ]
    }
   ],
   "source": [
    "import sys\n",
    "from itertools import permutations\n",
    "\n",
    "re = sys.maxsize\n",
    "\n",
    "N = int(input())\n",
    "graph = []\n",
    "for _ in range(N):\n",
    "    graph.append(list(map(int, input().split())))\n",
    "\n",
    "t = list(permutations(list(i for i in range(N)), N))\n",
    "\n",
    "for k in t:\n",
    "    c = 0\n",
    "    e = 0\n",
    "    for i in range(N-1):\n",
    "        if graph[k[i]][k[i+1]] != 0:\n",
    "            c += graph[k[i]][k[i+1]]\n",
    "        else:\n",
    "            e = 1\n",
    "            break\n",
    "    if graph[k[N-1]][k[0]] != 0:\n",
    "        c += graph[k[N-1]][k[0]]\n",
    "    else: e = 1\n",
    "\n",
    "    if e == 0:\n",
    "        re = min(re,c)\n",
    "\n",
    "print(re)"
   ]
  },
  {
   "attachments": {},
   "cell_type": "markdown",
   "metadata": {},
   "source": [
    "Today 2022.12.21\n",
    "\n",
    "\n",
    "## Title 컴백홈\n",
    "\n",
    "\n",
    "BOJ # 1189\n",
    "\n",
    "\n",
    "LV # Silver 1"
   ]
  },
  {
   "attachments": {},
   "cell_type": "markdown",
   "metadata": {},
   "source": [
    "한수는 캠프를 마치고 집에 돌아가려 한다. 한수는 현재 왼쪽 아래점에 있고 집은 오른쪽 위에 있다. 그리고 한수는 집에 돌아가는 방법이 다양하다. 단, 한수는 똑똑하여 한번 지나친 곳을 다시 방문하지는 않는다.\n",
    "\n",
    "      cdef  ...f  ..ef  ..gh  cdeh  cdej  ...f \n",
    "      bT..  .T.e  .Td.  .Tfe  bTfg  bTfi  .Tde \n",
    "      a...  abcd  abc.  abcd  a...  a.gh  abc. \n",
    "\n",
    "거리 :  6     6     6     8     8    10    6\n",
    "\n",
    "위 예제는 한수가 집에 돌아갈 수 있는 모든 경우를 나타낸 것이다. T로 표시된 부분은 가지 못하는 부분이다. 문제는 R x C 맵에 못가는 부분이 주어지고 거리 K가 주어지면 한수가 집까지도 도착하는 경우 중 거리가 K인 가짓수를 구하는 것이다."
   ]
  },
  {
   "cell_type": "code",
   "execution_count": 13,
   "metadata": {},
   "outputs": [
    {
     "data": {
      "text/plain": [
       "[[0, 0, 0, 0], [0, -1, 0, 0], [0, 0, 0, 0]]"
      ]
     },
     "execution_count": 13,
     "metadata": {},
     "output_type": "execute_result"
    }
   ],
   "source": [
    "R, C, K = map(int, input().split())\n",
    "graph = []\n",
    "for _ in range(R):\n",
    "    l = list(input().split())\n",
    "    lr = []\n",
    "    for x in l:\n",
    "        if x == '.':\n",
    "            lr.append(0)\n",
    "        else:\n",
    "            lr.append(-1)\n",
    "    graph.append(lr)"
   ]
  },
  {
   "cell_type": "code",
   "execution_count": null,
   "metadata": {},
   "outputs": [],
   "source": [
    "n, m, K = map(int, input().split())\n",
    "graph = [list(input()) for _ in range(n)]\n",
    "answer = 0\n",
    "\n",
    "def rec_fun(x, y, k):\n",
    "    global answer\n",
    "    if k == K:\n",
    "        if (x, y) == (0, m - 1): answer += 1\n",
    "    else:\n",
    "        for dx, dy in ((1, 0), (-1, 0), (0, 1), (0, -1)):\n",
    "            nx, ny = x + dx, y + dy\n",
    "            if 0 <= nx < n and 0 <= ny < m and graph[nx][ny] != 'T':\n",
    "                graph[nx][ny] = 'T'\n",
    "                rec_fun(nx, ny, k + 1)\n",
    "                graph[nx][ny] = '.'\n",
    "\n",
    "graph[n - 1][0] = 'T' # 시작 지점 방문 처리\n",
    "rec_fun(n - 1, 0, 1)\n",
    "print(answer)"
   ]
  }
 ],
 "metadata": {
  "kernelspec": {
   "display_name": "AUTOVC",
   "language": "python",
   "name": "python3"
  },
  "language_info": {
   "codemirror_mode": {
    "name": "ipython",
    "version": 3
   },
   "file_extension": ".py",
   "mimetype": "text/x-python",
   "name": "python",
   "nbconvert_exporter": "python",
   "pygments_lexer": "ipython3",
   "version": "3.8.13"
  },
  "orig_nbformat": 4,
  "vscode": {
   "interpreter": {
    "hash": "83701494a915308841c98d90e1627ab32994947d5b938ec1dfda5c4da74c3582"
   }
  }
 },
 "nbformat": 4,
 "nbformat_minor": 2
}
