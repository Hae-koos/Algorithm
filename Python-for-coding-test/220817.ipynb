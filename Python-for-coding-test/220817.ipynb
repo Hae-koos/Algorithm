{
 "cells": [
  {
   "cell_type": "markdown",
   "metadata": {},
   "source": [
    "Today 2022.08.17\n",
    "\n",
    "\n",
    "## Title 공유기 설치\n",
    "\n",
    "\n",
    "BOJ # 2110\n",
    "\n",
    "\n",
    "LV # Gold 5\n",
    "\n",
    "\n",
    "Tag # Binary Search"
   ]
  },
  {
   "cell_type": "markdown",
   "metadata": {},
   "source": [
    "도현의 집 N개가 수직선 위에 있다.  \n",
    "언제 어디서나 와이파이를 즐기기 위해 집에 공유기 C개를 설치하려고 한다.  \n",
    "최대한 많은 곳에서 와이파이를 사용하려고 하기 떄문에, 한 집에는 공유기를 하나만 설치할 수 있고, 가장 인접한 두 공유기 사이의 거리를 가능한 크게 하여 설치하려고 한다.   "
   ]
  },
  {
   "cell_type": "markdown",
   "metadata": {},
   "source": [
    "C개의 공유기를 N개의 집에 적당히 설치해서  \n",
    "가장 인접한 두 공유기 사이의 거리를 최대로 하는 프로그램을 작성하라"
   ]
  },
  {
   "cell_type": "code",
   "execution_count": 1,
   "metadata": {},
   "outputs": [],
   "source": [
    "N, C = map(int, input().split())\n",
    "P = []\n",
    "for _ in range(N):\n",
    "    P.append(int(input()))"
   ]
  },
  {
   "cell_type": "code",
   "execution_count": 2,
   "metadata": {},
   "outputs": [
    {
     "data": {
      "text/plain": [
       "[1, 2, 4, 8, 9]"
      ]
     },
     "execution_count": 2,
     "metadata": {},
     "output_type": "execute_result"
    }
   ],
   "source": [
    "P = sorted(P)\n",
    "P"
   ]
  },
  {
   "cell_type": "markdown",
   "metadata": {},
   "source": [
    "시작도 못했다,,"
   ]
  },
  {
   "cell_type": "markdown",
   "metadata": {},
   "source": [
    "이분 탐색을 수행하는데 1 2 4 8 9의 중앙값이 4가 mid가 되는 것이 아니라  \n",
    "집들 사이의 최소거리와 최대거리의 중앙인 (1+8) // 2 = 4 가 중앙이 된다  \n",
    "예제에서는 mid가 4이기 때문에 1다음의 집인 2까지의 거리는 1로, 공유기를 설치할 수 없다.  \n",
    "그 다음 집까지 거리는 3밖에 되지 않으니 설치할 수 없고,  \n",
    "그 다음 집까지 거리는 7이니 설치가 가능하다."
   ]
  },
  {
   "cell_type": "markdown",
   "metadata": {},
   "source": [
    "즉, 공유기 설치 간격을 4라고 하면 1 8 이렇게 두 개밖에 설치 못하니 원하는 3보다 작고,  \n",
    "그렇다면 간격을 좁힌 뒤 실행해야 한다."
   ]
  },
  {
   "cell_type": "code",
   "execution_count": 4,
   "metadata": {},
   "outputs": [
    {
     "name": "stdout",
     "output_type": "stream",
     "text": [
      "3\n"
     ]
    }
   ],
   "source": [
    "N, C = map(int, input().split())\n",
    "P = [int(input()) for i in range(N)]\n",
    "P.sort()\n",
    "start, end = 1, P[N-1]-P[0]\n",
    "\n",
    "if C == 2:\n",
    "    print(P[N-1]-P[0])\n",
    "else:\n",
    "    while start < end:\n",
    "        mid = (start+end)//2\n",
    "        count = 1\n",
    "        ts = P[0]\n",
    "        for i in range(N):\n",
    "            if P[i] - ts >= mid:\n",
    "                count+=1\n",
    "                ts = P[i]\n",
    "        if count >= C:\n",
    "            result = mid\n",
    "            start = mid + 1\n",
    "        elif count < C:\n",
    "            end = mid\n",
    "    print(result)"
   ]
  },
  {
   "cell_type": "markdown",
   "metadata": {},
   "source": [
    "Today 2022.08.17\n",
    "\n",
    "\n",
    "## Title 유기농 배추 Retry\n",
    "\n",
    "\n",
    "BOJ # 1012\n",
    "\n",
    "\n",
    "LV # Silver 2\n",
    "\n",
    "\n",
    "Tag # Graph Search"
   ]
  },
  {
   "cell_type": "code",
   "execution_count": null,
   "metadata": {},
   "outputs": [],
   "source": [
    "T = int(input())\n",
    "\n",
    "for _ in range(T):\n",
    "    M, N, K = map(int, input().split())\n",
    "    graph = [[0]*N for _ in range(M)]\n",
    "    for _ in range(K):\n",
    "        a, b = map(int, input().split())\n",
    "        graph[b][a] = 1\n",
    "         \n"
   ]
  },
  {
   "cell_type": "code",
   "execution_count": 6,
   "metadata": {},
   "outputs": [
    {
     "name": "stdout",
     "output_type": "stream",
     "text": [
      "[1, 1, 0, 0, 0, 0, 0, 0, 0, 0]\n",
      "[0, 1, 0, 0, 0, 0, 0, 0, 0, 0]\n",
      "[0, 0, 0, 0, 1, 0, 0, 0, 0, 0]\n",
      "[0, 0, 0, 0, 1, 0, 0, 0, 0, 0]\n",
      "[0, 0, 1, 1, 0, 0, 0, 1, 1, 1]\n",
      "[0, 0, 0, 0, 1, 0, 0, 1, 1, 1]\n",
      "[0, 0, 0, 0, 0, 0, 0, 1, 1, 1]\n",
      "[0, 0, 0, 0, 0, 0, 0, 0, 0, 0]\n"
     ]
    }
   ],
   "source": [
    "M, N, K = map(int, input().split())\n",
    "graph = [[0]*M for _ in range(N)]\n",
    "for _ in range(K):\n",
    "    a, b = map(int, input().split())\n",
    "    graph[b][a] = 1\n",
    "for x in graph:\n",
    "    print(x)"
   ]
  },
  {
   "cell_type": "code",
   "execution_count": 26,
   "metadata": {},
   "outputs": [],
   "source": [
    "graph = [[1, 1, 0, 0, 0, 0, 0, 0, 0, 0],\n",
    "[0, 1, 0, 0, 0, 0, 0, 0, 0, 0],\n",
    "[0, 0, 0, 0, 1, 0, 0, 0, 0, 0],\n",
    "[0, 0, 0, 0, 1, 0, 0, 0, 0, 0],\n",
    "[0, 0, 1, 1, 0, 0, 0, 1, 1, 1],\n",
    "[0, 0, 0, 0, 1, 0, 0, 1, 1, 1],]"
   ]
  },
  {
   "cell_type": "code",
   "execution_count": 27,
   "metadata": {},
   "outputs": [
    {
     "data": {
      "text/plain": [
       "[[1, 1, 0, 0, 0, 0, 0, 0, 0, 0],\n",
       " [0, 1, 0, 0, 0, 0, 0, 0, 0, 0],\n",
       " [0, 0, 0, 0, 1, 0, 0, 0, 0, 0],\n",
       " [0, 0, 0, 0, 1, 0, 0, 0, 0, 0],\n",
       " [0, 0, 1, 1, 0, 0, 0, 1, 1, 1],\n",
       " [0, 0, 0, 0, 1, 0, 0, 1, 1, 1]]"
      ]
     },
     "execution_count": 27,
     "metadata": {},
     "output_type": "execute_result"
    }
   ],
   "source": [
    "graph"
   ]
  },
  {
   "cell_type": "code",
   "execution_count": 28,
   "metadata": {},
   "outputs": [],
   "source": [
    "N, M = 6, 10"
   ]
  },
  {
   "cell_type": "code",
   "execution_count": 29,
   "metadata": {},
   "outputs": [
    {
     "name": "stdout",
     "output_type": "stream",
     "text": [
      "5\n"
     ]
    }
   ],
   "source": [
    "from collections import deque\n",
    "\n",
    "dx = [1,-1,0,0]\n",
    "dy = [0,0,1,-1]\n",
    "\n",
    "def bfs(x,y):\n",
    "    q = deque([(x,y)])\n",
    "    while q:\n",
    "        x, y = q.popleft()\n",
    "        for i in range(4):\n",
    "            nx = x + dx[i]\n",
    "            ny = y + dy[i]\n",
    "            if 0 <= nx < N and 0 <= ny < M:\n",
    "                if graph[nx][ny] == 1:\n",
    "                    graph[nx][ny] = 0\n",
    "                    q.append((nx,ny))\n",
    "            else:\n",
    "                continue\n",
    "\n",
    "count = 0\n",
    "for x in range(N):\n",
    "    for y in range(M):\n",
    "        if graph[x][y] == 1:\n",
    "            bfs(x,y)\n",
    "            count += 1\n",
    "\n",
    "print(count)"
   ]
  },
  {
   "cell_type": "code",
   "execution_count": 30,
   "metadata": {},
   "outputs": [
    {
     "name": "stdout",
     "output_type": "stream",
     "text": [
      "5\n",
      "1\n"
     ]
    }
   ],
   "source": [
    "T = int(input())\n",
    "from collections import deque\n",
    "\n",
    "for _ in range(T):\n",
    "    M, N, K = map(int, input().split())\n",
    "    graph = [[0]*M for _ in range(N)]\n",
    "    for _ in range(K):\n",
    "        a, b = map(int, input().split())\n",
    "        graph[b][a] = 1\n",
    "\n",
    "    dx = [1,-1,0,0]\n",
    "    dy = [0,0,1,-1]\n",
    "\n",
    "    def bfs(x,y):\n",
    "        q = deque([(x,y)])\n",
    "        while q:\n",
    "            x, y = q.popleft()\n",
    "            for i in range(4):\n",
    "                nx = x + dx[i]\n",
    "                ny = y + dy[i]\n",
    "                if 0 <= nx < N and 0 <= ny < M:\n",
    "                    if graph[nx][ny] == 1:\n",
    "                        graph[nx][ny] = 0\n",
    "                        q.append((nx,ny))\n",
    "                else:\n",
    "                    continue\n",
    "\n",
    "    count = 0\n",
    "    for x in range(N):\n",
    "        for y in range(M):\n",
    "            if graph[x][y] == 1:\n",
    "                bfs(x,y)\n",
    "                count += 1\n",
    "\n",
    "    print(count)      \n"
   ]
  }
 ],
 "metadata": {
  "kernelspec": {
   "display_name": "Python 3.8.13 ('AUTOVC')",
   "language": "python",
   "name": "python3"
  },
  "language_info": {
   "codemirror_mode": {
    "name": "ipython",
    "version": 3
   },
   "file_extension": ".py",
   "mimetype": "text/x-python",
   "name": "python",
   "nbconvert_exporter": "python",
   "pygments_lexer": "ipython3",
   "version": "3.8.13"
  },
  "orig_nbformat": 4,
  "vscode": {
   "interpreter": {
    "hash": "83701494a915308841c98d90e1627ab32994947d5b938ec1dfda5c4da74c3582"
   }
  }
 },
 "nbformat": 4,
 "nbformat_minor": 2
}
