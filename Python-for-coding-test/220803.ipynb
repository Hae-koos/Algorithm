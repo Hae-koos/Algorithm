{
 "cells": [
  {
   "cell_type": "markdown",
   "metadata": {},
   "source": [
    "Today 2022.08.03\n",
    "\n",
    "\n",
    "## Title 주유소\n",
    "\n",
    "\n",
    "BOJ # 13305\n",
    "\n",
    "\n",
    "LV # Silver 4\n",
    "\n",
    "\n",
    "Tag # Greedy Algorithm"
   ]
  },
  {
   "cell_type": "markdown",
   "metadata": {},
   "source": [
    "- N개의 도시가 있고, 이 도시들은 일직선 도로 위에 있다.\n",
    "- 제일 왼쪽 도시에서 제일 오른쪽 도시로 이동하려고 하는데 인접한 두 도시 사이의 도로들은 서로 길이가 다를 수 있다.\n",
    "- 처음 출발할 때 자동차에 기름이 없어서 기름을 넣고 출발한다. 기름통 크기는 무제한이다.\n",
    "- 1km 마다 1L 기름을 사용하며, 도시마다 주유소의 리터당 가격은 다를 수 있다."
   ]
  },
  {
   "cell_type": "markdown",
   "metadata": {},
   "source": [
    "각 도시에 있는 주유소의 기름 가격과, 도시를 연결하는 도로의 길이를 입력으로 받아 제일 왼쪽 도시에서 오른쪽 도시로 이동하는 최소 비용을 계산하는 프로그램을 작성하라"
   ]
  },
  {
   "cell_type": "code",
   "execution_count": 1,
   "metadata": {},
   "outputs": [],
   "source": [
    "N = int(input()) # 도시의 개수\n",
    "D = list(map(int, input().split())) # N-1개 거리\n",
    "O = list(map(int, input().split())) # N개 리터당 가격\n",
    "\n",
    "res = D[0] * O[0]\n",
    "m = O[0]\n",
    "dist = 0\n",
    "\n",
    "for i in range(1, N-1):\n",
    "    if m > O[i]:\n",
    "        m = O[i]\n",
    "    res += m * D[i]\n",
    "    \n",
    "print(res)\n"
   ]
  },
  {
   "cell_type": "markdown",
   "metadata": {},
   "source": [
    "Greedy Algorithm적 사고... 기르자"
   ]
  },
  {
   "cell_type": "markdown",
   "metadata": {},
   "source": [
    "Today 2022.08.03\n",
    "\n",
    "\n",
    "## Title 30\n",
    "\n",
    "\n",
    "BOJ # 10610\n",
    "\n",
    "\n",
    "LV # Silver 4\n",
    "\n",
    "\n",
    "Tag # Greedy Algorithm"
   ]
  },
  {
   "cell_type": "markdown",
   "metadata": {},
   "source": [
    "- 양수 N\n",
    "- 길거리에서 찾은 수에 포함된 숫자들을 섞어 30의 배수가 되는 가장 큰 수를 만들고 싶다"
   ]
  },
  {
   "cell_type": "markdown",
   "metadata": {},
   "source": [
    "EXAMPLE\n",
    "\n",
    "- 30\n",
    "    - 30\n",
    "\n",
    "- 102\n",
    "    - 210\n",
    "\n",
    "- 2931\n",
    "    - 아무리 섞어도 안되니까 -1 출력"
   ]
  },
  {
   "cell_type": "code",
   "execution_count": 41,
   "metadata": {},
   "outputs": [
    {
     "name": "stdout",
     "output_type": "stream",
     "text": [
      "88755420\n"
     ]
    }
   ],
   "source": [
    "N = list(input())\n",
    "N.sort(reverse=True)\n",
    "\n",
    "from itertools import permutations\n",
    "ans = ''\n",
    "if N[-1] != '0':\n",
    "    print(-1)\n",
    "else:\n",
    "    N = N[:-1]\n",
    "    l = list(permutations(N,len(N)))\n",
    "    for x in l:\n",
    "        if int(x[-1] + x[-2]) % 3 == 0:\n",
    "            for i in x:\n",
    "                ans += i\n",
    "            break\n",
    "        else:\n",
    "            continue\n",
    "\n",
    "print(ans+'0')"
   ]
  },
  {
   "cell_type": "markdown",
   "metadata": {},
   "source": [
    "메모리 초과.. 순열 저장하는 리스트가 문제였겠지.."
   ]
  },
  {
   "cell_type": "code",
   "execution_count": 87,
   "metadata": {},
   "outputs": [
    {
     "name": "stdout",
     "output_type": "stream",
     "text": [
      "\n"
     ]
    }
   ],
   "source": [
    "N = list(input())\n",
    "N.sort(reverse=True)\n",
    "\n",
    "ans = ''\n",
    "\n",
    "if N[-1] != '0':\n",
    "    print(-1)\n",
    "else:\n",
    "    N = N[:-1]\n",
    "    if N[0] == '3' or N[0] == '6' or N[0] == '9':\n",
    "        print(N[0] + '0')\n",
    "    else:\n",
    "        import copy\n",
    "        for i in range(len(N)-1):\n",
    "            for j in range(i+1, len(N)):\n",
    "                if (int(N[i] + N[j]) % 3 == 0) or (int(N[j] + N[i]) % 3 == 0):\n",
    "                    a = copy.deepcopy(N[i])\n",
    "                    b = copy.deepcopy(N[j])\n",
    "                    N.remove(a)\n",
    "                    N.remove(b)\n",
    "                    ans = ''.join(N)\n",
    "                    ans = ans + a + b + '0'\n",
    "                    break\n",
    "            break\n",
    "        print(ans)"
   ]
  },
  {
   "cell_type": "markdown",
   "metadata": {},
   "source": [
    "계속 끝 두 자리만 봐서 틀렸구나..\n",
    "\n",
    "각 자리수 합이 3의 배수면 3의 배수라는 사실을 알아야 할 듯,,"
   ]
  },
  {
   "cell_type": "code",
   "execution_count": 101,
   "metadata": {},
   "outputs": [
    {
     "name": "stdout",
     "output_type": "stream",
     "text": [
      "88755420\n"
     ]
    }
   ],
   "source": [
    "N = list(input())\n",
    "N.sort(reverse=True)\n",
    "\n",
    "ans = ''\n",
    "\n",
    "if N[-1] != '0':\n",
    "    print(-1)\n",
    "else:\n",
    "    N = N[:-1]\n",
    "    N = list(map(int, N))\n",
    "    if sum(N) % 3 == 0:\n",
    "        for x in N:\n",
    "            ans += str(x)\n",
    "        print(ans+'0')\n",
    "    else:\n",
    "        print(-1)"
   ]
  },
  {
   "cell_type": "markdown",
   "metadata": {},
   "source": [
    "Today 2022.08.03\n",
    "\n",
    "\n",
    "## Title 나이트의 이동\n",
    "\n",
    "\n",
    "BOJ # 7562\n",
    "\n",
    "\n",
    "LV # Silver 1\n",
    "\n",
    "\n",
    "Tag # Graph Search"
   ]
  },
  {
   "cell_type": "markdown",
   "metadata": {},
   "source": [
    "- 입력 첫째 줄은 Test Case #\n",
    "- 각 테스트 케이스는 세 줄 = 체스판 한 변의 길이 / 나이트가 현재 있는 칸 / 나이트가 이동하려고 하는 칸\n",
    "- 각 테스트 케이스마다 나이트가 최소 몇 번 만에 이동할 수 있는지 출력"
   ]
  },
  {
   "cell_type": "code",
   "execution_count": 103,
   "metadata": {},
   "outputs": [
    {
     "name": "stdout",
     "output_type": "stream",
     "text": [
      "5\n",
      "28\n",
      "0\n"
     ]
    }
   ],
   "source": [
    "import sys\n",
    "# input = sys.stdin.readline\n",
    "sys.setrecursionlimit(5000)\n",
    "from collections import deque\n",
    "\n",
    "dx = [1,2,2,1,-1,-2,-2,-1]\n",
    "dy = [-2,-1,1,2,2,1,-1,-2]\n",
    "\n",
    "def bfs(x,y):\n",
    "    q = deque([(x,y)])\n",
    "    while q:\n",
    "        x,y = q.popleft()\n",
    "        for i in range(len(dx)):\n",
    "            nx = x + dx[i]\n",
    "            ny = y + dy[i]\n",
    "            if nx < 0 or nx >= l or ny < 0 or ny >= l:\n",
    "                continue\n",
    "            if graph[nx][ny] != 0:\n",
    "                continue\n",
    "            if graph[nx][ny] == 0:\n",
    "                graph[nx][ny] = graph[x][y] + 1\n",
    "                q.append((nx,ny))\n",
    "\n",
    "T = int(input())\n",
    "for _ in range(T):\n",
    "    l = int(input())\n",
    "    graph = [[0] * l for _ in range(l)]\n",
    "    x0, y0 = map(int, input().split())\n",
    "    x_t, y_t = map(int, input().split())\n",
    "    graph[x0][y0] = 1\n",
    "    bfs(x0, y0)\n",
    "    ans = graph[x_t][y_t] - 1\n",
    "    print(ans)"
   ]
  }
 ],
 "metadata": {
  "kernelspec": {
   "display_name": "Python 3.8.13 ('AUTOVC')",
   "language": "python",
   "name": "python3"
  },
  "language_info": {
   "codemirror_mode": {
    "name": "ipython",
    "version": 3
   },
   "file_extension": ".py",
   "mimetype": "text/x-python",
   "name": "python",
   "nbconvert_exporter": "python",
   "pygments_lexer": "ipython3",
   "version": "3.8.13"
  },
  "orig_nbformat": 4,
  "vscode": {
   "interpreter": {
    "hash": "83701494a915308841c98d90e1627ab32994947d5b938ec1dfda5c4da74c3582"
   }
  }
 },
 "nbformat": 4,
 "nbformat_minor": 2
}
