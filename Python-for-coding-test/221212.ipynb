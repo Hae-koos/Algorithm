{
 "cells": [
  {
   "attachments": {},
   "cell_type": "markdown",
   "metadata": {},
   "source": [
    "Today 2022.12.12\n",
    "\n",
    "\n",
    "## Title 숫자 카드\n",
    "\n",
    "\n",
    "BOJ # 10815\n",
    "\n",
    "\n",
    "LV # Silver 5\n",
    "\n",
    "\n",
    "Tag # Binary Search"
   ]
  },
  {
   "attachments": {},
   "cell_type": "markdown",
   "metadata": {},
   "source": [
    "숫자 카드는 정수 하나가 적혀져 있는 카드이다. 상근이는 숫자 카드 N개를 가지고 있다.  \n",
    "정수 M개가 주어졌을 때, 이 수가 적혀있는 숫자 카드를 상근이가 가지고 있는지 아닌지를 구하는 프로그램을 작성하시오."
   ]
  },
  {
   "cell_type": "code",
   "execution_count": 1,
   "metadata": {},
   "outputs": [
    {
     "name": "stdout",
     "output_type": "stream",
     "text": [
      "1 0 0 1 1 0 0 1 "
     ]
    }
   ],
   "source": [
    "N = int(input())\n",
    "\n",
    "n_list = list(map(int, input().split()))\n",
    "\n",
    "M = int(input())\n",
    "\n",
    "m_list = list(map(int, input().split()))\n",
    "answer = []\n",
    "\n",
    "n_list.sort()\n",
    "\n",
    "for m in m_list:\n",
    "\n",
    "    start = 0\n",
    "    end = len(n_list) - 1\n",
    "    answer = 0\n",
    "\n",
    "    while start <= end:\n",
    "        middle = (start + end) // 2\n",
    "\n",
    "        if n_list[middle] == m:\n",
    "            answer = 1\n",
    "            break\n",
    "\n",
    "        elif n_list[middle] < m:\n",
    "            start = middle + 1\n",
    "\n",
    "        else:\n",
    "            end = middle - 1\n",
    "\n",
    "    print(answer, end=\" \")"
   ]
  },
  {
   "attachments": {},
   "cell_type": "markdown",
   "metadata": {},
   "source": [
    "Today 2022.12.12\n",
    "\n",
    "\n",
    "## Title 랜선 자르기\n",
    "\n",
    "\n",
    "BOJ # 1654\n",
    "\n",
    "\n",
    "LV # Silver 2\n",
    "\n",
    "\n",
    "Tag # Binary Search"
   ]
  },
  {
   "attachments": {},
   "cell_type": "markdown",
   "metadata": {},
   "source": [
    "집에서 시간을 보내던 오영식은 박성원의 부름을 받고 급히 달려왔다. 박성원이 캠프 때 쓸 N개의 랜선을 만들어야 하는데 너무 바빠서 영식이에게 도움을 청했다.  \n",
    "\n",
    "이미 오영식은 자체적으로 K개의 랜선을 가지고 있다. 그러나 K개의 랜선은 길이가 제각각이다. 박성원은 랜선을 모두 N개의 같은 길이의 랜선으로 만들고 싶었기 때문에 K개의 랜선을 잘라서 만들어야 한다.  \n",
    "예를 들어 300cm 짜리 랜선에서 140cm 짜리 랜선을 두 개 잘라내면 20cm는 버려야 한다. (이미 자른 랜선은 붙일 수 없다.)\n",
    "\n",
    "편의를 위해 랜선을 자르거나 만들 때 손실되는 길이는 없다고 가정하며, 기존의 K개의 랜선으로 N개의 랜선을 만들 수 없는 경우는 없다고 가정하자.  \n",
    "그리고 자를 때는 항상 센티미터 단위로 정수길이만큼 자른다고 가정하자. N개보다 많이 만드는 것도 N개를 만드는 것에 포함된다. 이때 만들 수 있는 최대 랜선의 길이를 구하는 프로그램을 작성하시오."
   ]
  },
  {
   "cell_type": "code",
   "execution_count": 2,
   "metadata": {},
   "outputs": [
    {
     "name": "stdout",
     "output_type": "stream",
     "text": [
      "200\n"
     ]
    }
   ],
   "source": [
    "K, N = map(int, input().split())\n",
    "S = []\n",
    "for _ in range(K):\n",
    "    S.append(int(input()))\n",
    "start, end = 1, max(S)\n",
    "\n",
    "while start <= end:\n",
    "    mid = (start + end) // 2\n",
    "    ans = 0\n",
    "    for x in S:\n",
    "        ans += x // mid\n",
    "    if ans >= N:\n",
    "        start = mid + 1\n",
    "    else:\n",
    "        end = mid - 1\n",
    "\n",
    "print(end)"
   ]
  }
 ],
 "metadata": {
  "kernelspec": {
   "display_name": "Python 3.8.13 ('AUTOVC')",
   "language": "python",
   "name": "python3"
  },
  "language_info": {
   "codemirror_mode": {
    "name": "ipython",
    "version": 3
   },
   "file_extension": ".py",
   "mimetype": "text/x-python",
   "name": "python",
   "nbconvert_exporter": "python",
   "pygments_lexer": "ipython3",
   "version": "3.8.13"
  },
  "orig_nbformat": 4,
  "vscode": {
   "interpreter": {
    "hash": "83701494a915308841c98d90e1627ab32994947d5b938ec1dfda5c4da74c3582"
   }
  }
 },
 "nbformat": 4,
 "nbformat_minor": 2
}
