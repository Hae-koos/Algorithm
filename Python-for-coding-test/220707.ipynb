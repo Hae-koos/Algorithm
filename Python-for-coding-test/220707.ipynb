{
 "cells": [
  {
   "cell_type": "code",
   "execution_count": 1,
   "metadata": {},
   "outputs": [],
   "source": [
    "import numpy as np\n",
    "import pandas as pd\n",
    "import random\n",
    "import time"
   ]
  },
  {
   "cell_type": "markdown",
   "metadata": {},
   "source": [
    "##### 상하좌우"
   ]
  },
  {
   "cell_type": "markdown",
   "metadata": {},
   "source": [
    "- 공간 크기 (N x N)\n",
    "- L R U D 나열\n",
    "- 출발지가 (1,1)이라고 할 때 최종 도착지 좌표 도출\n"
   ]
  },
  {
   "cell_type": "code",
   "execution_count": 10,
   "metadata": {},
   "outputs": [
    {
     "name": "stdout",
     "output_type": "stream",
     "text": [
      "3 4 "
     ]
    }
   ],
   "source": [
    "import numpy as np\n",
    "N = int(input()) # 5\n",
    "M = list(input().split()) # R R R U D D \n",
    "\n",
    "D = {'L':np.array([0, -1]), 'R':np.array([0, 1]), 'D':np.array([1, 0]), 'U':np.array([-1, 0])}\n",
    "\n",
    "origin = np.array([1,1])\n",
    "for m in M:\n",
    "    origin = origin + D[m]\n",
    "    if origin[0] > N:\n",
    "        origin[0] = N\n",
    "    if origin[0] < 1:\n",
    "        origin[0] = 1\n",
    "    if origin[1] > N:\n",
    "        origin[1] = N   \n",
    "    if origin[1] < 1:\n",
    "        origin[1] = 1\n",
    "\n",
    "for x in origin:\n",
    "    print(x, end=' ')\n"
   ]
  },
  {
   "cell_type": "markdown",
   "metadata": {},
   "source": [
    "##### 시각"
   ]
  },
  {
   "cell_type": "markdown",
   "metadata": {},
   "source": [
    "- 정수 N이 입력되면 00시 00분 00초부터 N시 59분 59초까지 모든 시각 중 3이 하나라도 포함되는 모든 경우의 수\n",
    "- 0 <= N <= 23"
   ]
  },
  {
   "cell_type": "code",
   "execution_count": 13,
   "metadata": {},
   "outputs": [
    {
     "name": "stdout",
     "output_type": "stream",
     "text": [
      "33975\n"
     ]
    }
   ],
   "source": [
    "# N = int(input())\n",
    "# 0 1 2 3 -> 3 13 23 \n",
    "# 4 5 6 7 8 9 10 11 12 13 -> 13 23 \n",
    "# 14 15 16 17 18 19 20 21 22 23 -> 23\n",
    "\n",
    "# 3 13 23 33 43 53 / 30 31 32 34 35 36 37 38 39 -> 15개 -> 15 x 15 = 225\n",
    "# 60 x 60 = 3600 \n",
    "\n",
    "# N = 5\n",
    "# result = 0\n",
    "\n",
    "# if N <= 3:\n",
    "#     result += (((24 - 3 - N) * (15*60 + 45*15)) + (3 * 3600))\n",
    "# elif N <= 13:\n",
    "#     result += (((24 - 2 - N) * (15*60 + 45*15)) + (2 * 3600))\n",
    "# else:\n",
    "#     result += (((24 - 1 - N) * (15*60 + 45*15)) + (1 * 3600))\n",
    "\n",
    "# print(result)"
   ]
  },
  {
   "cell_type": "markdown",
   "metadata": {},
   "source": [
    "뻘짓이다."
   ]
  },
  {
   "cell_type": "markdown",
   "metadata": {},
   "source": [
    "하루는 초로 86,400초 밖에 되지 않으므로 3중 반복문을 활용하여 계산해도 된다.  \n",
    "완전 탐색 유형으로 분류되는 문제로 데이터 개수가 100만개 이하일 경우에 사용하면 적절하다."
   ]
  },
  {
   "cell_type": "code",
   "execution_count": 14,
   "metadata": {},
   "outputs": [
    {
     "name": "stdout",
     "output_type": "stream",
     "text": [
      "11475\n"
     ]
    }
   ],
   "source": [
    "N = int(input())\n",
    "\n",
    "count = 0\n",
    "for i in range(N+1):\n",
    "    for j in range(60):\n",
    "        for k in range(60):\n",
    "            T = str(i) + str(j) + str(k)\n",
    "            if '3' in T:\n",
    "                count+=1\n",
    "print(count)"
   ]
  },
  {
   "cell_type": "markdown",
   "metadata": {},
   "source": [
    "##### 왕실의 나이트"
   ]
  },
  {
   "cell_type": "markdown",
   "metadata": {},
   "source": [
    "- 수평으로 두 칸 이동한 뒤에 수직으로 한 칸 이동하기\n",
    "- 수직으로 두 칸 이동한 뒤에 수평으로 한 칸 이동하기\n",
    "- 8 x 8 체스판 ( 행 : 1 ~ 8 / 열 : a ~ h )\n",
    "- 현재 나이트가 위치한 곳의 좌표를 줄 것이다. a1\n",
    "- 이동할 수 있는 경우의 수를 구하시오"
   ]
  },
  {
   "cell_type": "code",
   "execution_count": 23,
   "metadata": {},
   "outputs": [
    {
     "name": "stdout",
     "output_type": "stream",
     "text": [
      "6\n"
     ]
    }
   ],
   "source": [
    "s = str(input())\n",
    "r, c = s[1], s[0] # 1, a\n",
    "\n",
    "D = {'a':1, 'b':2, 'c':3, 'd':4, 'e':5, 'f':6, 'g':7, 'h':8}\n",
    "c = D[c]\n",
    "\n",
    "R = [2, 2, -2, -2, -1, 1, -1, 1]\n",
    "C = [1, -1, 1, -1, 2, 2, -2, -2]\n",
    "\n",
    "count = 0\n",
    "\n",
    "for i in range(8):\n",
    "    new_r, new_c = int(r) + R[i], int(c) + C[i]\n",
    "    if (new_r < 1) or (new_c < 1) or (new_r > 8) or (new_c > 8) :\n",
    "        continue\n",
    "    else:\n",
    "        count += 1\n",
    "\n",
    "print(count)"
   ]
  },
  {
   "cell_type": "markdown",
   "metadata": {},
   "source": [
    "##### 게임개발"
   ]
  },
  {
   "cell_type": "markdown",
   "metadata": {},
   "source": [
    "- N x M 크기의 직사각혁 맵을 만들고, 각 칸은 육지 혹은 바다이다. 캐릭터는 동서남북 중 한 곳을 바라본다.\n",
    "- 맵의 각 칸은 (A, B)로 나타낼 수 있고, A는 북쪽으로부터 떨어진 칸의 수, B는 서쪽으로부터 떨어진 칸의 수\n",
    "- 캐릭터는 상하좌우로 움직일 수 있고, 바다로 되어 있는 공간에는 갈 수 없다.\n",
    "1. 현재 위치에서 현재 방향을 기준으로 왼쪽 방향부터 차례대로 갈 곳을 정한다.\n",
    "2. 캐릭터 왼쪽으로 가보지 않은 칸이 존재하면 왼쪽 방향으로 회전한 다음 전진한다.\n",
    "3. 왼쪽에 가보지 않은 칸이 없다면, 왼쪽 방향으로 회전만 수행하고 1단계로 돌아간다.\n",
    "4. 만약 네 방향 모두 이미 가본 칸익나 바다로 되어 있는 칸인 경우, 바라보는 방향 유지하고 한 칸 뒤로 가고 1단계\n",
    "- 단, 뒤쪽 방향이 바다라 갈 수 없으면 움직임 멈춘다.  \n",
    "\n",
    "  이 과정을 반복적으로 수행하면서 캐릭터가 방문한 칸의 수를 출력하는 프로그램 만들기\n",
    "- 3 <= N, M <= 50\n",
    "- 예시  \n",
    "  4 4    \n",
    "  1 1 0  \n",
    "  1 1 1 1  \n",
    "  1 0 0 1  \n",
    "  1 1 0 1  \n",
    "  1 1 1 1  \n",
    "\n",
    "\n",
    "4 x 4 맵 생성  \n",
    "북쪽에서 1칸, 서쪽에서 1칸 떨어진 곳에서 북쪽(0)을 바라보고 서 있는 캐릭터  \n",
    "바다 / 바다 / 바다 / 바다  \n",
    "바다 / 육지 / 육지 / 바다  \n",
    "바다 / 바다 / 육지 / 바다  \n",
    "바다 / 바다 / 바다 / 바다  \n",
    "\n",
    "\n",
    "    \n",
    "      -  0 1 2 3 북 동 남 서  \n"
   ]
  },
  {
   "cell_type": "code",
   "execution_count": 5,
   "metadata": {},
   "outputs": [
    {
     "name": "stdout",
     "output_type": "stream",
     "text": [
      "[1, 1, 3] 1 1\n",
      "[[1, 1, 1, 1], [1, 0, 0, 1], [1, 1, 0, 1], [1, 1, 1, 1]]\n",
      "[1, 1, 2] 1 2\n",
      "[[1, 1, 1, 1], [1, 0, 0, 1], [1, 1, 0, 1], [1, 1, 1, 1]]\n",
      "[1, 2, 1] 2 0\n",
      "[[1, 1, 1, 1], [1, 1, 0, 1], [1, 1, 0, 1], [1, 1, 1, 1]]\n",
      "[1, 2, 0] 2 1\n",
      "[[1, 1, 1, 1], [1, 1, 0, 1], [1, 1, 0, 1], [1, 1, 1, 1]]\n",
      "[1, 2, 3] 2 2\n",
      "[[1, 1, 1, 1], [1, 1, 0, 1], [1, 1, 0, 1], [1, 1, 1, 1]]\n",
      "[2, 2, 2] 3 0\n",
      "[[1, 1, 1, 1], [1, 1, 1, 1], [1, 1, 0, 1], [1, 1, 1, 1]]\n",
      "[2, 2, 1] 3 1\n",
      "[[1, 1, 1, 1], [1, 1, 1, 1], [1, 1, 0, 1], [1, 1, 1, 1]]\n",
      "[2, 2, 0] 3 2\n",
      "[[1, 1, 1, 1], [1, 1, 1, 1], [1, 1, 0, 1], [1, 1, 1, 1]]\n",
      "[2, 2, 3] 3 3\n",
      "[[1, 1, 1, 1], [1, 1, 1, 1], [1, 1, 0, 1], [1, 1, 1, 1]]\n",
      "[2, 2, 2] 3 4\n",
      "[[1, 1, 1, 1], [1, 1, 1, 1], [1, 1, 0, 1], [1, 1, 1, 1]]\n",
      "Can not go anymore\n",
      "Moving Count : 3\n"
     ]
    }
   ],
   "source": [
    "N, M = map(int, input().split()) # 4 4\n",
    "r0, c0, d0 = map(int, input().split()) # 1 1 0\n",
    "MAP = []\n",
    "count = 1\n",
    "notgo= 0\n",
    "\n",
    "p0 = [r0, c0, d0]\n",
    "\n",
    "for _ in range(N):\n",
    "    MAP.append(list(map(int, input().split())))\n",
    "\n",
    "def check_left(position, map_, count, notgo):\n",
    "    if position[2] == 0:\n",
    "        position[2] = 3\n",
    "        if map_[position[0]][position[1]-1] == 0:\n",
    "            map_[position[0]][position[1]] = 1\n",
    "            position[1] = position[1] - 1\n",
    "            count += 1\n",
    "            notgo = 0\n",
    "        else:\n",
    "            notgo += 1\n",
    "    elif position[2] == 1:\n",
    "        position[2] = 0\n",
    "        if map_[position[0]-1][position[1]] == 0:\n",
    "            map_[position[0]][position[1]] = 1\n",
    "            position[0] = position[0] - 1\n",
    "            count += 1\n",
    "            notgo = 0\n",
    "        else:\n",
    "            notgo += 1\n",
    "    elif position[2] == 2:\n",
    "        position[2] = 1\n",
    "        if map_[position[0]][position[1]+1] == 0:\n",
    "            map_[position[0]][position[1]] = 1\n",
    "            position[1] = position[1] + 1\n",
    "            count += 1\n",
    "            notgo = 0\n",
    "        else:\n",
    "            notgo += 1\n",
    "    elif position[2] == 3:\n",
    "        position[2] = 2\n",
    "        if map_[position[0]+1][position[1]] == 0:\n",
    "            map_[position[0]][position[1]] = 1\n",
    "            position[0] = position[0] + 1\n",
    "            count += 1\n",
    "            notgo = 0\n",
    "        else:\n",
    "            notgo += 1\n",
    "        \n",
    "    return position, map_, count, notgo\n",
    "\n",
    "while True:\n",
    "    p0, MAP, count, notgo = check_left(p0, MAP, count, notgo)\n",
    "    print(p0, count, notgo)\n",
    "    print(MAP)\n",
    "\n",
    "    if notgo == 4:\n",
    "        print(\"Can not go anymore\")\n",
    "        print(\"Moving Count : {}\".format(count))\n",
    "        break"
   ]
  }
 ],
 "metadata": {
  "kernelspec": {
   "display_name": "Python 3.8.13 ('algorithm')",
   "language": "python",
   "name": "python3"
  },
  "language_info": {
   "codemirror_mode": {
    "name": "ipython",
    "version": 3
   },
   "file_extension": ".py",
   "mimetype": "text/x-python",
   "name": "python",
   "nbconvert_exporter": "python",
   "pygments_lexer": "ipython3",
   "version": "3.8.13"
  },
  "orig_nbformat": 4,
  "vscode": {
   "interpreter": {
    "hash": "ee431ac274e33366c10c3ac30cd4fb33ff3ed0dd6a8cc3f05073bd47291a9c12"
   }
  }
 },
 "nbformat": 4,
 "nbformat_minor": 2
}
