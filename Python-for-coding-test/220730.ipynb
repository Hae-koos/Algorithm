{
 "cells": [
  {
   "cell_type": "markdown",
   "metadata": {},
   "source": [
    "Today 2022.07.30\n",
    "\n",
    "\n",
    "## Title 토마토\n",
    "\n",
    "\n",
    "BOJ # 7569\n",
    "\n",
    "\n",
    "Tag # Graph Search "
   ]
  },
  {
   "cell_type": "markdown",
   "metadata": {},
   "source": [
    "- 가로 M, 세로 N, 높이 H\n",
    "- 보관 후 하루가 지나면 익은 토마토들의 인접한 익지 않은 토마토들은 익는다\n",
    "    - 인접하다는 것은 위 아래 왼쪽 오른쪽 앞 뒤 여섯 방향에 있는 토마토다\n",
    "- 창고에 보관된 토마토들이 며칠이 지나면 다 익게 되는지 그 최소 일수를 구하자"
   ]
  },
  {
   "cell_type": "markdown",
   "metadata": {},
   "source": [
    "- 가장 밑의 상자부터 가장 위의 상자까지 토마토 정보가 주어지며\n",
    "- 1은 익은 토마토, 0은 익지 않은 토마토, -1은 토마토가 들어있지 않은 칸을 나타낸다"
   ]
  },
  {
   "cell_type": "code",
   "execution_count": 9,
   "metadata": {},
   "outputs": [
    {
     "name": "stdout",
     "output_type": "stream",
     "text": [
      "[[[1, 0, 0, 0, 0, 0, 0, 0, 0, 1]]]\n",
      "8\n"
     ]
    }
   ],
   "source": [
    "M, N, H = map(int, input().split())\n",
    "\n",
    "graph = []\n",
    "\n",
    "for _ in range(H):\n",
    "    now_floor = []\n",
    "    for _ in range(N):\n",
    "        now_floor.append(list(map(int, input().split())))\n",
    "    graph.append(now_floor)\n",
    "\n",
    "print(graph)\n",
    "\n",
    "def result(graph):\n",
    "\n",
    "    for x in graph:\n",
    "        for y in x:\n",
    "            if 0 not in y:\n",
    "                return 0\n",
    "                \n",
    "    import sys\n",
    "    sys.setrecursionlimit(5000)\n",
    "    # input = sys.stdin.readline\n",
    "    from collections import deque\n",
    "\n",
    "    dx = [0,0,0,0,1,-1]\n",
    "    dy = [0,0,1,-1,0,0]\n",
    "    dz = [1,-1,0,0,0,0]\n",
    "\n",
    "    def bfs(z,x,y):\n",
    "        q = deque([(z,x,y)])\n",
    "        while q:\n",
    "            z,x,y = q.popleft()\n",
    "            for i in range(6):\n",
    "                nx = x + dx[i]\n",
    "                ny = y + dy[i]\n",
    "                nz = z + dz[i]\n",
    "                if nx < 0 or nx >= N or ny < 0 or ny >= M or nz < 0 or nz >= H:\n",
    "                    continue\n",
    "                if graph[nz][nx][ny] == 0:\n",
    "                    graph[nz][nx][ny] = graph[z][x][y] + 1\n",
    "                    q.append((nz, nx, ny))\n",
    "\n",
    "    for z in range(H):\n",
    "        for x in range(N):\n",
    "            for y in range(M):\n",
    "                if graph[z][x][y] == 1:\n",
    "                    bfs(z,x,y)\n",
    "\n",
    "    for x in graph:\n",
    "        for y in x:\n",
    "            if 0 in y:\n",
    "                return -1\n",
    "\n",
    "\n",
    "    return max(max(max(graph))) - 1\n",
    "\n",
    "print(result(graph))"
   ]
  },
  {
   "cell_type": "code",
   "execution_count": 18,
   "metadata": {},
   "outputs": [],
   "source": [
    "graph = [[[1, 0, 0, 0, 0, 0, 0, 0, 0, 1]]]"
   ]
  },
  {
   "cell_type": "code",
   "execution_count": 19,
   "metadata": {},
   "outputs": [
    {
     "name": "stdout",
     "output_type": "stream",
     "text": [
      "4\n"
     ]
    }
   ],
   "source": [
    "# def result(graph):\n",
    "\n",
    "#     for x in graph:\n",
    "#         for y in x:\n",
    "#             if 0 not in y:\n",
    "#                 return 0\n",
    "                \n",
    "import sys\n",
    "sys.setrecursionlimit(5000)\n",
    "# input = sys.stdin.readline\n",
    "from collections import deque\n",
    "\n",
    "dx = [0,0,0,0,1,-1]\n",
    "dy = [0,0,1,-1,0,0]\n",
    "dz = [1,-1,0,0,0,0]\n",
    "\n",
    "q = deque([])\n",
    "\n",
    "def bfs():\n",
    "\n",
    "    while q:\n",
    "        z,x,y = q.popleft()\n",
    "        for i in range(6):\n",
    "            nx = x + dx[i]\n",
    "            ny = y + dy[i]\n",
    "            nz = z + dz[i]\n",
    "            if nx < 0 or nx >= N or ny < 0 or ny >= M or nz < 0 or nz >= H:\n",
    "                continue\n",
    "            if graph[nz][nx][ny] == 0:\n",
    "                graph[nz][nx][ny] = graph[z][x][y] + 1\n",
    "                q.append((nz, nx, ny))\n",
    "\n",
    "    # for z in range(H):\n",
    "    #     for x in range(N):\n",
    "    #         for y in range(M):\n",
    "    #             if graph[z][x][y] == 1:\n",
    "    #                 print(z,x,y)\n",
    "    #                 print(graph)\n",
    "    #                 bfs(z,x,y)\n",
    "\n",
    "for i in range(H):\n",
    "    for j in range(N):\n",
    "        for k in range(M):\n",
    "            if graph[i][j][k] == 1:\n",
    "                q.append((i,j,k))\n",
    "\n",
    "bfs()\n",
    "\n",
    "mmm = 1\n",
    "result = -1\n",
    "\n",
    "for x in graph:\n",
    "    for y in x:\n",
    "        for z in y:\n",
    "            if z == 0:\n",
    "                mmm = 0\n",
    "            \n",
    "            result = max(result, z)\n",
    "\n",
    "if mmm == 0:\n",
    "    print(-1)\n",
    "elif result == 1:\n",
    "    print(0)\n",
    "else:\n",
    "    print(result-1)\n",
    "\n",
    "    # return max(max(max(graph))) - 1\n",
    "\n",
    "# print(graph)\n",
    "\n",
    "# print(result(graph))"
   ]
  },
  {
   "cell_type": "code",
   "execution_count": 21,
   "metadata": {},
   "outputs": [
    {
     "name": "stdout",
     "output_type": "stream",
     "text": [
      "[[[1, 2, 3, 4, 5, 5, 4, 3, 2, 1]]]\n"
     ]
    }
   ],
   "source": [
    "print(graph)"
   ]
  },
  {
   "cell_type": "markdown",
   "metadata": {},
   "source": [
    "위 예시에서 반례가 생겼는데 bfs를 한 지점에서 끝까지 해버려서 생긴 문제\n",
    "\n",
    "queue에 후보가 될 수 있는 친구들은 먼저 넣어놓고  \n",
    "bfs를 돌리면 해결가능"
   ]
  },
  {
   "cell_type": "code",
   "execution_count": null,
   "metadata": {},
   "outputs": [],
   "source": [
    "M, N, H = map(int, input().split())\n",
    "\n",
    "graph = []\n",
    "\n",
    "for _ in range(H):\n",
    "    now_floor = []\n",
    "    for _ in range(N):\n",
    "        now_floor.append(list(map(int, input().split())))\n",
    "    graph.append(now_floor)\n",
    "                \n",
    "import sys\n",
    "sys.setrecursionlimit(5000)\n",
    "# input = sys.stdin.readline\n",
    "from collections import deque\n",
    "\n",
    "dx = [0,0,0,0,1,-1]\n",
    "dy = [0,0,1,-1,0,0]\n",
    "dz = [1,-1,0,0,0,0]\n",
    "\n",
    "q = deque([])\n",
    "\n",
    "def bfs():\n",
    "\n",
    "    while q:\n",
    "        z,x,y = q.popleft()\n",
    "        for i in range(6):\n",
    "            nx = x + dx[i]\n",
    "            ny = y + dy[i]\n",
    "            nz = z + dz[i]\n",
    "            if nx < 0 or nx >= N or ny < 0 or ny >= M or nz < 0 or nz >= H:\n",
    "                continue\n",
    "            if graph[nz][nx][ny] == 0:\n",
    "                graph[nz][nx][ny] = graph[z][x][y] + 1\n",
    "                q.append((nz, nx, ny))\n",
    "\n",
    "for i in range(H):\n",
    "    for j in range(N):\n",
    "        for k in range(M):\n",
    "            if graph[i][j][k] == 1:\n",
    "                q.append((i,j,k))\n",
    "\n",
    "bfs()\n",
    "mmm = 1\n",
    "result = -1\n",
    "\n",
    "for x in graph:\n",
    "    for y in x:\n",
    "        for z in y:\n",
    "            if z == 0:\n",
    "                mmm = 0\n",
    "            \n",
    "            result = max(result, z)\n",
    "\n",
    "if mmm == 0:\n",
    "    print(-1)\n",
    "elif result == 1:\n",
    "    print(0)\n",
    "else:\n",
    "    print(result-1)"
   ]
  },
  {
   "cell_type": "markdown",
   "metadata": {},
   "source": [
    "Today 2022.07.30\n",
    "\n",
    "\n",
    "## Title 수들의 합\n",
    "\n",
    "\n",
    "BOJ # 1789\n",
    "\n",
    "\n",
    "Tag # Greedy Algorithm"
   ]
  },
  {
   "cell_type": "markdown",
   "metadata": {},
   "source": [
    "- 서로 다른 N개의 자연수 합이 S라고 한다.\n",
    "- S를 알 때, 자연수 N의 최댓값은 ?\n",
    "- 1 <= S <= 4,294,967,295"
   ]
  },
  {
   "cell_type": "code",
   "execution_count": 30,
   "metadata": {},
   "outputs": [
    {
     "name": "stdout",
     "output_type": "stream",
     "text": [
      "1\n"
     ]
    }
   ],
   "source": [
    "S = int(input())\n",
    "result = 0\n",
    "count = 0\n",
    "addition = 1\n",
    "while result <= S:\n",
    "    count += 1\n",
    "    result = result + addition\n",
    "    addition += 1\n",
    "\n",
    "print(count-1)"
   ]
  }
 ],
 "metadata": {
  "kernelspec": {
   "display_name": "Python 3.8.13 ('AUTOVC')",
   "language": "python",
   "name": "python3"
  },
  "language_info": {
   "codemirror_mode": {
    "name": "ipython",
    "version": 3
   },
   "file_extension": ".py",
   "mimetype": "text/x-python",
   "name": "python",
   "nbconvert_exporter": "python",
   "pygments_lexer": "ipython3",
   "version": "3.8.13"
  },
  "orig_nbformat": 4,
  "vscode": {
   "interpreter": {
    "hash": "83701494a915308841c98d90e1627ab32994947d5b938ec1dfda5c4da74c3582"
   }
  }
 },
 "nbformat": 4,
 "nbformat_minor": 2
}
