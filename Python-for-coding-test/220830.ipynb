{
 "cells": [
  {
   "cell_type": "markdown",
   "metadata": {},
   "source": [
    "Today 2022.08.30\n",
    "\n",
    "\n",
    "## Title 나는야 포켓몬 마스터 이다솜\n",
    "\n",
    "\n",
    "BOJ # 1620\n",
    "\n",
    "\n",
    "LV # Silver 4"
   ]
  },
  {
   "cell_type": "code",
   "execution_count": 1,
   "metadata": {},
   "outputs": [
    {
     "data": {
      "text/plain": [
       "['START', 'Aa', 'Bb', 'Cc', 'Dd', 'Ee']"
      ]
     },
     "execution_count": 1,
     "metadata": {},
     "output_type": "execute_result"
    }
   ],
   "source": [
    "N, M = map(int, input().split())\n",
    "\n",
    "L = ['START']\n",
    "\n",
    "for _ in range(N):\n",
    "    L.append(input())\n",
    "\n",
    "L"
   ]
  },
  {
   "cell_type": "code",
   "execution_count": 2,
   "metadata": {},
   "outputs": [
    {
     "name": "stdout",
     "output_type": "stream",
     "text": [
      "Aa\n",
      "3\n",
      "4\n"
     ]
    }
   ],
   "source": [
    "for _ in range(M):\n",
    "    Q = input()\n",
    "    try:\n",
    "        print(L.index(Q))\n",
    "    except:\n",
    "        print(L[int(Q)])"
   ]
  },
  {
   "cell_type": "code",
   "execution_count": 17,
   "metadata": {},
   "outputs": [
    {
     "name": "stdout",
     "output_type": "stream",
     "text": [
      "Aa\n",
      "1\n",
      "Bb\n"
     ]
    }
   ],
   "source": [
    "N, M = map(int, input().split())\n",
    "D = {}\n",
    "for i in range(1, N+1):\n",
    "    D[input()] = i\n",
    "for _ in range(M):\n",
    "    q = input()\n",
    "    try:\n",
    "        q = int(q)\n",
    "        L = list(D.keys())\n",
    "        print(L[q-1])\n",
    "    except:\n",
    "        print(D[q])\n"
   ]
  },
  {
   "cell_type": "markdown",
   "metadata": {},
   "source": [
    "시간초과 -> 리스트 만들 필요 x\n"
   ]
  },
  {
   "cell_type": "code",
   "execution_count": 24,
   "metadata": {},
   "outputs": [
    {
     "name": "stdout",
     "output_type": "stream",
     "text": [
      "1\n",
      "2\n",
      "Cc\n"
     ]
    }
   ],
   "source": [
    "N, M = map(int, input().split())\n",
    "\n",
    "for i in range(1, N+1):\n",
    "    p = input()\n",
    "    D[p] = i\n",
    "    D[i] = p\n",
    "for _ in range(M):\n",
    "    q = input()\n",
    "    try:\n",
    "        print(D[int(q)])\n",
    "    except:\n",
    "        print(D[q]) "
   ]
  },
  {
   "cell_type": "code",
   "execution_count": 25,
   "metadata": {},
   "outputs": [
    {
     "name": "stdout",
     "output_type": "stream",
     "text": [
      "Aa\n",
      "1\n",
      "2\n"
     ]
    }
   ],
   "source": [
    "N, M = map(int, input().split())\n",
    "\n",
    "D = {}\n",
    "\n",
    "for i in range(1, N+1):\n",
    "    p = input()\n",
    "    D[p] = i\n",
    "    D[i] = p\n",
    "for _ in range(M):\n",
    "    q = input()\n",
    "    if q.isalpha() == True:\n",
    "        print(D[q]) \n",
    "    else:\n",
    "        print(D[int(q)])"
   ]
  },
  {
   "cell_type": "markdown",
   "metadata": {},
   "source": [
    "Today 2022.08.30\n",
    "\n",
    "\n",
    "## Title 최소 힙\n",
    "\n",
    "\n",
    "BOJ # 1927\n",
    "\n",
    "\n",
    "LV # Silver 2"
   ]
  },
  {
   "cell_type": "code",
   "execution_count": 36,
   "metadata": {},
   "outputs": [
    {
     "name": "stdout",
     "output_type": "stream",
     "text": [
      "0\n",
      "1\n",
      "2\n",
      "12345678\n",
      "0\n"
     ]
    }
   ],
   "source": [
    "N = int(input())\n",
    "\n",
    "import heapq\n",
    "heap = []\n",
    "\n",
    "for _ in range(N):\n",
    "    I = int(input())\n",
    "    if I == 0 and len(heap) == 0:\n",
    "        print(0)\n",
    "    elif I == 0 and len(heap) != 0:\n",
    "        print(heapq.heappop(heap))\n",
    "    else:\n",
    "        heapq.heappush(heap, I)"
   ]
  },
  {
   "cell_type": "code",
   "execution_count": 38,
   "metadata": {},
   "outputs": [
    {
     "name": "stdout",
     "output_type": "stream",
     "text": [
      "0\n",
      "1\n",
      "2\n",
      "12345678\n",
      "0\n"
     ]
    }
   ],
   "source": [
    "# import sys\n",
    "# input = sys.stdin.readline\n",
    "\n",
    "import heapq\n",
    "heap = []\n",
    "\n",
    "N = int(input())\n",
    "for _ in range(N):\n",
    "    n = int(input())\n",
    "    if n != 0:\n",
    "        heapq.heappush(heap, n)\n",
    "    else:\n",
    "        try:\n",
    "            print(heapq.heappop(heap))\n",
    "        except:\n",
    "            print(0)"
   ]
  },
  {
   "cell_type": "markdown",
   "metadata": {},
   "source": [
    "Today 2022.08.30\n",
    "\n",
    "\n",
    "## Title 바이러스 Retry\n",
    "\n",
    "\n",
    "BOJ # 2606\n",
    "\n",
    "\n",
    "LV # Silver 3"
   ]
  },
  {
   "cell_type": "code",
   "execution_count": 41,
   "metadata": {},
   "outputs": [
    {
     "data": {
      "text/plain": [
       "[[], [2, 5], [1, 3, 5], [2], [7], [1, 2, 6], [5], [4]]"
      ]
     },
     "execution_count": 41,
     "metadata": {},
     "output_type": "execute_result"
    }
   ],
   "source": [
    "N = int(input())\n",
    "P = int(input())\n",
    "graph = [[] for _ in range(N+1)]\n",
    "for _ in range(P):\n",
    "    a, b = map(int, input().split())\n",
    "    graph[a].append(b)\n",
    "    graph[b].append(a)\n",
    "graph\n"
   ]
  },
  {
   "cell_type": "code",
   "execution_count": 43,
   "metadata": {},
   "outputs": [
    {
     "data": {
      "text/plain": [
       "[False, False, False, False, False, False, False, False]"
      ]
     },
     "execution_count": 43,
     "metadata": {},
     "output_type": "execute_result"
    }
   ],
   "source": [
    "visited = [False] * (N+1)\n",
    "visited"
   ]
  },
  {
   "cell_type": "code",
   "execution_count": 44,
   "metadata": {},
   "outputs": [],
   "source": [
    "def dfs(v):\n",
    "    if visited[v] == False:\n",
    "        visited[v] = True\n",
    "        for x in graph[v]:\n",
    "            dfs(x)\n",
    "dfs(1)"
   ]
  },
  {
   "cell_type": "code",
   "execution_count": 46,
   "metadata": {},
   "outputs": [
    {
     "data": {
      "text/plain": [
       "4"
      ]
     },
     "execution_count": 46,
     "metadata": {},
     "output_type": "execute_result"
    }
   ],
   "source": [
    "visited.count(True) - 1"
   ]
  },
  {
   "cell_type": "code",
   "execution_count": null,
   "metadata": {},
   "outputs": [],
   "source": [
    "N = int(input())\n",
    "P = int(input())\n",
    "graph = [[] for _ in range(N+1)]\n",
    "for _ in range(P):\n",
    "    a, b = map(int, input().split())\n",
    "    graph[a].append(b)\n",
    "    graph[b].append(a)\n",
    "visited = [False] * (N+1)\n",
    "count = 0\n",
    "def dfs(v):\n",
    "    global count\n",
    "    if visited[v] == False:\n",
    "        count += 1\n",
    "        visited[v] = True\n",
    "        for x in graph[v]:\n",
    "            dfs(x)\n",
    "dfs(1)\n",
    "print(count - 1)"
   ]
  },
  {
   "cell_type": "markdown",
   "metadata": {},
   "source": [
    "Today 2022.08.30\n",
    "\n",
    "\n",
    "## Title 색종이 만들기\n",
    "\n",
    "\n",
    "BOJ # 2630\n",
    "\n",
    "\n",
    "LV # Silver 2"
   ]
  },
  {
   "cell_type": "code",
   "execution_count": 48,
   "metadata": {},
   "outputs": [
    {
     "data": {
      "text/plain": [
       "[[1, 1, 0, 0, 0, 0, 1, 1],\n",
       " [1, 1, 0, 0, 0, 0, 1, 1],\n",
       " [0, 0, 0, 0, 1, 1, 0, 0],\n",
       " [0, 0, 0, 0, 1, 1, 0, 0],\n",
       " [1, 0, 0, 0, 1, 1, 1, 1],\n",
       " [0, 1, 0, 0, 1, 1, 1, 1],\n",
       " [0, 0, 1, 1, 1, 1, 1, 1],\n",
       " [0, 0, 1, 1, 1, 1, 1, 1]]"
      ]
     },
     "execution_count": 48,
     "metadata": {},
     "output_type": "execute_result"
    }
   ],
   "source": [
    "N = int(input())\n",
    "graph = [[] for _ in range(N)]\n",
    "for i in range(N):\n",
    "    graph[i] = list(map(int, input().split()))\n",
    "graph"
   ]
  },
  {
   "cell_type": "code",
   "execution_count": 53,
   "metadata": {},
   "outputs": [],
   "source": [
    "graph = [[1, 1, 0, 0, 0, 0, 1, 1],\n",
    " [1, 1, 0, 0, 0, 0, 1, 1],\n",
    " [0, 0, 0, 0, 1, 1, 0, 0],\n",
    " [0, 0, 0, 0, 1, 1, 0, 0],\n",
    " [1, 0, 0, 0, 1, 1, 1, 1],\n",
    " [0, 1, 0, 0, 1, 1, 1, 1],\n",
    " [0, 0, 1, 1, 1, 1, 1, 1],\n",
    " [0, 0, 1, 1, 1, 1, 1, 1]]"
   ]
  },
  {
   "cell_type": "code",
   "execution_count": 55,
   "metadata": {},
   "outputs": [
    {
     "name": "stdout",
     "output_type": "stream",
     "text": [
      "9\n",
      "7\n"
     ]
    }
   ],
   "source": [
    "white, blue = 0, 0\n",
    "\n",
    "def divide(x,y,n):\n",
    "    global white, blue\n",
    "    color = graph[x][y]\n",
    "    check = True\n",
    "\n",
    "    for i in range(x, x+n):\n",
    "        if not check:\n",
    "            break\n",
    "        for j in range(y, y+n):\n",
    "            if color != graph[i][j]:\n",
    "                check = False\n",
    "                divide(x,y,n//2)\n",
    "                divide(x,y+n//2,n//2)\n",
    "                divide(x+n//2,y,n//2)\n",
    "                divide(x+n//2,y+n//2,n//2)\n",
    "                break\n",
    "    if check:\n",
    "        if color:\n",
    "            blue += 1\n",
    "        else:\n",
    "            white += 1\n",
    "\n",
    "divide(0,0,N)\n",
    "print(white)\n",
    "print(blue)"
   ]
  },
  {
   "cell_type": "markdown",
   "metadata": {},
   "source": [
    "Today 2022.08.30\n",
    "\n",
    "\n",
    "## Title 집합\n",
    "\n",
    "\n",
    "BOJ # 11723\n",
    "\n",
    "\n",
    "LV # Silver 5"
   ]
  },
  {
   "cell_type": "code",
   "execution_count": 80,
   "metadata": {},
   "outputs": [],
   "source": [
    "N = int(input())\n",
    "S = []\n",
    "\n",
    "for _ in range(N):\n",
    "    l = list(input().split())\n",
    "    if len(l) == 1:\n",
    "        if l[0] == 'all':\n",
    "            S = [x for x in range(1,21)]\n",
    "        elif l[0] == 'empty':\n",
    "            S = []\n",
    "\n",
    "    elif len(l) == 2:\n",
    "        c = l[0]\n",
    "        n = l[1]\n",
    "        \n",
    "        if c == 'add' and n not in S:\n",
    "            S.append(n)\n",
    "        elif c == 'check':\n",
    "            if n in S:\n",
    "                print(1)    \n",
    "            elif n not in S:\n",
    "                print(0)\n",
    "        elif c == 'remove' and n in S:\n",
    "            S.remove(n)\n",
    "        elif c == 'toggle':\n",
    "            if n in S:\n",
    "                continue\n",
    "            else:\n",
    "                S.append(n)"
   ]
  },
  {
   "cell_type": "markdown",
   "metadata": {},
   "source": [
    "시간초과"
   ]
  },
  {
   "cell_type": "code",
   "execution_count": null,
   "metadata": {},
   "outputs": [],
   "source": [
    "import sys\n",
    "\n",
    "input = sys.stdin.readline\n",
    "M = int(input())\n",
    "S = set()\n",
    "\n",
    "for _ in range(M):\n",
    "    cmd = input().split()\n",
    "    if cmd[0] == \"all\":\n",
    "        S = set([i for i in range(1, 21)])\n",
    "    elif cmd[0] == \"empty\":\n",
    "        S = set()\n",
    "    elif cmd[0] == \"add\":\n",
    "        S.add(int(cmd[1]))\n",
    "    elif cmd[0] == \"check\":\n",
    "        print (1 if int(cmd[1]) in S else 0)\n",
    "    elif cmd[0] == \"remove\":\n",
    "        S.discard(int(cmd[1]))\n",
    "    elif cmd[0] == \"toggle\":\n",
    "        if int(cmd[1]) in S:\n",
    "            S.discard(int(cmd[1]))\n",
    "        else:\n",
    "            S.add(int(cmd[1]))"
   ]
  },
  {
   "cell_type": "code",
   "execution_count": null,
   "metadata": {},
   "outputs": [],
   "source": []
  },
  {
   "cell_type": "code",
   "execution_count": null,
   "metadata": {},
   "outputs": [],
   "source": []
  },
  {
   "cell_type": "code",
   "execution_count": null,
   "metadata": {},
   "outputs": [],
   "source": []
  },
  {
   "cell_type": "code",
   "execution_count": null,
   "metadata": {},
   "outputs": [],
   "source": []
  },
  {
   "cell_type": "code",
   "execution_count": null,
   "metadata": {},
   "outputs": [],
   "source": []
  },
  {
   "cell_type": "code",
   "execution_count": null,
   "metadata": {},
   "outputs": [],
   "source": []
  },
  {
   "cell_type": "code",
   "execution_count": null,
   "metadata": {},
   "outputs": [],
   "source": []
  }
 ],
 "metadata": {
  "kernelspec": {
   "display_name": "Python 3.8.13 ('AUTOVC')",
   "language": "python",
   "name": "python3"
  },
  "language_info": {
   "codemirror_mode": {
    "name": "ipython",
    "version": 3
   },
   "file_extension": ".py",
   "mimetype": "text/x-python",
   "name": "python",
   "nbconvert_exporter": "python",
   "pygments_lexer": "ipython3",
   "version": "3.8.13"
  },
  "orig_nbformat": 4,
  "vscode": {
   "interpreter": {
    "hash": "83701494a915308841c98d90e1627ab32994947d5b938ec1dfda5c4da74c3582"
   }
  }
 },
 "nbformat": 4,
 "nbformat_minor": 2
}
